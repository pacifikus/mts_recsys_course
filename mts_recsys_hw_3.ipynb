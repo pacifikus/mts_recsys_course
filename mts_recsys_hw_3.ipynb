{
  "nbformat": 4,
  "nbformat_minor": 0,
  "metadata": {
    "colab": {
      "provenance": [],
      "toc_visible": true
    },
    "kernelspec": {
      "name": "python3",
      "display_name": "Python 3"
    },
    "language_info": {
      "name": "python"
    },
    "accelerator": "GPU",
    "gpuClass": "standard"
  },
  "cells": [
    {
      "cell_type": "code",
      "source": [
        "!pip install rectools hnswlib optuna annoy > None"
      ],
      "metadata": {
        "id": "EAlcIV_FO84O"
      },
      "execution_count": 1,
      "outputs": []
    },
    {
      "cell_type": "code",
      "execution_count": 2,
      "metadata": {
        "id": "q9Mds7geOmRB"
      },
      "outputs": [],
      "source": [
        "import os\n",
        "\n",
        "import pandas as pd\n",
        "import numpy as np\n",
        "from scipy import sparse\n",
        "\n",
        "import requests\n",
        "from tqdm.auto import tqdm\n",
        "\n",
        "from rectools.dataset import Dataset\n",
        "from rectools.models.implicit_als import ImplicitALSWrapperModel\n",
        "from rectools.metrics import MAP\n",
        "from rectools import Columns\n",
        "from lightfm import LightFM\n",
        "\n",
        "import implicit\n",
        "from implicit.als import AlternatingLeastSquares\n",
        "\n",
        "import optuna\n",
        "import hnswlib\n",
        "from annoy import AnnoyIndex"
      ]
    },
    {
      "cell_type": "code",
      "source": [
        "import warnings\n",
        "warnings.filterwarnings('ignore')"
      ],
      "metadata": {
        "id": "YvnTCJAcOpUm"
      },
      "execution_count": 3,
      "outputs": []
    },
    {
      "cell_type": "code",
      "source": [
        "from google.colab import drive\n",
        "drive.mount('/content/gdrive')"
      ],
      "metadata": {
        "colab": {
          "base_uri": "https://localhost:8080/"
        },
        "id": "tZa4nR24wSdR",
        "outputId": "2e1992e3-0040-4b80-c587-40df1c1ffd15"
      },
      "execution_count": 4,
      "outputs": [
        {
          "output_type": "stream",
          "name": "stdout",
          "text": [
            "Mounted at /content/gdrive\n"
          ]
        }
      ]
    },
    {
      "cell_type": "code",
      "source": [
        "%cd gdrive/MyDrive/recsys/"
      ],
      "metadata": {
        "colab": {
          "base_uri": "https://localhost:8080/"
        },
        "id": "HiLJ1Lu9wSf4",
        "outputId": "22b22c3c-a760-4fd0-e032-7d7979ce5d8c"
      },
      "execution_count": 5,
      "outputs": [
        {
          "output_type": "stream",
          "name": "stdout",
          "text": [
            "/content/gdrive/MyDrive/recsys\n"
          ]
        }
      ]
    },
    {
      "cell_type": "code",
      "source": [
        "SEED = 2022\n",
        "K_RECOS = 10"
      ],
      "metadata": {
        "id": "uJ2lbYdEQBSZ"
      },
      "execution_count": 6,
      "outputs": []
    },
    {
      "cell_type": "markdown",
      "source": [
        "## Get data"
      ],
      "metadata": {
        "id": "_3cGeZXMPEwR"
      }
    },
    {
      "cell_type": "code",
      "source": [
        "submission = pd.read_csv('sample_submission.csv')\n",
        "submission.head()"
      ],
      "metadata": {
        "colab": {
          "base_uri": "https://localhost:8080/",
          "height": 206
        },
        "id": "RPLBlwBLu3KY",
        "outputId": "b015713f-7af6-4b8d-95fb-a93ce5080320"
      },
      "execution_count": 7,
      "outputs": [
        {
          "output_type": "execute_result",
          "data": {
            "text/plain": [
              "   user_id                                            item_id\n",
              "0        3  [9728, 15297, 10440, 14488, 13865, 12192, 341,...\n",
              "1       11  [9728, 15297, 10440, 14488, 13865, 12192, 341,...\n",
              "2       29  [9728, 15297, 10440, 14488, 13865, 12192, 341,...\n",
              "3       30  [9728, 15297, 10440, 14488, 13865, 12192, 341,...\n",
              "4       33  [9728, 15297, 10440, 14488, 13865, 12192, 341,..."
            ],
            "text/html": [
              "\n",
              "  <div id=\"df-034fb949-d525-4291-9420-da6c094ca044\">\n",
              "    <div class=\"colab-df-container\">\n",
              "      <div>\n",
              "<style scoped>\n",
              "    .dataframe tbody tr th:only-of-type {\n",
              "        vertical-align: middle;\n",
              "    }\n",
              "\n",
              "    .dataframe tbody tr th {\n",
              "        vertical-align: top;\n",
              "    }\n",
              "\n",
              "    .dataframe thead th {\n",
              "        text-align: right;\n",
              "    }\n",
              "</style>\n",
              "<table border=\"1\" class=\"dataframe\">\n",
              "  <thead>\n",
              "    <tr style=\"text-align: right;\">\n",
              "      <th></th>\n",
              "      <th>user_id</th>\n",
              "      <th>item_id</th>\n",
              "    </tr>\n",
              "  </thead>\n",
              "  <tbody>\n",
              "    <tr>\n",
              "      <th>0</th>\n",
              "      <td>3</td>\n",
              "      <td>[9728, 15297, 10440, 14488, 13865, 12192, 341,...</td>\n",
              "    </tr>\n",
              "    <tr>\n",
              "      <th>1</th>\n",
              "      <td>11</td>\n",
              "      <td>[9728, 15297, 10440, 14488, 13865, 12192, 341,...</td>\n",
              "    </tr>\n",
              "    <tr>\n",
              "      <th>2</th>\n",
              "      <td>29</td>\n",
              "      <td>[9728, 15297, 10440, 14488, 13865, 12192, 341,...</td>\n",
              "    </tr>\n",
              "    <tr>\n",
              "      <th>3</th>\n",
              "      <td>30</td>\n",
              "      <td>[9728, 15297, 10440, 14488, 13865, 12192, 341,...</td>\n",
              "    </tr>\n",
              "    <tr>\n",
              "      <th>4</th>\n",
              "      <td>33</td>\n",
              "      <td>[9728, 15297, 10440, 14488, 13865, 12192, 341,...</td>\n",
              "    </tr>\n",
              "  </tbody>\n",
              "</table>\n",
              "</div>\n",
              "      <button class=\"colab-df-convert\" onclick=\"convertToInteractive('df-034fb949-d525-4291-9420-da6c094ca044')\"\n",
              "              title=\"Convert this dataframe to an interactive table.\"\n",
              "              style=\"display:none;\">\n",
              "        \n",
              "  <svg xmlns=\"http://www.w3.org/2000/svg\" height=\"24px\"viewBox=\"0 0 24 24\"\n",
              "       width=\"24px\">\n",
              "    <path d=\"M0 0h24v24H0V0z\" fill=\"none\"/>\n",
              "    <path d=\"M18.56 5.44l.94 2.06.94-2.06 2.06-.94-2.06-.94-.94-2.06-.94 2.06-2.06.94zm-11 1L8.5 8.5l.94-2.06 2.06-.94-2.06-.94L8.5 2.5l-.94 2.06-2.06.94zm10 10l.94 2.06.94-2.06 2.06-.94-2.06-.94-.94-2.06-.94 2.06-2.06.94z\"/><path d=\"M17.41 7.96l-1.37-1.37c-.4-.4-.92-.59-1.43-.59-.52 0-1.04.2-1.43.59L10.3 9.45l-7.72 7.72c-.78.78-.78 2.05 0 2.83L4 21.41c.39.39.9.59 1.41.59.51 0 1.02-.2 1.41-.59l7.78-7.78 2.81-2.81c.8-.78.8-2.07 0-2.86zM5.41 20L4 18.59l7.72-7.72 1.47 1.35L5.41 20z\"/>\n",
              "  </svg>\n",
              "      </button>\n",
              "      \n",
              "  <style>\n",
              "    .colab-df-container {\n",
              "      display:flex;\n",
              "      flex-wrap:wrap;\n",
              "      gap: 12px;\n",
              "    }\n",
              "\n",
              "    .colab-df-convert {\n",
              "      background-color: #E8F0FE;\n",
              "      border: none;\n",
              "      border-radius: 50%;\n",
              "      cursor: pointer;\n",
              "      display: none;\n",
              "      fill: #1967D2;\n",
              "      height: 32px;\n",
              "      padding: 0 0 0 0;\n",
              "      width: 32px;\n",
              "    }\n",
              "\n",
              "    .colab-df-convert:hover {\n",
              "      background-color: #E2EBFA;\n",
              "      box-shadow: 0px 1px 2px rgba(60, 64, 67, 0.3), 0px 1px 3px 1px rgba(60, 64, 67, 0.15);\n",
              "      fill: #174EA6;\n",
              "    }\n",
              "\n",
              "    [theme=dark] .colab-df-convert {\n",
              "      background-color: #3B4455;\n",
              "      fill: #D2E3FC;\n",
              "    }\n",
              "\n",
              "    [theme=dark] .colab-df-convert:hover {\n",
              "      background-color: #434B5C;\n",
              "      box-shadow: 0px 1px 3px 1px rgba(0, 0, 0, 0.15);\n",
              "      filter: drop-shadow(0px 1px 2px rgba(0, 0, 0, 0.3));\n",
              "      fill: #FFFFFF;\n",
              "    }\n",
              "  </style>\n",
              "\n",
              "      <script>\n",
              "        const buttonEl =\n",
              "          document.querySelector('#df-034fb949-d525-4291-9420-da6c094ca044 button.colab-df-convert');\n",
              "        buttonEl.style.display =\n",
              "          google.colab.kernel.accessAllowed ? 'block' : 'none';\n",
              "\n",
              "        async function convertToInteractive(key) {\n",
              "          const element = document.querySelector('#df-034fb949-d525-4291-9420-da6c094ca044');\n",
              "          const dataTable =\n",
              "            await google.colab.kernel.invokeFunction('convertToInteractive',\n",
              "                                                     [key], {});\n",
              "          if (!dataTable) return;\n",
              "\n",
              "          const docLinkHtml = 'Like what you see? Visit the ' +\n",
              "            '<a target=\"_blank\" href=https://colab.research.google.com/notebooks/data_table.ipynb>data table notebook</a>'\n",
              "            + ' to learn more about interactive tables.';\n",
              "          element.innerHTML = '';\n",
              "          dataTable['output_type'] = 'display_data';\n",
              "          await google.colab.output.renderOutput(dataTable, element);\n",
              "          const docLink = document.createElement('div');\n",
              "          docLink.innerHTML = docLinkHtml;\n",
              "          element.appendChild(docLink);\n",
              "        }\n",
              "      </script>\n",
              "    </div>\n",
              "  </div>\n",
              "  "
            ]
          },
          "metadata": {},
          "execution_count": 7
        }
      ]
    },
    {
      "cell_type": "code",
      "source": [
        "def load_data():\n",
        "  interactions = pd.read_csv('kion_train/interactions.csv')\n",
        "  users = pd.read_csv('kion_train/users.csv')\n",
        "  items = pd.read_csv('kion_train/items.csv')\n",
        "  interactions.rename(\n",
        "    columns={\n",
        "        'last_watch_dt': 'datetime',\n",
        "        'total_dur': 'weight',\n",
        "    },\n",
        "    inplace=True,\n",
        "  )\n",
        "\n",
        "  interactions['datetime'] = pd.to_datetime(interactions['datetime'])\n",
        "  interactions[Columns.Weight] = np.where(interactions['watched_pct'] > 10, 3, 1)\n",
        "  return interactions, users, items"
      ],
      "metadata": {
        "id": "K475YGTlOpjv"
      },
      "execution_count": 8,
      "outputs": []
    },
    {
      "cell_type": "code",
      "source": [
        "interactions, users, items = load_data()\n",
        "last_date = interactions['datetime'].max().normalize()\n",
        "\n",
        "train = interactions[interactions[Columns.Datetime] < last_date - pd.Timedelta(days=7)].copy()\n",
        "test = interactions[interactions[Columns.Datetime] >= last_date - pd.Timedelta(days=7)].copy()\n",
        "\n",
        "print(f\"train: {train.shape}\")\n",
        "print(f\"test: {test.shape}\")"
      ],
      "metadata": {
        "colab": {
          "base_uri": "https://localhost:8080/"
        },
        "id": "V8kgith6Opo3",
        "outputId": "9abf1ecf-a0a3-4cf5-f04f-d01cfa37912d"
      },
      "execution_count": 9,
      "outputs": [
        {
          "output_type": "stream",
          "name": "stdout",
          "text": [
            "train: (4985269, 5)\n",
            "test: (490982, 5)\n"
          ]
        }
      ]
    },
    {
      "cell_type": "code",
      "source": [
        "cold_users = set(test[Columns.User]) - set(train[Columns.User])"
      ],
      "metadata": {
        "id": "WgA8Vp7TP-sz"
      },
      "execution_count": 10,
      "outputs": []
    },
    {
      "cell_type": "code",
      "source": [
        "test.drop(test[test[Columns.User].isin(cold_users)].index, inplace=True)"
      ],
      "metadata": {
        "id": "Ou6EWevAPyXB"
      },
      "execution_count": 11,
      "outputs": []
    },
    {
      "cell_type": "code",
      "source": [
        "TEST_USERS = test[Columns.User].unique()"
      ],
      "metadata": {
        "id": "Li5MAiRDLJzY"
      },
      "execution_count": 12,
      "outputs": []
    },
    {
      "cell_type": "markdown",
      "source": [
        "## Prepare user features"
      ],
      "metadata": {
        "id": "CkMEkBcNhkMt"
      }
    },
    {
      "cell_type": "code",
      "source": [
        "users.fillna('Unknown', inplace=True)"
      ],
      "metadata": {
        "id": "Js2aR1w3hkeM"
      },
      "execution_count": 13,
      "outputs": []
    },
    {
      "cell_type": "code",
      "source": [
        "users = users.loc[users[Columns.User].isin(train[Columns.User])].copy()\n",
        "users.head()"
      ],
      "metadata": {
        "colab": {
          "base_uri": "https://localhost:8080/",
          "height": 206
        },
        "id": "4clQ68b1hkh4",
        "outputId": "417e100c-4fe4-4d93-c22d-39d3fc115f17"
      },
      "execution_count": 14,
      "outputs": [
        {
          "output_type": "execute_result",
          "data": {
            "text/plain": [
              "   user_id        age        income sex  kids_flg\n",
              "0   973171  age_25_34  income_60_90   М         1\n",
              "1   962099  age_18_24  income_20_40   М         0\n",
              "3   721985  age_45_54  income_20_40   Ж         0\n",
              "4   704055  age_35_44  income_60_90   Ж         0\n",
              "5  1037719  age_45_54  income_60_90   М         0"
            ],
            "text/html": [
              "\n",
              "  <div id=\"df-ff9b2e82-59af-4473-bd9e-0f72293655c2\">\n",
              "    <div class=\"colab-df-container\">\n",
              "      <div>\n",
              "<style scoped>\n",
              "    .dataframe tbody tr th:only-of-type {\n",
              "        vertical-align: middle;\n",
              "    }\n",
              "\n",
              "    .dataframe tbody tr th {\n",
              "        vertical-align: top;\n",
              "    }\n",
              "\n",
              "    .dataframe thead th {\n",
              "        text-align: right;\n",
              "    }\n",
              "</style>\n",
              "<table border=\"1\" class=\"dataframe\">\n",
              "  <thead>\n",
              "    <tr style=\"text-align: right;\">\n",
              "      <th></th>\n",
              "      <th>user_id</th>\n",
              "      <th>age</th>\n",
              "      <th>income</th>\n",
              "      <th>sex</th>\n",
              "      <th>kids_flg</th>\n",
              "    </tr>\n",
              "  </thead>\n",
              "  <tbody>\n",
              "    <tr>\n",
              "      <th>0</th>\n",
              "      <td>973171</td>\n",
              "      <td>age_25_34</td>\n",
              "      <td>income_60_90</td>\n",
              "      <td>М</td>\n",
              "      <td>1</td>\n",
              "    </tr>\n",
              "    <tr>\n",
              "      <th>1</th>\n",
              "      <td>962099</td>\n",
              "      <td>age_18_24</td>\n",
              "      <td>income_20_40</td>\n",
              "      <td>М</td>\n",
              "      <td>0</td>\n",
              "    </tr>\n",
              "    <tr>\n",
              "      <th>3</th>\n",
              "      <td>721985</td>\n",
              "      <td>age_45_54</td>\n",
              "      <td>income_20_40</td>\n",
              "      <td>Ж</td>\n",
              "      <td>0</td>\n",
              "    </tr>\n",
              "    <tr>\n",
              "      <th>4</th>\n",
              "      <td>704055</td>\n",
              "      <td>age_35_44</td>\n",
              "      <td>income_60_90</td>\n",
              "      <td>Ж</td>\n",
              "      <td>0</td>\n",
              "    </tr>\n",
              "    <tr>\n",
              "      <th>5</th>\n",
              "      <td>1037719</td>\n",
              "      <td>age_45_54</td>\n",
              "      <td>income_60_90</td>\n",
              "      <td>М</td>\n",
              "      <td>0</td>\n",
              "    </tr>\n",
              "  </tbody>\n",
              "</table>\n",
              "</div>\n",
              "      <button class=\"colab-df-convert\" onclick=\"convertToInteractive('df-ff9b2e82-59af-4473-bd9e-0f72293655c2')\"\n",
              "              title=\"Convert this dataframe to an interactive table.\"\n",
              "              style=\"display:none;\">\n",
              "        \n",
              "  <svg xmlns=\"http://www.w3.org/2000/svg\" height=\"24px\"viewBox=\"0 0 24 24\"\n",
              "       width=\"24px\">\n",
              "    <path d=\"M0 0h24v24H0V0z\" fill=\"none\"/>\n",
              "    <path d=\"M18.56 5.44l.94 2.06.94-2.06 2.06-.94-2.06-.94-.94-2.06-.94 2.06-2.06.94zm-11 1L8.5 8.5l.94-2.06 2.06-.94-2.06-.94L8.5 2.5l-.94 2.06-2.06.94zm10 10l.94 2.06.94-2.06 2.06-.94-2.06-.94-.94-2.06-.94 2.06-2.06.94z\"/><path d=\"M17.41 7.96l-1.37-1.37c-.4-.4-.92-.59-1.43-.59-.52 0-1.04.2-1.43.59L10.3 9.45l-7.72 7.72c-.78.78-.78 2.05 0 2.83L4 21.41c.39.39.9.59 1.41.59.51 0 1.02-.2 1.41-.59l7.78-7.78 2.81-2.81c.8-.78.8-2.07 0-2.86zM5.41 20L4 18.59l7.72-7.72 1.47 1.35L5.41 20z\"/>\n",
              "  </svg>\n",
              "      </button>\n",
              "      \n",
              "  <style>\n",
              "    .colab-df-container {\n",
              "      display:flex;\n",
              "      flex-wrap:wrap;\n",
              "      gap: 12px;\n",
              "    }\n",
              "\n",
              "    .colab-df-convert {\n",
              "      background-color: #E8F0FE;\n",
              "      border: none;\n",
              "      border-radius: 50%;\n",
              "      cursor: pointer;\n",
              "      display: none;\n",
              "      fill: #1967D2;\n",
              "      height: 32px;\n",
              "      padding: 0 0 0 0;\n",
              "      width: 32px;\n",
              "    }\n",
              "\n",
              "    .colab-df-convert:hover {\n",
              "      background-color: #E2EBFA;\n",
              "      box-shadow: 0px 1px 2px rgba(60, 64, 67, 0.3), 0px 1px 3px 1px rgba(60, 64, 67, 0.15);\n",
              "      fill: #174EA6;\n",
              "    }\n",
              "\n",
              "    [theme=dark] .colab-df-convert {\n",
              "      background-color: #3B4455;\n",
              "      fill: #D2E3FC;\n",
              "    }\n",
              "\n",
              "    [theme=dark] .colab-df-convert:hover {\n",
              "      background-color: #434B5C;\n",
              "      box-shadow: 0px 1px 3px 1px rgba(0, 0, 0, 0.15);\n",
              "      filter: drop-shadow(0px 1px 2px rgba(0, 0, 0, 0.3));\n",
              "      fill: #FFFFFF;\n",
              "    }\n",
              "  </style>\n",
              "\n",
              "      <script>\n",
              "        const buttonEl =\n",
              "          document.querySelector('#df-ff9b2e82-59af-4473-bd9e-0f72293655c2 button.colab-df-convert');\n",
              "        buttonEl.style.display =\n",
              "          google.colab.kernel.accessAllowed ? 'block' : 'none';\n",
              "\n",
              "        async function convertToInteractive(key) {\n",
              "          const element = document.querySelector('#df-ff9b2e82-59af-4473-bd9e-0f72293655c2');\n",
              "          const dataTable =\n",
              "            await google.colab.kernel.invokeFunction('convertToInteractive',\n",
              "                                                     [key], {});\n",
              "          if (!dataTable) return;\n",
              "\n",
              "          const docLinkHtml = 'Like what you see? Visit the ' +\n",
              "            '<a target=\"_blank\" href=https://colab.research.google.com/notebooks/data_table.ipynb>data table notebook</a>'\n",
              "            + ' to learn more about interactive tables.';\n",
              "          element.innerHTML = '';\n",
              "          dataTable['output_type'] = 'display_data';\n",
              "          await google.colab.output.renderOutput(dataTable, element);\n",
              "          const docLink = document.createElement('div');\n",
              "          docLink.innerHTML = docLinkHtml;\n",
              "          element.appendChild(docLink);\n",
              "        }\n",
              "      </script>\n",
              "    </div>\n",
              "  </div>\n",
              "  "
            ]
          },
          "metadata": {},
          "execution_count": 14
        }
      ]
    },
    {
      "cell_type": "code",
      "source": [
        "user_features_frames = []\n",
        "for feature in [\"sex\", \"age\", \"income\"]:\n",
        "    feature_frame = users.reindex(columns=[Columns.User, feature])\n",
        "    feature_frame.columns = [\"id\", \"value\"]\n",
        "    feature_frame[\"feature\"] = feature\n",
        "    user_features_frames.append(feature_frame)\n",
        "user_features = pd.concat(user_features_frames)\n",
        "user_features.head()"
      ],
      "metadata": {
        "colab": {
          "base_uri": "https://localhost:8080/",
          "height": 206
        },
        "id": "HRmboDpKhklE",
        "outputId": "d633aa4b-007e-45cf-fa40-26b26c3aae74"
      },
      "execution_count": 15,
      "outputs": [
        {
          "output_type": "execute_result",
          "data": {
            "text/plain": [
              "        id value feature\n",
              "0   973171     М     sex\n",
              "1   962099     М     sex\n",
              "3   721985     Ж     sex\n",
              "4   704055     Ж     sex\n",
              "5  1037719     М     sex"
            ],
            "text/html": [
              "\n",
              "  <div id=\"df-226c236f-e86f-414b-bbd7-80d8de4af277\">\n",
              "    <div class=\"colab-df-container\">\n",
              "      <div>\n",
              "<style scoped>\n",
              "    .dataframe tbody tr th:only-of-type {\n",
              "        vertical-align: middle;\n",
              "    }\n",
              "\n",
              "    .dataframe tbody tr th {\n",
              "        vertical-align: top;\n",
              "    }\n",
              "\n",
              "    .dataframe thead th {\n",
              "        text-align: right;\n",
              "    }\n",
              "</style>\n",
              "<table border=\"1\" class=\"dataframe\">\n",
              "  <thead>\n",
              "    <tr style=\"text-align: right;\">\n",
              "      <th></th>\n",
              "      <th>id</th>\n",
              "      <th>value</th>\n",
              "      <th>feature</th>\n",
              "    </tr>\n",
              "  </thead>\n",
              "  <tbody>\n",
              "    <tr>\n",
              "      <th>0</th>\n",
              "      <td>973171</td>\n",
              "      <td>М</td>\n",
              "      <td>sex</td>\n",
              "    </tr>\n",
              "    <tr>\n",
              "      <th>1</th>\n",
              "      <td>962099</td>\n",
              "      <td>М</td>\n",
              "      <td>sex</td>\n",
              "    </tr>\n",
              "    <tr>\n",
              "      <th>3</th>\n",
              "      <td>721985</td>\n",
              "      <td>Ж</td>\n",
              "      <td>sex</td>\n",
              "    </tr>\n",
              "    <tr>\n",
              "      <th>4</th>\n",
              "      <td>704055</td>\n",
              "      <td>Ж</td>\n",
              "      <td>sex</td>\n",
              "    </tr>\n",
              "    <tr>\n",
              "      <th>5</th>\n",
              "      <td>1037719</td>\n",
              "      <td>М</td>\n",
              "      <td>sex</td>\n",
              "    </tr>\n",
              "  </tbody>\n",
              "</table>\n",
              "</div>\n",
              "      <button class=\"colab-df-convert\" onclick=\"convertToInteractive('df-226c236f-e86f-414b-bbd7-80d8de4af277')\"\n",
              "              title=\"Convert this dataframe to an interactive table.\"\n",
              "              style=\"display:none;\">\n",
              "        \n",
              "  <svg xmlns=\"http://www.w3.org/2000/svg\" height=\"24px\"viewBox=\"0 0 24 24\"\n",
              "       width=\"24px\">\n",
              "    <path d=\"M0 0h24v24H0V0z\" fill=\"none\"/>\n",
              "    <path d=\"M18.56 5.44l.94 2.06.94-2.06 2.06-.94-2.06-.94-.94-2.06-.94 2.06-2.06.94zm-11 1L8.5 8.5l.94-2.06 2.06-.94-2.06-.94L8.5 2.5l-.94 2.06-2.06.94zm10 10l.94 2.06.94-2.06 2.06-.94-2.06-.94-.94-2.06-.94 2.06-2.06.94z\"/><path d=\"M17.41 7.96l-1.37-1.37c-.4-.4-.92-.59-1.43-.59-.52 0-1.04.2-1.43.59L10.3 9.45l-7.72 7.72c-.78.78-.78 2.05 0 2.83L4 21.41c.39.39.9.59 1.41.59.51 0 1.02-.2 1.41-.59l7.78-7.78 2.81-2.81c.8-.78.8-2.07 0-2.86zM5.41 20L4 18.59l7.72-7.72 1.47 1.35L5.41 20z\"/>\n",
              "  </svg>\n",
              "      </button>\n",
              "      \n",
              "  <style>\n",
              "    .colab-df-container {\n",
              "      display:flex;\n",
              "      flex-wrap:wrap;\n",
              "      gap: 12px;\n",
              "    }\n",
              "\n",
              "    .colab-df-convert {\n",
              "      background-color: #E8F0FE;\n",
              "      border: none;\n",
              "      border-radius: 50%;\n",
              "      cursor: pointer;\n",
              "      display: none;\n",
              "      fill: #1967D2;\n",
              "      height: 32px;\n",
              "      padding: 0 0 0 0;\n",
              "      width: 32px;\n",
              "    }\n",
              "\n",
              "    .colab-df-convert:hover {\n",
              "      background-color: #E2EBFA;\n",
              "      box-shadow: 0px 1px 2px rgba(60, 64, 67, 0.3), 0px 1px 3px 1px rgba(60, 64, 67, 0.15);\n",
              "      fill: #174EA6;\n",
              "    }\n",
              "\n",
              "    [theme=dark] .colab-df-convert {\n",
              "      background-color: #3B4455;\n",
              "      fill: #D2E3FC;\n",
              "    }\n",
              "\n",
              "    [theme=dark] .colab-df-convert:hover {\n",
              "      background-color: #434B5C;\n",
              "      box-shadow: 0px 1px 3px 1px rgba(0, 0, 0, 0.15);\n",
              "      filter: drop-shadow(0px 1px 2px rgba(0, 0, 0, 0.3));\n",
              "      fill: #FFFFFF;\n",
              "    }\n",
              "  </style>\n",
              "\n",
              "      <script>\n",
              "        const buttonEl =\n",
              "          document.querySelector('#df-226c236f-e86f-414b-bbd7-80d8de4af277 button.colab-df-convert');\n",
              "        buttonEl.style.display =\n",
              "          google.colab.kernel.accessAllowed ? 'block' : 'none';\n",
              "\n",
              "        async function convertToInteractive(key) {\n",
              "          const element = document.querySelector('#df-226c236f-e86f-414b-bbd7-80d8de4af277');\n",
              "          const dataTable =\n",
              "            await google.colab.kernel.invokeFunction('convertToInteractive',\n",
              "                                                     [key], {});\n",
              "          if (!dataTable) return;\n",
              "\n",
              "          const docLinkHtml = 'Like what you see? Visit the ' +\n",
              "            '<a target=\"_blank\" href=https://colab.research.google.com/notebooks/data_table.ipynb>data table notebook</a>'\n",
              "            + ' to learn more about interactive tables.';\n",
              "          element.innerHTML = '';\n",
              "          dataTable['output_type'] = 'display_data';\n",
              "          await google.colab.output.renderOutput(dataTable, element);\n",
              "          const docLink = document.createElement('div');\n",
              "          docLink.innerHTML = docLinkHtml;\n",
              "          element.appendChild(docLink);\n",
              "        }\n",
              "      </script>\n",
              "    </div>\n",
              "  </div>\n",
              "  "
            ]
          },
          "metadata": {},
          "execution_count": 15
        }
      ]
    },
    {
      "cell_type": "markdown",
      "source": [
        "## Prepare item features"
      ],
      "metadata": {
        "id": "jFyCmN_phqeG"
      }
    },
    {
      "cell_type": "code",
      "source": [
        "items.isna().sum()"
      ],
      "metadata": {
        "colab": {
          "base_uri": "https://localhost:8080/"
        },
        "id": "YnAMsjn-hkoj",
        "outputId": "7a2faedc-6b9c-4119-abb6-5cae591ee8d0"
      },
      "execution_count": 16,
      "outputs": [
        {
          "output_type": "execute_result",
          "data": {
            "text/plain": [
              "item_id             0\n",
              "content_type        0\n",
              "title               0\n",
              "title_orig       4745\n",
              "release_year       98\n",
              "genres              0\n",
              "countries          37\n",
              "for_kids        15397\n",
              "age_rating          2\n",
              "studios         14898\n",
              "directors        1509\n",
              "actors           2619\n",
              "description         2\n",
              "keywords          423\n",
              "dtype: int64"
            ]
          },
          "metadata": {},
          "execution_count": 16
        }
      ]
    },
    {
      "cell_type": "code",
      "source": [
        "items = items.loc[items[Columns.Item].isin(train[Columns.Item])].copy()\n",
        "items.head()"
      ],
      "metadata": {
        "colab": {
          "base_uri": "https://localhost:8080/",
          "height": 652
        },
        "id": "53at3fc6hqMZ",
        "outputId": "d7ced82c-fa0d-48ed-9200-98d3e33c20d1"
      },
      "execution_count": 17,
      "outputs": [
        {
          "output_type": "execute_result",
          "data": {
            "text/plain": [
              "   item_id content_type                 title      title_orig  release_year  \\\n",
              "0    10711         film        Поговори с ней  Hable con ella        2002.0   \n",
              "1     2508         film           Голые перцы    Search Party        2014.0   \n",
              "2    10716         film      Тактическая сила  Tactical Force        2011.0   \n",
              "3     7868         film                45 лет        45 Years        2015.0   \n",
              "4    16268         film  Все решает мгновение             NaN        1978.0   \n",
              "\n",
              "                                             genres       countries  for_kids  \\\n",
              "0           драмы, зарубежные, детективы, мелодрамы         Испания       NaN   \n",
              "1                  зарубежные, приключения, комедии             США       NaN   \n",
              "2  криминал, зарубежные, триллеры, боевики, комедии          Канада       NaN   \n",
              "3                      драмы, зарубежные, мелодрамы  Великобритания       NaN   \n",
              "4                драмы, спорт, советские, мелодрамы            СССР       NaN   \n",
              "\n",
              "   age_rating   studios         directors  \\\n",
              "0        16.0       NaN  Педро Альмодовар   \n",
              "1        16.0       NaN    Скот Армстронг   \n",
              "2        16.0       NaN  Адам П. Калтраро   \n",
              "3        16.0       NaN         Эндрю Хэй   \n",
              "4        12.0  Ленфильм  Виктор Садовский   \n",
              "\n",
              "                                              actors  \\\n",
              "0  Адольфо Фернандес, Ана Фернандес, Дарио Гранди...   \n",
              "1  Адам Палли, Брайан Хаски, Дж.Б. Смув, Джейсон ...   \n",
              "2  Адриан Холмс, Даррен Шалави, Джерри Вассерман,...   \n",
              "3  Александра Риддлстон-Барретт, Джеральдин Джейм...   \n",
              "4  Александр Абдулов, Александр Демьяненко, Алекс...   \n",
              "\n",
              "                                         description  \\\n",
              "0  Мелодрама легендарного Педро Альмодовара «Пого...   \n",
              "1  Уморительная современная комедия на популярную...   \n",
              "2  Профессиональный рестлер Стив Остин («Все или ...   \n",
              "3  Шарлотта Рэмплинг, Том Кортни, Джеральдин Джей...   \n",
              "4  Расчетливая чаровница из советского кинохита «...   \n",
              "\n",
              "                                            keywords  \n",
              "0  Поговори, ней, 2002, Испания, друзья, любовь, ...  \n",
              "1  Голые, перцы, 2014, США, друзья, свадьбы, прео...  \n",
              "2  Тактическая, сила, 2011, Канада, бандиты, ганг...  \n",
              "3  45, лет, 2015, Великобритания, брак, жизнь, лю...  \n",
              "4  Все, решает, мгновение, 1978, СССР, сильные, ж...  "
            ],
            "text/html": [
              "\n",
              "  <div id=\"df-70c769d5-c4d7-4696-baf2-bb83251045c1\">\n",
              "    <div class=\"colab-df-container\">\n",
              "      <div>\n",
              "<style scoped>\n",
              "    .dataframe tbody tr th:only-of-type {\n",
              "        vertical-align: middle;\n",
              "    }\n",
              "\n",
              "    .dataframe tbody tr th {\n",
              "        vertical-align: top;\n",
              "    }\n",
              "\n",
              "    .dataframe thead th {\n",
              "        text-align: right;\n",
              "    }\n",
              "</style>\n",
              "<table border=\"1\" class=\"dataframe\">\n",
              "  <thead>\n",
              "    <tr style=\"text-align: right;\">\n",
              "      <th></th>\n",
              "      <th>item_id</th>\n",
              "      <th>content_type</th>\n",
              "      <th>title</th>\n",
              "      <th>title_orig</th>\n",
              "      <th>release_year</th>\n",
              "      <th>genres</th>\n",
              "      <th>countries</th>\n",
              "      <th>for_kids</th>\n",
              "      <th>age_rating</th>\n",
              "      <th>studios</th>\n",
              "      <th>directors</th>\n",
              "      <th>actors</th>\n",
              "      <th>description</th>\n",
              "      <th>keywords</th>\n",
              "    </tr>\n",
              "  </thead>\n",
              "  <tbody>\n",
              "    <tr>\n",
              "      <th>0</th>\n",
              "      <td>10711</td>\n",
              "      <td>film</td>\n",
              "      <td>Поговори с ней</td>\n",
              "      <td>Hable con ella</td>\n",
              "      <td>2002.0</td>\n",
              "      <td>драмы, зарубежные, детективы, мелодрамы</td>\n",
              "      <td>Испания</td>\n",
              "      <td>NaN</td>\n",
              "      <td>16.0</td>\n",
              "      <td>NaN</td>\n",
              "      <td>Педро Альмодовар</td>\n",
              "      <td>Адольфо Фернандес, Ана Фернандес, Дарио Гранди...</td>\n",
              "      <td>Мелодрама легендарного Педро Альмодовара «Пого...</td>\n",
              "      <td>Поговори, ней, 2002, Испания, друзья, любовь, ...</td>\n",
              "    </tr>\n",
              "    <tr>\n",
              "      <th>1</th>\n",
              "      <td>2508</td>\n",
              "      <td>film</td>\n",
              "      <td>Голые перцы</td>\n",
              "      <td>Search Party</td>\n",
              "      <td>2014.0</td>\n",
              "      <td>зарубежные, приключения, комедии</td>\n",
              "      <td>США</td>\n",
              "      <td>NaN</td>\n",
              "      <td>16.0</td>\n",
              "      <td>NaN</td>\n",
              "      <td>Скот Армстронг</td>\n",
              "      <td>Адам Палли, Брайан Хаски, Дж.Б. Смув, Джейсон ...</td>\n",
              "      <td>Уморительная современная комедия на популярную...</td>\n",
              "      <td>Голые, перцы, 2014, США, друзья, свадьбы, прео...</td>\n",
              "    </tr>\n",
              "    <tr>\n",
              "      <th>2</th>\n",
              "      <td>10716</td>\n",
              "      <td>film</td>\n",
              "      <td>Тактическая сила</td>\n",
              "      <td>Tactical Force</td>\n",
              "      <td>2011.0</td>\n",
              "      <td>криминал, зарубежные, триллеры, боевики, комедии</td>\n",
              "      <td>Канада</td>\n",
              "      <td>NaN</td>\n",
              "      <td>16.0</td>\n",
              "      <td>NaN</td>\n",
              "      <td>Адам П. Калтраро</td>\n",
              "      <td>Адриан Холмс, Даррен Шалави, Джерри Вассерман,...</td>\n",
              "      <td>Профессиональный рестлер Стив Остин («Все или ...</td>\n",
              "      <td>Тактическая, сила, 2011, Канада, бандиты, ганг...</td>\n",
              "    </tr>\n",
              "    <tr>\n",
              "      <th>3</th>\n",
              "      <td>7868</td>\n",
              "      <td>film</td>\n",
              "      <td>45 лет</td>\n",
              "      <td>45 Years</td>\n",
              "      <td>2015.0</td>\n",
              "      <td>драмы, зарубежные, мелодрамы</td>\n",
              "      <td>Великобритания</td>\n",
              "      <td>NaN</td>\n",
              "      <td>16.0</td>\n",
              "      <td>NaN</td>\n",
              "      <td>Эндрю Хэй</td>\n",
              "      <td>Александра Риддлстон-Барретт, Джеральдин Джейм...</td>\n",
              "      <td>Шарлотта Рэмплинг, Том Кортни, Джеральдин Джей...</td>\n",
              "      <td>45, лет, 2015, Великобритания, брак, жизнь, лю...</td>\n",
              "    </tr>\n",
              "    <tr>\n",
              "      <th>4</th>\n",
              "      <td>16268</td>\n",
              "      <td>film</td>\n",
              "      <td>Все решает мгновение</td>\n",
              "      <td>NaN</td>\n",
              "      <td>1978.0</td>\n",
              "      <td>драмы, спорт, советские, мелодрамы</td>\n",
              "      <td>СССР</td>\n",
              "      <td>NaN</td>\n",
              "      <td>12.0</td>\n",
              "      <td>Ленфильм</td>\n",
              "      <td>Виктор Садовский</td>\n",
              "      <td>Александр Абдулов, Александр Демьяненко, Алекс...</td>\n",
              "      <td>Расчетливая чаровница из советского кинохита «...</td>\n",
              "      <td>Все, решает, мгновение, 1978, СССР, сильные, ж...</td>\n",
              "    </tr>\n",
              "  </tbody>\n",
              "</table>\n",
              "</div>\n",
              "      <button class=\"colab-df-convert\" onclick=\"convertToInteractive('df-70c769d5-c4d7-4696-baf2-bb83251045c1')\"\n",
              "              title=\"Convert this dataframe to an interactive table.\"\n",
              "              style=\"display:none;\">\n",
              "        \n",
              "  <svg xmlns=\"http://www.w3.org/2000/svg\" height=\"24px\"viewBox=\"0 0 24 24\"\n",
              "       width=\"24px\">\n",
              "    <path d=\"M0 0h24v24H0V0z\" fill=\"none\"/>\n",
              "    <path d=\"M18.56 5.44l.94 2.06.94-2.06 2.06-.94-2.06-.94-.94-2.06-.94 2.06-2.06.94zm-11 1L8.5 8.5l.94-2.06 2.06-.94-2.06-.94L8.5 2.5l-.94 2.06-2.06.94zm10 10l.94 2.06.94-2.06 2.06-.94-2.06-.94-.94-2.06-.94 2.06-2.06.94z\"/><path d=\"M17.41 7.96l-1.37-1.37c-.4-.4-.92-.59-1.43-.59-.52 0-1.04.2-1.43.59L10.3 9.45l-7.72 7.72c-.78.78-.78 2.05 0 2.83L4 21.41c.39.39.9.59 1.41.59.51 0 1.02-.2 1.41-.59l7.78-7.78 2.81-2.81c.8-.78.8-2.07 0-2.86zM5.41 20L4 18.59l7.72-7.72 1.47 1.35L5.41 20z\"/>\n",
              "  </svg>\n",
              "      </button>\n",
              "      \n",
              "  <style>\n",
              "    .colab-df-container {\n",
              "      display:flex;\n",
              "      flex-wrap:wrap;\n",
              "      gap: 12px;\n",
              "    }\n",
              "\n",
              "    .colab-df-convert {\n",
              "      background-color: #E8F0FE;\n",
              "      border: none;\n",
              "      border-radius: 50%;\n",
              "      cursor: pointer;\n",
              "      display: none;\n",
              "      fill: #1967D2;\n",
              "      height: 32px;\n",
              "      padding: 0 0 0 0;\n",
              "      width: 32px;\n",
              "    }\n",
              "\n",
              "    .colab-df-convert:hover {\n",
              "      background-color: #E2EBFA;\n",
              "      box-shadow: 0px 1px 2px rgba(60, 64, 67, 0.3), 0px 1px 3px 1px rgba(60, 64, 67, 0.15);\n",
              "      fill: #174EA6;\n",
              "    }\n",
              "\n",
              "    [theme=dark] .colab-df-convert {\n",
              "      background-color: #3B4455;\n",
              "      fill: #D2E3FC;\n",
              "    }\n",
              "\n",
              "    [theme=dark] .colab-df-convert:hover {\n",
              "      background-color: #434B5C;\n",
              "      box-shadow: 0px 1px 3px 1px rgba(0, 0, 0, 0.15);\n",
              "      filter: drop-shadow(0px 1px 2px rgba(0, 0, 0, 0.3));\n",
              "      fill: #FFFFFF;\n",
              "    }\n",
              "  </style>\n",
              "\n",
              "      <script>\n",
              "        const buttonEl =\n",
              "          document.querySelector('#df-70c769d5-c4d7-4696-baf2-bb83251045c1 button.colab-df-convert');\n",
              "        buttonEl.style.display =\n",
              "          google.colab.kernel.accessAllowed ? 'block' : 'none';\n",
              "\n",
              "        async function convertToInteractive(key) {\n",
              "          const element = document.querySelector('#df-70c769d5-c4d7-4696-baf2-bb83251045c1');\n",
              "          const dataTable =\n",
              "            await google.colab.kernel.invokeFunction('convertToInteractive',\n",
              "                                                     [key], {});\n",
              "          if (!dataTable) return;\n",
              "\n",
              "          const docLinkHtml = 'Like what you see? Visit the ' +\n",
              "            '<a target=\"_blank\" href=https://colab.research.google.com/notebooks/data_table.ipynb>data table notebook</a>'\n",
              "            + ' to learn more about interactive tables.';\n",
              "          element.innerHTML = '';\n",
              "          dataTable['output_type'] = 'display_data';\n",
              "          await google.colab.output.renderOutput(dataTable, element);\n",
              "          const docLink = document.createElement('div');\n",
              "          docLink.innerHTML = docLinkHtml;\n",
              "          element.appendChild(docLink);\n",
              "        }\n",
              "      </script>\n",
              "    </div>\n",
              "  </div>\n",
              "  "
            ]
          },
          "metadata": {},
          "execution_count": 17
        }
      ]
    },
    {
      "cell_type": "code",
      "source": [
        "items[\"genre\"] = items[\"genres\"].str.lower().str.replace(\", \", \",\", regex=False).str.split(\",\")\n",
        "genre_feature = items[[\"item_id\", \"genre\"]].explode(\"genre\")\n",
        "genre_feature.columns = [\"id\", \"value\"]\n",
        "genre_feature[\"feature\"] = \"genre\"\n",
        "genre_feature.head()"
      ],
      "metadata": {
        "colab": {
          "base_uri": "https://localhost:8080/",
          "height": 206
        },
        "id": "09DHglXvhqP3",
        "outputId": "a00d273f-9b23-4b3e-b755-06537d5764ca"
      },
      "execution_count": 18,
      "outputs": [
        {
          "output_type": "execute_result",
          "data": {
            "text/plain": [
              "      id       value feature\n",
              "0  10711       драмы   genre\n",
              "0  10711  зарубежные   genre\n",
              "0  10711   детективы   genre\n",
              "0  10711   мелодрамы   genre\n",
              "1   2508  зарубежные   genre"
            ],
            "text/html": [
              "\n",
              "  <div id=\"df-4844b145-fa94-42b2-aaf6-15531631e639\">\n",
              "    <div class=\"colab-df-container\">\n",
              "      <div>\n",
              "<style scoped>\n",
              "    .dataframe tbody tr th:only-of-type {\n",
              "        vertical-align: middle;\n",
              "    }\n",
              "\n",
              "    .dataframe tbody tr th {\n",
              "        vertical-align: top;\n",
              "    }\n",
              "\n",
              "    .dataframe thead th {\n",
              "        text-align: right;\n",
              "    }\n",
              "</style>\n",
              "<table border=\"1\" class=\"dataframe\">\n",
              "  <thead>\n",
              "    <tr style=\"text-align: right;\">\n",
              "      <th></th>\n",
              "      <th>id</th>\n",
              "      <th>value</th>\n",
              "      <th>feature</th>\n",
              "    </tr>\n",
              "  </thead>\n",
              "  <tbody>\n",
              "    <tr>\n",
              "      <th>0</th>\n",
              "      <td>10711</td>\n",
              "      <td>драмы</td>\n",
              "      <td>genre</td>\n",
              "    </tr>\n",
              "    <tr>\n",
              "      <th>0</th>\n",
              "      <td>10711</td>\n",
              "      <td>зарубежные</td>\n",
              "      <td>genre</td>\n",
              "    </tr>\n",
              "    <tr>\n",
              "      <th>0</th>\n",
              "      <td>10711</td>\n",
              "      <td>детективы</td>\n",
              "      <td>genre</td>\n",
              "    </tr>\n",
              "    <tr>\n",
              "      <th>0</th>\n",
              "      <td>10711</td>\n",
              "      <td>мелодрамы</td>\n",
              "      <td>genre</td>\n",
              "    </tr>\n",
              "    <tr>\n",
              "      <th>1</th>\n",
              "      <td>2508</td>\n",
              "      <td>зарубежные</td>\n",
              "      <td>genre</td>\n",
              "    </tr>\n",
              "  </tbody>\n",
              "</table>\n",
              "</div>\n",
              "      <button class=\"colab-df-convert\" onclick=\"convertToInteractive('df-4844b145-fa94-42b2-aaf6-15531631e639')\"\n",
              "              title=\"Convert this dataframe to an interactive table.\"\n",
              "              style=\"display:none;\">\n",
              "        \n",
              "  <svg xmlns=\"http://www.w3.org/2000/svg\" height=\"24px\"viewBox=\"0 0 24 24\"\n",
              "       width=\"24px\">\n",
              "    <path d=\"M0 0h24v24H0V0z\" fill=\"none\"/>\n",
              "    <path d=\"M18.56 5.44l.94 2.06.94-2.06 2.06-.94-2.06-.94-.94-2.06-.94 2.06-2.06.94zm-11 1L8.5 8.5l.94-2.06 2.06-.94-2.06-.94L8.5 2.5l-.94 2.06-2.06.94zm10 10l.94 2.06.94-2.06 2.06-.94-2.06-.94-.94-2.06-.94 2.06-2.06.94z\"/><path d=\"M17.41 7.96l-1.37-1.37c-.4-.4-.92-.59-1.43-.59-.52 0-1.04.2-1.43.59L10.3 9.45l-7.72 7.72c-.78.78-.78 2.05 0 2.83L4 21.41c.39.39.9.59 1.41.59.51 0 1.02-.2 1.41-.59l7.78-7.78 2.81-2.81c.8-.78.8-2.07 0-2.86zM5.41 20L4 18.59l7.72-7.72 1.47 1.35L5.41 20z\"/>\n",
              "  </svg>\n",
              "      </button>\n",
              "      \n",
              "  <style>\n",
              "    .colab-df-container {\n",
              "      display:flex;\n",
              "      flex-wrap:wrap;\n",
              "      gap: 12px;\n",
              "    }\n",
              "\n",
              "    .colab-df-convert {\n",
              "      background-color: #E8F0FE;\n",
              "      border: none;\n",
              "      border-radius: 50%;\n",
              "      cursor: pointer;\n",
              "      display: none;\n",
              "      fill: #1967D2;\n",
              "      height: 32px;\n",
              "      padding: 0 0 0 0;\n",
              "      width: 32px;\n",
              "    }\n",
              "\n",
              "    .colab-df-convert:hover {\n",
              "      background-color: #E2EBFA;\n",
              "      box-shadow: 0px 1px 2px rgba(60, 64, 67, 0.3), 0px 1px 3px 1px rgba(60, 64, 67, 0.15);\n",
              "      fill: #174EA6;\n",
              "    }\n",
              "\n",
              "    [theme=dark] .colab-df-convert {\n",
              "      background-color: #3B4455;\n",
              "      fill: #D2E3FC;\n",
              "    }\n",
              "\n",
              "    [theme=dark] .colab-df-convert:hover {\n",
              "      background-color: #434B5C;\n",
              "      box-shadow: 0px 1px 3px 1px rgba(0, 0, 0, 0.15);\n",
              "      filter: drop-shadow(0px 1px 2px rgba(0, 0, 0, 0.3));\n",
              "      fill: #FFFFFF;\n",
              "    }\n",
              "  </style>\n",
              "\n",
              "      <script>\n",
              "        const buttonEl =\n",
              "          document.querySelector('#df-4844b145-fa94-42b2-aaf6-15531631e639 button.colab-df-convert');\n",
              "        buttonEl.style.display =\n",
              "          google.colab.kernel.accessAllowed ? 'block' : 'none';\n",
              "\n",
              "        async function convertToInteractive(key) {\n",
              "          const element = document.querySelector('#df-4844b145-fa94-42b2-aaf6-15531631e639');\n",
              "          const dataTable =\n",
              "            await google.colab.kernel.invokeFunction('convertToInteractive',\n",
              "                                                     [key], {});\n",
              "          if (!dataTable) return;\n",
              "\n",
              "          const docLinkHtml = 'Like what you see? Visit the ' +\n",
              "            '<a target=\"_blank\" href=https://colab.research.google.com/notebooks/data_table.ipynb>data table notebook</a>'\n",
              "            + ' to learn more about interactive tables.';\n",
              "          element.innerHTML = '';\n",
              "          dataTable['output_type'] = 'display_data';\n",
              "          await google.colab.output.renderOutput(dataTable, element);\n",
              "          const docLink = document.createElement('div');\n",
              "          docLink.innerHTML = docLinkHtml;\n",
              "          element.appendChild(docLink);\n",
              "        }\n",
              "      </script>\n",
              "    </div>\n",
              "  </div>\n",
              "  "
            ]
          },
          "metadata": {},
          "execution_count": 18
        }
      ]
    },
    {
      "cell_type": "code",
      "source": [
        "content_feature = items.reindex(columns=[Columns.Item, \"content_type\"])\n",
        "content_feature.columns = [\"id\", \"value\"]\n",
        "content_feature[\"feature\"] = \"content_type\"\n",
        "content_feature.head()"
      ],
      "metadata": {
        "colab": {
          "base_uri": "https://localhost:8080/",
          "height": 206
        },
        "id": "YvETDzr0hqTG",
        "outputId": "15056b17-9ecb-4b62-97b6-de6e4d8b39c4"
      },
      "execution_count": 19,
      "outputs": [
        {
          "output_type": "execute_result",
          "data": {
            "text/plain": [
              "      id value       feature\n",
              "0  10711  film  content_type\n",
              "1   2508  film  content_type\n",
              "2  10716  film  content_type\n",
              "3   7868  film  content_type\n",
              "4  16268  film  content_type"
            ],
            "text/html": [
              "\n",
              "  <div id=\"df-ddd2822a-6dac-4b03-94c3-d4a7239932c0\">\n",
              "    <div class=\"colab-df-container\">\n",
              "      <div>\n",
              "<style scoped>\n",
              "    .dataframe tbody tr th:only-of-type {\n",
              "        vertical-align: middle;\n",
              "    }\n",
              "\n",
              "    .dataframe tbody tr th {\n",
              "        vertical-align: top;\n",
              "    }\n",
              "\n",
              "    .dataframe thead th {\n",
              "        text-align: right;\n",
              "    }\n",
              "</style>\n",
              "<table border=\"1\" class=\"dataframe\">\n",
              "  <thead>\n",
              "    <tr style=\"text-align: right;\">\n",
              "      <th></th>\n",
              "      <th>id</th>\n",
              "      <th>value</th>\n",
              "      <th>feature</th>\n",
              "    </tr>\n",
              "  </thead>\n",
              "  <tbody>\n",
              "    <tr>\n",
              "      <th>0</th>\n",
              "      <td>10711</td>\n",
              "      <td>film</td>\n",
              "      <td>content_type</td>\n",
              "    </tr>\n",
              "    <tr>\n",
              "      <th>1</th>\n",
              "      <td>2508</td>\n",
              "      <td>film</td>\n",
              "      <td>content_type</td>\n",
              "    </tr>\n",
              "    <tr>\n",
              "      <th>2</th>\n",
              "      <td>10716</td>\n",
              "      <td>film</td>\n",
              "      <td>content_type</td>\n",
              "    </tr>\n",
              "    <tr>\n",
              "      <th>3</th>\n",
              "      <td>7868</td>\n",
              "      <td>film</td>\n",
              "      <td>content_type</td>\n",
              "    </tr>\n",
              "    <tr>\n",
              "      <th>4</th>\n",
              "      <td>16268</td>\n",
              "      <td>film</td>\n",
              "      <td>content_type</td>\n",
              "    </tr>\n",
              "  </tbody>\n",
              "</table>\n",
              "</div>\n",
              "      <button class=\"colab-df-convert\" onclick=\"convertToInteractive('df-ddd2822a-6dac-4b03-94c3-d4a7239932c0')\"\n",
              "              title=\"Convert this dataframe to an interactive table.\"\n",
              "              style=\"display:none;\">\n",
              "        \n",
              "  <svg xmlns=\"http://www.w3.org/2000/svg\" height=\"24px\"viewBox=\"0 0 24 24\"\n",
              "       width=\"24px\">\n",
              "    <path d=\"M0 0h24v24H0V0z\" fill=\"none\"/>\n",
              "    <path d=\"M18.56 5.44l.94 2.06.94-2.06 2.06-.94-2.06-.94-.94-2.06-.94 2.06-2.06.94zm-11 1L8.5 8.5l.94-2.06 2.06-.94-2.06-.94L8.5 2.5l-.94 2.06-2.06.94zm10 10l.94 2.06.94-2.06 2.06-.94-2.06-.94-.94-2.06-.94 2.06-2.06.94z\"/><path d=\"M17.41 7.96l-1.37-1.37c-.4-.4-.92-.59-1.43-.59-.52 0-1.04.2-1.43.59L10.3 9.45l-7.72 7.72c-.78.78-.78 2.05 0 2.83L4 21.41c.39.39.9.59 1.41.59.51 0 1.02-.2 1.41-.59l7.78-7.78 2.81-2.81c.8-.78.8-2.07 0-2.86zM5.41 20L4 18.59l7.72-7.72 1.47 1.35L5.41 20z\"/>\n",
              "  </svg>\n",
              "      </button>\n",
              "      \n",
              "  <style>\n",
              "    .colab-df-container {\n",
              "      display:flex;\n",
              "      flex-wrap:wrap;\n",
              "      gap: 12px;\n",
              "    }\n",
              "\n",
              "    .colab-df-convert {\n",
              "      background-color: #E8F0FE;\n",
              "      border: none;\n",
              "      border-radius: 50%;\n",
              "      cursor: pointer;\n",
              "      display: none;\n",
              "      fill: #1967D2;\n",
              "      height: 32px;\n",
              "      padding: 0 0 0 0;\n",
              "      width: 32px;\n",
              "    }\n",
              "\n",
              "    .colab-df-convert:hover {\n",
              "      background-color: #E2EBFA;\n",
              "      box-shadow: 0px 1px 2px rgba(60, 64, 67, 0.3), 0px 1px 3px 1px rgba(60, 64, 67, 0.15);\n",
              "      fill: #174EA6;\n",
              "    }\n",
              "\n",
              "    [theme=dark] .colab-df-convert {\n",
              "      background-color: #3B4455;\n",
              "      fill: #D2E3FC;\n",
              "    }\n",
              "\n",
              "    [theme=dark] .colab-df-convert:hover {\n",
              "      background-color: #434B5C;\n",
              "      box-shadow: 0px 1px 3px 1px rgba(0, 0, 0, 0.15);\n",
              "      filter: drop-shadow(0px 1px 2px rgba(0, 0, 0, 0.3));\n",
              "      fill: #FFFFFF;\n",
              "    }\n",
              "  </style>\n",
              "\n",
              "      <script>\n",
              "        const buttonEl =\n",
              "          document.querySelector('#df-ddd2822a-6dac-4b03-94c3-d4a7239932c0 button.colab-df-convert');\n",
              "        buttonEl.style.display =\n",
              "          google.colab.kernel.accessAllowed ? 'block' : 'none';\n",
              "\n",
              "        async function convertToInteractive(key) {\n",
              "          const element = document.querySelector('#df-ddd2822a-6dac-4b03-94c3-d4a7239932c0');\n",
              "          const dataTable =\n",
              "            await google.colab.kernel.invokeFunction('convertToInteractive',\n",
              "                                                     [key], {});\n",
              "          if (!dataTable) return;\n",
              "\n",
              "          const docLinkHtml = 'Like what you see? Visit the ' +\n",
              "            '<a target=\"_blank\" href=https://colab.research.google.com/notebooks/data_table.ipynb>data table notebook</a>'\n",
              "            + ' to learn more about interactive tables.';\n",
              "          element.innerHTML = '';\n",
              "          dataTable['output_type'] = 'display_data';\n",
              "          await google.colab.output.renderOutput(dataTable, element);\n",
              "          const docLink = document.createElement('div');\n",
              "          docLink.innerHTML = docLinkHtml;\n",
              "          element.appendChild(docLink);\n",
              "        }\n",
              "      </script>\n",
              "    </div>\n",
              "  </div>\n",
              "  "
            ]
          },
          "metadata": {},
          "execution_count": 19
        }
      ]
    },
    {
      "cell_type": "code",
      "source": [
        "items['binned_r_year'] = pd.qcut(items['release_year'], q=10, labels=list(range(10)))\n",
        "release_year_feature = items.reindex(columns=[Columns.Item, \"binned_r_year\"])\n",
        "release_year_feature.columns = [\"id\", \"value\"]\n",
        "release_year_feature[\"feature\"] = \"binned_r_year\"\n",
        "release_year_feature.head()"
      ],
      "metadata": {
        "colab": {
          "base_uri": "https://localhost:8080/",
          "height": 206
        },
        "id": "hghCK1QFhvUb",
        "outputId": "85eef1a8-899f-4304-e88b-0810ae17fac7"
      },
      "execution_count": 20,
      "outputs": [
        {
          "output_type": "execute_result",
          "data": {
            "text/plain": [
              "      id value        feature\n",
              "0  10711     1  binned_r_year\n",
              "1   2508     4  binned_r_year\n",
              "2  10716     3  binned_r_year\n",
              "3   7868     5  binned_r_year\n",
              "4  16268     0  binned_r_year"
            ],
            "text/html": [
              "\n",
              "  <div id=\"df-e226d963-edd7-48f0-8a59-af7bd2f67227\">\n",
              "    <div class=\"colab-df-container\">\n",
              "      <div>\n",
              "<style scoped>\n",
              "    .dataframe tbody tr th:only-of-type {\n",
              "        vertical-align: middle;\n",
              "    }\n",
              "\n",
              "    .dataframe tbody tr th {\n",
              "        vertical-align: top;\n",
              "    }\n",
              "\n",
              "    .dataframe thead th {\n",
              "        text-align: right;\n",
              "    }\n",
              "</style>\n",
              "<table border=\"1\" class=\"dataframe\">\n",
              "  <thead>\n",
              "    <tr style=\"text-align: right;\">\n",
              "      <th></th>\n",
              "      <th>id</th>\n",
              "      <th>value</th>\n",
              "      <th>feature</th>\n",
              "    </tr>\n",
              "  </thead>\n",
              "  <tbody>\n",
              "    <tr>\n",
              "      <th>0</th>\n",
              "      <td>10711</td>\n",
              "      <td>1</td>\n",
              "      <td>binned_r_year</td>\n",
              "    </tr>\n",
              "    <tr>\n",
              "      <th>1</th>\n",
              "      <td>2508</td>\n",
              "      <td>4</td>\n",
              "      <td>binned_r_year</td>\n",
              "    </tr>\n",
              "    <tr>\n",
              "      <th>2</th>\n",
              "      <td>10716</td>\n",
              "      <td>3</td>\n",
              "      <td>binned_r_year</td>\n",
              "    </tr>\n",
              "    <tr>\n",
              "      <th>3</th>\n",
              "      <td>7868</td>\n",
              "      <td>5</td>\n",
              "      <td>binned_r_year</td>\n",
              "    </tr>\n",
              "    <tr>\n",
              "      <th>4</th>\n",
              "      <td>16268</td>\n",
              "      <td>0</td>\n",
              "      <td>binned_r_year</td>\n",
              "    </tr>\n",
              "  </tbody>\n",
              "</table>\n",
              "</div>\n",
              "      <button class=\"colab-df-convert\" onclick=\"convertToInteractive('df-e226d963-edd7-48f0-8a59-af7bd2f67227')\"\n",
              "              title=\"Convert this dataframe to an interactive table.\"\n",
              "              style=\"display:none;\">\n",
              "        \n",
              "  <svg xmlns=\"http://www.w3.org/2000/svg\" height=\"24px\"viewBox=\"0 0 24 24\"\n",
              "       width=\"24px\">\n",
              "    <path d=\"M0 0h24v24H0V0z\" fill=\"none\"/>\n",
              "    <path d=\"M18.56 5.44l.94 2.06.94-2.06 2.06-.94-2.06-.94-.94-2.06-.94 2.06-2.06.94zm-11 1L8.5 8.5l.94-2.06 2.06-.94-2.06-.94L8.5 2.5l-.94 2.06-2.06.94zm10 10l.94 2.06.94-2.06 2.06-.94-2.06-.94-.94-2.06-.94 2.06-2.06.94z\"/><path d=\"M17.41 7.96l-1.37-1.37c-.4-.4-.92-.59-1.43-.59-.52 0-1.04.2-1.43.59L10.3 9.45l-7.72 7.72c-.78.78-.78 2.05 0 2.83L4 21.41c.39.39.9.59 1.41.59.51 0 1.02-.2 1.41-.59l7.78-7.78 2.81-2.81c.8-.78.8-2.07 0-2.86zM5.41 20L4 18.59l7.72-7.72 1.47 1.35L5.41 20z\"/>\n",
              "  </svg>\n",
              "      </button>\n",
              "      \n",
              "  <style>\n",
              "    .colab-df-container {\n",
              "      display:flex;\n",
              "      flex-wrap:wrap;\n",
              "      gap: 12px;\n",
              "    }\n",
              "\n",
              "    .colab-df-convert {\n",
              "      background-color: #E8F0FE;\n",
              "      border: none;\n",
              "      border-radius: 50%;\n",
              "      cursor: pointer;\n",
              "      display: none;\n",
              "      fill: #1967D2;\n",
              "      height: 32px;\n",
              "      padding: 0 0 0 0;\n",
              "      width: 32px;\n",
              "    }\n",
              "\n",
              "    .colab-df-convert:hover {\n",
              "      background-color: #E2EBFA;\n",
              "      box-shadow: 0px 1px 2px rgba(60, 64, 67, 0.3), 0px 1px 3px 1px rgba(60, 64, 67, 0.15);\n",
              "      fill: #174EA6;\n",
              "    }\n",
              "\n",
              "    [theme=dark] .colab-df-convert {\n",
              "      background-color: #3B4455;\n",
              "      fill: #D2E3FC;\n",
              "    }\n",
              "\n",
              "    [theme=dark] .colab-df-convert:hover {\n",
              "      background-color: #434B5C;\n",
              "      box-shadow: 0px 1px 3px 1px rgba(0, 0, 0, 0.15);\n",
              "      filter: drop-shadow(0px 1px 2px rgba(0, 0, 0, 0.3));\n",
              "      fill: #FFFFFF;\n",
              "    }\n",
              "  </style>\n",
              "\n",
              "      <script>\n",
              "        const buttonEl =\n",
              "          document.querySelector('#df-e226d963-edd7-48f0-8a59-af7bd2f67227 button.colab-df-convert');\n",
              "        buttonEl.style.display =\n",
              "          google.colab.kernel.accessAllowed ? 'block' : 'none';\n",
              "\n",
              "        async function convertToInteractive(key) {\n",
              "          const element = document.querySelector('#df-e226d963-edd7-48f0-8a59-af7bd2f67227');\n",
              "          const dataTable =\n",
              "            await google.colab.kernel.invokeFunction('convertToInteractive',\n",
              "                                                     [key], {});\n",
              "          if (!dataTable) return;\n",
              "\n",
              "          const docLinkHtml = 'Like what you see? Visit the ' +\n",
              "            '<a target=\"_blank\" href=https://colab.research.google.com/notebooks/data_table.ipynb>data table notebook</a>'\n",
              "            + ' to learn more about interactive tables.';\n",
              "          element.innerHTML = '';\n",
              "          dataTable['output_type'] = 'display_data';\n",
              "          await google.colab.output.renderOutput(dataTable, element);\n",
              "          const docLink = document.createElement('div');\n",
              "          docLink.innerHTML = docLinkHtml;\n",
              "          element.appendChild(docLink);\n",
              "        }\n",
              "      </script>\n",
              "    </div>\n",
              "  </div>\n",
              "  "
            ]
          },
          "metadata": {},
          "execution_count": 20
        }
      ]
    },
    {
      "cell_type": "code",
      "source": [
        "items[\"country\"] = items[\"countries\"].str.lower().str.replace(\", \", \",\", regex=False).str.split(\",\")\n",
        "country_feature = items[[\"item_id\", \"country\"]].explode(\"country\")\n",
        "country_feature.columns = [\"id\", \"value\"]\n",
        "country_feature[\"feature\"] = \"country\"\n",
        "country_feature.head()"
      ],
      "metadata": {
        "colab": {
          "base_uri": "https://localhost:8080/",
          "height": 206
        },
        "id": "YIfLgItUhvY0",
        "outputId": "de8fbadd-b955-428a-8713-285778cca9c2"
      },
      "execution_count": 21,
      "outputs": [
        {
          "output_type": "execute_result",
          "data": {
            "text/plain": [
              "      id           value  feature\n",
              "0  10711         испания  country\n",
              "1   2508             сша  country\n",
              "2  10716          канада  country\n",
              "3   7868  великобритания  country\n",
              "4  16268            ссср  country"
            ],
            "text/html": [
              "\n",
              "  <div id=\"df-b5ed2dfd-0950-40c8-938b-498b888bf013\">\n",
              "    <div class=\"colab-df-container\">\n",
              "      <div>\n",
              "<style scoped>\n",
              "    .dataframe tbody tr th:only-of-type {\n",
              "        vertical-align: middle;\n",
              "    }\n",
              "\n",
              "    .dataframe tbody tr th {\n",
              "        vertical-align: top;\n",
              "    }\n",
              "\n",
              "    .dataframe thead th {\n",
              "        text-align: right;\n",
              "    }\n",
              "</style>\n",
              "<table border=\"1\" class=\"dataframe\">\n",
              "  <thead>\n",
              "    <tr style=\"text-align: right;\">\n",
              "      <th></th>\n",
              "      <th>id</th>\n",
              "      <th>value</th>\n",
              "      <th>feature</th>\n",
              "    </tr>\n",
              "  </thead>\n",
              "  <tbody>\n",
              "    <tr>\n",
              "      <th>0</th>\n",
              "      <td>10711</td>\n",
              "      <td>испания</td>\n",
              "      <td>country</td>\n",
              "    </tr>\n",
              "    <tr>\n",
              "      <th>1</th>\n",
              "      <td>2508</td>\n",
              "      <td>сша</td>\n",
              "      <td>country</td>\n",
              "    </tr>\n",
              "    <tr>\n",
              "      <th>2</th>\n",
              "      <td>10716</td>\n",
              "      <td>канада</td>\n",
              "      <td>country</td>\n",
              "    </tr>\n",
              "    <tr>\n",
              "      <th>3</th>\n",
              "      <td>7868</td>\n",
              "      <td>великобритания</td>\n",
              "      <td>country</td>\n",
              "    </tr>\n",
              "    <tr>\n",
              "      <th>4</th>\n",
              "      <td>16268</td>\n",
              "      <td>ссср</td>\n",
              "      <td>country</td>\n",
              "    </tr>\n",
              "  </tbody>\n",
              "</table>\n",
              "</div>\n",
              "      <button class=\"colab-df-convert\" onclick=\"convertToInteractive('df-b5ed2dfd-0950-40c8-938b-498b888bf013')\"\n",
              "              title=\"Convert this dataframe to an interactive table.\"\n",
              "              style=\"display:none;\">\n",
              "        \n",
              "  <svg xmlns=\"http://www.w3.org/2000/svg\" height=\"24px\"viewBox=\"0 0 24 24\"\n",
              "       width=\"24px\">\n",
              "    <path d=\"M0 0h24v24H0V0z\" fill=\"none\"/>\n",
              "    <path d=\"M18.56 5.44l.94 2.06.94-2.06 2.06-.94-2.06-.94-.94-2.06-.94 2.06-2.06.94zm-11 1L8.5 8.5l.94-2.06 2.06-.94-2.06-.94L8.5 2.5l-.94 2.06-2.06.94zm10 10l.94 2.06.94-2.06 2.06-.94-2.06-.94-.94-2.06-.94 2.06-2.06.94z\"/><path d=\"M17.41 7.96l-1.37-1.37c-.4-.4-.92-.59-1.43-.59-.52 0-1.04.2-1.43.59L10.3 9.45l-7.72 7.72c-.78.78-.78 2.05 0 2.83L4 21.41c.39.39.9.59 1.41.59.51 0 1.02-.2 1.41-.59l7.78-7.78 2.81-2.81c.8-.78.8-2.07 0-2.86zM5.41 20L4 18.59l7.72-7.72 1.47 1.35L5.41 20z\"/>\n",
              "  </svg>\n",
              "      </button>\n",
              "      \n",
              "  <style>\n",
              "    .colab-df-container {\n",
              "      display:flex;\n",
              "      flex-wrap:wrap;\n",
              "      gap: 12px;\n",
              "    }\n",
              "\n",
              "    .colab-df-convert {\n",
              "      background-color: #E8F0FE;\n",
              "      border: none;\n",
              "      border-radius: 50%;\n",
              "      cursor: pointer;\n",
              "      display: none;\n",
              "      fill: #1967D2;\n",
              "      height: 32px;\n",
              "      padding: 0 0 0 0;\n",
              "      width: 32px;\n",
              "    }\n",
              "\n",
              "    .colab-df-convert:hover {\n",
              "      background-color: #E2EBFA;\n",
              "      box-shadow: 0px 1px 2px rgba(60, 64, 67, 0.3), 0px 1px 3px 1px rgba(60, 64, 67, 0.15);\n",
              "      fill: #174EA6;\n",
              "    }\n",
              "\n",
              "    [theme=dark] .colab-df-convert {\n",
              "      background-color: #3B4455;\n",
              "      fill: #D2E3FC;\n",
              "    }\n",
              "\n",
              "    [theme=dark] .colab-df-convert:hover {\n",
              "      background-color: #434B5C;\n",
              "      box-shadow: 0px 1px 3px 1px rgba(0, 0, 0, 0.15);\n",
              "      filter: drop-shadow(0px 1px 2px rgba(0, 0, 0, 0.3));\n",
              "      fill: #FFFFFF;\n",
              "    }\n",
              "  </style>\n",
              "\n",
              "      <script>\n",
              "        const buttonEl =\n",
              "          document.querySelector('#df-b5ed2dfd-0950-40c8-938b-498b888bf013 button.colab-df-convert');\n",
              "        buttonEl.style.display =\n",
              "          google.colab.kernel.accessAllowed ? 'block' : 'none';\n",
              "\n",
              "        async function convertToInteractive(key) {\n",
              "          const element = document.querySelector('#df-b5ed2dfd-0950-40c8-938b-498b888bf013');\n",
              "          const dataTable =\n",
              "            await google.colab.kernel.invokeFunction('convertToInteractive',\n",
              "                                                     [key], {});\n",
              "          if (!dataTable) return;\n",
              "\n",
              "          const docLinkHtml = 'Like what you see? Visit the ' +\n",
              "            '<a target=\"_blank\" href=https://colab.research.google.com/notebooks/data_table.ipynb>data table notebook</a>'\n",
              "            + ' to learn more about interactive tables.';\n",
              "          element.innerHTML = '';\n",
              "          dataTable['output_type'] = 'display_data';\n",
              "          await google.colab.output.renderOutput(dataTable, element);\n",
              "          const docLink = document.createElement('div');\n",
              "          docLink.innerHTML = docLinkHtml;\n",
              "          element.appendChild(docLink);\n",
              "        }\n",
              "      </script>\n",
              "    </div>\n",
              "  </div>\n",
              "  "
            ]
          },
          "metadata": {},
          "execution_count": 21
        }
      ]
    },
    {
      "cell_type": "code",
      "source": [
        "item_features = pd.concat((genre_feature, content_feature, country_feature, release_year_feature))\n",
        "item_features[item_features['id'] == 10711]"
      ],
      "metadata": {
        "colab": {
          "base_uri": "https://localhost:8080/",
          "height": 269
        },
        "id": "DcG-KXbZhvcj",
        "outputId": "0c9ae376-d804-4a17-e439-5a63b189a3a6"
      },
      "execution_count": 22,
      "outputs": [
        {
          "output_type": "execute_result",
          "data": {
            "text/plain": [
              "      id       value        feature\n",
              "0  10711       драмы          genre\n",
              "0  10711  зарубежные          genre\n",
              "0  10711   детективы          genre\n",
              "0  10711   мелодрамы          genre\n",
              "0  10711        film   content_type\n",
              "0  10711     испания        country\n",
              "0  10711           1  binned_r_year"
            ],
            "text/html": [
              "\n",
              "  <div id=\"df-d69de37f-66a1-450c-9565-cf8701bc60a4\">\n",
              "    <div class=\"colab-df-container\">\n",
              "      <div>\n",
              "<style scoped>\n",
              "    .dataframe tbody tr th:only-of-type {\n",
              "        vertical-align: middle;\n",
              "    }\n",
              "\n",
              "    .dataframe tbody tr th {\n",
              "        vertical-align: top;\n",
              "    }\n",
              "\n",
              "    .dataframe thead th {\n",
              "        text-align: right;\n",
              "    }\n",
              "</style>\n",
              "<table border=\"1\" class=\"dataframe\">\n",
              "  <thead>\n",
              "    <tr style=\"text-align: right;\">\n",
              "      <th></th>\n",
              "      <th>id</th>\n",
              "      <th>value</th>\n",
              "      <th>feature</th>\n",
              "    </tr>\n",
              "  </thead>\n",
              "  <tbody>\n",
              "    <tr>\n",
              "      <th>0</th>\n",
              "      <td>10711</td>\n",
              "      <td>драмы</td>\n",
              "      <td>genre</td>\n",
              "    </tr>\n",
              "    <tr>\n",
              "      <th>0</th>\n",
              "      <td>10711</td>\n",
              "      <td>зарубежные</td>\n",
              "      <td>genre</td>\n",
              "    </tr>\n",
              "    <tr>\n",
              "      <th>0</th>\n",
              "      <td>10711</td>\n",
              "      <td>детективы</td>\n",
              "      <td>genre</td>\n",
              "    </tr>\n",
              "    <tr>\n",
              "      <th>0</th>\n",
              "      <td>10711</td>\n",
              "      <td>мелодрамы</td>\n",
              "      <td>genre</td>\n",
              "    </tr>\n",
              "    <tr>\n",
              "      <th>0</th>\n",
              "      <td>10711</td>\n",
              "      <td>film</td>\n",
              "      <td>content_type</td>\n",
              "    </tr>\n",
              "    <tr>\n",
              "      <th>0</th>\n",
              "      <td>10711</td>\n",
              "      <td>испания</td>\n",
              "      <td>country</td>\n",
              "    </tr>\n",
              "    <tr>\n",
              "      <th>0</th>\n",
              "      <td>10711</td>\n",
              "      <td>1</td>\n",
              "      <td>binned_r_year</td>\n",
              "    </tr>\n",
              "  </tbody>\n",
              "</table>\n",
              "</div>\n",
              "      <button class=\"colab-df-convert\" onclick=\"convertToInteractive('df-d69de37f-66a1-450c-9565-cf8701bc60a4')\"\n",
              "              title=\"Convert this dataframe to an interactive table.\"\n",
              "              style=\"display:none;\">\n",
              "        \n",
              "  <svg xmlns=\"http://www.w3.org/2000/svg\" height=\"24px\"viewBox=\"0 0 24 24\"\n",
              "       width=\"24px\">\n",
              "    <path d=\"M0 0h24v24H0V0z\" fill=\"none\"/>\n",
              "    <path d=\"M18.56 5.44l.94 2.06.94-2.06 2.06-.94-2.06-.94-.94-2.06-.94 2.06-2.06.94zm-11 1L8.5 8.5l.94-2.06 2.06-.94-2.06-.94L8.5 2.5l-.94 2.06-2.06.94zm10 10l.94 2.06.94-2.06 2.06-.94-2.06-.94-.94-2.06-.94 2.06-2.06.94z\"/><path d=\"M17.41 7.96l-1.37-1.37c-.4-.4-.92-.59-1.43-.59-.52 0-1.04.2-1.43.59L10.3 9.45l-7.72 7.72c-.78.78-.78 2.05 0 2.83L4 21.41c.39.39.9.59 1.41.59.51 0 1.02-.2 1.41-.59l7.78-7.78 2.81-2.81c.8-.78.8-2.07 0-2.86zM5.41 20L4 18.59l7.72-7.72 1.47 1.35L5.41 20z\"/>\n",
              "  </svg>\n",
              "      </button>\n",
              "      \n",
              "  <style>\n",
              "    .colab-df-container {\n",
              "      display:flex;\n",
              "      flex-wrap:wrap;\n",
              "      gap: 12px;\n",
              "    }\n",
              "\n",
              "    .colab-df-convert {\n",
              "      background-color: #E8F0FE;\n",
              "      border: none;\n",
              "      border-radius: 50%;\n",
              "      cursor: pointer;\n",
              "      display: none;\n",
              "      fill: #1967D2;\n",
              "      height: 32px;\n",
              "      padding: 0 0 0 0;\n",
              "      width: 32px;\n",
              "    }\n",
              "\n",
              "    .colab-df-convert:hover {\n",
              "      background-color: #E2EBFA;\n",
              "      box-shadow: 0px 1px 2px rgba(60, 64, 67, 0.3), 0px 1px 3px 1px rgba(60, 64, 67, 0.15);\n",
              "      fill: #174EA6;\n",
              "    }\n",
              "\n",
              "    [theme=dark] .colab-df-convert {\n",
              "      background-color: #3B4455;\n",
              "      fill: #D2E3FC;\n",
              "    }\n",
              "\n",
              "    [theme=dark] .colab-df-convert:hover {\n",
              "      background-color: #434B5C;\n",
              "      box-shadow: 0px 1px 3px 1px rgba(0, 0, 0, 0.15);\n",
              "      filter: drop-shadow(0px 1px 2px rgba(0, 0, 0, 0.3));\n",
              "      fill: #FFFFFF;\n",
              "    }\n",
              "  </style>\n",
              "\n",
              "      <script>\n",
              "        const buttonEl =\n",
              "          document.querySelector('#df-d69de37f-66a1-450c-9565-cf8701bc60a4 button.colab-df-convert');\n",
              "        buttonEl.style.display =\n",
              "          google.colab.kernel.accessAllowed ? 'block' : 'none';\n",
              "\n",
              "        async function convertToInteractive(key) {\n",
              "          const element = document.querySelector('#df-d69de37f-66a1-450c-9565-cf8701bc60a4');\n",
              "          const dataTable =\n",
              "            await google.colab.kernel.invokeFunction('convertToInteractive',\n",
              "                                                     [key], {});\n",
              "          if (!dataTable) return;\n",
              "\n",
              "          const docLinkHtml = 'Like what you see? Visit the ' +\n",
              "            '<a target=\"_blank\" href=https://colab.research.google.com/notebooks/data_table.ipynb>data table notebook</a>'\n",
              "            + ' to learn more about interactive tables.';\n",
              "          element.innerHTML = '';\n",
              "          dataTable['output_type'] = 'display_data';\n",
              "          await google.colab.output.renderOutput(dataTable, element);\n",
              "          const docLink = document.createElement('div');\n",
              "          docLink.innerHTML = docLinkHtml;\n",
              "          element.appendChild(docLink);\n",
              "        }\n",
              "      </script>\n",
              "    </div>\n",
              "  </div>\n",
              "  "
            ]
          },
          "metadata": {},
          "execution_count": 22
        }
      ]
    },
    {
      "cell_type": "markdown",
      "source": [
        "## Init dataset"
      ],
      "metadata": {
        "id": "EpuZB8iUh7_E"
      }
    },
    {
      "cell_type": "code",
      "source": [
        "dataset = Dataset.construct(\n",
        "    interactions_df=train,\n",
        "    user_features_df=user_features,\n",
        "    cat_user_features=[\"sex\", \"age\", \"income\"],\n",
        "    item_features_df=item_features,\n",
        "    cat_item_features=[\"genre\", \"country\", 'binned_r_year', 'content_type'],\n",
        ")"
      ],
      "metadata": {
        "id": "s3Q7f_ZOhvfs"
      },
      "execution_count": 23,
      "outputs": []
    },
    {
      "cell_type": "markdown",
      "source": [
        "## Models"
      ],
      "metadata": {
        "id": "gGK1tKDqc0z6"
      }
    },
    {
      "cell_type": "code",
      "source": [
        "def calc_map(reco):\n",
        "    global test, TEST_USERS, K_RECOS\n",
        "    if type(reco) != pd.core.frame.DataFrame:\n",
        "      reco_df = pd.DataFrame(\n",
        "          {\n",
        "              Columns.User: np.repeat(TEST_USERS, K_RECOS),\n",
        "              Columns.Item: np.array(reco).ravel(),\n",
        "              Columns.Rank: np.tile(np.arange(K_RECOS) + 1, len(TEST_USERS)),\n",
        "          }\n",
        "      )\n",
        "      metric = MAP(k=K_RECOS).calc(reco_df, test)\n",
        "    else:\n",
        "      metric = MAP(k=K_RECOS).calc(reco, test)\n",
        "    return metric"
      ],
      "metadata": {
        "id": "P09PlnsxyXPP"
      },
      "execution_count": 24,
      "outputs": []
    },
    {
      "cell_type": "markdown",
      "source": [
        "### ALS from HW 2"
      ],
      "metadata": {
        "id": "tLIPLT-jMF94"
      }
    },
    {
      "cell_type": "code",
      "source": [
        "model_obj = ImplicitALSWrapperModel(\n",
        "      model=AlternatingLeastSquares(\n",
        "        factors=128, \n",
        "        regularization=0.21,\n",
        "        random_state=SEED, \n",
        "      ),\n",
        "      fit_features_together=True,\n",
        "    )\n",
        "\n",
        "model_obj.fit(dataset)"
      ],
      "metadata": {
        "colab": {
          "base_uri": "https://localhost:8080/"
        },
        "id": "s6UfX_SWecJ5",
        "outputId": "f836894e-32ce-4cc4-f61c-fc3461896473"
      },
      "execution_count": 25,
      "outputs": [
        {
          "output_type": "stream",
          "name": "stderr",
          "text": [
            "WARNING:root:OpenBLAS detected. Its highly recommend to set the environment variable 'export OPENBLAS_NUM_THREADS=1' to disable its internal multithreading\n"
          ]
        },
        {
          "output_type": "execute_result",
          "data": {
            "text/plain": [
              "<rectools.models.implicit_als.ImplicitALSWrapperModel at 0x7f2436596190>"
            ]
          },
          "metadata": {},
          "execution_count": 25
        }
      ]
    },
    {
      "cell_type": "markdown",
      "source": [
        "### ANN"
      ],
      "metadata": {
        "id": "2LJ18p5otjQw"
      }
    },
    {
      "cell_type": "code",
      "source": [
        "def get_mapping(train_df, col):\n",
        "  inv_mapping = dict(enumerate(train_df[col].unique()))\n",
        "  mapping = {v: k for k, v in inv_mapping.items()}\n",
        "  return inv_mapping, mapping"
      ],
      "metadata": {
        "id": "b9fEZpwsy2Kf"
      },
      "execution_count": 26,
      "outputs": []
    },
    {
      "cell_type": "code",
      "source": [
        "users_inv_mapping, users_mapping = get_mapping(train, 'user_id')\n",
        "items_inv_mapping, items_mapping = get_mapping(train, 'item_id')"
      ],
      "metadata": {
        "id": "Z3HJx3DRy33u"
      },
      "execution_count": 27,
      "outputs": []
    },
    {
      "cell_type": "code",
      "source": [
        "users_factors = model_obj.model.user_factors\n",
        "items_factors = model_obj.model.item_factors"
      ],
      "metadata": {
        "id": "rwoDIEVu1_uT"
      },
      "execution_count": 28,
      "outputs": []
    },
    {
      "cell_type": "code",
      "source": [
        "%%time\n",
        "ann_index = hnswlib.Index(space=\"ip\", dim=model_obj.model.factors)\n",
        "ann_index.init_index(max_elements=items_factors.shape[0])"
      ],
      "metadata": {
        "colab": {
          "base_uri": "https://localhost:8080/"
        },
        "id": "jXXO0Ub-ti-o",
        "outputId": "aece2150-11c6-4990-a666-ed3c2c00d6bc"
      },
      "execution_count": null,
      "outputs": [
        {
          "output_type": "stream",
          "name": "stdout",
          "text": [
            "CPU times: user 1.12 ms, sys: 9 µs, total: 1.13 ms\n",
            "Wall time: 1.57 ms\n"
          ]
        }
      ]
    },
    {
      "cell_type": "code",
      "source": [
        "%%time\n",
        "ann_index.add_items(items_factors)"
      ],
      "metadata": {
        "colab": {
          "base_uri": "https://localhost:8080/"
        },
        "id": "sI57PkTPtjCB",
        "outputId": "bdd1f8f5-b631-4375-ef37-9f3d493ee58f"
      },
      "execution_count": null,
      "outputs": [
        {
          "output_type": "stream",
          "name": "stdout",
          "text": [
            "CPU times: user 5.44 s, sys: 19.5 ms, total: 5.46 s\n",
            "Wall time: 2.88 s\n"
          ]
        }
      ]
    },
    {
      "cell_type": "code",
      "source": [
        "TEST_USERS_INNER_IDS = [users_mapping[user_id] for user_id in TEST_USERS]"
      ],
      "metadata": {
        "id": "IU6Y3A8rzQuM"
      },
      "execution_count": null,
      "outputs": []
    },
    {
      "cell_type": "code",
      "source": [
        "%%time\n",
        "test_user_factors = users_factors[TEST_USERS_INNER_IDS]\n",
        "reco_ann, _ = ann_index.knn_query(test_user_factors, K_RECOS)"
      ],
      "metadata": {
        "id": "3xfX8pHixppe",
        "colab": {
          "base_uri": "https://localhost:8080/"
        },
        "outputId": "9c59ac19-2ce1-4056-9f16-b30805e14562"
      },
      "execution_count": null,
      "outputs": [
        {
          "output_type": "stream",
          "name": "stdout",
          "text": [
            "CPU times: user 5.69 s, sys: 7.99 ms, total: 5.7 s\n",
            "Wall time: 3.4 s\n"
          ]
        }
      ]
    },
    {
      "cell_type": "code",
      "source": [
        "reco_ann = np.array([np.array([items_inv_mapping[item_id] for item_id in reco]) for reco in reco_ann])"
      ],
      "metadata": {
        "id": "zETZgQIaziXC"
      },
      "execution_count": null,
      "outputs": []
    },
    {
      "cell_type": "code",
      "source": [
        "calc_map(reco_ann)"
      ],
      "metadata": {
        "colab": {
          "base_uri": "https://localhost:8080/"
        },
        "id": "NJSBKDoNx5iZ",
        "outputId": "0777b4b6-63a7-4e0e-fa03-ae66a3bf3e07"
      },
      "execution_count": null,
      "outputs": [
        {
          "output_type": "execute_result",
          "data": {
            "text/plain": [
              "0.058515543882168966"
            ]
          },
          "metadata": {},
          "execution_count": 56
        }
      ]
    },
    {
      "cell_type": "markdown",
      "source": [
        "#### Filter viewed"
      ],
      "metadata": {
        "id": "fV8iWVxc7hjt"
      }
    },
    {
      "cell_type": "code",
      "source": [
        "%%time\n",
        "test_user_factors = users_factors[TEST_USERS_INNER_IDS]\n",
        "reco_ann, _ = ann_index.knn_query(test_user_factors, K_RECOS + 60)"
      ],
      "metadata": {
        "colab": {
          "base_uri": "https://localhost:8080/"
        },
        "id": "ULsZFUEX7oJv",
        "outputId": "ba69ae36-c8f1-4095-e79b-ecf46e007b05"
      },
      "execution_count": null,
      "outputs": [
        {
          "output_type": "stream",
          "name": "stdout",
          "text": [
            "CPU times: user 26.4 s, sys: 41.6 ms, total: 26.4 s\n",
            "Wall time: 14.7 s\n"
          ]
        }
      ]
    },
    {
      "cell_type": "code",
      "source": [
        "reco_ann = np.array([np.array([items_inv_mapping[item_id] for item_id in reco]) for reco in reco_ann])"
      ],
      "metadata": {
        "id": "g6eOuu2Hz4tl"
      },
      "execution_count": null,
      "outputs": []
    },
    {
      "cell_type": "code",
      "source": [
        "def filter_viewed(recos):\n",
        "  if type(recos) != list:\n",
        "    recos = map(lambda x: x.tolist(), recos)\n",
        "\n",
        "  test_recs = pd.DataFrame(TEST_USERS.reshape(-1, 1), columns=['user_id'])\n",
        "  test_recs['item_id'] = pd.Series(recos)\n",
        "  test_recs = test_recs.explode('item_id')\n",
        "\n",
        "  viewed_items = train[train['user_id'].isin(TEST_USERS)]\n",
        "  viewed_recs = test_recs.merge(viewed_items[['user_id', 'item_id']], on=['user_id', 'item_id'], how='left', indicator=True)\n",
        "  new_recs = viewed_recs[viewed_recs['_merge'] != 'both']\n",
        "\n",
        "  new_recs['rank'] = new_recs.groupby('user_id').cumcount() + 1\n",
        "  new_recs = new_recs[new_recs['rank'] < 11]\n",
        "  new_recs = new_recs.drop('_merge', axis=1)\n",
        "  return new_recs"
      ],
      "metadata": {
        "id": "RRLDwvTJ_OiU"
      },
      "execution_count": null,
      "outputs": []
    },
    {
      "cell_type": "code",
      "source": [
        "new_recs = filter_viewed(reco_ann)\n",
        "new_recs.shape"
      ],
      "metadata": {
        "colab": {
          "base_uri": "https://localhost:8080/"
        },
        "id": "RaI7tfte7z5a",
        "outputId": "bd4082c6-261a-4afc-c145-a9b8e98746a5"
      },
      "execution_count": null,
      "outputs": [
        {
          "output_type": "execute_result",
          "data": {
            "text/plain": [
              "(1205190, 3)"
            ]
          },
          "metadata": {},
          "execution_count": 69
        }
      ]
    },
    {
      "cell_type": "code",
      "source": [
        "assert new_recs.groupby('user_id').count().min()['rank'] == 10"
      ],
      "metadata": {
        "id": "kuralyoO95wM"
      },
      "execution_count": null,
      "outputs": []
    },
    {
      "cell_type": "code",
      "source": [
        "calc_map(new_recs)"
      ],
      "metadata": {
        "colab": {
          "base_uri": "https://localhost:8080/"
        },
        "id": "H0ok5zlC1BQ2",
        "outputId": "f6f5dd64-7b30-48a9-8b2b-71ad8e18a226"
      },
      "execution_count": null,
      "outputs": [
        {
          "output_type": "execute_result",
          "data": {
            "text/plain": [
              "0.07891760605247324"
            ]
          },
          "metadata": {},
          "execution_count": 71
        }
      ]
    },
    {
      "cell_type": "markdown",
      "source": [
        "Metric is better than previous"
      ],
      "metadata": {
        "id": "ienCPMBQ-49b"
      }
    },
    {
      "cell_type": "markdown",
      "source": [
        "#### Tuning ANN index params"
      ],
      "metadata": {
        "id": "_xLX39Uo_BwZ"
      }
    },
    {
      "cell_type": "code",
      "source": [
        "def print_study_info(study):\n",
        "  print(\"Number of finished trials: \", len(study.trials))\n",
        "  print(\"Params: \")\n",
        "  for key, value in study.best_trial.params.items():\n",
        "      print(\"    {}: {}\".format(key, value))"
      ],
      "metadata": {
        "id": "mAyAssZcCNpv"
      },
      "execution_count": null,
      "outputs": []
    },
    {
      "cell_type": "code",
      "source": [
        "def objective_ANNModel(trial):\n",
        "    M = trial.suggest_int(\"M\", low=16, high=96, step=8)\n",
        "    ef_construction = trial.suggest_int(\"ef_construction\", low=180, high=280, step=20)\n",
        "\n",
        "    ann_index = hnswlib.Index(space=\"ip\", dim=model_obj.model.factors)\n",
        "    ann_index.init_index(max_elements=items_factors.shape[0], M=M, ef_construction=ef_construction)\n",
        "    ann_index.add_items(items_factors)\n",
        "    test_user_factors = users_factors[TEST_USERS_INNER_IDS]\n",
        "    reco_ann, _ = ann_index.knn_query(test_user_factors, K_RECOS + 60)\n",
        "    reco_ann = np.array([np.array([items_inv_mapping[item_id] for item_id in reco]) for reco in reco_ann])\n",
        "\n",
        "    new_recs = filter_viewed(reco_ann)\n",
        "    metric = calc_map(new_recs)\n",
        "\n",
        "    return metric"
      ],
      "metadata": {
        "id": "AdySfuiTBvg3"
      },
      "execution_count": null,
      "outputs": []
    },
    {
      "cell_type": "code",
      "source": [
        "%%time\n",
        "\n",
        "study = optuna.create_study(direction=\"maximize\")\n",
        "study.optimize(objective_ANNModel, n_trials=30)"
      ],
      "metadata": {
        "colab": {
          "base_uri": "https://localhost:8080/"
        },
        "id": "i8Pyd-Uv_HWU",
        "outputId": "e31a4165-22a8-477f-d5c6-62d8cb54eb8f"
      },
      "execution_count": null,
      "outputs": [
        {
          "output_type": "stream",
          "name": "stderr",
          "text": [
            "\u001b[32m[I 2022-12-11 15:36:35,132]\u001b[0m A new study created in memory with name: no-name-836c8aea-3539-4a13-848f-67225c347960\u001b[0m\n",
            "\u001b[32m[I 2022-12-11 15:37:22,299]\u001b[0m Trial 0 finished with value: 0.07969500003571876 and parameters: {'M': 56, 'ef_construction': 240}. Best is trial 0 with value: 0.07969500003571876.\u001b[0m\n",
            "\u001b[32m[I 2022-12-11 15:38:11,882]\u001b[0m Trial 1 finished with value: 0.07968010449367492 and parameters: {'M': 56, 'ef_construction': 200}. Best is trial 0 with value: 0.07969500003571876.\u001b[0m\n",
            "\u001b[32m[I 2022-12-11 15:38:59,388]\u001b[0m Trial 2 finished with value: 0.07970867943497817 and parameters: {'M': 48, 'ef_construction': 240}. Best is trial 2 with value: 0.07970867943497817.\u001b[0m\n",
            "\u001b[32m[I 2022-12-11 15:39:43,908]\u001b[0m Trial 3 finished with value: 0.0792486516614019 and parameters: {'M': 24, 'ef_construction': 260}. Best is trial 2 with value: 0.07970867943497817.\u001b[0m\n",
            "\u001b[32m[I 2022-12-11 15:40:32,884]\u001b[0m Trial 4 finished with value: 0.07970299837521762 and parameters: {'M': 80, 'ef_construction': 280}. Best is trial 2 with value: 0.07970867943497817.\u001b[0m\n",
            "\u001b[32m[I 2022-12-11 15:41:22,957]\u001b[0m Trial 5 finished with value: 0.0797009241217112 and parameters: {'M': 88, 'ef_construction': 280}. Best is trial 2 with value: 0.07970867943497817.\u001b[0m\n",
            "\u001b[32m[I 2022-12-11 15:42:10,162]\u001b[0m Trial 6 finished with value: 0.07970419820964005 and parameters: {'M': 64, 'ef_construction': 180}. Best is trial 2 with value: 0.07970867943497817.\u001b[0m\n",
            "\u001b[32m[I 2022-12-11 15:43:01,507]\u001b[0m Trial 7 finished with value: 0.07967615006526352 and parameters: {'M': 96, 'ef_construction': 220}. Best is trial 2 with value: 0.07970867943497817.\u001b[0m\n",
            "\u001b[32m[I 2022-12-11 15:43:57,930]\u001b[0m Trial 8 finished with value: 0.07969713478705959 and parameters: {'M': 88, 'ef_construction': 220}. Best is trial 2 with value: 0.07970867943497817.\u001b[0m\n",
            "\u001b[32m[I 2022-12-11 15:44:50,079]\u001b[0m Trial 9 finished with value: 0.07964991086572876 and parameters: {'M': 48, 'ef_construction': 200}. Best is trial 2 with value: 0.07970867943497817.\u001b[0m\n",
            "\u001b[32m[I 2022-12-11 15:45:39,095]\u001b[0m Trial 10 finished with value: 0.07923613874813144 and parameters: {'M': 24, 'ef_construction': 240}. Best is trial 2 with value: 0.07970867943497817.\u001b[0m\n",
            "\u001b[32m[I 2022-12-11 15:46:27,567]\u001b[0m Trial 11 finished with value: 0.07950589138360203 and parameters: {'M': 40, 'ef_construction': 180}. Best is trial 2 with value: 0.07970867943497817.\u001b[0m\n",
            "\u001b[32m[I 2022-12-11 15:47:17,977]\u001b[0m Trial 12 finished with value: 0.07970963212689294 and parameters: {'M': 72, 'ef_construction': 180}. Best is trial 12 with value: 0.07970963212689294.\u001b[0m\n",
            "\u001b[32m[I 2022-12-11 15:48:05,550]\u001b[0m Trial 13 finished with value: 0.07968339646970543 and parameters: {'M': 72, 'ef_construction': 260}. Best is trial 12 with value: 0.07970963212689294.\u001b[0m\n",
            "\u001b[32m[I 2022-12-11 15:48:52,012]\u001b[0m Trial 14 finished with value: 0.07950226899494421 and parameters: {'M': 40, 'ef_construction': 200}. Best is trial 12 with value: 0.07970963212689294.\u001b[0m\n",
            "\u001b[32m[I 2022-12-11 15:49:39,724]\u001b[0m Trial 15 finished with value: 0.07970584168144325 and parameters: {'M': 72, 'ef_construction': 240}. Best is trial 12 with value: 0.07970963212689294.\u001b[0m\n",
            "\u001b[32m[I 2022-12-11 15:50:26,375]\u001b[0m Trial 16 finished with value: 0.079451614357967 and parameters: {'M': 40, 'ef_construction': 260}. Best is trial 12 with value: 0.07970963212689294.\u001b[0m\n",
            "\u001b[32m[I 2022-12-11 15:51:14,818]\u001b[0m Trial 17 finished with value: 0.07970337711319041 and parameters: {'M': 64, 'ef_construction': 220}. Best is trial 12 with value: 0.07970963212689294.\u001b[0m\n",
            "\u001b[32m[I 2022-12-11 15:51:55,668]\u001b[0m Trial 18 finished with value: 0.07890418134461166 and parameters: {'M': 16, 'ef_construction': 180}. Best is trial 12 with value: 0.07970963212689294.\u001b[0m\n",
            "\u001b[32m[I 2022-12-11 15:52:44,015]\u001b[0m Trial 19 finished with value: 0.0797214154703177 and parameters: {'M': 72, 'ef_construction': 200}. Best is trial 19 with value: 0.0797214154703177.\u001b[0m\n",
            "\u001b[32m[I 2022-12-11 15:53:32,191]\u001b[0m Trial 20 finished with value: 0.07970083190196048 and parameters: {'M': 80, 'ef_construction': 200}. Best is trial 19 with value: 0.0797214154703177.\u001b[0m\n",
            "\u001b[32m[I 2022-12-11 15:54:19,105]\u001b[0m Trial 21 finished with value: 0.07970389089679279 and parameters: {'M': 64, 'ef_construction': 180}. Best is trial 19 with value: 0.0797214154703177.\u001b[0m\n",
            "\u001b[32m[I 2022-12-11 15:55:05,429]\u001b[0m Trial 22 finished with value: 0.0796776239596248 and parameters: {'M': 48, 'ef_construction': 200}. Best is trial 19 with value: 0.0797214154703177.\u001b[0m\n",
            "\u001b[32m[I 2022-12-11 15:55:53,417]\u001b[0m Trial 23 finished with value: 0.07970774895549226 and parameters: {'M': 72, 'ef_construction': 220}. Best is trial 19 with value: 0.0797214154703177.\u001b[0m\n",
            "\u001b[32m[I 2022-12-11 15:56:41,725]\u001b[0m Trial 24 finished with value: 0.07969161244231997 and parameters: {'M': 80, 'ef_construction': 180}. Best is trial 19 with value: 0.0797214154703177.\u001b[0m\n",
            "\u001b[32m[I 2022-12-11 15:57:30,480]\u001b[0m Trial 25 finished with value: 0.0796947986990585 and parameters: {'M': 56, 'ef_construction': 240}. Best is trial 19 with value: 0.0797214154703177.\u001b[0m\n",
            "\u001b[32m[I 2022-12-11 15:58:17,518]\u001b[0m Trial 26 finished with value: 0.07967337721739359 and parameters: {'M': 48, 'ef_construction': 200}. Best is trial 19 with value: 0.0797214154703177.\u001b[0m\n",
            "\u001b[32m[I 2022-12-11 15:59:06,468]\u001b[0m Trial 27 finished with value: 0.07968574609811106 and parameters: {'M': 96, 'ef_construction': 220}. Best is trial 19 with value: 0.0797214154703177.\u001b[0m\n",
            "\u001b[32m[I 2022-12-11 15:59:52,873]\u001b[0m Trial 28 finished with value: 0.07971411429540529 and parameters: {'M': 64, 'ef_construction': 180}. Best is trial 19 with value: 0.0797214154703177.\u001b[0m\n",
            "\u001b[32m[I 2022-12-11 16:00:39,407]\u001b[0m Trial 29 finished with value: 0.07970114363967071 and parameters: {'M': 64, 'ef_construction': 180}. Best is trial 19 with value: 0.0797214154703177.\u001b[0m\n"
          ]
        },
        {
          "output_type": "stream",
          "name": "stdout",
          "text": [
            "CPU times: user 33min 44s, sys: 13 s, total: 33min 57s\n",
            "Wall time: 24min 4s\n"
          ]
        }
      ]
    },
    {
      "cell_type": "code",
      "source": [
        "print_study_info(study)"
      ],
      "metadata": {
        "colab": {
          "base_uri": "https://localhost:8080/"
        },
        "id": "UiuhmhCoB-CS",
        "outputId": "0f03d126-2499-4c9e-943b-15cbf9b57c82"
      },
      "execution_count": null,
      "outputs": [
        {
          "output_type": "stream",
          "name": "stdout",
          "text": [
            "Number of finished trials:  30\n",
            "Params: \n",
            "    M: 72\n",
            "    ef_construction: 200\n"
          ]
        }
      ]
    },
    {
      "cell_type": "code",
      "source": [
        "study.best_value"
      ],
      "metadata": {
        "colab": {
          "base_uri": "https://localhost:8080/"
        },
        "id": "KrUtXrZ41MY3",
        "outputId": "6cb4e46e-1217-4ec0-e60b-0dacf597f13a"
      },
      "execution_count": null,
      "outputs": [
        {
          "output_type": "execute_result",
          "data": {
            "text/plain": [
              "0.0797214154703177"
            ]
          },
          "metadata": {},
          "execution_count": 76
        }
      ]
    },
    {
      "cell_type": "markdown",
      "source": [
        "#### Annoy"
      ],
      "metadata": {
        "id": "g9rKgUD_nmy5"
      }
    },
    {
      "cell_type": "code",
      "source": [
        "def augment_inner_product(factors):\n",
        "    normed_factors = np.linalg.norm(factors, axis=1)\n",
        "    max_norm = normed_factors.max()\n",
        "    \n",
        "    extra_dim = np.sqrt(max_norm ** 2 - normed_factors ** 2).reshape(-1, 1)\n",
        "    augmented_factors = np.append(factors, extra_dim, axis=1)\n",
        "    return max_norm, augmented_factors"
      ],
      "metadata": {
        "id": "Kl95ff-grJwO"
      },
      "execution_count": null,
      "outputs": []
    },
    {
      "cell_type": "code",
      "source": [
        "users_factors.shape, items_factors.shape"
      ],
      "metadata": {
        "colab": {
          "base_uri": "https://localhost:8080/"
        },
        "id": "IDQBwcHBrMDT",
        "outputId": "16b92be9-f75b-4b8f-a828-8b1f3ad8ab89"
      },
      "execution_count": null,
      "outputs": [
        {
          "output_type": "execute_result",
          "data": {
            "text/plain": [
              "((896791, 352), (15565, 352))"
            ]
          },
          "metadata": {},
          "execution_count": 78
        }
      ]
    },
    {
      "cell_type": "code",
      "source": [
        "max_norm, augmented_item_factors = augment_inner_product(items_factors)\n",
        "augmented_item_factors.shape"
      ],
      "metadata": {
        "colab": {
          "base_uri": "https://localhost:8080/"
        },
        "id": "H9GfopwerLKA",
        "outputId": "817c93da-7425-41f9-c5cc-7490147c78e0"
      },
      "execution_count": null,
      "outputs": [
        {
          "output_type": "execute_result",
          "data": {
            "text/plain": [
              "(15565, 353)"
            ]
          },
          "metadata": {},
          "execution_count": 79
        }
      ]
    },
    {
      "cell_type": "code",
      "source": [
        "extra_zero = np.zeros((users_factors.shape[0], 1))\n",
        "augmented_user_factors = np.append(users_factors, extra_zero, axis=1)\n",
        "augmented_user_factors.shape"
      ],
      "metadata": {
        "colab": {
          "base_uri": "https://localhost:8080/"
        },
        "id": "3hDmUFaArNZ_",
        "outputId": "949161c3-2621-46ce-a97e-e1ae6de043ea"
      },
      "execution_count": null,
      "outputs": [
        {
          "output_type": "execute_result",
          "data": {
            "text/plain": [
              "(896791, 353)"
            ]
          },
          "metadata": {},
          "execution_count": 80
        }
      ]
    },
    {
      "cell_type": "code",
      "source": [
        "def objective_ANN_Annoy_Model(trial):\n",
        "    n_trees = trial.suggest_int(\"M\", low=60, high=160, step=20)\n",
        "\n",
        "    index = AnnoyIndex(augmented_item_factors.shape[1], 'dot')\n",
        "    for i in range(len(augmented_item_factors)):\n",
        "        index.add_item(i, augmented_item_factors[i])\n",
        "    index.build(n_trees=n_trees)\n",
        "\n",
        "    nbrs = [index.get_nns_by_vector(query_matrix[i], 60) for i in range(len(query_matrix))]\n",
        "    reco_ann = np.array([np.array([items_inv_mapping[item_id] for item_id in reco]) for reco in nbrs])\n",
        "    new_recs = filter_viewed(reco_ann)\n",
        "    metric = calc_map(new_recs)\n",
        "\n",
        "    return metric"
      ],
      "metadata": {
        "id": "B_JsD49hw-Sr"
      },
      "execution_count": null,
      "outputs": []
    },
    {
      "cell_type": "code",
      "source": [
        "query_matrix = augmented_user_factors[TEST_USERS_INNER_IDS]"
      ],
      "metadata": {
        "id": "JU_vDCHy_HhR"
      },
      "execution_count": null,
      "outputs": []
    },
    {
      "cell_type": "code",
      "source": [
        "%%time\n",
        "\n",
        "study = optuna.create_study(direction=\"maximize\")\n",
        "study.optimize(objective_ANN_Annoy_Model, n_trials=10)"
      ],
      "metadata": {
        "colab": {
          "base_uri": "https://localhost:8080/"
        },
        "id": "93TIfmLdzdc1",
        "outputId": "27447147-40f6-4f58-99ca-ef8e6b460d80"
      },
      "execution_count": null,
      "outputs": [
        {
          "output_type": "stream",
          "name": "stderr",
          "text": [
            "\u001b[32m[I 2022-12-11 16:08:34,287]\u001b[0m A new study created in memory with name: no-name-6fcb0403-fa43-4eda-b3b3-95a14fd162b6\u001b[0m\n",
            "\u001b[32m[I 2022-12-11 16:10:38,505]\u001b[0m Trial 0 finished with value: 0.061505256519803715 and parameters: {'M': 120}. Best is trial 0 with value: 0.061505256519803715.\u001b[0m\n",
            "\u001b[32m[I 2022-12-11 16:11:53,931]\u001b[0m Trial 1 finished with value: 0.046737089485880096 and parameters: {'M': 60}. Best is trial 0 with value: 0.061505256519803715.\u001b[0m\n",
            "\u001b[32m[I 2022-12-11 16:13:04,702]\u001b[0m Trial 2 finished with value: 0.046737089485880096 and parameters: {'M': 60}. Best is trial 0 with value: 0.061505256519803715.\u001b[0m\n",
            "\u001b[32m[I 2022-12-11 16:15:20,775]\u001b[0m Trial 3 finished with value: 0.06436387383909478 and parameters: {'M': 140}. Best is trial 3 with value: 0.06436387383909478.\u001b[0m\n",
            "\u001b[32m[I 2022-12-11 16:16:50,967]\u001b[0m Trial 4 finished with value: 0.05269613371291527 and parameters: {'M': 80}. Best is trial 3 with value: 0.06436387383909478.\u001b[0m\n",
            "\u001b[32m[I 2022-12-11 16:18:36,091]\u001b[0m Trial 5 finished with value: 0.05881851178179901 and parameters: {'M': 100}. Best is trial 3 with value: 0.06436387383909478.\u001b[0m\n",
            "\u001b[32m[I 2022-12-11 16:20:34,352]\u001b[0m Trial 6 finished with value: 0.061505256519803715 and parameters: {'M': 120}. Best is trial 3 with value: 0.06436387383909478.\u001b[0m\n",
            "\u001b[32m[I 2022-12-11 16:22:20,112]\u001b[0m Trial 7 finished with value: 0.05881851178179901 and parameters: {'M': 100}. Best is trial 3 with value: 0.06436387383909478.\u001b[0m\n",
            "\u001b[32m[I 2022-12-11 16:24:51,941]\u001b[0m Trial 8 finished with value: 0.06583661886295324 and parameters: {'M': 160}. Best is trial 8 with value: 0.06583661886295324.\u001b[0m\n",
            "\u001b[32m[I 2022-12-11 16:27:09,453]\u001b[0m Trial 9 finished with value: 0.06436387383909478 and parameters: {'M': 140}. Best is trial 8 with value: 0.06583661886295324.\u001b[0m\n"
          ]
        },
        {
          "output_type": "stream",
          "name": "stdout",
          "text": [
            "CPU times: user 18min 47s, sys: 5.99 s, total: 18min 53s\n",
            "Wall time: 18min 35s\n"
          ]
        }
      ]
    },
    {
      "cell_type": "code",
      "source": [
        "print_study_info(study)"
      ],
      "metadata": {
        "colab": {
          "base_uri": "https://localhost:8080/"
        },
        "id": "YXs4H_U9zdgL",
        "outputId": "1d463cca-86ed-4285-e2ab-03998b33a145"
      },
      "execution_count": null,
      "outputs": [
        {
          "output_type": "stream",
          "name": "stdout",
          "text": [
            "Number of finished trials:  10\n",
            "Params: \n",
            "    M: 160\n"
          ]
        }
      ]
    },
    {
      "cell_type": "code",
      "source": [
        "study.best_value"
      ],
      "metadata": {
        "colab": {
          "base_uri": "https://localhost:8080/"
        },
        "id": "DvQzfeBH2vbb",
        "outputId": "1697a5d8-0c32-4ffd-bcf7-17746d66d8cf"
      },
      "execution_count": null,
      "outputs": [
        {
          "output_type": "execute_result",
          "data": {
            "text/plain": [
              "0.06583661886295324"
            ]
          },
          "metadata": {},
          "execution_count": 86
        }
      ]
    },
    {
      "cell_type": "markdown",
      "source": [
        "#### Best model"
      ],
      "metadata": {
        "id": "WXNLMqI66_9b"
      }
    },
    {
      "cell_type": "markdown",
      "source": [
        "The best model is hnswlib"
      ],
      "metadata": {
        "id": "9YWu54q42_MK"
      }
    },
    {
      "cell_type": "code",
      "source": [
        "def filter_viewed(recos, test_users):\n",
        "  if type(recos) != list:\n",
        "    recos = map(lambda x: x.tolist(), recos)\n",
        "\n",
        "  test_recs = pd.DataFrame(test_users.reshape(-1, 1), columns=['user_id'])\n",
        "  test_recs['item_id'] = pd.Series(recos)\n",
        "  test_recs = test_recs.explode('item_id')\n",
        "\n",
        "  viewed_items = train[train['user_id'].isin(test_users)]\n",
        "  viewed_recs = test_recs.merge(viewed_items[['user_id', 'item_id']], on=['user_id', 'item_id'], how='left', indicator=True)\n",
        "  new_recs = viewed_recs[viewed_recs['_merge'] != 'both']\n",
        "\n",
        "  new_recs['rank'] = new_recs.groupby('user_id').cumcount() + 1\n",
        "  new_recs = new_recs[new_recs['rank'] < 11]\n",
        "  new_recs = new_recs.drop('_merge', axis=1)\n",
        "  return new_recs"
      ],
      "metadata": {
        "id": "Wr0b5Ta6iKZa"
      },
      "execution_count": 30,
      "outputs": []
    },
    {
      "cell_type": "code",
      "source": [
        "recs = pd.DataFrame({'user_id': submission['user_id'].unique()})\n",
        "cold = recs[~recs['user_id'].isin(train.user_id)]\n",
        "warm = recs[recs['user_id'].isin(train.user_id)]"
      ],
      "metadata": {
        "id": "cDzFteGu2Pcj"
      },
      "execution_count": 29,
      "outputs": []
    },
    {
      "cell_type": "code",
      "source": [
        "ann_index = hnswlib.Index(space=\"ip\", dim=model_obj.model.factors)\n",
        "ann_index.init_index(max_elements=items_factors.shape[0], M=72, ef_construction=200)\n",
        "ann_index.add_items(items_factors)\n",
        "\n",
        "TEST_USERS_INNER_IDS = np.array([users_mapping[user_id] for user_id in warm['user_id'].unique()])\n",
        "test_user_factors = users_factors[TEST_USERS]\n",
        "reco_ann, _ = ann_index.knn_query(test_user_factors, K_RECOS + 60)\n",
        "reco_ann = np.array([np.array([items_inv_mapping[item_id] for item_id in reco]) for reco in reco_ann])\n",
        "new_recs = filter_viewed(reco_ann, warm['user_id'].unique())"
      ],
      "metadata": {
        "id": "mxnZxKDi3WPw"
      },
      "execution_count": 46,
      "outputs": []
    },
    {
      "cell_type": "markdown",
      "source": [
        "### Submit"
      ],
      "metadata": {
        "id": "EGJZEbc3zBXN"
      }
    },
    {
      "cell_type": "code",
      "source": [
        "cold_recs = [[9728, 10440, 15297, 13865, 14488, 12192, 12360, 341, 4151, 3734] for i in range(len(cold['user_id']))]\n",
        "cold_recs = pd.DataFrame(list(zip(cold['user_id'].values.tolist(), cold_recs)), columns=['user_id', 'item_id'])\n",
        "cold_recs.head()"
      ],
      "metadata": {
        "colab": {
          "base_uri": "https://localhost:8080/",
          "height": 206
        },
        "id": "7jIYwevO2-qN",
        "outputId": "809e2d20-4f22-4139-c004-06b9081193fe"
      },
      "execution_count": 32,
      "outputs": [
        {
          "output_type": "execute_result",
          "data": {
            "text/plain": [
              "   user_id                                            item_id\n",
              "0       29  [9728, 10440, 15297, 13865, 14488, 12192, 1236...\n",
              "1       33  [9728, 10440, 15297, 13865, 14488, 12192, 1236...\n",
              "2       39  [9728, 10440, 15297, 13865, 14488, 12192, 1236...\n",
              "3       70  [9728, 10440, 15297, 13865, 14488, 12192, 1236...\n",
              "4       74  [9728, 10440, 15297, 13865, 14488, 12192, 1236..."
            ],
            "text/html": [
              "\n",
              "  <div id=\"df-794a9931-aa17-420b-aaaa-b9a81c67601f\">\n",
              "    <div class=\"colab-df-container\">\n",
              "      <div>\n",
              "<style scoped>\n",
              "    .dataframe tbody tr th:only-of-type {\n",
              "        vertical-align: middle;\n",
              "    }\n",
              "\n",
              "    .dataframe tbody tr th {\n",
              "        vertical-align: top;\n",
              "    }\n",
              "\n",
              "    .dataframe thead th {\n",
              "        text-align: right;\n",
              "    }\n",
              "</style>\n",
              "<table border=\"1\" class=\"dataframe\">\n",
              "  <thead>\n",
              "    <tr style=\"text-align: right;\">\n",
              "      <th></th>\n",
              "      <th>user_id</th>\n",
              "      <th>item_id</th>\n",
              "    </tr>\n",
              "  </thead>\n",
              "  <tbody>\n",
              "    <tr>\n",
              "      <th>0</th>\n",
              "      <td>29</td>\n",
              "      <td>[9728, 10440, 15297, 13865, 14488, 12192, 1236...</td>\n",
              "    </tr>\n",
              "    <tr>\n",
              "      <th>1</th>\n",
              "      <td>33</td>\n",
              "      <td>[9728, 10440, 15297, 13865, 14488, 12192, 1236...</td>\n",
              "    </tr>\n",
              "    <tr>\n",
              "      <th>2</th>\n",
              "      <td>39</td>\n",
              "      <td>[9728, 10440, 15297, 13865, 14488, 12192, 1236...</td>\n",
              "    </tr>\n",
              "    <tr>\n",
              "      <th>3</th>\n",
              "      <td>70</td>\n",
              "      <td>[9728, 10440, 15297, 13865, 14488, 12192, 1236...</td>\n",
              "    </tr>\n",
              "    <tr>\n",
              "      <th>4</th>\n",
              "      <td>74</td>\n",
              "      <td>[9728, 10440, 15297, 13865, 14488, 12192, 1236...</td>\n",
              "    </tr>\n",
              "  </tbody>\n",
              "</table>\n",
              "</div>\n",
              "      <button class=\"colab-df-convert\" onclick=\"convertToInteractive('df-794a9931-aa17-420b-aaaa-b9a81c67601f')\"\n",
              "              title=\"Convert this dataframe to an interactive table.\"\n",
              "              style=\"display:none;\">\n",
              "        \n",
              "  <svg xmlns=\"http://www.w3.org/2000/svg\" height=\"24px\"viewBox=\"0 0 24 24\"\n",
              "       width=\"24px\">\n",
              "    <path d=\"M0 0h24v24H0V0z\" fill=\"none\"/>\n",
              "    <path d=\"M18.56 5.44l.94 2.06.94-2.06 2.06-.94-2.06-.94-.94-2.06-.94 2.06-2.06.94zm-11 1L8.5 8.5l.94-2.06 2.06-.94-2.06-.94L8.5 2.5l-.94 2.06-2.06.94zm10 10l.94 2.06.94-2.06 2.06-.94-2.06-.94-.94-2.06-.94 2.06-2.06.94z\"/><path d=\"M17.41 7.96l-1.37-1.37c-.4-.4-.92-.59-1.43-.59-.52 0-1.04.2-1.43.59L10.3 9.45l-7.72 7.72c-.78.78-.78 2.05 0 2.83L4 21.41c.39.39.9.59 1.41.59.51 0 1.02-.2 1.41-.59l7.78-7.78 2.81-2.81c.8-.78.8-2.07 0-2.86zM5.41 20L4 18.59l7.72-7.72 1.47 1.35L5.41 20z\"/>\n",
              "  </svg>\n",
              "      </button>\n",
              "      \n",
              "  <style>\n",
              "    .colab-df-container {\n",
              "      display:flex;\n",
              "      flex-wrap:wrap;\n",
              "      gap: 12px;\n",
              "    }\n",
              "\n",
              "    .colab-df-convert {\n",
              "      background-color: #E8F0FE;\n",
              "      border: none;\n",
              "      border-radius: 50%;\n",
              "      cursor: pointer;\n",
              "      display: none;\n",
              "      fill: #1967D2;\n",
              "      height: 32px;\n",
              "      padding: 0 0 0 0;\n",
              "      width: 32px;\n",
              "    }\n",
              "\n",
              "    .colab-df-convert:hover {\n",
              "      background-color: #E2EBFA;\n",
              "      box-shadow: 0px 1px 2px rgba(60, 64, 67, 0.3), 0px 1px 3px 1px rgba(60, 64, 67, 0.15);\n",
              "      fill: #174EA6;\n",
              "    }\n",
              "\n",
              "    [theme=dark] .colab-df-convert {\n",
              "      background-color: #3B4455;\n",
              "      fill: #D2E3FC;\n",
              "    }\n",
              "\n",
              "    [theme=dark] .colab-df-convert:hover {\n",
              "      background-color: #434B5C;\n",
              "      box-shadow: 0px 1px 3px 1px rgba(0, 0, 0, 0.15);\n",
              "      filter: drop-shadow(0px 1px 2px rgba(0, 0, 0, 0.3));\n",
              "      fill: #FFFFFF;\n",
              "    }\n",
              "  </style>\n",
              "\n",
              "      <script>\n",
              "        const buttonEl =\n",
              "          document.querySelector('#df-794a9931-aa17-420b-aaaa-b9a81c67601f button.colab-df-convert');\n",
              "        buttonEl.style.display =\n",
              "          google.colab.kernel.accessAllowed ? 'block' : 'none';\n",
              "\n",
              "        async function convertToInteractive(key) {\n",
              "          const element = document.querySelector('#df-794a9931-aa17-420b-aaaa-b9a81c67601f');\n",
              "          const dataTable =\n",
              "            await google.colab.kernel.invokeFunction('convertToInteractive',\n",
              "                                                     [key], {});\n",
              "          if (!dataTable) return;\n",
              "\n",
              "          const docLinkHtml = 'Like what you see? Visit the ' +\n",
              "            '<a target=\"_blank\" href=https://colab.research.google.com/notebooks/data_table.ipynb>data table notebook</a>'\n",
              "            + ' to learn more about interactive tables.';\n",
              "          element.innerHTML = '';\n",
              "          dataTable['output_type'] = 'display_data';\n",
              "          await google.colab.output.renderOutput(dataTable, element);\n",
              "          const docLink = document.createElement('div');\n",
              "          docLink.innerHTML = docLinkHtml;\n",
              "          element.appendChild(docLink);\n",
              "        }\n",
              "      </script>\n",
              "    </div>\n",
              "  </div>\n",
              "  "
            ]
          },
          "metadata": {},
          "execution_count": 32
        }
      ]
    },
    {
      "cell_type": "code",
      "source": [
        "recos = new_recs.drop(['rank'], axis=1).groupby('user_id').agg({'item_id': list}).reset_index()\n",
        "recos.head()"
      ],
      "metadata": {
        "colab": {
          "base_uri": "https://localhost:8080/",
          "height": 206
        },
        "id": "Cewlik1r2-uS",
        "outputId": "864d3cfc-b6b8-4e0d-cedc-b43eb20af2f1"
      },
      "execution_count": 47,
      "outputs": [
        {
          "output_type": "execute_result",
          "data": {
            "text/plain": [
              "   user_id                                            item_id\n",
              "0        3  [15297, 13865, 9996, 8636, 6809, 4740, 4495, 7...\n",
              "1       11  [10440, 13865, 9728, 4151, 142, 3734, 2657, 99...\n",
              "2       30  [15297, 10440, 4151, 13865, 2657, 3734, 142, 9...\n",
              "3       46  [15297, 9728, 4151, 13865, 3734, 2657, 6809, 9...\n",
              "4       47  [9728, 10440, 15297, 4151, 3734, 8636, 11237, ..."
            ],
            "text/html": [
              "\n",
              "  <div id=\"df-26f4fff1-b816-4dcf-9170-8b2f7e37d00a\">\n",
              "    <div class=\"colab-df-container\">\n",
              "      <div>\n",
              "<style scoped>\n",
              "    .dataframe tbody tr th:only-of-type {\n",
              "        vertical-align: middle;\n",
              "    }\n",
              "\n",
              "    .dataframe tbody tr th {\n",
              "        vertical-align: top;\n",
              "    }\n",
              "\n",
              "    .dataframe thead th {\n",
              "        text-align: right;\n",
              "    }\n",
              "</style>\n",
              "<table border=\"1\" class=\"dataframe\">\n",
              "  <thead>\n",
              "    <tr style=\"text-align: right;\">\n",
              "      <th></th>\n",
              "      <th>user_id</th>\n",
              "      <th>item_id</th>\n",
              "    </tr>\n",
              "  </thead>\n",
              "  <tbody>\n",
              "    <tr>\n",
              "      <th>0</th>\n",
              "      <td>3</td>\n",
              "      <td>[15297, 13865, 9996, 8636, 6809, 4740, 4495, 7...</td>\n",
              "    </tr>\n",
              "    <tr>\n",
              "      <th>1</th>\n",
              "      <td>11</td>\n",
              "      <td>[10440, 13865, 9728, 4151, 142, 3734, 2657, 99...</td>\n",
              "    </tr>\n",
              "    <tr>\n",
              "      <th>2</th>\n",
              "      <td>30</td>\n",
              "      <td>[15297, 10440, 4151, 13865, 2657, 3734, 142, 9...</td>\n",
              "    </tr>\n",
              "    <tr>\n",
              "      <th>3</th>\n",
              "      <td>46</td>\n",
              "      <td>[15297, 9728, 4151, 13865, 3734, 2657, 6809, 9...</td>\n",
              "    </tr>\n",
              "    <tr>\n",
              "      <th>4</th>\n",
              "      <td>47</td>\n",
              "      <td>[9728, 10440, 15297, 4151, 3734, 8636, 11237, ...</td>\n",
              "    </tr>\n",
              "  </tbody>\n",
              "</table>\n",
              "</div>\n",
              "      <button class=\"colab-df-convert\" onclick=\"convertToInteractive('df-26f4fff1-b816-4dcf-9170-8b2f7e37d00a')\"\n",
              "              title=\"Convert this dataframe to an interactive table.\"\n",
              "              style=\"display:none;\">\n",
              "        \n",
              "  <svg xmlns=\"http://www.w3.org/2000/svg\" height=\"24px\"viewBox=\"0 0 24 24\"\n",
              "       width=\"24px\">\n",
              "    <path d=\"M0 0h24v24H0V0z\" fill=\"none\"/>\n",
              "    <path d=\"M18.56 5.44l.94 2.06.94-2.06 2.06-.94-2.06-.94-.94-2.06-.94 2.06-2.06.94zm-11 1L8.5 8.5l.94-2.06 2.06-.94-2.06-.94L8.5 2.5l-.94 2.06-2.06.94zm10 10l.94 2.06.94-2.06 2.06-.94-2.06-.94-.94-2.06-.94 2.06-2.06.94z\"/><path d=\"M17.41 7.96l-1.37-1.37c-.4-.4-.92-.59-1.43-.59-.52 0-1.04.2-1.43.59L10.3 9.45l-7.72 7.72c-.78.78-.78 2.05 0 2.83L4 21.41c.39.39.9.59 1.41.59.51 0 1.02-.2 1.41-.59l7.78-7.78 2.81-2.81c.8-.78.8-2.07 0-2.86zM5.41 20L4 18.59l7.72-7.72 1.47 1.35L5.41 20z\"/>\n",
              "  </svg>\n",
              "      </button>\n",
              "      \n",
              "  <style>\n",
              "    .colab-df-container {\n",
              "      display:flex;\n",
              "      flex-wrap:wrap;\n",
              "      gap: 12px;\n",
              "    }\n",
              "\n",
              "    .colab-df-convert {\n",
              "      background-color: #E8F0FE;\n",
              "      border: none;\n",
              "      border-radius: 50%;\n",
              "      cursor: pointer;\n",
              "      display: none;\n",
              "      fill: #1967D2;\n",
              "      height: 32px;\n",
              "      padding: 0 0 0 0;\n",
              "      width: 32px;\n",
              "    }\n",
              "\n",
              "    .colab-df-convert:hover {\n",
              "      background-color: #E2EBFA;\n",
              "      box-shadow: 0px 1px 2px rgba(60, 64, 67, 0.3), 0px 1px 3px 1px rgba(60, 64, 67, 0.15);\n",
              "      fill: #174EA6;\n",
              "    }\n",
              "\n",
              "    [theme=dark] .colab-df-convert {\n",
              "      background-color: #3B4455;\n",
              "      fill: #D2E3FC;\n",
              "    }\n",
              "\n",
              "    [theme=dark] .colab-df-convert:hover {\n",
              "      background-color: #434B5C;\n",
              "      box-shadow: 0px 1px 3px 1px rgba(0, 0, 0, 0.15);\n",
              "      filter: drop-shadow(0px 1px 2px rgba(0, 0, 0, 0.3));\n",
              "      fill: #FFFFFF;\n",
              "    }\n",
              "  </style>\n",
              "\n",
              "      <script>\n",
              "        const buttonEl =\n",
              "          document.querySelector('#df-26f4fff1-b816-4dcf-9170-8b2f7e37d00a button.colab-df-convert');\n",
              "        buttonEl.style.display =\n",
              "          google.colab.kernel.accessAllowed ? 'block' : 'none';\n",
              "\n",
              "        async function convertToInteractive(key) {\n",
              "          const element = document.querySelector('#df-26f4fff1-b816-4dcf-9170-8b2f7e37d00a');\n",
              "          const dataTable =\n",
              "            await google.colab.kernel.invokeFunction('convertToInteractive',\n",
              "                                                     [key], {});\n",
              "          if (!dataTable) return;\n",
              "\n",
              "          const docLinkHtml = 'Like what you see? Visit the ' +\n",
              "            '<a target=\"_blank\" href=https://colab.research.google.com/notebooks/data_table.ipynb>data table notebook</a>'\n",
              "            + ' to learn more about interactive tables.';\n",
              "          element.innerHTML = '';\n",
              "          dataTable['output_type'] = 'display_data';\n",
              "          await google.colab.output.renderOutput(dataTable, element);\n",
              "          const docLink = document.createElement('div');\n",
              "          docLink.innerHTML = docLinkHtml;\n",
              "          element.appendChild(docLink);\n",
              "        }\n",
              "      </script>\n",
              "    </div>\n",
              "  </div>\n",
              "  "
            ]
          },
          "metadata": {},
          "execution_count": 47
        }
      ]
    },
    {
      "cell_type": "code",
      "source": [
        "res = pd.concat((cold_recs, recos))\n",
        "res.shape"
      ],
      "metadata": {
        "colab": {
          "base_uri": "https://localhost:8080/"
        },
        "id": "KYmso_m5NvfS",
        "outputId": "d066221c-dfd1-4d49-8582-c0929b4601e8"
      },
      "execution_count": 48,
      "outputs": [
        {
          "output_type": "execute_result",
          "data": {
            "text/plain": [
              "(193113, 2)"
            ]
          },
          "metadata": {},
          "execution_count": 48
        }
      ]
    },
    {
      "cell_type": "code",
      "source": [
        "res = pd.concat((cold_recs, recos))\n",
        "assert res.shape[0] == submission.shape[0]\n",
        "res.to_csv('ann.csv', index=False)"
      ],
      "metadata": {
        "id": "x0YRnXt22-yX"
      },
      "execution_count": 50,
      "outputs": []
    },
    {
      "cell_type": "markdown",
      "source": [
        "![image.png](data:image/png;base64,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)![image.png](data:image/png;base64,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)"
      ],
      "metadata": {
        "id": "CHpVgrEd8dJa"
      }
    },
    {
      "cell_type": "code",
      "source": [],
      "metadata": {
        "id": "0Mijwx288PBf"
      },
      "execution_count": null,
      "outputs": []
    }
  ]
}