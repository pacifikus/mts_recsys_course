{
  "nbformat": 4,
  "nbformat_minor": 0,
  "metadata": {
    "colab": {
      "provenance": []
    },
    "kernelspec": {
      "name": "python3",
      "display_name": "Python 3"
    },
    "language_info": {
      "name": "python"
    },
    "widgets": {
      "application/vnd.jupyter.widget-state+json": {
        "41452927e9904d74a4a58caae73d46d9": {
          "model_module": "@jupyter-widgets/controls",
          "model_name": "HBoxModel",
          "model_module_version": "1.5.0",
          "state": {
            "_dom_classes": [],
            "_model_module": "@jupyter-widgets/controls",
            "_model_module_version": "1.5.0",
            "_model_name": "HBoxModel",
            "_view_count": null,
            "_view_module": "@jupyter-widgets/controls",
            "_view_module_version": "1.5.0",
            "_view_name": "HBoxView",
            "box_style": "",
            "children": [
              "IPY_MODEL_5d9019b87d2446069087293e12f53dc7",
              "IPY_MODEL_40a3a6d962e54f7391a79c7d788a1bf8",
              "IPY_MODEL_b9ab1fc60c464f1ba03347040863f274"
            ],
            "layout": "IPY_MODEL_9d09d56666484dbeabb1bc9cb7a0060e"
          }
        },
        "5d9019b87d2446069087293e12f53dc7": {
          "model_module": "@jupyter-widgets/controls",
          "model_name": "HTMLModel",
          "model_module_version": "1.5.0",
          "state": {
            "_dom_classes": [],
            "_model_module": "@jupyter-widgets/controls",
            "_model_module_version": "1.5.0",
            "_model_name": "HTMLModel",
            "_view_count": null,
            "_view_module": "@jupyter-widgets/controls",
            "_view_module_version": "1.5.0",
            "_view_name": "HTMLView",
            "description": "",
            "description_tooltip": null,
            "layout": "IPY_MODEL_abe44085286f46fab241b6656da17c3d",
            "placeholder": "​",
            "style": "IPY_MODEL_5e944be434b14c628b9d62730c58ac86",
            "value": "kion dataset download: 100%"
          }
        },
        "40a3a6d962e54f7391a79c7d788a1bf8": {
          "model_module": "@jupyter-widgets/controls",
          "model_name": "FloatProgressModel",
          "model_module_version": "1.5.0",
          "state": {
            "_dom_classes": [],
            "_model_module": "@jupyter-widgets/controls",
            "_model_module_version": "1.5.0",
            "_model_name": "FloatProgressModel",
            "_view_count": null,
            "_view_module": "@jupyter-widgets/controls",
            "_view_module_version": "1.5.0",
            "_view_name": "ProgressView",
            "bar_style": "",
            "description": "",
            "description_tooltip": null,
            "layout": "IPY_MODEL_a5829f48f5e949f9919b0d5e0669dd66",
            "max": 78795385,
            "min": 0,
            "orientation": "horizontal",
            "style": "IPY_MODEL_50889c4c2e93422c8f4a3831fb1dd46f",
            "value": 78795385
          }
        },
        "b9ab1fc60c464f1ba03347040863f274": {
          "model_module": "@jupyter-widgets/controls",
          "model_name": "HTMLModel",
          "model_module_version": "1.5.0",
          "state": {
            "_dom_classes": [],
            "_model_module": "@jupyter-widgets/controls",
            "_model_module_version": "1.5.0",
            "_model_name": "HTMLModel",
            "_view_count": null,
            "_view_module": "@jupyter-widgets/controls",
            "_view_module_version": "1.5.0",
            "_view_name": "HTMLView",
            "description": "",
            "description_tooltip": null,
            "layout": "IPY_MODEL_d1ed16ddc2fb40a7931b563eb8494dcb",
            "placeholder": "​",
            "style": "IPY_MODEL_14085af61bb347609ec2e76bfda2e3c5",
            "value": " 78.8M/78.8M [00:19&lt;00:00, 21.0MiB/s]"
          }
        },
        "9d09d56666484dbeabb1bc9cb7a0060e": {
          "model_module": "@jupyter-widgets/base",
          "model_name": "LayoutModel",
          "model_module_version": "1.2.0",
          "state": {
            "_model_module": "@jupyter-widgets/base",
            "_model_module_version": "1.2.0",
            "_model_name": "LayoutModel",
            "_view_count": null,
            "_view_module": "@jupyter-widgets/base",
            "_view_module_version": "1.2.0",
            "_view_name": "LayoutView",
            "align_content": null,
            "align_items": null,
            "align_self": null,
            "border": null,
            "bottom": null,
            "display": null,
            "flex": null,
            "flex_flow": null,
            "grid_area": null,
            "grid_auto_columns": null,
            "grid_auto_flow": null,
            "grid_auto_rows": null,
            "grid_column": null,
            "grid_gap": null,
            "grid_row": null,
            "grid_template_areas": null,
            "grid_template_columns": null,
            "grid_template_rows": null,
            "height": null,
            "justify_content": null,
            "justify_items": null,
            "left": null,
            "margin": null,
            "max_height": null,
            "max_width": null,
            "min_height": null,
            "min_width": null,
            "object_fit": null,
            "object_position": null,
            "order": null,
            "overflow": null,
            "overflow_x": null,
            "overflow_y": null,
            "padding": null,
            "right": null,
            "top": null,
            "visibility": null,
            "width": null
          }
        },
        "abe44085286f46fab241b6656da17c3d": {
          "model_module": "@jupyter-widgets/base",
          "model_name": "LayoutModel",
          "model_module_version": "1.2.0",
          "state": {
            "_model_module": "@jupyter-widgets/base",
            "_model_module_version": "1.2.0",
            "_model_name": "LayoutModel",
            "_view_count": null,
            "_view_module": "@jupyter-widgets/base",
            "_view_module_version": "1.2.0",
            "_view_name": "LayoutView",
            "align_content": null,
            "align_items": null,
            "align_self": null,
            "border": null,
            "bottom": null,
            "display": null,
            "flex": null,
            "flex_flow": null,
            "grid_area": null,
            "grid_auto_columns": null,
            "grid_auto_flow": null,
            "grid_auto_rows": null,
            "grid_column": null,
            "grid_gap": null,
            "grid_row": null,
            "grid_template_areas": null,
            "grid_template_columns": null,
            "grid_template_rows": null,
            "height": null,
            "justify_content": null,
            "justify_items": null,
            "left": null,
            "margin": null,
            "max_height": null,
            "max_width": null,
            "min_height": null,
            "min_width": null,
            "object_fit": null,
            "object_position": null,
            "order": null,
            "overflow": null,
            "overflow_x": null,
            "overflow_y": null,
            "padding": null,
            "right": null,
            "top": null,
            "visibility": null,
            "width": null
          }
        },
        "5e944be434b14c628b9d62730c58ac86": {
          "model_module": "@jupyter-widgets/controls",
          "model_name": "DescriptionStyleModel",
          "model_module_version": "1.5.0",
          "state": {
            "_model_module": "@jupyter-widgets/controls",
            "_model_module_version": "1.5.0",
            "_model_name": "DescriptionStyleModel",
            "_view_count": null,
            "_view_module": "@jupyter-widgets/base",
            "_view_module_version": "1.2.0",
            "_view_name": "StyleView",
            "description_width": ""
          }
        },
        "a5829f48f5e949f9919b0d5e0669dd66": {
          "model_module": "@jupyter-widgets/base",
          "model_name": "LayoutModel",
          "model_module_version": "1.2.0",
          "state": {
            "_model_module": "@jupyter-widgets/base",
            "_model_module_version": "1.2.0",
            "_model_name": "LayoutModel",
            "_view_count": null,
            "_view_module": "@jupyter-widgets/base",
            "_view_module_version": "1.2.0",
            "_view_name": "LayoutView",
            "align_content": null,
            "align_items": null,
            "align_self": null,
            "border": null,
            "bottom": null,
            "display": null,
            "flex": null,
            "flex_flow": null,
            "grid_area": null,
            "grid_auto_columns": null,
            "grid_auto_flow": null,
            "grid_auto_rows": null,
            "grid_column": null,
            "grid_gap": null,
            "grid_row": null,
            "grid_template_areas": null,
            "grid_template_columns": null,
            "grid_template_rows": null,
            "height": null,
            "justify_content": null,
            "justify_items": null,
            "left": null,
            "margin": null,
            "max_height": null,
            "max_width": null,
            "min_height": null,
            "min_width": null,
            "object_fit": null,
            "object_position": null,
            "order": null,
            "overflow": null,
            "overflow_x": null,
            "overflow_y": null,
            "padding": null,
            "right": null,
            "top": null,
            "visibility": null,
            "width": null
          }
        },
        "50889c4c2e93422c8f4a3831fb1dd46f": {
          "model_module": "@jupyter-widgets/controls",
          "model_name": "ProgressStyleModel",
          "model_module_version": "1.5.0",
          "state": {
            "_model_module": "@jupyter-widgets/controls",
            "_model_module_version": "1.5.0",
            "_model_name": "ProgressStyleModel",
            "_view_count": null,
            "_view_module": "@jupyter-widgets/base",
            "_view_module_version": "1.2.0",
            "_view_name": "StyleView",
            "bar_color": null,
            "description_width": ""
          }
        },
        "d1ed16ddc2fb40a7931b563eb8494dcb": {
          "model_module": "@jupyter-widgets/base",
          "model_name": "LayoutModel",
          "model_module_version": "1.2.0",
          "state": {
            "_model_module": "@jupyter-widgets/base",
            "_model_module_version": "1.2.0",
            "_model_name": "LayoutModel",
            "_view_count": null,
            "_view_module": "@jupyter-widgets/base",
            "_view_module_version": "1.2.0",
            "_view_name": "LayoutView",
            "align_content": null,
            "align_items": null,
            "align_self": null,
            "border": null,
            "bottom": null,
            "display": null,
            "flex": null,
            "flex_flow": null,
            "grid_area": null,
            "grid_auto_columns": null,
            "grid_auto_flow": null,
            "grid_auto_rows": null,
            "grid_column": null,
            "grid_gap": null,
            "grid_row": null,
            "grid_template_areas": null,
            "grid_template_columns": null,
            "grid_template_rows": null,
            "height": null,
            "justify_content": null,
            "justify_items": null,
            "left": null,
            "margin": null,
            "max_height": null,
            "max_width": null,
            "min_height": null,
            "min_width": null,
            "object_fit": null,
            "object_position": null,
            "order": null,
            "overflow": null,
            "overflow_x": null,
            "overflow_y": null,
            "padding": null,
            "right": null,
            "top": null,
            "visibility": null,
            "width": null
          }
        },
        "14085af61bb347609ec2e76bfda2e3c5": {
          "model_module": "@jupyter-widgets/controls",
          "model_name": "DescriptionStyleModel",
          "model_module_version": "1.5.0",
          "state": {
            "_model_module": "@jupyter-widgets/controls",
            "_model_module_version": "1.5.0",
            "_model_name": "DescriptionStyleModel",
            "_view_count": null,
            "_view_module": "@jupyter-widgets/base",
            "_view_module_version": "1.2.0",
            "_view_name": "StyleView",
            "description_width": ""
          }
        },
        "bc7877859af34dc0b85b0b170c8f425a": {
          "model_module": "@jupyter-widgets/controls",
          "model_name": "HBoxModel",
          "model_module_version": "1.5.0",
          "state": {
            "_dom_classes": [],
            "_model_module": "@jupyter-widgets/controls",
            "_model_module_version": "1.5.0",
            "_model_name": "HBoxModel",
            "_view_count": null,
            "_view_module": "@jupyter-widgets/controls",
            "_view_module_version": "1.5.0",
            "_view_name": "HBoxView",
            "box_style": "",
            "children": [
              "IPY_MODEL_308737fbe2154c1cafdd90d672625870",
              "IPY_MODEL_e2d00eb11e4047fc961107eed08d822c",
              "IPY_MODEL_c856d068fa144f778950e2dba85f4815"
            ],
            "layout": "IPY_MODEL_4c53a8be22f94a5f8e12918cff52a116"
          }
        },
        "308737fbe2154c1cafdd90d672625870": {
          "model_module": "@jupyter-widgets/controls",
          "model_name": "HTMLModel",
          "model_module_version": "1.5.0",
          "state": {
            "_dom_classes": [],
            "_model_module": "@jupyter-widgets/controls",
            "_model_module_version": "1.5.0",
            "_model_name": "HTMLModel",
            "_view_count": null,
            "_view_module": "@jupyter-widgets/controls",
            "_view_module_version": "1.5.0",
            "_view_name": "HTMLView",
            "description": "",
            "description_tooltip": null,
            "layout": "IPY_MODEL_a4ae7d28aae4463e9bd78eb1ff8ba0ac",
            "placeholder": "​",
            "style": "IPY_MODEL_4eaf890273aa48b988f7ca229fd5b671",
            "value": "100%"
          }
        },
        "e2d00eb11e4047fc961107eed08d822c": {
          "model_module": "@jupyter-widgets/controls",
          "model_name": "FloatProgressModel",
          "model_module_version": "1.5.0",
          "state": {
            "_dom_classes": [],
            "_model_module": "@jupyter-widgets/controls",
            "_model_module_version": "1.5.0",
            "_model_name": "FloatProgressModel",
            "_view_count": null,
            "_view_module": "@jupyter-widgets/controls",
            "_view_module_version": "1.5.0",
            "_view_name": "ProgressView",
            "bar_style": "success",
            "description": "",
            "description_tooltip": null,
            "layout": "IPY_MODEL_896e93ed9ed9491b847e060824517040",
            "max": 10,
            "min": 0,
            "orientation": "horizontal",
            "style": "IPY_MODEL_714c9c6d8a12417a90e79bdd2dfaeb82",
            "value": 10
          }
        },
        "c856d068fa144f778950e2dba85f4815": {
          "model_module": "@jupyter-widgets/controls",
          "model_name": "HTMLModel",
          "model_module_version": "1.5.0",
          "state": {
            "_dom_classes": [],
            "_model_module": "@jupyter-widgets/controls",
            "_model_module_version": "1.5.0",
            "_model_name": "HTMLModel",
            "_view_count": null,
            "_view_module": "@jupyter-widgets/controls",
            "_view_module_version": "1.5.0",
            "_view_name": "HTMLView",
            "description": "",
            "description_tooltip": null,
            "layout": "IPY_MODEL_69ea90a55f2442308e6af6c7c9c41591",
            "placeholder": "​",
            "style": "IPY_MODEL_8763edc58e744e79863e33a0870ba244",
            "value": " 10/10 [00:04&lt;00:00,  2.29it/s]"
          }
        },
        "4c53a8be22f94a5f8e12918cff52a116": {
          "model_module": "@jupyter-widgets/base",
          "model_name": "LayoutModel",
          "model_module_version": "1.2.0",
          "state": {
            "_model_module": "@jupyter-widgets/base",
            "_model_module_version": "1.2.0",
            "_model_name": "LayoutModel",
            "_view_count": null,
            "_view_module": "@jupyter-widgets/base",
            "_view_module_version": "1.2.0",
            "_view_name": "LayoutView",
            "align_content": null,
            "align_items": null,
            "align_self": null,
            "border": null,
            "bottom": null,
            "display": null,
            "flex": null,
            "flex_flow": null,
            "grid_area": null,
            "grid_auto_columns": null,
            "grid_auto_flow": null,
            "grid_auto_rows": null,
            "grid_column": null,
            "grid_gap": null,
            "grid_row": null,
            "grid_template_areas": null,
            "grid_template_columns": null,
            "grid_template_rows": null,
            "height": null,
            "justify_content": null,
            "justify_items": null,
            "left": null,
            "margin": null,
            "max_height": null,
            "max_width": null,
            "min_height": null,
            "min_width": null,
            "object_fit": null,
            "object_position": null,
            "order": null,
            "overflow": null,
            "overflow_x": null,
            "overflow_y": null,
            "padding": null,
            "right": null,
            "top": null,
            "visibility": null,
            "width": null
          }
        },
        "a4ae7d28aae4463e9bd78eb1ff8ba0ac": {
          "model_module": "@jupyter-widgets/base",
          "model_name": "LayoutModel",
          "model_module_version": "1.2.0",
          "state": {
            "_model_module": "@jupyter-widgets/base",
            "_model_module_version": "1.2.0",
            "_model_name": "LayoutModel",
            "_view_count": null,
            "_view_module": "@jupyter-widgets/base",
            "_view_module_version": "1.2.0",
            "_view_name": "LayoutView",
            "align_content": null,
            "align_items": null,
            "align_self": null,
            "border": null,
            "bottom": null,
            "display": null,
            "flex": null,
            "flex_flow": null,
            "grid_area": null,
            "grid_auto_columns": null,
            "grid_auto_flow": null,
            "grid_auto_rows": null,
            "grid_column": null,
            "grid_gap": null,
            "grid_row": null,
            "grid_template_areas": null,
            "grid_template_columns": null,
            "grid_template_rows": null,
            "height": null,
            "justify_content": null,
            "justify_items": null,
            "left": null,
            "margin": null,
            "max_height": null,
            "max_width": null,
            "min_height": null,
            "min_width": null,
            "object_fit": null,
            "object_position": null,
            "order": null,
            "overflow": null,
            "overflow_x": null,
            "overflow_y": null,
            "padding": null,
            "right": null,
            "top": null,
            "visibility": null,
            "width": null
          }
        },
        "4eaf890273aa48b988f7ca229fd5b671": {
          "model_module": "@jupyter-widgets/controls",
          "model_name": "DescriptionStyleModel",
          "model_module_version": "1.5.0",
          "state": {
            "_model_module": "@jupyter-widgets/controls",
            "_model_module_version": "1.5.0",
            "_model_name": "DescriptionStyleModel",
            "_view_count": null,
            "_view_module": "@jupyter-widgets/base",
            "_view_module_version": "1.2.0",
            "_view_name": "StyleView",
            "description_width": ""
          }
        },
        "896e93ed9ed9491b847e060824517040": {
          "model_module": "@jupyter-widgets/base",
          "model_name": "LayoutModel",
          "model_module_version": "1.2.0",
          "state": {
            "_model_module": "@jupyter-widgets/base",
            "_model_module_version": "1.2.0",
            "_model_name": "LayoutModel",
            "_view_count": null,
            "_view_module": "@jupyter-widgets/base",
            "_view_module_version": "1.2.0",
            "_view_name": "LayoutView",
            "align_content": null,
            "align_items": null,
            "align_self": null,
            "border": null,
            "bottom": null,
            "display": null,
            "flex": null,
            "flex_flow": null,
            "grid_area": null,
            "grid_auto_columns": null,
            "grid_auto_flow": null,
            "grid_auto_rows": null,
            "grid_column": null,
            "grid_gap": null,
            "grid_row": null,
            "grid_template_areas": null,
            "grid_template_columns": null,
            "grid_template_rows": null,
            "height": null,
            "justify_content": null,
            "justify_items": null,
            "left": null,
            "margin": null,
            "max_height": null,
            "max_width": null,
            "min_height": null,
            "min_width": null,
            "object_fit": null,
            "object_position": null,
            "order": null,
            "overflow": null,
            "overflow_x": null,
            "overflow_y": null,
            "padding": null,
            "right": null,
            "top": null,
            "visibility": null,
            "width": null
          }
        },
        "714c9c6d8a12417a90e79bdd2dfaeb82": {
          "model_module": "@jupyter-widgets/controls",
          "model_name": "ProgressStyleModel",
          "model_module_version": "1.5.0",
          "state": {
            "_model_module": "@jupyter-widgets/controls",
            "_model_module_version": "1.5.0",
            "_model_name": "ProgressStyleModel",
            "_view_count": null,
            "_view_module": "@jupyter-widgets/base",
            "_view_module_version": "1.2.0",
            "_view_name": "StyleView",
            "bar_color": null,
            "description_width": ""
          }
        },
        "69ea90a55f2442308e6af6c7c9c41591": {
          "model_module": "@jupyter-widgets/base",
          "model_name": "LayoutModel",
          "model_module_version": "1.2.0",
          "state": {
            "_model_module": "@jupyter-widgets/base",
            "_model_module_version": "1.2.0",
            "_model_name": "LayoutModel",
            "_view_count": null,
            "_view_module": "@jupyter-widgets/base",
            "_view_module_version": "1.2.0",
            "_view_name": "LayoutView",
            "align_content": null,
            "align_items": null,
            "align_self": null,
            "border": null,
            "bottom": null,
            "display": null,
            "flex": null,
            "flex_flow": null,
            "grid_area": null,
            "grid_auto_columns": null,
            "grid_auto_flow": null,
            "grid_auto_rows": null,
            "grid_column": null,
            "grid_gap": null,
            "grid_row": null,
            "grid_template_areas": null,
            "grid_template_columns": null,
            "grid_template_rows": null,
            "height": null,
            "justify_content": null,
            "justify_items": null,
            "left": null,
            "margin": null,
            "max_height": null,
            "max_width": null,
            "min_height": null,
            "min_width": null,
            "object_fit": null,
            "object_position": null,
            "order": null,
            "overflow": null,
            "overflow_x": null,
            "overflow_y": null,
            "padding": null,
            "right": null,
            "top": null,
            "visibility": null,
            "width": null
          }
        },
        "8763edc58e744e79863e33a0870ba244": {
          "model_module": "@jupyter-widgets/controls",
          "model_name": "DescriptionStyleModel",
          "model_module_version": "1.5.0",
          "state": {
            "_model_module": "@jupyter-widgets/controls",
            "_model_module_version": "1.5.0",
            "_model_name": "DescriptionStyleModel",
            "_view_count": null,
            "_view_module": "@jupyter-widgets/base",
            "_view_module_version": "1.2.0",
            "_view_name": "StyleView",
            "description_width": ""
          }
        }
      }
    },
    "accelerator": "GPU",
    "gpuClass": "standard"
  },
  "cells": [
    {
      "cell_type": "code",
      "source": [
        "#!pip install rectools hnswlib optuna annoy > None"
      ],
      "metadata": {
        "id": "EAlcIV_FO84O"
      },
      "execution_count": 45,
      "outputs": []
    },
    {
      "cell_type": "code",
      "execution_count": 99,
      "metadata": {
        "id": "q9Mds7geOmRB"
      },
      "outputs": [],
      "source": [
        "import os\n",
        "\n",
        "import pandas as pd\n",
        "import numpy as np\n",
        "from scipy import sparse\n",
        "\n",
        "import requests\n",
        "from tqdm.auto import tqdm\n",
        "\n",
        "from rectools.metrics import MAP\n",
        "from rectools import Columns\n",
        "from lightfm import LightFM\n",
        "\n",
        "import implicit\n",
        "from implicit.als import AlternatingLeastSquares\n",
        "\n",
        "import optuna\n",
        "import hnswlib\n",
        "from annoy import AnnoyIndex"
      ]
    },
    {
      "cell_type": "code",
      "source": [
        "import warnings\n",
        "warnings.filterwarnings('ignore')"
      ],
      "metadata": {
        "id": "YvnTCJAcOpUm"
      },
      "execution_count": 47,
      "outputs": []
    },
    {
      "cell_type": "code",
      "source": [
        "SEED = 2022\n",
        "K_RECOS = 10"
      ],
      "metadata": {
        "id": "uJ2lbYdEQBSZ"
      },
      "execution_count": 48,
      "outputs": []
    },
    {
      "cell_type": "markdown",
      "source": [
        "## Get data"
      ],
      "metadata": {
        "id": "_3cGeZXMPEwR"
      }
    },
    {
      "cell_type": "code",
      "source": [
        "submission = pd.read_csv('sample_submission.csv')\n",
        "submission.head()"
      ],
      "metadata": {
        "colab": {
          "base_uri": "https://localhost:8080/",
          "height": 206
        },
        "id": "RPLBlwBLu3KY",
        "outputId": "5c675184-917a-45f7-ba04-f0b7eb38a793"
      },
      "execution_count": 49,
      "outputs": [
        {
          "output_type": "execute_result",
          "data": {
            "text/plain": [
              "   user_id                                            item_id\n",
              "0        3  [9728, 15297, 10440, 14488, 13865, 12192, 341,...\n",
              "1       11  [9728, 15297, 10440, 14488, 13865, 12192, 341,...\n",
              "2       29  [9728, 15297, 10440, 14488, 13865, 12192, 341,...\n",
              "3       30  [9728, 15297, 10440, 14488, 13865, 12192, 341,...\n",
              "4       33  [9728, 15297, 10440, 14488, 13865, 12192, 341,..."
            ],
            "text/html": [
              "\n",
              "  <div id=\"df-21c631bf-8563-4e6f-8119-56facc32b907\">\n",
              "    <div class=\"colab-df-container\">\n",
              "      <div>\n",
              "<style scoped>\n",
              "    .dataframe tbody tr th:only-of-type {\n",
              "        vertical-align: middle;\n",
              "    }\n",
              "\n",
              "    .dataframe tbody tr th {\n",
              "        vertical-align: top;\n",
              "    }\n",
              "\n",
              "    .dataframe thead th {\n",
              "        text-align: right;\n",
              "    }\n",
              "</style>\n",
              "<table border=\"1\" class=\"dataframe\">\n",
              "  <thead>\n",
              "    <tr style=\"text-align: right;\">\n",
              "      <th></th>\n",
              "      <th>user_id</th>\n",
              "      <th>item_id</th>\n",
              "    </tr>\n",
              "  </thead>\n",
              "  <tbody>\n",
              "    <tr>\n",
              "      <th>0</th>\n",
              "      <td>3</td>\n",
              "      <td>[9728, 15297, 10440, 14488, 13865, 12192, 341,...</td>\n",
              "    </tr>\n",
              "    <tr>\n",
              "      <th>1</th>\n",
              "      <td>11</td>\n",
              "      <td>[9728, 15297, 10440, 14488, 13865, 12192, 341,...</td>\n",
              "    </tr>\n",
              "    <tr>\n",
              "      <th>2</th>\n",
              "      <td>29</td>\n",
              "      <td>[9728, 15297, 10440, 14488, 13865, 12192, 341,...</td>\n",
              "    </tr>\n",
              "    <tr>\n",
              "      <th>3</th>\n",
              "      <td>30</td>\n",
              "      <td>[9728, 15297, 10440, 14488, 13865, 12192, 341,...</td>\n",
              "    </tr>\n",
              "    <tr>\n",
              "      <th>4</th>\n",
              "      <td>33</td>\n",
              "      <td>[9728, 15297, 10440, 14488, 13865, 12192, 341,...</td>\n",
              "    </tr>\n",
              "  </tbody>\n",
              "</table>\n",
              "</div>\n",
              "      <button class=\"colab-df-convert\" onclick=\"convertToInteractive('df-21c631bf-8563-4e6f-8119-56facc32b907')\"\n",
              "              title=\"Convert this dataframe to an interactive table.\"\n",
              "              style=\"display:none;\">\n",
              "        \n",
              "  <svg xmlns=\"http://www.w3.org/2000/svg\" height=\"24px\"viewBox=\"0 0 24 24\"\n",
              "       width=\"24px\">\n",
              "    <path d=\"M0 0h24v24H0V0z\" fill=\"none\"/>\n",
              "    <path d=\"M18.56 5.44l.94 2.06.94-2.06 2.06-.94-2.06-.94-.94-2.06-.94 2.06-2.06.94zm-11 1L8.5 8.5l.94-2.06 2.06-.94-2.06-.94L8.5 2.5l-.94 2.06-2.06.94zm10 10l.94 2.06.94-2.06 2.06-.94-2.06-.94-.94-2.06-.94 2.06-2.06.94z\"/><path d=\"M17.41 7.96l-1.37-1.37c-.4-.4-.92-.59-1.43-.59-.52 0-1.04.2-1.43.59L10.3 9.45l-7.72 7.72c-.78.78-.78 2.05 0 2.83L4 21.41c.39.39.9.59 1.41.59.51 0 1.02-.2 1.41-.59l7.78-7.78 2.81-2.81c.8-.78.8-2.07 0-2.86zM5.41 20L4 18.59l7.72-7.72 1.47 1.35L5.41 20z\"/>\n",
              "  </svg>\n",
              "      </button>\n",
              "      \n",
              "  <style>\n",
              "    .colab-df-container {\n",
              "      display:flex;\n",
              "      flex-wrap:wrap;\n",
              "      gap: 12px;\n",
              "    }\n",
              "\n",
              "    .colab-df-convert {\n",
              "      background-color: #E8F0FE;\n",
              "      border: none;\n",
              "      border-radius: 50%;\n",
              "      cursor: pointer;\n",
              "      display: none;\n",
              "      fill: #1967D2;\n",
              "      height: 32px;\n",
              "      padding: 0 0 0 0;\n",
              "      width: 32px;\n",
              "    }\n",
              "\n",
              "    .colab-df-convert:hover {\n",
              "      background-color: #E2EBFA;\n",
              "      box-shadow: 0px 1px 2px rgba(60, 64, 67, 0.3), 0px 1px 3px 1px rgba(60, 64, 67, 0.15);\n",
              "      fill: #174EA6;\n",
              "    }\n",
              "\n",
              "    [theme=dark] .colab-df-convert {\n",
              "      background-color: #3B4455;\n",
              "      fill: #D2E3FC;\n",
              "    }\n",
              "\n",
              "    [theme=dark] .colab-df-convert:hover {\n",
              "      background-color: #434B5C;\n",
              "      box-shadow: 0px 1px 3px 1px rgba(0, 0, 0, 0.15);\n",
              "      filter: drop-shadow(0px 1px 2px rgba(0, 0, 0, 0.3));\n",
              "      fill: #FFFFFF;\n",
              "    }\n",
              "  </style>\n",
              "\n",
              "      <script>\n",
              "        const buttonEl =\n",
              "          document.querySelector('#df-21c631bf-8563-4e6f-8119-56facc32b907 button.colab-df-convert');\n",
              "        buttonEl.style.display =\n",
              "          google.colab.kernel.accessAllowed ? 'block' : 'none';\n",
              "\n",
              "        async function convertToInteractive(key) {\n",
              "          const element = document.querySelector('#df-21c631bf-8563-4e6f-8119-56facc32b907');\n",
              "          const dataTable =\n",
              "            await google.colab.kernel.invokeFunction('convertToInteractive',\n",
              "                                                     [key], {});\n",
              "          if (!dataTable) return;\n",
              "\n",
              "          const docLinkHtml = 'Like what you see? Visit the ' +\n",
              "            '<a target=\"_blank\" href=https://colab.research.google.com/notebooks/data_table.ipynb>data table notebook</a>'\n",
              "            + ' to learn more about interactive tables.';\n",
              "          element.innerHTML = '';\n",
              "          dataTable['output_type'] = 'display_data';\n",
              "          await google.colab.output.renderOutput(dataTable, element);\n",
              "          const docLink = document.createElement('div');\n",
              "          docLink.innerHTML = docLinkHtml;\n",
              "          element.appendChild(docLink);\n",
              "        }\n",
              "      </script>\n",
              "    </div>\n",
              "  </div>\n",
              "  "
            ]
          },
          "metadata": {},
          "execution_count": 49
        }
      ]
    },
    {
      "cell_type": "code",
      "source": [
        "url = \"https://storage.yandexcloud.net/itmo-recsys-public-data/kion_train.zip\"\n",
        "\n",
        "req = requests.get(url, stream=True)\n",
        "\n",
        "with open('kion.zip', \"wb\") as fd:\n",
        "    total_size_in_bytes = int(req.headers.get('Content-Length', 0))\n",
        "    progress_bar = tqdm(desc='kion dataset download', total=total_size_in_bytes, unit='iB', unit_scale=True)\n",
        "    for chunk in req.iter_content(chunk_size=2 ** 20):\n",
        "        progress_bar.update(len(chunk))\n",
        "        fd.write(chunk)"
      ],
      "metadata": {
        "colab": {
          "base_uri": "https://localhost:8080/",
          "height": 49,
          "referenced_widgets": [
            "41452927e9904d74a4a58caae73d46d9",
            "5d9019b87d2446069087293e12f53dc7",
            "40a3a6d962e54f7391a79c7d788a1bf8",
            "b9ab1fc60c464f1ba03347040863f274",
            "9d09d56666484dbeabb1bc9cb7a0060e",
            "abe44085286f46fab241b6656da17c3d",
            "5e944be434b14c628b9d62730c58ac86",
            "a5829f48f5e949f9919b0d5e0669dd66",
            "50889c4c2e93422c8f4a3831fb1dd46f",
            "d1ed16ddc2fb40a7931b563eb8494dcb",
            "14085af61bb347609ec2e76bfda2e3c5"
          ]
        },
        "id": "5m3dQA2mOpZ1",
        "outputId": "2485246c-f862-46bb-a31c-ffae5051e977"
      },
      "execution_count": 50,
      "outputs": [
        {
          "output_type": "display_data",
          "data": {
            "text/plain": [
              "kion dataset download:   0%|          | 0.00/78.8M [00:00<?, ?iB/s]"
            ],
            "application/vnd.jupyter.widget-view+json": {
              "version_major": 2,
              "version_minor": 0,
              "model_id": "41452927e9904d74a4a58caae73d46d9"
            }
          },
          "metadata": {}
        }
      ]
    },
    {
      "cell_type": "code",
      "source": [
        "#!unzip kion.zip"
      ],
      "metadata": {
        "id": "x8DMHc67Opd6"
      },
      "execution_count": 51,
      "outputs": []
    },
    {
      "cell_type": "code",
      "source": [
        "def load_data():\n",
        "  interactions = pd.read_csv('kion_train/interactions.csv')\n",
        "  users = pd.read_csv('kion_train/users.csv')\n",
        "  items = pd.read_csv('kion_train/items.csv')\n",
        "  interactions.rename(\n",
        "    columns={\n",
        "        'last_watch_dt': 'datetime',\n",
        "        'total_dur': 'weight',\n",
        "    },\n",
        "    inplace=True,\n",
        "  )\n",
        "\n",
        "  interactions['datetime'] = pd.to_datetime(interactions['datetime'])\n",
        "  interactions[Columns.Weight] = np.where(interactions['watched_pct'] > 10, 3, 1)\n",
        "  return interactions, users, items"
      ],
      "metadata": {
        "id": "K475YGTlOpjv"
      },
      "execution_count": 52,
      "outputs": []
    },
    {
      "cell_type": "code",
      "source": [
        "interactions, users, items = load_data()\n",
        "last_date = interactions['datetime'].max().normalize()\n",
        "\n",
        "train = interactions[interactions[Columns.Datetime] < last_date - pd.Timedelta(days=7)].copy()\n",
        "test = interactions[interactions[Columns.Datetime] >= last_date - pd.Timedelta(days=7)].copy()\n",
        "\n",
        "print(f\"train: {train.shape}\")\n",
        "print(f\"test: {test.shape}\")"
      ],
      "metadata": {
        "colab": {
          "base_uri": "https://localhost:8080/"
        },
        "id": "V8kgith6Opo3",
        "outputId": "2be2e164-324f-42eb-8469-10c89f15bcf2"
      },
      "execution_count": 53,
      "outputs": [
        {
          "output_type": "stream",
          "name": "stdout",
          "text": [
            "train: (4985269, 5)\n",
            "test: (490982, 5)\n"
          ]
        }
      ]
    },
    {
      "cell_type": "code",
      "source": [
        "cold_users = set(test[Columns.User]) - set(train[Columns.User])"
      ],
      "metadata": {
        "id": "WgA8Vp7TP-sz"
      },
      "execution_count": 54,
      "outputs": []
    },
    {
      "cell_type": "code",
      "source": [
        "test.drop(test[test[Columns.User].isin(cold_users)].index, inplace=True)"
      ],
      "metadata": {
        "id": "Ou6EWevAPyXB"
      },
      "execution_count": 55,
      "outputs": []
    },
    {
      "cell_type": "code",
      "source": [
        "TEST_USERS = test[Columns.User].unique()"
      ],
      "metadata": {
        "id": "Li5MAiRDLJzY"
      },
      "execution_count": 56,
      "outputs": []
    },
    {
      "cell_type": "markdown",
      "source": [
        "## Models"
      ],
      "metadata": {
        "id": "gGK1tKDqc0z6"
      }
    },
    {
      "cell_type": "code",
      "source": [
        "def calc_map(reco):\n",
        "    global test, TEST_USERS, K_RECOS\n",
        "    if type(reco) != pd.core.frame.DataFrame:\n",
        "      reco_df = pd.DataFrame(\n",
        "          {\n",
        "              Columns.User: np.repeat(TEST_USERS, K_RECOS),\n",
        "              Columns.Item: np.array(reco).ravel(),\n",
        "              Columns.Rank: np.tile(np.arange(K_RECOS) + 1, len(TEST_USERS)),\n",
        "          }\n",
        "      )\n",
        "      metric = MAP(k=K_RECOS).calc(reco_df, test)\n",
        "    else:\n",
        "      metric = MAP(k=K_RECOS).calc(reco, test)\n",
        "    return metric"
      ],
      "metadata": {
        "id": "P09PlnsxyXPP"
      },
      "execution_count": 57,
      "outputs": []
    },
    {
      "cell_type": "markdown",
      "source": [
        "### ALS"
      ],
      "metadata": {
        "id": "tLIPLT-jMF94"
      }
    },
    {
      "cell_type": "code",
      "source": [
        "ui_csr = sparse.csr_matrix(\n",
        "    (\n",
        "        np.ones(len(train), dtype=np.float32),\n",
        "        (\n",
        "            train[\"user_id\"].values,\n",
        "            train[\"item_id\"].values,\n",
        "        ),\n",
        "    ),\n",
        ")"
      ],
      "metadata": {
        "id": "khHutcbs0rAn"
      },
      "execution_count": 58,
      "outputs": []
    },
    {
      "cell_type": "code",
      "source": [
        "iu_csr = ui_csr.T.tocsr(copy=False)  # В версии implicit==0.4.4 матрицу нужно транспонировать"
      ],
      "metadata": {
        "id": "MMnv_IWA00Pb"
      },
      "execution_count": 59,
      "outputs": []
    },
    {
      "cell_type": "code",
      "source": [
        "%%time\n",
        "model = AlternatingLeastSquares(factors=32, iterations=10, num_threads=12)  # Если есть GPU, можно на нем\n",
        "model.fit(iu_csr, show_progress=True)"
      ],
      "metadata": {
        "colab": {
          "base_uri": "https://localhost:8080/",
          "height": 84,
          "referenced_widgets": [
            "bc7877859af34dc0b85b0b170c8f425a",
            "308737fbe2154c1cafdd90d672625870",
            "e2d00eb11e4047fc961107eed08d822c",
            "c856d068fa144f778950e2dba85f4815",
            "4c53a8be22f94a5f8e12918cff52a116",
            "a4ae7d28aae4463e9bd78eb1ff8ba0ac",
            "4eaf890273aa48b988f7ca229fd5b671",
            "896e93ed9ed9491b847e060824517040",
            "714c9c6d8a12417a90e79bdd2dfaeb82",
            "69ea90a55f2442308e6af6c7c9c41591",
            "8763edc58e744e79863e33a0870ba244"
          ]
        },
        "id": "AmcKuy6-00MZ",
        "outputId": "01677aa0-5cc6-4567-c6d1-a3ac1e190e49"
      },
      "execution_count": 60,
      "outputs": [
        {
          "output_type": "display_data",
          "data": {
            "text/plain": [
              "  0%|          | 0/10 [00:00<?, ?it/s]"
            ],
            "application/vnd.jupyter.widget-view+json": {
              "version_major": 2,
              "version_minor": 0,
              "model_id": "bc7877859af34dc0b85b0b170c8f425a"
            }
          },
          "metadata": {}
        },
        {
          "output_type": "stream",
          "name": "stdout",
          "text": [
            "CPU times: user 5.28 s, sys: 27.9 ms, total: 5.3 s\n",
            "Wall time: 5.32 s\n"
          ]
        }
      ]
    },
    {
      "cell_type": "markdown",
      "source": [
        "### ANN"
      ],
      "metadata": {
        "id": "2LJ18p5otjQw"
      }
    },
    {
      "cell_type": "code",
      "source": [
        "users_factors = model.user_factors\n",
        "items_factors = model.item_factors"
      ],
      "metadata": {
        "id": "rwoDIEVu1_uT"
      },
      "execution_count": 61,
      "outputs": []
    },
    {
      "cell_type": "code",
      "source": [
        "%%time\n",
        "ann_index = hnswlib.Index(space=\"ip\", dim=model.factors)\n",
        "ann_index.init_index(max_elements=items_factors.shape[0])"
      ],
      "metadata": {
        "colab": {
          "base_uri": "https://localhost:8080/"
        },
        "id": "jXXO0Ub-ti-o",
        "outputId": "185ab559-04c6-4395-8e97-935568adcd4e"
      },
      "execution_count": 62,
      "outputs": [
        {
          "output_type": "stream",
          "name": "stdout",
          "text": [
            "CPU times: user 5 µs, sys: 982 µs, total: 987 µs\n",
            "Wall time: 1.13 ms\n"
          ]
        }
      ]
    },
    {
      "cell_type": "code",
      "source": [
        "%%time\n",
        "ann_index.add_items(items_factors)"
      ],
      "metadata": {
        "colab": {
          "base_uri": "https://localhost:8080/"
        },
        "id": "sI57PkTPtjCB",
        "outputId": "fef1c320-a313-42dc-b551-a4a1a1693bf6"
      },
      "execution_count": 63,
      "outputs": [
        {
          "output_type": "stream",
          "name": "stdout",
          "text": [
            "CPU times: user 2.29 s, sys: 48.6 ms, total: 2.34 s\n",
            "Wall time: 1.31 s\n"
          ]
        }
      ]
    },
    {
      "cell_type": "code",
      "source": [
        "%%time\n",
        "test_user_factors = users_factors[TEST_USERS]\n",
        "reco_ann, _ = ann_index.knn_query(test_user_factors, K_RECOS)"
      ],
      "metadata": {
        "id": "3xfX8pHixppe",
        "colab": {
          "base_uri": "https://localhost:8080/"
        },
        "outputId": "a2c5030e-d51a-4049-971f-282560cd560e"
      },
      "execution_count": 64,
      "outputs": [
        {
          "output_type": "stream",
          "name": "stdout",
          "text": [
            "CPU times: user 1.26 s, sys: 7.83 ms, total: 1.27 s\n",
            "Wall time: 678 ms\n"
          ]
        }
      ]
    },
    {
      "cell_type": "code",
      "source": [
        "calc_map(reco_ann)"
      ],
      "metadata": {
        "colab": {
          "base_uri": "https://localhost:8080/"
        },
        "id": "gHux7Y_xybuj",
        "outputId": "d99405fe-80ff-4c0c-a6c5-7201c9a5578e"
      },
      "execution_count": 65,
      "outputs": [
        {
          "output_type": "execute_result",
          "data": {
            "text/plain": [
              "0.011743994907832336"
            ]
          },
          "metadata": {},
          "execution_count": 65
        }
      ]
    },
    {
      "cell_type": "markdown",
      "source": [
        "#### Filter viewed"
      ],
      "metadata": {
        "id": "fV8iWVxc7hjt"
      }
    },
    {
      "cell_type": "code",
      "source": [
        "%%time\n",
        "test_user_factors = users_factors[TEST_USERS]\n",
        "reco_ann, _ = ann_index.knn_query(test_user_factors, K_RECOS + 60)"
      ],
      "metadata": {
        "colab": {
          "base_uri": "https://localhost:8080/",
          "height": 52
        },
        "id": "ULsZFUEX7oJv",
        "outputId": "818a3c23-887a-4b7a-dcc9-45beb40fe65c"
      },
      "execution_count": 66,
      "outputs": [
        {
          "output_type": "stream",
          "name": "stdout",
          "text": [
            "CPU times: user 5.65 s, sys: 30 ms, total: 5.68 s\n",
            "Wall time: 3.05 s\n"
          ]
        }
      ]
    },
    {
      "cell_type": "code",
      "source": [
        "def filter_viewed(recos):\n",
        "  if type(recos) != list:\n",
        "    recos = map(lambda x: x.tolist(), recos)\n",
        "\n",
        "  test_recs = pd.DataFrame(TEST_USERS.reshape(-1, 1), columns=['user_id'])\n",
        "  test_recs['item_id'] = pd.Series(recos)\n",
        "  test_recs = test_recs.explode('item_id')\n",
        "\n",
        "  viewed_items = train[train['user_id'].isin(TEST_USERS)]\n",
        "  viewed_recs = test_recs.merge(viewed_items[['user_id', 'item_id']], on=['user_id', 'item_id'], how='left', indicator=True)\n",
        "  new_recs = viewed_recs[viewed_recs['_merge'] != 'both']\n",
        "\n",
        "  new_recs['rank'] = new_recs.groupby('user_id').cumcount() + 1\n",
        "  new_recs = new_recs[new_recs['rank'] < 11]\n",
        "  new_recs = new_recs.drop('_merge', axis=1)\n",
        "  return new_recs"
      ],
      "metadata": {
        "id": "RRLDwvTJ_OiU"
      },
      "execution_count": 117,
      "outputs": []
    },
    {
      "cell_type": "code",
      "source": [
        "new_recs = filter_viewed(reco_ann)\n",
        "new_recs.shape"
      ],
      "metadata": {
        "colab": {
          "base_uri": "https://localhost:8080/",
          "height": 34
        },
        "id": "RaI7tfte7z5a",
        "outputId": "4805fde2-977c-430b-ff9c-4999826b88aa"
      },
      "execution_count": 68,
      "outputs": [
        {
          "output_type": "execute_result",
          "data": {
            "text/plain": [
              "(1205190, 3)"
            ]
          },
          "metadata": {},
          "execution_count": 68
        }
      ]
    },
    {
      "cell_type": "code",
      "source": [
        "assert new_recs.groupby('user_id').count().min()['rank'] == 10"
      ],
      "metadata": {
        "id": "kuralyoO95wM"
      },
      "execution_count": 69,
      "outputs": []
    },
    {
      "cell_type": "code",
      "source": [
        "calc_map(new_recs)"
      ],
      "metadata": {
        "colab": {
          "base_uri": "https://localhost:8080/"
        },
        "id": "9wG_izS3-ZqT",
        "outputId": "91a21cad-3b85-4a05-873d-c3f554b0aa8f"
      },
      "execution_count": 70,
      "outputs": [
        {
          "output_type": "execute_result",
          "data": {
            "text/plain": [
              "0.022229548179557697"
            ]
          },
          "metadata": {},
          "execution_count": 70
        }
      ]
    },
    {
      "cell_type": "markdown",
      "source": [
        "Metric is better than previous"
      ],
      "metadata": {
        "id": "ienCPMBQ-49b"
      }
    },
    {
      "cell_type": "markdown",
      "source": [
        "#### Tuning ANN index params"
      ],
      "metadata": {
        "id": "_xLX39Uo_BwZ"
      }
    },
    {
      "cell_type": "code",
      "source": [
        "def print_study_info(study):\n",
        "  print(\"Number of finished trials: \", len(study.trials))\n",
        "  print(\"Params: \")\n",
        "  for key, value in study.best_trial.params.items():\n",
        "      print(\"    {}: {}\".format(key, value))"
      ],
      "metadata": {
        "id": "mAyAssZcCNpv"
      },
      "execution_count": 119,
      "outputs": []
    },
    {
      "cell_type": "code",
      "source": [
        "def objective_ANNModel(trial):\n",
        "    M = trial.suggest_int(\"M\", low=16, high=96, step=8)\n",
        "    ef_construction = trial.suggest_int(\"ef_construction\", low=180, high=280, step=20)\n",
        "\n",
        "    ann_index = hnswlib.Index(space=\"ip\", dim=model.factors)\n",
        "    ann_index.init_index(max_elements=items_factors.shape[0], M=M, ef_construction=ef_construction)\n",
        "    ann_index.add_items(items_factors)\n",
        "    test_user_factors = users_factors[TEST_USERS]\n",
        "    reco_ann, _ = ann_index.knn_query(test_user_factors, K_RECOS + 60)\n",
        "\n",
        "    new_recs = filter_viewed(reco_ann)\n",
        "    metric = calc_map(new_recs)\n",
        "\n",
        "    return metric"
      ],
      "metadata": {
        "id": "AdySfuiTBvg3"
      },
      "execution_count": 120,
      "outputs": []
    },
    {
      "cell_type": "code",
      "source": [
        "%%time\n",
        "\n",
        "study = optuna.create_study(direction=\"maximize\")\n",
        "study.optimize(objective_ANNModel, n_trials=30)"
      ],
      "metadata": {
        "colab": {
          "base_uri": "https://localhost:8080/"
        },
        "id": "i8Pyd-Uv_HWU",
        "outputId": "608cab83-7ef3-4f13-d6d4-d7a54f37185f"
      },
      "execution_count": 121,
      "outputs": [
        {
          "output_type": "stream",
          "name": "stderr",
          "text": [
            "\u001b[32m[I 2022-12-06 18:56:12,429]\u001b[0m A new study created in memory with name: no-name-940ea188-51fc-4ae0-85b0-854f6bccd7a0\u001b[0m\n",
            "\u001b[32m[I 2022-12-06 18:56:38,175]\u001b[0m Trial 0 finished with value: 0.022585125829178734 and parameters: {'M': 96, 'ef_construction': 200}. Best is trial 0 with value: 0.022585125829178734.\u001b[0m\n",
            "\u001b[32m[I 2022-12-06 18:57:00,121]\u001b[0m Trial 1 finished with value: 0.02250923901441686 and parameters: {'M': 64, 'ef_construction': 200}. Best is trial 0 with value: 0.022585125829178734.\u001b[0m\n",
            "\u001b[32m[I 2022-12-06 18:57:29,349]\u001b[0m Trial 2 finished with value: 0.02258581877283088 and parameters: {'M': 96, 'ef_construction': 220}. Best is trial 2 with value: 0.02258581877283088.\u001b[0m\n",
            "\u001b[32m[I 2022-12-06 18:57:58,304]\u001b[0m Trial 3 finished with value: 0.022520121712817413 and parameters: {'M': 80, 'ef_construction': 260}. Best is trial 2 with value: 0.02258581877283088.\u001b[0m\n",
            "\u001b[32m[I 2022-12-06 18:58:20,502]\u001b[0m Trial 4 finished with value: 0.022486805430913376 and parameters: {'M': 56, 'ef_construction': 220}. Best is trial 2 with value: 0.02258581877283088.\u001b[0m\n",
            "\u001b[32m[I 2022-12-06 18:58:39,264]\u001b[0m Trial 5 finished with value: 0.022395176474925664 and parameters: {'M': 40, 'ef_construction': 260}. Best is trial 2 with value: 0.02258581877283088.\u001b[0m\n",
            "\u001b[32m[I 2022-12-06 18:58:57,302]\u001b[0m Trial 6 finished with value: 0.02247551314825792 and parameters: {'M': 48, 'ef_construction': 200}. Best is trial 2 with value: 0.02258581877283088.\u001b[0m\n",
            "\u001b[32m[I 2022-12-06 18:59:19,558]\u001b[0m Trial 7 finished with value: 0.02249068534025761 and parameters: {'M': 72, 'ef_construction': 240}. Best is trial 2 with value: 0.02258581877283088.\u001b[0m\n",
            "\u001b[32m[I 2022-12-06 18:59:43,106]\u001b[0m Trial 8 finished with value: 0.022583412385708337 and parameters: {'M': 96, 'ef_construction': 180}. Best is trial 2 with value: 0.02258581877283088.\u001b[0m\n",
            "\u001b[32m[I 2022-12-06 18:59:56,861]\u001b[0m Trial 9 finished with value: 0.02218391864374217 and parameters: {'M': 16, 'ef_construction': 180}. Best is trial 2 with value: 0.02258581877283088.\u001b[0m\n",
            "\u001b[32m[I 2022-12-06 19:00:12,774]\u001b[0m Trial 10 finished with value: 0.02245832508776654 and parameters: {'M': 32, 'ef_construction': 280}. Best is trial 2 with value: 0.02258581877283088.\u001b[0m\n",
            "\u001b[32m[I 2022-12-06 19:00:39,353]\u001b[0m Trial 11 finished with value: 0.02258581877283088 and parameters: {'M': 96, 'ef_construction': 220}. Best is trial 2 with value: 0.02258581877283088.\u001b[0m\n",
            "\u001b[32m[I 2022-12-06 19:01:03,836]\u001b[0m Trial 12 finished with value: 0.02248738188917289 and parameters: {'M': 88, 'ef_construction': 220}. Best is trial 2 with value: 0.02258581877283088.\u001b[0m\n",
            "\u001b[32m[I 2022-12-06 19:01:25,642]\u001b[0m Trial 13 finished with value: 0.022483074848843588 and parameters: {'M': 80, 'ef_construction': 240}. Best is trial 2 with value: 0.02258581877283088.\u001b[0m\n",
            "\u001b[32m[I 2022-12-06 19:01:53,993]\u001b[0m Trial 14 finished with value: 0.02258581877283088 and parameters: {'M': 96, 'ef_construction': 220}. Best is trial 2 with value: 0.02258581877283088.\u001b[0m\n",
            "\u001b[32m[I 2022-12-06 19:02:15,842]\u001b[0m Trial 15 finished with value: 0.022483466533419923 and parameters: {'M': 80, 'ef_construction': 240}. Best is trial 2 with value: 0.02258581877283088.\u001b[0m\n",
            "\u001b[32m[I 2022-12-06 19:02:35,887]\u001b[0m Trial 16 finished with value: 0.02248725004864547 and parameters: {'M': 64, 'ef_construction': 200}. Best is trial 2 with value: 0.02258581877283088.\u001b[0m\n",
            "\u001b[32m[I 2022-12-06 19:03:02,927]\u001b[0m Trial 17 finished with value: 0.022563981006780903 and parameters: {'M': 88, 'ef_construction': 260}. Best is trial 2 with value: 0.02258581877283088.\u001b[0m\n",
            "\u001b[32m[I 2022-12-06 19:03:24,536]\u001b[0m Trial 18 finished with value: 0.022501008122977714 and parameters: {'M': 72, 'ef_construction': 220}. Best is trial 2 with value: 0.02258581877283088.\u001b[0m\n",
            "\u001b[32m[I 2022-12-06 19:03:38,471]\u001b[0m Trial 19 finished with value: 0.022241735040211992 and parameters: {'M': 16, 'ef_construction': 240}. Best is trial 2 with value: 0.02258581877283088.\u001b[0m\n",
            "\u001b[32m[I 2022-12-06 19:04:05,817]\u001b[0m Trial 20 finished with value: 0.022563796619072554 and parameters: {'M': 88, 'ef_construction': 280}. Best is trial 2 with value: 0.02258581877283088.\u001b[0m\n",
            "\u001b[32m[I 2022-12-06 19:04:31,458]\u001b[0m Trial 21 finished with value: 0.02258581877283088 and parameters: {'M': 96, 'ef_construction': 220}. Best is trial 2 with value: 0.02258581877283088.\u001b[0m\n",
            "\u001b[32m[I 2022-12-06 19:05:00,498]\u001b[0m Trial 22 finished with value: 0.02258581877283088 and parameters: {'M': 96, 'ef_construction': 220}. Best is trial 2 with value: 0.02258581877283088.\u001b[0m\n",
            "\u001b[32m[I 2022-12-06 19:05:23,697]\u001b[0m Trial 23 finished with value: 0.022558486191543086 and parameters: {'M': 88, 'ef_construction': 200}. Best is trial 2 with value: 0.02258581877283088.\u001b[0m\n",
            "\u001b[32m[I 2022-12-06 19:05:46,898]\u001b[0m Trial 24 finished with value: 0.022501008122977714 and parameters: {'M': 72, 'ef_construction': 220}. Best is trial 2 with value: 0.02258581877283088.\u001b[0m\n",
            "\u001b[32m[I 2022-12-06 19:06:15,529]\u001b[0m Trial 25 finished with value: 0.022593151193141595 and parameters: {'M': 96, 'ef_construction': 240}. Best is trial 25 with value: 0.022593151193141595.\u001b[0m\n",
            "\u001b[32m[I 2022-12-06 19:06:37,136]\u001b[0m Trial 26 finished with value: 0.02248274818963949 and parameters: {'M': 80, 'ef_construction': 240}. Best is trial 25 with value: 0.022593151193141595.\u001b[0m\n",
            "\u001b[32m[I 2022-12-06 19:07:04,157]\u001b[0m Trial 27 finished with value: 0.0225639941773315 and parameters: {'M': 88, 'ef_construction': 260}. Best is trial 25 with value: 0.022593151193141595.\u001b[0m\n",
            "\u001b[32m[I 2022-12-06 19:07:32,829]\u001b[0m Trial 28 finished with value: 0.022593151193141595 and parameters: {'M': 96, 'ef_construction': 240}. Best is trial 25 with value: 0.022593151193141595.\u001b[0m\n",
            "\u001b[32m[I 2022-12-06 19:07:53,048]\u001b[0m Trial 29 finished with value: 0.02247543557616654 and parameters: {'M': 64, 'ef_construction': 240}. Best is trial 25 with value: 0.022593151193141595.\u001b[0m\n"
          ]
        },
        {
          "output_type": "stream",
          "name": "stdout",
          "text": [
            "CPU times: user 16min 55s, sys: 13.3 s, total: 17min 8s\n",
            "Wall time: 11min 40s\n"
          ]
        }
      ]
    },
    {
      "cell_type": "code",
      "source": [
        "print_study_info(study)"
      ],
      "metadata": {
        "colab": {
          "base_uri": "https://localhost:8080/"
        },
        "id": "UiuhmhCoB-CS",
        "outputId": "17458d25-c215-429d-a69a-d7ce3035ea18"
      },
      "execution_count": 123,
      "outputs": [
        {
          "output_type": "stream",
          "name": "stdout",
          "text": [
            "Number of finished trials:  30\n",
            "Params: \n",
            "    M: 96\n",
            "    ef_construction: 240\n"
          ]
        }
      ]
    },
    {
      "cell_type": "code",
      "source": [
        "study.best_value"
      ],
      "metadata": {
        "colab": {
          "base_uri": "https://localhost:8080/"
        },
        "id": "H6JJTVG225C5",
        "outputId": "f515a813-9a83-494f-c1ee-4f291824be7b"
      },
      "execution_count": 131,
      "outputs": [
        {
          "output_type": "execute_result",
          "data": {
            "text/plain": [
              "0.022593151193141595"
            ]
          },
          "metadata": {},
          "execution_count": 131
        }
      ]
    },
    {
      "cell_type": "markdown",
      "source": [
        "#### annoy"
      ],
      "metadata": {
        "id": "g9rKgUD_nmy5"
      }
    },
    {
      "cell_type": "code",
      "source": [
        "def augment_inner_product(factors):\n",
        "    normed_factors = np.linalg.norm(factors, axis=1)\n",
        "    max_norm = normed_factors.max()\n",
        "    \n",
        "    extra_dim = np.sqrt(max_norm ** 2 - normed_factors ** 2).reshape(-1, 1)\n",
        "    augmented_factors = np.append(factors, extra_dim, axis=1)\n",
        "    return max_norm, augmented_factors"
      ],
      "metadata": {
        "id": "Kl95ff-grJwO"
      },
      "execution_count": 71,
      "outputs": []
    },
    {
      "cell_type": "code",
      "source": [
        "users_factors.shape, items_factors.shape"
      ],
      "metadata": {
        "colab": {
          "base_uri": "https://localhost:8080/"
        },
        "id": "IDQBwcHBrMDT",
        "outputId": "9c0b47c8-a516-44f5-d447-b2d4f9ac0abc"
      },
      "execution_count": 72,
      "outputs": [
        {
          "output_type": "execute_result",
          "data": {
            "text/plain": [
              "((1097558, 32), (16519, 32))"
            ]
          },
          "metadata": {},
          "execution_count": 72
        }
      ]
    },
    {
      "cell_type": "code",
      "source": [
        "max_norm, augmented_item_factors = augment_inner_product(items_factors)\n",
        "augmented_item_factors.shape"
      ],
      "metadata": {
        "colab": {
          "base_uri": "https://localhost:8080/"
        },
        "id": "H9GfopwerLKA",
        "outputId": "8931ef30-e470-49c8-a2a6-4c0ca0b91c2f"
      },
      "execution_count": 75,
      "outputs": [
        {
          "output_type": "execute_result",
          "data": {
            "text/plain": [
              "(16519, 33)"
            ]
          },
          "metadata": {},
          "execution_count": 75
        }
      ]
    },
    {
      "cell_type": "code",
      "source": [
        "extra_zero = np.zeros((users_factors.shape[0], 1))\n",
        "augmented_user_factors = np.append(users_factors, extra_zero, axis=1)\n",
        "augmented_user_factors.shape"
      ],
      "metadata": {
        "colab": {
          "base_uri": "https://localhost:8080/"
        },
        "id": "3hDmUFaArNZ_",
        "outputId": "a39b6c1c-0de7-4621-cda7-34e3253d94e3"
      },
      "execution_count": 74,
      "outputs": [
        {
          "output_type": "execute_result",
          "data": {
            "text/plain": [
              "(1097558, 33)"
            ]
          },
          "metadata": {},
          "execution_count": 74
        }
      ]
    },
    {
      "cell_type": "code",
      "source": [
        "def objective_ANN_Annoy_Model(trial):\n",
        "    n_trees = trial.suggest_int(\"M\", low=60, high=160, step=20)\n",
        "\n",
        "    index = AnnoyIndex(augmented_item_factors.shape[1], 'dot')\n",
        "    for i in range(len(augmented_item_factors)):\n",
        "        index.add_item(i, augmented_item_factors[i])\n",
        "    index.build(n_trees=n_trees)\n",
        "\n",
        "    nbrs = [t.get_nns_by_vector(query_matrix[i], 60) for i in range(len(query_matrix))]\n",
        "\n",
        "    new_recs = filter_viewed(reco_ann)\n",
        "    metric = calc_map(new_recs)\n",
        "\n",
        "    return metric"
      ],
      "metadata": {
        "id": "B_JsD49hw-Sr"
      },
      "execution_count": 135,
      "outputs": []
    },
    {
      "cell_type": "code",
      "source": [
        "query_matrix = augmented_user_factors[TEST_USERS]"
      ],
      "metadata": {
        "id": "JU_vDCHy_HhR"
      },
      "execution_count": 107,
      "outputs": []
    },
    {
      "cell_type": "code",
      "source": [
        "%%time\n",
        "\n",
        "study = optuna.create_study(direction=\"maximize\")\n",
        "study.optimize(objective_ANN_Annoy_Model, n_trials=10)"
      ],
      "metadata": {
        "colab": {
          "base_uri": "https://localhost:8080/"
        },
        "id": "93TIfmLdzdc1",
        "outputId": "077d3cea-e44a-4d57-9d11-5b95ac0584ab"
      },
      "execution_count": 136,
      "outputs": [
        {
          "output_type": "stream",
          "name": "stderr",
          "text": [
            "\u001b[32m[I 2022-12-06 19:16:00,932]\u001b[0m A new study created in memory with name: no-name-ed3394ff-f2eb-41b3-a2d3-9c5ff30a1c8e\u001b[0m\n",
            "\u001b[32m[I 2022-12-06 19:17:30,615]\u001b[0m Trial 0 finished with value: 0.022229548179557697 and parameters: {'M': 160}. Best is trial 0 with value: 0.022229548179557697.\u001b[0m\n",
            "\u001b[32m[I 2022-12-06 19:18:57,630]\u001b[0m Trial 1 finished with value: 0.022229548179557697 and parameters: {'M': 100}. Best is trial 0 with value: 0.022229548179557697.\u001b[0m\n",
            "\u001b[32m[I 2022-12-06 19:20:22,629]\u001b[0m Trial 2 finished with value: 0.022229548179557697 and parameters: {'M': 60}. Best is trial 0 with value: 0.022229548179557697.\u001b[0m\n",
            "\u001b[32m[I 2022-12-06 19:21:51,665]\u001b[0m Trial 3 finished with value: 0.022229548179557697 and parameters: {'M': 160}. Best is trial 0 with value: 0.022229548179557697.\u001b[0m\n",
            "\u001b[32m[I 2022-12-06 19:23:17,503]\u001b[0m Trial 4 finished with value: 0.022229548179557697 and parameters: {'M': 80}. Best is trial 0 with value: 0.022229548179557697.\u001b[0m\n",
            "\u001b[32m[I 2022-12-06 19:24:44,861]\u001b[0m Trial 5 finished with value: 0.022229548179557697 and parameters: {'M': 120}. Best is trial 0 with value: 0.022229548179557697.\u001b[0m\n",
            "\u001b[32m[I 2022-12-06 19:26:13,181]\u001b[0m Trial 6 finished with value: 0.022229548179557697 and parameters: {'M': 160}. Best is trial 0 with value: 0.022229548179557697.\u001b[0m\n",
            "\u001b[32m[I 2022-12-06 19:27:40,456]\u001b[0m Trial 7 finished with value: 0.022229548179557697 and parameters: {'M': 160}. Best is trial 0 with value: 0.022229548179557697.\u001b[0m\n",
            "\u001b[32m[I 2022-12-06 19:29:08,772]\u001b[0m Trial 8 finished with value: 0.022229548179557697 and parameters: {'M': 140}. Best is trial 0 with value: 0.022229548179557697.\u001b[0m\n",
            "\u001b[32m[I 2022-12-06 19:30:37,119]\u001b[0m Trial 9 finished with value: 0.022229548179557697 and parameters: {'M': 140}. Best is trial 0 with value: 0.022229548179557697.\u001b[0m\n"
          ]
        },
        {
          "output_type": "stream",
          "name": "stdout",
          "text": [
            "CPU times: user 14min 59s, sys: 5.67 s, total: 15min 5s\n",
            "Wall time: 14min 36s\n"
          ]
        }
      ]
    },
    {
      "cell_type": "code",
      "source": [
        "print_study_info(study)"
      ],
      "metadata": {
        "colab": {
          "base_uri": "https://localhost:8080/"
        },
        "id": "YXs4H_U9zdgL",
        "outputId": "57bc927b-4de3-44cb-8be2-c6af1a057ff0"
      },
      "execution_count": 137,
      "outputs": [
        {
          "output_type": "stream",
          "name": "stdout",
          "text": [
            "Number of finished trials:  10\n",
            "Params: \n",
            "    M: 160\n"
          ]
        }
      ]
    },
    {
      "cell_type": "code",
      "source": [
        "study.best_value"
      ],
      "metadata": {
        "colab": {
          "base_uri": "https://localhost:8080/"
        },
        "id": "DvQzfeBH2vbb",
        "outputId": "464b0ffd-d54b-4274-f923-c75bb3bc2dbb"
      },
      "execution_count": 138,
      "outputs": [
        {
          "output_type": "execute_result",
          "data": {
            "text/plain": [
              "0.022229548179557697"
            ]
          },
          "metadata": {},
          "execution_count": 138
        }
      ]
    },
    {
      "cell_type": "markdown",
      "source": [
        "#### Best model"
      ],
      "metadata": {
        "id": "WXNLMqI66_9b"
      }
    },
    {
      "cell_type": "markdown",
      "source": [
        "The best model is hnswlib"
      ],
      "metadata": {
        "id": "9YWu54q42_MK"
      }
    },
    {
      "cell_type": "code",
      "source": [
        "recs = pd.DataFrame({'user_id': submission['user_id'].unique()})\n",
        "cold = recs[~recs['user_id'].isin(interactions.user_id)]\n",
        "warm = recs[recs['user_id'].isin(interactions.user_id)]"
      ],
      "metadata": {
        "id": "cDzFteGu2Pcj"
      },
      "execution_count": 133,
      "outputs": []
    },
    {
      "cell_type": "code",
      "source": [
        "TEST_USERS = warm['user_id'].unique()"
      ],
      "metadata": {
        "id": "q6ip73mY798B"
      },
      "execution_count": 154,
      "outputs": []
    },
    {
      "cell_type": "code",
      "source": [
        "ann_index = hnswlib.Index(space=\"ip\", dim=model.factors)\n",
        "ann_index.init_index(max_elements=items_factors.shape[0], M=96, ef_construction=240)\n",
        "ann_index.add_items(items_factors)\n",
        "test_user_factors = users_factors[warm['user_id'].unique()]\n",
        "reco_ann, _ = ann_index.knn_query(test_user_factors, K_RECOS + 60)\n",
        "new_recs = filter_viewed(reco_ann)"
      ],
      "metadata": {
        "id": "mxnZxKDi3WPw"
      },
      "execution_count": 155,
      "outputs": []
    },
    {
      "cell_type": "markdown",
      "source": [
        "### Submit"
      ],
      "metadata": {
        "id": "EGJZEbc3zBXN"
      }
    },
    {
      "cell_type": "code",
      "source": [
        "cold_recs = [[9728, 10440, 15297, 13865, 14488, 12192, 12360, 341, 4151, 3734] for i in range(len(cold['user_id']))]\n",
        "cold_recs = pd.DataFrame(list(zip(cold['user_id'].values.tolist(), cold_recs)), columns=['user_id', 'item_id'])\n",
        "cold_recs.head()"
      ],
      "metadata": {
        "colab": {
          "base_uri": "https://localhost:8080/",
          "height": 206
        },
        "id": "7jIYwevO2-qN",
        "outputId": "3b467b41-f7db-464c-b1d0-5e638046ede8"
      },
      "execution_count": 134,
      "outputs": [
        {
          "output_type": "execute_result",
          "data": {
            "text/plain": [
              "   user_id                                            item_id\n",
              "0       29  [9728, 10440, 15297, 13865, 14488, 12192, 1236...\n",
              "1       33  [9728, 10440, 15297, 13865, 14488, 12192, 1236...\n",
              "2       70  [9728, 10440, 15297, 13865, 14488, 12192, 1236...\n",
              "3       74  [9728, 10440, 15297, 13865, 14488, 12192, 1236...\n",
              "4       85  [9728, 10440, 15297, 13865, 14488, 12192, 1236..."
            ],
            "text/html": [
              "\n",
              "  <div id=\"df-f4f86ddd-7d52-4d3f-975a-d5e0de6a3cfb\">\n",
              "    <div class=\"colab-df-container\">\n",
              "      <div>\n",
              "<style scoped>\n",
              "    .dataframe tbody tr th:only-of-type {\n",
              "        vertical-align: middle;\n",
              "    }\n",
              "\n",
              "    .dataframe tbody tr th {\n",
              "        vertical-align: top;\n",
              "    }\n",
              "\n",
              "    .dataframe thead th {\n",
              "        text-align: right;\n",
              "    }\n",
              "</style>\n",
              "<table border=\"1\" class=\"dataframe\">\n",
              "  <thead>\n",
              "    <tr style=\"text-align: right;\">\n",
              "      <th></th>\n",
              "      <th>user_id</th>\n",
              "      <th>item_id</th>\n",
              "    </tr>\n",
              "  </thead>\n",
              "  <tbody>\n",
              "    <tr>\n",
              "      <th>0</th>\n",
              "      <td>29</td>\n",
              "      <td>[9728, 10440, 15297, 13865, 14488, 12192, 1236...</td>\n",
              "    </tr>\n",
              "    <tr>\n",
              "      <th>1</th>\n",
              "      <td>33</td>\n",
              "      <td>[9728, 10440, 15297, 13865, 14488, 12192, 1236...</td>\n",
              "    </tr>\n",
              "    <tr>\n",
              "      <th>2</th>\n",
              "      <td>70</td>\n",
              "      <td>[9728, 10440, 15297, 13865, 14488, 12192, 1236...</td>\n",
              "    </tr>\n",
              "    <tr>\n",
              "      <th>3</th>\n",
              "      <td>74</td>\n",
              "      <td>[9728, 10440, 15297, 13865, 14488, 12192, 1236...</td>\n",
              "    </tr>\n",
              "    <tr>\n",
              "      <th>4</th>\n",
              "      <td>85</td>\n",
              "      <td>[9728, 10440, 15297, 13865, 14488, 12192, 1236...</td>\n",
              "    </tr>\n",
              "  </tbody>\n",
              "</table>\n",
              "</div>\n",
              "      <button class=\"colab-df-convert\" onclick=\"convertToInteractive('df-f4f86ddd-7d52-4d3f-975a-d5e0de6a3cfb')\"\n",
              "              title=\"Convert this dataframe to an interactive table.\"\n",
              "              style=\"display:none;\">\n",
              "        \n",
              "  <svg xmlns=\"http://www.w3.org/2000/svg\" height=\"24px\"viewBox=\"0 0 24 24\"\n",
              "       width=\"24px\">\n",
              "    <path d=\"M0 0h24v24H0V0z\" fill=\"none\"/>\n",
              "    <path d=\"M18.56 5.44l.94 2.06.94-2.06 2.06-.94-2.06-.94-.94-2.06-.94 2.06-2.06.94zm-11 1L8.5 8.5l.94-2.06 2.06-.94-2.06-.94L8.5 2.5l-.94 2.06-2.06.94zm10 10l.94 2.06.94-2.06 2.06-.94-2.06-.94-.94-2.06-.94 2.06-2.06.94z\"/><path d=\"M17.41 7.96l-1.37-1.37c-.4-.4-.92-.59-1.43-.59-.52 0-1.04.2-1.43.59L10.3 9.45l-7.72 7.72c-.78.78-.78 2.05 0 2.83L4 21.41c.39.39.9.59 1.41.59.51 0 1.02-.2 1.41-.59l7.78-7.78 2.81-2.81c.8-.78.8-2.07 0-2.86zM5.41 20L4 18.59l7.72-7.72 1.47 1.35L5.41 20z\"/>\n",
              "  </svg>\n",
              "      </button>\n",
              "      \n",
              "  <style>\n",
              "    .colab-df-container {\n",
              "      display:flex;\n",
              "      flex-wrap:wrap;\n",
              "      gap: 12px;\n",
              "    }\n",
              "\n",
              "    .colab-df-convert {\n",
              "      background-color: #E8F0FE;\n",
              "      border: none;\n",
              "      border-radius: 50%;\n",
              "      cursor: pointer;\n",
              "      display: none;\n",
              "      fill: #1967D2;\n",
              "      height: 32px;\n",
              "      padding: 0 0 0 0;\n",
              "      width: 32px;\n",
              "    }\n",
              "\n",
              "    .colab-df-convert:hover {\n",
              "      background-color: #E2EBFA;\n",
              "      box-shadow: 0px 1px 2px rgba(60, 64, 67, 0.3), 0px 1px 3px 1px rgba(60, 64, 67, 0.15);\n",
              "      fill: #174EA6;\n",
              "    }\n",
              "\n",
              "    [theme=dark] .colab-df-convert {\n",
              "      background-color: #3B4455;\n",
              "      fill: #D2E3FC;\n",
              "    }\n",
              "\n",
              "    [theme=dark] .colab-df-convert:hover {\n",
              "      background-color: #434B5C;\n",
              "      box-shadow: 0px 1px 3px 1px rgba(0, 0, 0, 0.15);\n",
              "      filter: drop-shadow(0px 1px 2px rgba(0, 0, 0, 0.3));\n",
              "      fill: #FFFFFF;\n",
              "    }\n",
              "  </style>\n",
              "\n",
              "      <script>\n",
              "        const buttonEl =\n",
              "          document.querySelector('#df-f4f86ddd-7d52-4d3f-975a-d5e0de6a3cfb button.colab-df-convert');\n",
              "        buttonEl.style.display =\n",
              "          google.colab.kernel.accessAllowed ? 'block' : 'none';\n",
              "\n",
              "        async function convertToInteractive(key) {\n",
              "          const element = document.querySelector('#df-f4f86ddd-7d52-4d3f-975a-d5e0de6a3cfb');\n",
              "          const dataTable =\n",
              "            await google.colab.kernel.invokeFunction('convertToInteractive',\n",
              "                                                     [key], {});\n",
              "          if (!dataTable) return;\n",
              "\n",
              "          const docLinkHtml = 'Like what you see? Visit the ' +\n",
              "            '<a target=\"_blank\" href=https://colab.research.google.com/notebooks/data_table.ipynb>data table notebook</a>'\n",
              "            + ' to learn more about interactive tables.';\n",
              "          element.innerHTML = '';\n",
              "          dataTable['output_type'] = 'display_data';\n",
              "          await google.colab.output.renderOutput(dataTable, element);\n",
              "          const docLink = document.createElement('div');\n",
              "          docLink.innerHTML = docLinkHtml;\n",
              "          element.appendChild(docLink);\n",
              "        }\n",
              "      </script>\n",
              "    </div>\n",
              "  </div>\n",
              "  "
            ]
          },
          "metadata": {},
          "execution_count": 134
        }
      ]
    },
    {
      "cell_type": "code",
      "source": [
        "recos = new_recs.drop(['rank'], axis=1).groupby('user_id').agg({'item_id': list}).reset_index()\n",
        "recos.head()"
      ],
      "metadata": {
        "colab": {
          "base_uri": "https://localhost:8080/",
          "height": 206
        },
        "id": "Cewlik1r2-uS",
        "outputId": "aee6f0cd-482b-49c9-8284-ec0bed04aaf8"
      },
      "execution_count": 157,
      "outputs": [
        {
          "output_type": "execute_result",
          "data": {
            "text/plain": [
              "   user_id                                            item_id\n",
              "0        3  [14431, 7102, 14317, 15464, 10772, 5693, 849, ...\n",
              "1       11  [3076, 11778, 7476, 6192, 3935, 14741, 3784, 4...\n",
              "2       30  [7102, 14431, 10464, 3935, 9169, 657, 3076, 11...\n",
              "3       39  [47, 1163, 1168, 1358, 1554, 3006, 3066, 3190,...\n",
              "4       46  [5658, 16228, 7102, 6402, 14431, 1132, 3784, 1..."
            ],
            "text/html": [
              "\n",
              "  <div id=\"df-3e36f7a7-aada-49d7-a965-ab521f5caf9c\">\n",
              "    <div class=\"colab-df-container\">\n",
              "      <div>\n",
              "<style scoped>\n",
              "    .dataframe tbody tr th:only-of-type {\n",
              "        vertical-align: middle;\n",
              "    }\n",
              "\n",
              "    .dataframe tbody tr th {\n",
              "        vertical-align: top;\n",
              "    }\n",
              "\n",
              "    .dataframe thead th {\n",
              "        text-align: right;\n",
              "    }\n",
              "</style>\n",
              "<table border=\"1\" class=\"dataframe\">\n",
              "  <thead>\n",
              "    <tr style=\"text-align: right;\">\n",
              "      <th></th>\n",
              "      <th>user_id</th>\n",
              "      <th>item_id</th>\n",
              "    </tr>\n",
              "  </thead>\n",
              "  <tbody>\n",
              "    <tr>\n",
              "      <th>0</th>\n",
              "      <td>3</td>\n",
              "      <td>[14431, 7102, 14317, 15464, 10772, 5693, 849, ...</td>\n",
              "    </tr>\n",
              "    <tr>\n",
              "      <th>1</th>\n",
              "      <td>11</td>\n",
              "      <td>[3076, 11778, 7476, 6192, 3935, 14741, 3784, 4...</td>\n",
              "    </tr>\n",
              "    <tr>\n",
              "      <th>2</th>\n",
              "      <td>30</td>\n",
              "      <td>[7102, 14431, 10464, 3935, 9169, 657, 3076, 11...</td>\n",
              "    </tr>\n",
              "    <tr>\n",
              "      <th>3</th>\n",
              "      <td>39</td>\n",
              "      <td>[47, 1163, 1168, 1358, 1554, 3006, 3066, 3190,...</td>\n",
              "    </tr>\n",
              "    <tr>\n",
              "      <th>4</th>\n",
              "      <td>46</td>\n",
              "      <td>[5658, 16228, 7102, 6402, 14431, 1132, 3784, 1...</td>\n",
              "    </tr>\n",
              "  </tbody>\n",
              "</table>\n",
              "</div>\n",
              "      <button class=\"colab-df-convert\" onclick=\"convertToInteractive('df-3e36f7a7-aada-49d7-a965-ab521f5caf9c')\"\n",
              "              title=\"Convert this dataframe to an interactive table.\"\n",
              "              style=\"display:none;\">\n",
              "        \n",
              "  <svg xmlns=\"http://www.w3.org/2000/svg\" height=\"24px\"viewBox=\"0 0 24 24\"\n",
              "       width=\"24px\">\n",
              "    <path d=\"M0 0h24v24H0V0z\" fill=\"none\"/>\n",
              "    <path d=\"M18.56 5.44l.94 2.06.94-2.06 2.06-.94-2.06-.94-.94-2.06-.94 2.06-2.06.94zm-11 1L8.5 8.5l.94-2.06 2.06-.94-2.06-.94L8.5 2.5l-.94 2.06-2.06.94zm10 10l.94 2.06.94-2.06 2.06-.94-2.06-.94-.94-2.06-.94 2.06-2.06.94z\"/><path d=\"M17.41 7.96l-1.37-1.37c-.4-.4-.92-.59-1.43-.59-.52 0-1.04.2-1.43.59L10.3 9.45l-7.72 7.72c-.78.78-.78 2.05 0 2.83L4 21.41c.39.39.9.59 1.41.59.51 0 1.02-.2 1.41-.59l7.78-7.78 2.81-2.81c.8-.78.8-2.07 0-2.86zM5.41 20L4 18.59l7.72-7.72 1.47 1.35L5.41 20z\"/>\n",
              "  </svg>\n",
              "      </button>\n",
              "      \n",
              "  <style>\n",
              "    .colab-df-container {\n",
              "      display:flex;\n",
              "      flex-wrap:wrap;\n",
              "      gap: 12px;\n",
              "    }\n",
              "\n",
              "    .colab-df-convert {\n",
              "      background-color: #E8F0FE;\n",
              "      border: none;\n",
              "      border-radius: 50%;\n",
              "      cursor: pointer;\n",
              "      display: none;\n",
              "      fill: #1967D2;\n",
              "      height: 32px;\n",
              "      padding: 0 0 0 0;\n",
              "      width: 32px;\n",
              "    }\n",
              "\n",
              "    .colab-df-convert:hover {\n",
              "      background-color: #E2EBFA;\n",
              "      box-shadow: 0px 1px 2px rgba(60, 64, 67, 0.3), 0px 1px 3px 1px rgba(60, 64, 67, 0.15);\n",
              "      fill: #174EA6;\n",
              "    }\n",
              "\n",
              "    [theme=dark] .colab-df-convert {\n",
              "      background-color: #3B4455;\n",
              "      fill: #D2E3FC;\n",
              "    }\n",
              "\n",
              "    [theme=dark] .colab-df-convert:hover {\n",
              "      background-color: #434B5C;\n",
              "      box-shadow: 0px 1px 3px 1px rgba(0, 0, 0, 0.15);\n",
              "      filter: drop-shadow(0px 1px 2px rgba(0, 0, 0, 0.3));\n",
              "      fill: #FFFFFF;\n",
              "    }\n",
              "  </style>\n",
              "\n",
              "      <script>\n",
              "        const buttonEl =\n",
              "          document.querySelector('#df-3e36f7a7-aada-49d7-a965-ab521f5caf9c button.colab-df-convert');\n",
              "        buttonEl.style.display =\n",
              "          google.colab.kernel.accessAllowed ? 'block' : 'none';\n",
              "\n",
              "        async function convertToInteractive(key) {\n",
              "          const element = document.querySelector('#df-3e36f7a7-aada-49d7-a965-ab521f5caf9c');\n",
              "          const dataTable =\n",
              "            await google.colab.kernel.invokeFunction('convertToInteractive',\n",
              "                                                     [key], {});\n",
              "          if (!dataTable) return;\n",
              "\n",
              "          const docLinkHtml = 'Like what you see? Visit the ' +\n",
              "            '<a target=\"_blank\" href=https://colab.research.google.com/notebooks/data_table.ipynb>data table notebook</a>'\n",
              "            + ' to learn more about interactive tables.';\n",
              "          element.innerHTML = '';\n",
              "          dataTable['output_type'] = 'display_data';\n",
              "          await google.colab.output.renderOutput(dataTable, element);\n",
              "          const docLink = document.createElement('div');\n",
              "          docLink.innerHTML = docLinkHtml;\n",
              "          element.appendChild(docLink);\n",
              "        }\n",
              "      </script>\n",
              "    </div>\n",
              "  </div>\n",
              "  "
            ]
          },
          "metadata": {},
          "execution_count": 157
        }
      ]
    },
    {
      "cell_type": "code",
      "source": [
        "res = pd.concat((cold_recs, recos))\n",
        "assert res.shape[0] == submission.shape[0]\n",
        "res.to_csv('ann.csv', index=False)"
      ],
      "metadata": {
        "id": "x0YRnXt22-yX"
      },
      "execution_count": 158,
      "outputs": []
    },
    {
      "cell_type": "markdown",
      "source": [
        "![image.png](data:image/png;base64,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)"
      ],
      "metadata": {
        "id": "CHpVgrEd8dJa"
      }
    },
    {
      "cell_type": "code",
      "source": [],
      "metadata": {
        "id": "0Mijwx288PBf"
      },
      "execution_count": null,
      "outputs": []
    }
  ]
}