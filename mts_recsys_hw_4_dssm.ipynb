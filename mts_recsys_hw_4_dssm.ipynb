{
  "metadata": {
    "colab": {
      "provenance": [],
      "collapsed_sections": [
        "frK3r2Nt0uR0",
        "gGK1tKDqc0z6"
      ],
      "toc_visible": true
    },
    "kernelspec": {
      "name": "python3",
      "display_name": "Python 3",
      "language": "python"
    },
    "language_info": {
      "name": "python",
      "version": "3.7.12",
      "mimetype": "text/x-python",
      "codemirror_mode": {
        "name": "ipython",
        "version": 3
      },
      "pygments_lexer": "ipython3",
      "nbconvert_exporter": "python",
      "file_extension": ".py"
    },
    "accelerator": "GPU",
    "gpuClass": "standard"
  },
  "nbformat_minor": 0,
  "nbformat": 4,
  "cells": [
    {
      "cell_type": "code",
      "source": [
        "!pip install pymorphy2 > None"
      ],
      "metadata": {
        "execution": {
          "iopub.status.busy": "2022-12-13T14:13:17.039955Z",
          "iopub.execute_input": "2022-12-13T14:13:17.040431Z",
          "iopub.status.idle": "2022-12-13T14:13:30.293997Z",
          "shell.execute_reply.started": "2022-12-13T14:13:17.040316Z",
          "shell.execute_reply": "2022-12-13T14:13:30.292629Z"
        },
        "trusted": true,
        "id": "zbsdcXEx1kvq"
      },
      "execution_count": 1,
      "outputs": []
    },
    {
      "cell_type": "code",
      "source": [
        "import json\n",
        "import numpy as np\n",
        "import os\n",
        "import pandas as pd\n",
        "import dill\n",
        "import tensorflow as tf\n",
        "import tensorflow.keras.backend as K\n",
        "\n",
        "import warnings\n",
        "warnings.filterwarnings('ignore')\n",
        "\n",
        "from collections import Counter\n",
        "from random import randint, random\n",
        "from sklearn.metrics.pairwise import euclidean_distances as ED\n",
        "from tensorflow import keras\n",
        "from tqdm import tqdm\n",
        "\n",
        "from sklearn.feature_extraction.text import CountVectorizer\n",
        "from nltk.tokenize import word_tokenize\n",
        "from nltk.corpus import stopwords\n",
        "from pymorphy2 import MorphAnalyzer\n",
        "\n",
        "import gc\n",
        "\n",
        "from scipy import spatial"
      ],
      "metadata": {
        "id": "q9Mds7geOmRB",
        "execution": {
          "iopub.status.busy": "2022-12-13T14:13:30.300024Z",
          "iopub.execute_input": "2022-12-13T14:13:30.302511Z",
          "iopub.status.idle": "2022-12-13T14:13:42.160883Z",
          "shell.execute_reply.started": "2022-12-13T14:13:30.302462Z",
          "shell.execute_reply": "2022-12-13T14:13:42.159605Z"
        },
        "trusted": true
      },
      "execution_count": 2,
      "outputs": []
    },
    {
      "cell_type": "code",
      "source": [
        "import nltk\n",
        "nltk.download('punkt')\n",
        "nltk.download('stopwords')"
      ],
      "metadata": {
        "colab": {
          "base_uri": "https://localhost:8080/"
        },
        "id": "4hgaXufh2VjO",
        "outputId": "c26d2181-bf83-4f0c-e3b7-9d063d6c0546"
      },
      "execution_count": 3,
      "outputs": [
        {
          "output_type": "stream",
          "name": "stderr",
          "text": [
            "[nltk_data] Downloading package punkt to /root/nltk_data...\n",
            "[nltk_data]   Package punkt is already up-to-date!\n",
            "[nltk_data] Downloading package stopwords to /root/nltk_data...\n",
            "[nltk_data]   Package stopwords is already up-to-date!\n"
          ]
        },
        {
          "output_type": "execute_result",
          "data": {
            "text/plain": [
              "True"
            ]
          },
          "metadata": {},
          "execution_count": 3
        }
      ]
    },
    {
      "cell_type": "code",
      "source": [
        "tqdm.pandas()"
      ],
      "metadata": {
        "execution": {
          "iopub.status.busy": "2022-12-13T14:13:42.182694Z",
          "iopub.execute_input": "2022-12-13T14:13:42.185012Z",
          "iopub.status.idle": "2022-12-13T14:13:42.192490Z",
          "shell.execute_reply.started": "2022-12-13T14:13:42.184973Z",
          "shell.execute_reply": "2022-12-13T14:13:42.191001Z"
        },
        "trusted": true,
        "id": "M35svKmL1kvt"
      },
      "execution_count": 4,
      "outputs": []
    },
    {
      "cell_type": "code",
      "source": [
        "import warnings\n",
        "warnings.filterwarnings('ignore')"
      ],
      "metadata": {
        "id": "YvnTCJAcOpUm",
        "execution": {
          "iopub.status.busy": "2022-12-13T14:13:42.197460Z",
          "iopub.execute_input": "2022-12-13T14:13:42.199882Z",
          "iopub.status.idle": "2022-12-13T14:13:42.204892Z",
          "shell.execute_reply.started": "2022-12-13T14:13:42.199842Z",
          "shell.execute_reply": "2022-12-13T14:13:42.203627Z"
        },
        "trusted": true
      },
      "execution_count": 5,
      "outputs": []
    },
    {
      "cell_type": "code",
      "source": [
        "from google.colab import drive\n",
        "drive.mount('/content/gdrive')"
      ],
      "metadata": {
        "colab": {
          "base_uri": "https://localhost:8080/"
        },
        "id": "tZa4nR24wSdR",
        "outputId": "14075a90-3059-4918-d1ed-578a7e97c225",
        "execution": {
          "iopub.status.busy": "2022-12-13T14:13:42.206445Z",
          "iopub.execute_input": "2022-12-13T14:13:42.207197Z",
          "iopub.status.idle": "2022-12-13T14:13:42.216098Z",
          "shell.execute_reply.started": "2022-12-13T14:13:42.207160Z",
          "shell.execute_reply": "2022-12-13T14:13:42.214926Z"
        },
        "trusted": true
      },
      "execution_count": 6,
      "outputs": [
        {
          "output_type": "stream",
          "name": "stdout",
          "text": [
            "Drive already mounted at /content/gdrive; to attempt to forcibly remount, call drive.mount(\"/content/gdrive\", force_remount=True).\n"
          ]
        }
      ]
    },
    {
      "cell_type": "code",
      "source": [
        "%cd gdrive/MyDrive/recsys/"
      ],
      "metadata": {
        "colab": {
          "base_uri": "https://localhost:8080/"
        },
        "id": "HiLJ1Lu9wSf4",
        "outputId": "52e56bab-6adb-42c2-aae0-6ed02e064277",
        "execution": {
          "iopub.status.busy": "2022-12-13T14:13:42.217853Z",
          "iopub.execute_input": "2022-12-13T14:13:42.218288Z",
          "iopub.status.idle": "2022-12-13T14:13:42.225541Z",
          "shell.execute_reply.started": "2022-12-13T14:13:42.218250Z",
          "shell.execute_reply": "2022-12-13T14:13:42.224312Z"
        },
        "trusted": true
      },
      "execution_count": 7,
      "outputs": [
        {
          "output_type": "stream",
          "name": "stdout",
          "text": [
            "/content/gdrive/MyDrive/recsys\n"
          ]
        }
      ]
    },
    {
      "cell_type": "code",
      "source": [
        "SEED = 2022\n",
        "K_RECOS = 10"
      ],
      "metadata": {
        "id": "uJ2lbYdEQBSZ",
        "execution": {
          "iopub.status.busy": "2022-12-13T14:13:42.227343Z",
          "iopub.execute_input": "2022-12-13T14:13:42.227831Z",
          "iopub.status.idle": "2022-12-13T14:13:42.237121Z",
          "shell.execute_reply.started": "2022-12-13T14:13:42.227789Z",
          "shell.execute_reply": "2022-12-13T14:13:42.235917Z"
        },
        "trusted": true
      },
      "execution_count": 8,
      "outputs": []
    },
    {
      "cell_type": "markdown",
      "source": [
        "## Get data"
      ],
      "metadata": {
        "id": "_3cGeZXMPEwR"
      }
    },
    {
      "cell_type": "code",
      "source": [
        "def load_data():\n",
        "  interactions = pd.read_csv('kion_train/interactions.csv')\n",
        "  users = pd.read_csv('kion_train/users.csv')\n",
        "  items = pd.read_csv('kion_train/items.csv')\n",
        "  interactions.rename(\n",
        "    columns={\n",
        "        'last_watch_dt': 'datetime',\n",
        "        'total_dur': 'weight',\n",
        "    },\n",
        "    inplace=True,\n",
        "  )\n",
        "\n",
        "  interactions['datetime'] = pd.to_datetime(interactions['datetime'])\n",
        "  return interactions, users, items"
      ],
      "metadata": {
        "id": "K475YGTlOpjv",
        "execution": {
          "iopub.status.busy": "2022-12-13T14:13:42.238982Z",
          "iopub.execute_input": "2022-12-13T14:13:42.239570Z",
          "iopub.status.idle": "2022-12-13T14:13:42.247912Z",
          "shell.execute_reply.started": "2022-12-13T14:13:42.239507Z",
          "shell.execute_reply": "2022-12-13T14:13:42.246697Z"
        },
        "trusted": true
      },
      "execution_count": 9,
      "outputs": []
    },
    {
      "cell_type": "code",
      "source": [
        "interactions_df, users_df, items_df = load_data()"
      ],
      "metadata": {
        "id": "V8kgith6Opo3",
        "execution": {
          "iopub.status.busy": "2022-12-13T14:13:42.254960Z",
          "iopub.execute_input": "2022-12-13T14:13:42.256795Z",
          "iopub.status.idle": "2022-12-13T14:13:49.638453Z",
          "shell.execute_reply.started": "2022-12-13T14:13:42.256756Z",
          "shell.execute_reply": "2022-12-13T14:13:49.637356Z"
        },
        "trusted": true
      },
      "execution_count": 10,
      "outputs": []
    },
    {
      "cell_type": "code",
      "source": [
        "users_df = users_df[users_df['user_id'].isin(interactions_df['user_id'])]\n",
        "items_df = items_df[items_df['item_id'].isin(interactions_df['item_id'])]"
      ],
      "metadata": {
        "execution": {
          "iopub.status.busy": "2022-12-13T14:13:49.639928Z",
          "iopub.execute_input": "2022-12-13T14:13:49.640564Z",
          "iopub.status.idle": "2022-12-13T14:13:49.907249Z",
          "shell.execute_reply.started": "2022-12-13T14:13:49.640509Z",
          "shell.execute_reply": "2022-12-13T14:13:49.906102Z"
        },
        "trusted": true,
        "id": "eog0woIt1kvv"
      },
      "execution_count": 11,
      "outputs": []
    },
    {
      "cell_type": "markdown",
      "source": [
        "## Prepare user features"
      ],
      "metadata": {
        "id": "CkMEkBcNhkMt"
      }
    },
    {
      "cell_type": "code",
      "source": [
        "user_cat_feats = [\"age\", \"income\", \"sex\", \"kids_flg\"]\n",
        "users_ohe_df = users_df.user_id\n",
        "for feat in user_cat_feats:\n",
        "    ohe_feat_df = pd.get_dummies(users_df[feat], prefix=feat)\n",
        "    users_ohe_df = pd.concat([users_ohe_df, ohe_feat_df], axis=1)\n",
        "\n",
        "users_ohe_df.head()"
      ],
      "metadata": {
        "id": "NAZBnSEFzYey",
        "colab": {
          "base_uri": "https://localhost:8080/",
          "height": 270
        },
        "outputId": "cf0cb11d-79d5-49c9-dd25-31183bf4dcee",
        "execution": {
          "iopub.status.busy": "2022-12-13T14:13:49.908713Z",
          "iopub.execute_input": "2022-12-13T14:13:49.909343Z",
          "iopub.status.idle": "2022-12-13T14:13:50.156491Z",
          "shell.execute_reply.started": "2022-12-13T14:13:49.909295Z",
          "shell.execute_reply": "2022-12-13T14:13:50.155501Z"
        },
        "trusted": true
      },
      "execution_count": 12,
      "outputs": [
        {
          "output_type": "execute_result",
          "data": {
            "text/plain": [
              "   user_id  age_age_18_24  age_age_25_34  age_age_35_44  age_age_45_54  \\\n",
              "0   973171              0              1              0              0   \n",
              "1   962099              1              0              0              0   \n",
              "3   721985              0              0              0              1   \n",
              "4   704055              0              0              1              0   \n",
              "5  1037719              0              0              0              1   \n",
              "\n",
              "   age_age_55_64  age_age_65_inf  income_income_0_20  income_income_150_inf  \\\n",
              "0              0               0                   0                      0   \n",
              "1              0               0                   0                      0   \n",
              "3              0               0                   0                      0   \n",
              "4              0               0                   0                      0   \n",
              "5              0               0                   0                      0   \n",
              "\n",
              "   income_income_20_40  income_income_40_60  income_income_60_90  \\\n",
              "0                    0                    0                    1   \n",
              "1                    1                    0                    0   \n",
              "3                    1                    0                    0   \n",
              "4                    0                    0                    1   \n",
              "5                    0                    0                    1   \n",
              "\n",
              "   income_income_90_150  sex_Ж  sex_М  kids_flg_0  kids_flg_1  \n",
              "0                     0      0      1           0           1  \n",
              "1                     0      0      1           1           0  \n",
              "3                     0      1      0           1           0  \n",
              "4                     0      1      0           1           0  \n",
              "5                     0      0      1           1           0  "
            ],
            "text/html": [
              "\n",
              "  <div id=\"df-5714acfe-31b4-4602-8942-328c9f4bc939\">\n",
              "    <div class=\"colab-df-container\">\n",
              "      <div>\n",
              "<style scoped>\n",
              "    .dataframe tbody tr th:only-of-type {\n",
              "        vertical-align: middle;\n",
              "    }\n",
              "\n",
              "    .dataframe tbody tr th {\n",
              "        vertical-align: top;\n",
              "    }\n",
              "\n",
              "    .dataframe thead th {\n",
              "        text-align: right;\n",
              "    }\n",
              "</style>\n",
              "<table border=\"1\" class=\"dataframe\">\n",
              "  <thead>\n",
              "    <tr style=\"text-align: right;\">\n",
              "      <th></th>\n",
              "      <th>user_id</th>\n",
              "      <th>age_age_18_24</th>\n",
              "      <th>age_age_25_34</th>\n",
              "      <th>age_age_35_44</th>\n",
              "      <th>age_age_45_54</th>\n",
              "      <th>age_age_55_64</th>\n",
              "      <th>age_age_65_inf</th>\n",
              "      <th>income_income_0_20</th>\n",
              "      <th>income_income_150_inf</th>\n",
              "      <th>income_income_20_40</th>\n",
              "      <th>income_income_40_60</th>\n",
              "      <th>income_income_60_90</th>\n",
              "      <th>income_income_90_150</th>\n",
              "      <th>sex_Ж</th>\n",
              "      <th>sex_М</th>\n",
              "      <th>kids_flg_0</th>\n",
              "      <th>kids_flg_1</th>\n",
              "    </tr>\n",
              "  </thead>\n",
              "  <tbody>\n",
              "    <tr>\n",
              "      <th>0</th>\n",
              "      <td>973171</td>\n",
              "      <td>0</td>\n",
              "      <td>1</td>\n",
              "      <td>0</td>\n",
              "      <td>0</td>\n",
              "      <td>0</td>\n",
              "      <td>0</td>\n",
              "      <td>0</td>\n",
              "      <td>0</td>\n",
              "      <td>0</td>\n",
              "      <td>0</td>\n",
              "      <td>1</td>\n",
              "      <td>0</td>\n",
              "      <td>0</td>\n",
              "      <td>1</td>\n",
              "      <td>0</td>\n",
              "      <td>1</td>\n",
              "    </tr>\n",
              "    <tr>\n",
              "      <th>1</th>\n",
              "      <td>962099</td>\n",
              "      <td>1</td>\n",
              "      <td>0</td>\n",
              "      <td>0</td>\n",
              "      <td>0</td>\n",
              "      <td>0</td>\n",
              "      <td>0</td>\n",
              "      <td>0</td>\n",
              "      <td>0</td>\n",
              "      <td>1</td>\n",
              "      <td>0</td>\n",
              "      <td>0</td>\n",
              "      <td>0</td>\n",
              "      <td>0</td>\n",
              "      <td>1</td>\n",
              "      <td>1</td>\n",
              "      <td>0</td>\n",
              "    </tr>\n",
              "    <tr>\n",
              "      <th>3</th>\n",
              "      <td>721985</td>\n",
              "      <td>0</td>\n",
              "      <td>0</td>\n",
              "      <td>0</td>\n",
              "      <td>1</td>\n",
              "      <td>0</td>\n",
              "      <td>0</td>\n",
              "      <td>0</td>\n",
              "      <td>0</td>\n",
              "      <td>1</td>\n",
              "      <td>0</td>\n",
              "      <td>0</td>\n",
              "      <td>0</td>\n",
              "      <td>1</td>\n",
              "      <td>0</td>\n",
              "      <td>1</td>\n",
              "      <td>0</td>\n",
              "    </tr>\n",
              "    <tr>\n",
              "      <th>4</th>\n",
              "      <td>704055</td>\n",
              "      <td>0</td>\n",
              "      <td>0</td>\n",
              "      <td>1</td>\n",
              "      <td>0</td>\n",
              "      <td>0</td>\n",
              "      <td>0</td>\n",
              "      <td>0</td>\n",
              "      <td>0</td>\n",
              "      <td>0</td>\n",
              "      <td>0</td>\n",
              "      <td>1</td>\n",
              "      <td>0</td>\n",
              "      <td>1</td>\n",
              "      <td>0</td>\n",
              "      <td>1</td>\n",
              "      <td>0</td>\n",
              "    </tr>\n",
              "    <tr>\n",
              "      <th>5</th>\n",
              "      <td>1037719</td>\n",
              "      <td>0</td>\n",
              "      <td>0</td>\n",
              "      <td>0</td>\n",
              "      <td>1</td>\n",
              "      <td>0</td>\n",
              "      <td>0</td>\n",
              "      <td>0</td>\n",
              "      <td>0</td>\n",
              "      <td>0</td>\n",
              "      <td>0</td>\n",
              "      <td>1</td>\n",
              "      <td>0</td>\n",
              "      <td>0</td>\n",
              "      <td>1</td>\n",
              "      <td>1</td>\n",
              "      <td>0</td>\n",
              "    </tr>\n",
              "  </tbody>\n",
              "</table>\n",
              "</div>\n",
              "      <button class=\"colab-df-convert\" onclick=\"convertToInteractive('df-5714acfe-31b4-4602-8942-328c9f4bc939')\"\n",
              "              title=\"Convert this dataframe to an interactive table.\"\n",
              "              style=\"display:none;\">\n",
              "        \n",
              "  <svg xmlns=\"http://www.w3.org/2000/svg\" height=\"24px\"viewBox=\"0 0 24 24\"\n",
              "       width=\"24px\">\n",
              "    <path d=\"M0 0h24v24H0V0z\" fill=\"none\"/>\n",
              "    <path d=\"M18.56 5.44l.94 2.06.94-2.06 2.06-.94-2.06-.94-.94-2.06-.94 2.06-2.06.94zm-11 1L8.5 8.5l.94-2.06 2.06-.94-2.06-.94L8.5 2.5l-.94 2.06-2.06.94zm10 10l.94 2.06.94-2.06 2.06-.94-2.06-.94-.94-2.06-.94 2.06-2.06.94z\"/><path d=\"M17.41 7.96l-1.37-1.37c-.4-.4-.92-.59-1.43-.59-.52 0-1.04.2-1.43.59L10.3 9.45l-7.72 7.72c-.78.78-.78 2.05 0 2.83L4 21.41c.39.39.9.59 1.41.59.51 0 1.02-.2 1.41-.59l7.78-7.78 2.81-2.81c.8-.78.8-2.07 0-2.86zM5.41 20L4 18.59l7.72-7.72 1.47 1.35L5.41 20z\"/>\n",
              "  </svg>\n",
              "      </button>\n",
              "      \n",
              "  <style>\n",
              "    .colab-df-container {\n",
              "      display:flex;\n",
              "      flex-wrap:wrap;\n",
              "      gap: 12px;\n",
              "    }\n",
              "\n",
              "    .colab-df-convert {\n",
              "      background-color: #E8F0FE;\n",
              "      border: none;\n",
              "      border-radius: 50%;\n",
              "      cursor: pointer;\n",
              "      display: none;\n",
              "      fill: #1967D2;\n",
              "      height: 32px;\n",
              "      padding: 0 0 0 0;\n",
              "      width: 32px;\n",
              "    }\n",
              "\n",
              "    .colab-df-convert:hover {\n",
              "      background-color: #E2EBFA;\n",
              "      box-shadow: 0px 1px 2px rgba(60, 64, 67, 0.3), 0px 1px 3px 1px rgba(60, 64, 67, 0.15);\n",
              "      fill: #174EA6;\n",
              "    }\n",
              "\n",
              "    [theme=dark] .colab-df-convert {\n",
              "      background-color: #3B4455;\n",
              "      fill: #D2E3FC;\n",
              "    }\n",
              "\n",
              "    [theme=dark] .colab-df-convert:hover {\n",
              "      background-color: #434B5C;\n",
              "      box-shadow: 0px 1px 3px 1px rgba(0, 0, 0, 0.15);\n",
              "      filter: drop-shadow(0px 1px 2px rgba(0, 0, 0, 0.3));\n",
              "      fill: #FFFFFF;\n",
              "    }\n",
              "  </style>\n",
              "\n",
              "      <script>\n",
              "        const buttonEl =\n",
              "          document.querySelector('#df-5714acfe-31b4-4602-8942-328c9f4bc939 button.colab-df-convert');\n",
              "        buttonEl.style.display =\n",
              "          google.colab.kernel.accessAllowed ? 'block' : 'none';\n",
              "\n",
              "        async function convertToInteractive(key) {\n",
              "          const element = document.querySelector('#df-5714acfe-31b4-4602-8942-328c9f4bc939');\n",
              "          const dataTable =\n",
              "            await google.colab.kernel.invokeFunction('convertToInteractive',\n",
              "                                                     [key], {});\n",
              "          if (!dataTable) return;\n",
              "\n",
              "          const docLinkHtml = 'Like what you see? Visit the ' +\n",
              "            '<a target=\"_blank\" href=https://colab.research.google.com/notebooks/data_table.ipynb>data table notebook</a>'\n",
              "            + ' to learn more about interactive tables.';\n",
              "          element.innerHTML = '';\n",
              "          dataTable['output_type'] = 'display_data';\n",
              "          await google.colab.output.renderOutput(dataTable, element);\n",
              "          const docLink = document.createElement('div');\n",
              "          docLink.innerHTML = docLinkHtml;\n",
              "          element.appendChild(docLink);\n",
              "        }\n",
              "      </script>\n",
              "    </div>\n",
              "  </div>\n",
              "  "
            ]
          },
          "metadata": {},
          "execution_count": 12
        }
      ]
    },
    {
      "cell_type": "markdown",
      "source": [
        "## Prepare item features"
      ],
      "metadata": {
        "id": "jFyCmN_phqeG"
      }
    },
    {
      "cell_type": "code",
      "source": [
        "items_df[\"country\"] = items_df[\"countries\"].str.lower().str.replace(\", \", \",\", regex=False).str.split(\",\")\n",
        "items_df[\"country\"] = items_df[\"country\"].fillna(' ')\n",
        "items_df[\"country\"] = items_df[\"country\"].apply(lambda x: x[0])\n",
        "items_df.head(1)"
      ],
      "metadata": {
        "colab": {
          "base_uri": "https://localhost:8080/",
          "height": 194
        },
        "id": "V9sQpzAe3oMi",
        "outputId": "5c182009-2a4a-4fc7-e11b-b06aefff9e92"
      },
      "execution_count": 13,
      "outputs": [
        {
          "output_type": "execute_result",
          "data": {
            "text/plain": [
              "   item_id content_type           title      title_orig  release_year  \\\n",
              "0    10711         film  Поговори с ней  Hable con ella        2002.0   \n",
              "\n",
              "                                    genres countries  for_kids  age_rating  \\\n",
              "0  драмы, зарубежные, детективы, мелодрамы   Испания       NaN        16.0   \n",
              "\n",
              "  studios         directors  \\\n",
              "0     NaN  Педро Альмодовар   \n",
              "\n",
              "                                              actors  \\\n",
              "0  Адольфо Фернандес, Ана Фернандес, Дарио Гранди...   \n",
              "\n",
              "                                         description  \\\n",
              "0  Мелодрама легендарного Педро Альмодовара «Пого...   \n",
              "\n",
              "                                            keywords  country  \n",
              "0  Поговори, ней, 2002, Испания, друзья, любовь, ...  испания  "
            ],
            "text/html": [
              "\n",
              "  <div id=\"df-56bf4e5e-52be-44c2-9d5a-6dc3c9312165\">\n",
              "    <div class=\"colab-df-container\">\n",
              "      <div>\n",
              "<style scoped>\n",
              "    .dataframe tbody tr th:only-of-type {\n",
              "        vertical-align: middle;\n",
              "    }\n",
              "\n",
              "    .dataframe tbody tr th {\n",
              "        vertical-align: top;\n",
              "    }\n",
              "\n",
              "    .dataframe thead th {\n",
              "        text-align: right;\n",
              "    }\n",
              "</style>\n",
              "<table border=\"1\" class=\"dataframe\">\n",
              "  <thead>\n",
              "    <tr style=\"text-align: right;\">\n",
              "      <th></th>\n",
              "      <th>item_id</th>\n",
              "      <th>content_type</th>\n",
              "      <th>title</th>\n",
              "      <th>title_orig</th>\n",
              "      <th>release_year</th>\n",
              "      <th>genres</th>\n",
              "      <th>countries</th>\n",
              "      <th>for_kids</th>\n",
              "      <th>age_rating</th>\n",
              "      <th>studios</th>\n",
              "      <th>directors</th>\n",
              "      <th>actors</th>\n",
              "      <th>description</th>\n",
              "      <th>keywords</th>\n",
              "      <th>country</th>\n",
              "    </tr>\n",
              "  </thead>\n",
              "  <tbody>\n",
              "    <tr>\n",
              "      <th>0</th>\n",
              "      <td>10711</td>\n",
              "      <td>film</td>\n",
              "      <td>Поговори с ней</td>\n",
              "      <td>Hable con ella</td>\n",
              "      <td>2002.0</td>\n",
              "      <td>драмы, зарубежные, детективы, мелодрамы</td>\n",
              "      <td>Испания</td>\n",
              "      <td>NaN</td>\n",
              "      <td>16.0</td>\n",
              "      <td>NaN</td>\n",
              "      <td>Педро Альмодовар</td>\n",
              "      <td>Адольфо Фернандес, Ана Фернандес, Дарио Гранди...</td>\n",
              "      <td>Мелодрама легендарного Педро Альмодовара «Пого...</td>\n",
              "      <td>Поговори, ней, 2002, Испания, друзья, любовь, ...</td>\n",
              "      <td>испания</td>\n",
              "    </tr>\n",
              "  </tbody>\n",
              "</table>\n",
              "</div>\n",
              "      <button class=\"colab-df-convert\" onclick=\"convertToInteractive('df-56bf4e5e-52be-44c2-9d5a-6dc3c9312165')\"\n",
              "              title=\"Convert this dataframe to an interactive table.\"\n",
              "              style=\"display:none;\">\n",
              "        \n",
              "  <svg xmlns=\"http://www.w3.org/2000/svg\" height=\"24px\"viewBox=\"0 0 24 24\"\n",
              "       width=\"24px\">\n",
              "    <path d=\"M0 0h24v24H0V0z\" fill=\"none\"/>\n",
              "    <path d=\"M18.56 5.44l.94 2.06.94-2.06 2.06-.94-2.06-.94-.94-2.06-.94 2.06-2.06.94zm-11 1L8.5 8.5l.94-2.06 2.06-.94-2.06-.94L8.5 2.5l-.94 2.06-2.06.94zm10 10l.94 2.06.94-2.06 2.06-.94-2.06-.94-.94-2.06-.94 2.06-2.06.94z\"/><path d=\"M17.41 7.96l-1.37-1.37c-.4-.4-.92-.59-1.43-.59-.52 0-1.04.2-1.43.59L10.3 9.45l-7.72 7.72c-.78.78-.78 2.05 0 2.83L4 21.41c.39.39.9.59 1.41.59.51 0 1.02-.2 1.41-.59l7.78-7.78 2.81-2.81c.8-.78.8-2.07 0-2.86zM5.41 20L4 18.59l7.72-7.72 1.47 1.35L5.41 20z\"/>\n",
              "  </svg>\n",
              "      </button>\n",
              "      \n",
              "  <style>\n",
              "    .colab-df-container {\n",
              "      display:flex;\n",
              "      flex-wrap:wrap;\n",
              "      gap: 12px;\n",
              "    }\n",
              "\n",
              "    .colab-df-convert {\n",
              "      background-color: #E8F0FE;\n",
              "      border: none;\n",
              "      border-radius: 50%;\n",
              "      cursor: pointer;\n",
              "      display: none;\n",
              "      fill: #1967D2;\n",
              "      height: 32px;\n",
              "      padding: 0 0 0 0;\n",
              "      width: 32px;\n",
              "    }\n",
              "\n",
              "    .colab-df-convert:hover {\n",
              "      background-color: #E2EBFA;\n",
              "      box-shadow: 0px 1px 2px rgba(60, 64, 67, 0.3), 0px 1px 3px 1px rgba(60, 64, 67, 0.15);\n",
              "      fill: #174EA6;\n",
              "    }\n",
              "\n",
              "    [theme=dark] .colab-df-convert {\n",
              "      background-color: #3B4455;\n",
              "      fill: #D2E3FC;\n",
              "    }\n",
              "\n",
              "    [theme=dark] .colab-df-convert:hover {\n",
              "      background-color: #434B5C;\n",
              "      box-shadow: 0px 1px 3px 1px rgba(0, 0, 0, 0.15);\n",
              "      filter: drop-shadow(0px 1px 2px rgba(0, 0, 0, 0.3));\n",
              "      fill: #FFFFFF;\n",
              "    }\n",
              "  </style>\n",
              "\n",
              "      <script>\n",
              "        const buttonEl =\n",
              "          document.querySelector('#df-56bf4e5e-52be-44c2-9d5a-6dc3c9312165 button.colab-df-convert');\n",
              "        buttonEl.style.display =\n",
              "          google.colab.kernel.accessAllowed ? 'block' : 'none';\n",
              "\n",
              "        async function convertToInteractive(key) {\n",
              "          const element = document.querySelector('#df-56bf4e5e-52be-44c2-9d5a-6dc3c9312165');\n",
              "          const dataTable =\n",
              "            await google.colab.kernel.invokeFunction('convertToInteractive',\n",
              "                                                     [key], {});\n",
              "          if (!dataTable) return;\n",
              "\n",
              "          const docLinkHtml = 'Like what you see? Visit the ' +\n",
              "            '<a target=\"_blank\" href=https://colab.research.google.com/notebooks/data_table.ipynb>data table notebook</a>'\n",
              "            + ' to learn more about interactive tables.';\n",
              "          element.innerHTML = '';\n",
              "          dataTable['output_type'] = 'display_data';\n",
              "          await google.colab.output.renderOutput(dataTable, element);\n",
              "          const docLink = document.createElement('div');\n",
              "          docLink.innerHTML = docLinkHtml;\n",
              "          element.appendChild(docLink);\n",
              "        }\n",
              "      </script>\n",
              "    </div>\n",
              "  </div>\n",
              "  "
            ]
          },
          "metadata": {},
          "execution_count": 13
        }
      ]
    },
    {
      "cell_type": "code",
      "source": [
        "items_df['country'].nunique()"
      ],
      "metadata": {
        "colab": {
          "base_uri": "https://localhost:8080/"
        },
        "id": "jZz7DWBi3VdF",
        "outputId": "9504b667-4adb-45bf-f3a0-88dd76e47a77"
      },
      "execution_count": 14,
      "outputs": [
        {
          "output_type": "execute_result",
          "data": {
            "text/plain": [
              "86"
            ]
          },
          "metadata": {},
          "execution_count": 14
        }
      ]
    },
    {
      "cell_type": "code",
      "source": [
        "item_cat_feats = ['content_type', 'for_kids', 'age_rating', 'studios', 'country']\n",
        "\n",
        "items_ohe_df = items_df.item_id\n",
        "\n",
        "for feat in item_cat_feats:\n",
        "    ohe_feat_df = pd.get_dummies(items_df[feat], prefix=feat)\n",
        "    items_ohe_df = pd.concat([items_ohe_df, ohe_feat_df], axis=1) \n",
        "\n",
        "items_ohe_df.head()\n"
      ],
      "metadata": {
        "id": "GX1D-mLFzfDK",
        "colab": {
          "base_uri": "https://localhost:8080/",
          "height": 300
        },
        "outputId": "fdc94410-10da-4aa0-e30c-0405637ae83c",
        "execution": {
          "iopub.status.busy": "2022-12-13T14:13:50.158137Z",
          "iopub.execute_input": "2022-12-13T14:13:50.158560Z",
          "iopub.status.idle": "2022-12-13T14:13:50.249926Z",
          "shell.execute_reply.started": "2022-12-13T14:13:50.158510Z",
          "shell.execute_reply": "2022-12-13T14:13:50.248801Z"
        },
        "trusted": true
      },
      "execution_count": 15,
      "outputs": [
        {
          "output_type": "execute_result",
          "data": {
            "text/plain": [
              "   item_id  content_type_film  content_type_series  for_kids_0.0  \\\n",
              "0    10711                  1                    0             0   \n",
              "1     2508                  1                    0             0   \n",
              "2    10716                  1                    0             0   \n",
              "3     7868                  1                    0             0   \n",
              "4    16268                  1                    0             0   \n",
              "\n",
              "   for_kids_1.0  age_rating_0.0  age_rating_6.0  age_rating_12.0  \\\n",
              "0             0               0               0                0   \n",
              "1             0               0               0                0   \n",
              "2             0               0               0                0   \n",
              "3             0               0               0                0   \n",
              "4             0               0               0                1   \n",
              "\n",
              "   age_rating_16.0  age_rating_18.0  ...  country_хорватия  country_чехия  \\\n",
              "0                1                0  ...                 0              0   \n",
              "1                1                0  ...                 0              0   \n",
              "2                1                0  ...                 0              0   \n",
              "3                1                0  ...                 0              0   \n",
              "4                0                0  ...                 0              0   \n",
              "\n",
              "   country_чили  country_швейцария  country_швеция  country_эквадор  \\\n",
              "0             0                  0               0                0   \n",
              "1             0                  0               0                0   \n",
              "2             0                  0               0                0   \n",
              "3             0                  0               0                0   \n",
              "4             0                  0               0                0   \n",
              "\n",
              "   country_эстония  country_юар  country_югославия  country_япония  \n",
              "0                0            0                  0               0  \n",
              "1                0            0                  0               0  \n",
              "2                0            0                  0               0  \n",
              "3                0            0                  0               0  \n",
              "4                0            0                  0               0  \n",
              "\n",
              "[5 rows x 135 columns]"
            ],
            "text/html": [
              "\n",
              "  <div id=\"df-267dd826-1a79-474d-ae95-9068336ce073\">\n",
              "    <div class=\"colab-df-container\">\n",
              "      <div>\n",
              "<style scoped>\n",
              "    .dataframe tbody tr th:only-of-type {\n",
              "        vertical-align: middle;\n",
              "    }\n",
              "\n",
              "    .dataframe tbody tr th {\n",
              "        vertical-align: top;\n",
              "    }\n",
              "\n",
              "    .dataframe thead th {\n",
              "        text-align: right;\n",
              "    }\n",
              "</style>\n",
              "<table border=\"1\" class=\"dataframe\">\n",
              "  <thead>\n",
              "    <tr style=\"text-align: right;\">\n",
              "      <th></th>\n",
              "      <th>item_id</th>\n",
              "      <th>content_type_film</th>\n",
              "      <th>content_type_series</th>\n",
              "      <th>for_kids_0.0</th>\n",
              "      <th>for_kids_1.0</th>\n",
              "      <th>age_rating_0.0</th>\n",
              "      <th>age_rating_6.0</th>\n",
              "      <th>age_rating_12.0</th>\n",
              "      <th>age_rating_16.0</th>\n",
              "      <th>age_rating_18.0</th>\n",
              "      <th>...</th>\n",
              "      <th>country_хорватия</th>\n",
              "      <th>country_чехия</th>\n",
              "      <th>country_чили</th>\n",
              "      <th>country_швейцария</th>\n",
              "      <th>country_швеция</th>\n",
              "      <th>country_эквадор</th>\n",
              "      <th>country_эстония</th>\n",
              "      <th>country_юар</th>\n",
              "      <th>country_югославия</th>\n",
              "      <th>country_япония</th>\n",
              "    </tr>\n",
              "  </thead>\n",
              "  <tbody>\n",
              "    <tr>\n",
              "      <th>0</th>\n",
              "      <td>10711</td>\n",
              "      <td>1</td>\n",
              "      <td>0</td>\n",
              "      <td>0</td>\n",
              "      <td>0</td>\n",
              "      <td>0</td>\n",
              "      <td>0</td>\n",
              "      <td>0</td>\n",
              "      <td>1</td>\n",
              "      <td>0</td>\n",
              "      <td>...</td>\n",
              "      <td>0</td>\n",
              "      <td>0</td>\n",
              "      <td>0</td>\n",
              "      <td>0</td>\n",
              "      <td>0</td>\n",
              "      <td>0</td>\n",
              "      <td>0</td>\n",
              "      <td>0</td>\n",
              "      <td>0</td>\n",
              "      <td>0</td>\n",
              "    </tr>\n",
              "    <tr>\n",
              "      <th>1</th>\n",
              "      <td>2508</td>\n",
              "      <td>1</td>\n",
              "      <td>0</td>\n",
              "      <td>0</td>\n",
              "      <td>0</td>\n",
              "      <td>0</td>\n",
              "      <td>0</td>\n",
              "      <td>0</td>\n",
              "      <td>1</td>\n",
              "      <td>0</td>\n",
              "      <td>...</td>\n",
              "      <td>0</td>\n",
              "      <td>0</td>\n",
              "      <td>0</td>\n",
              "      <td>0</td>\n",
              "      <td>0</td>\n",
              "      <td>0</td>\n",
              "      <td>0</td>\n",
              "      <td>0</td>\n",
              "      <td>0</td>\n",
              "      <td>0</td>\n",
              "    </tr>\n",
              "    <tr>\n",
              "      <th>2</th>\n",
              "      <td>10716</td>\n",
              "      <td>1</td>\n",
              "      <td>0</td>\n",
              "      <td>0</td>\n",
              "      <td>0</td>\n",
              "      <td>0</td>\n",
              "      <td>0</td>\n",
              "      <td>0</td>\n",
              "      <td>1</td>\n",
              "      <td>0</td>\n",
              "      <td>...</td>\n",
              "      <td>0</td>\n",
              "      <td>0</td>\n",
              "      <td>0</td>\n",
              "      <td>0</td>\n",
              "      <td>0</td>\n",
              "      <td>0</td>\n",
              "      <td>0</td>\n",
              "      <td>0</td>\n",
              "      <td>0</td>\n",
              "      <td>0</td>\n",
              "    </tr>\n",
              "    <tr>\n",
              "      <th>3</th>\n",
              "      <td>7868</td>\n",
              "      <td>1</td>\n",
              "      <td>0</td>\n",
              "      <td>0</td>\n",
              "      <td>0</td>\n",
              "      <td>0</td>\n",
              "      <td>0</td>\n",
              "      <td>0</td>\n",
              "      <td>1</td>\n",
              "      <td>0</td>\n",
              "      <td>...</td>\n",
              "      <td>0</td>\n",
              "      <td>0</td>\n",
              "      <td>0</td>\n",
              "      <td>0</td>\n",
              "      <td>0</td>\n",
              "      <td>0</td>\n",
              "      <td>0</td>\n",
              "      <td>0</td>\n",
              "      <td>0</td>\n",
              "      <td>0</td>\n",
              "    </tr>\n",
              "    <tr>\n",
              "      <th>4</th>\n",
              "      <td>16268</td>\n",
              "      <td>1</td>\n",
              "      <td>0</td>\n",
              "      <td>0</td>\n",
              "      <td>0</td>\n",
              "      <td>0</td>\n",
              "      <td>0</td>\n",
              "      <td>1</td>\n",
              "      <td>0</td>\n",
              "      <td>0</td>\n",
              "      <td>...</td>\n",
              "      <td>0</td>\n",
              "      <td>0</td>\n",
              "      <td>0</td>\n",
              "      <td>0</td>\n",
              "      <td>0</td>\n",
              "      <td>0</td>\n",
              "      <td>0</td>\n",
              "      <td>0</td>\n",
              "      <td>0</td>\n",
              "      <td>0</td>\n",
              "    </tr>\n",
              "  </tbody>\n",
              "</table>\n",
              "<p>5 rows × 135 columns</p>\n",
              "</div>\n",
              "      <button class=\"colab-df-convert\" onclick=\"convertToInteractive('df-267dd826-1a79-474d-ae95-9068336ce073')\"\n",
              "              title=\"Convert this dataframe to an interactive table.\"\n",
              "              style=\"display:none;\">\n",
              "        \n",
              "  <svg xmlns=\"http://www.w3.org/2000/svg\" height=\"24px\"viewBox=\"0 0 24 24\"\n",
              "       width=\"24px\">\n",
              "    <path d=\"M0 0h24v24H0V0z\" fill=\"none\"/>\n",
              "    <path d=\"M18.56 5.44l.94 2.06.94-2.06 2.06-.94-2.06-.94-.94-2.06-.94 2.06-2.06.94zm-11 1L8.5 8.5l.94-2.06 2.06-.94-2.06-.94L8.5 2.5l-.94 2.06-2.06.94zm10 10l.94 2.06.94-2.06 2.06-.94-2.06-.94-.94-2.06-.94 2.06-2.06.94z\"/><path d=\"M17.41 7.96l-1.37-1.37c-.4-.4-.92-.59-1.43-.59-.52 0-1.04.2-1.43.59L10.3 9.45l-7.72 7.72c-.78.78-.78 2.05 0 2.83L4 21.41c.39.39.9.59 1.41.59.51 0 1.02-.2 1.41-.59l7.78-7.78 2.81-2.81c.8-.78.8-2.07 0-2.86zM5.41 20L4 18.59l7.72-7.72 1.47 1.35L5.41 20z\"/>\n",
              "  </svg>\n",
              "      </button>\n",
              "      \n",
              "  <style>\n",
              "    .colab-df-container {\n",
              "      display:flex;\n",
              "      flex-wrap:wrap;\n",
              "      gap: 12px;\n",
              "    }\n",
              "\n",
              "    .colab-df-convert {\n",
              "      background-color: #E8F0FE;\n",
              "      border: none;\n",
              "      border-radius: 50%;\n",
              "      cursor: pointer;\n",
              "      display: none;\n",
              "      fill: #1967D2;\n",
              "      height: 32px;\n",
              "      padding: 0 0 0 0;\n",
              "      width: 32px;\n",
              "    }\n",
              "\n",
              "    .colab-df-convert:hover {\n",
              "      background-color: #E2EBFA;\n",
              "      box-shadow: 0px 1px 2px rgba(60, 64, 67, 0.3), 0px 1px 3px 1px rgba(60, 64, 67, 0.15);\n",
              "      fill: #174EA6;\n",
              "    }\n",
              "\n",
              "    [theme=dark] .colab-df-convert {\n",
              "      background-color: #3B4455;\n",
              "      fill: #D2E3FC;\n",
              "    }\n",
              "\n",
              "    [theme=dark] .colab-df-convert:hover {\n",
              "      background-color: #434B5C;\n",
              "      box-shadow: 0px 1px 3px 1px rgba(0, 0, 0, 0.15);\n",
              "      filter: drop-shadow(0px 1px 2px rgba(0, 0, 0, 0.3));\n",
              "      fill: #FFFFFF;\n",
              "    }\n",
              "  </style>\n",
              "\n",
              "      <script>\n",
              "        const buttonEl =\n",
              "          document.querySelector('#df-267dd826-1a79-474d-ae95-9068336ce073 button.colab-df-convert');\n",
              "        buttonEl.style.display =\n",
              "          google.colab.kernel.accessAllowed ? 'block' : 'none';\n",
              "\n",
              "        async function convertToInteractive(key) {\n",
              "          const element = document.querySelector('#df-267dd826-1a79-474d-ae95-9068336ce073');\n",
              "          const dataTable =\n",
              "            await google.colab.kernel.invokeFunction('convertToInteractive',\n",
              "                                                     [key], {});\n",
              "          if (!dataTable) return;\n",
              "\n",
              "          const docLinkHtml = 'Like what you see? Visit the ' +\n",
              "            '<a target=\"_blank\" href=https://colab.research.google.com/notebooks/data_table.ipynb>data table notebook</a>'\n",
              "            + ' to learn more about interactive tables.';\n",
              "          element.innerHTML = '';\n",
              "          dataTable['output_type'] = 'display_data';\n",
              "          await google.colab.output.renderOutput(dataTable, element);\n",
              "          const docLink = document.createElement('div');\n",
              "          docLink.innerHTML = docLinkHtml;\n",
              "          element.appendChild(docLink);\n",
              "        }\n",
              "      </script>\n",
              "    </div>\n",
              "  </div>\n",
              "  "
            ]
          },
          "metadata": {},
          "execution_count": 15
        }
      ]
    },
    {
      "cell_type": "markdown",
      "source": [
        "## Filter interactions"
      ],
      "metadata": {
        "id": "EpuZB8iUh7_E"
      }
    },
    {
      "cell_type": "markdown",
      "source": [
        "Filter out unpopular items and users"
      ],
      "metadata": {
        "id": "VGvI-pptul50"
      }
    },
    {
      "cell_type": "code",
      "source": [
        "print(f\"N users before: {interactions_df.user_id.nunique()}\")\n",
        "print(f\"N items before: {interactions_df.item_id.nunique()}\\n\")\n",
        "\n",
        "interactions_df = interactions_df[interactions_df.watched_pct > 10]\n",
        "\n",
        "\n",
        "valid_users = []\n",
        "\n",
        "c = Counter(interactions_df.user_id)\n",
        "for user_id, entries in c.most_common():\n",
        "    if entries > 5:\n",
        "        valid_users.append(user_id)\n",
        "\n",
        "valid_items = []\n",
        "\n",
        "c = Counter(interactions_df.item_id)\n",
        "for item_id, entries in c.most_common():\n",
        "    if entries > 10:\n",
        "        valid_items.append(item_id)\n",
        "\n",
        "interactions_df = interactions_df[interactions_df.user_id.isin(valid_users)]\n",
        "interactions_df = interactions_df[interactions_df.item_id.isin(valid_items)]\n",
        "\n",
        "print(f\"N users after: {interactions_df.user_id.nunique()}\")\n",
        "print(f\"N items after: {interactions_df.item_id.nunique()}\")"
      ],
      "metadata": {
        "id": "s3Q7f_ZOhvfs",
        "colab": {
          "base_uri": "https://localhost:8080/"
        },
        "outputId": "be0bd8e4-598a-43bd-b3e2-24647827c86c",
        "execution": {
          "iopub.status.busy": "2022-12-13T14:13:50.251832Z",
          "iopub.execute_input": "2022-12-13T14:13:50.252229Z",
          "iopub.status.idle": "2022-12-13T14:13:53.270858Z",
          "shell.execute_reply.started": "2022-12-13T14:13:50.252190Z",
          "shell.execute_reply": "2022-12-13T14:13:53.269592Z"
        },
        "trusted": true
      },
      "execution_count": 16,
      "outputs": [
        {
          "output_type": "stream",
          "name": "stdout",
          "text": [
            "N users before: 962179\n",
            "N items before: 15706\n",
            "\n",
            "N users after: 170681\n",
            "N items after: 6901\n"
          ]
        }
      ]
    },
    {
      "cell_type": "code",
      "source": [
        "common_users = set(interactions_df.user_id.unique()).intersection(set(users_ohe_df.user_id.unique()))\n",
        "common_items = set(interactions_df.item_id.unique()).intersection(set(items_ohe_df.item_id.unique()))\n",
        "\n",
        "print(len(common_users))\n",
        "print(len(common_items))\n",
        "\n",
        "interactions_df = interactions_df[interactions_df.item_id.isin(common_items)]\n",
        "interactions_df = interactions_df[interactions_df.user_id.isin(common_users)]\n",
        "\n",
        "items_ohe_df = items_ohe_df[items_ohe_df.item_id.isin(common_items)]\n",
        "users_ohe_df = users_ohe_df[users_ohe_df.user_id.isin(common_users)]"
      ],
      "metadata": {
        "id": "S4u7m2i1z3OT",
        "colab": {
          "base_uri": "https://localhost:8080/"
        },
        "outputId": "c06371a1-cbe0-4934-bf4d-fc0a4b3f21d3",
        "execution": {
          "iopub.status.busy": "2022-12-13T14:13:53.272756Z",
          "iopub.execute_input": "2022-12-13T14:13:53.273182Z",
          "iopub.status.idle": "2022-12-13T14:13:53.872190Z",
          "shell.execute_reply.started": "2022-12-13T14:13:53.273135Z",
          "shell.execute_reply": "2022-12-13T14:13:53.871085Z"
        },
        "trusted": true
      },
      "execution_count": 17,
      "outputs": [
        {
          "output_type": "stream",
          "name": "stdout",
          "text": [
            "139209\n",
            "6901\n"
          ]
        }
      ]
    },
    {
      "cell_type": "code",
      "source": [
        "del common_users, common_items\n",
        "gc.collect()"
      ],
      "metadata": {
        "execution": {
          "iopub.status.busy": "2022-12-13T14:13:53.873768Z",
          "iopub.execute_input": "2022-12-13T14:13:53.874149Z",
          "iopub.status.idle": "2022-12-13T14:13:54.097895Z",
          "shell.execute_reply.started": "2022-12-13T14:13:53.874105Z",
          "shell.execute_reply": "2022-12-13T14:13:54.096740Z"
        },
        "trusted": true,
        "colab": {
          "base_uri": "https://localhost:8080/"
        },
        "id": "x2FOWJNV1kvx",
        "outputId": "35bc0023-f163-4672-d5b0-a6767cd345da"
      },
      "execution_count": 18,
      "outputs": [
        {
          "output_type": "execute_result",
          "data": {
            "text/plain": [
              "32"
            ]
          },
          "metadata": {},
          "execution_count": 18
        }
      ]
    },
    {
      "cell_type": "markdown",
      "source": [
        "## Build interactions matrix"
      ],
      "metadata": {
        "id": "uxCdVVbG0AF1"
      }
    },
    {
      "cell_type": "code",
      "source": [
        "interactions_df[\"uid\"] = interactions_df[\"user_id\"].astype(\"category\")\n",
        "interactions_df[\"uid\"] = interactions_df[\"uid\"].cat.codes\n",
        "\n",
        "interactions_df[\"iid\"] = interactions_df[\"item_id\"].astype(\"category\")\n",
        "interactions_df[\"iid\"] = interactions_df[\"iid\"].cat.codes\n",
        "\n",
        "interactions_df.head()"
      ],
      "metadata": {
        "id": "qy8tDOEOz_0Y",
        "colab": {
          "base_uri": "https://localhost:8080/",
          "height": 206
        },
        "outputId": "c10550da-3381-4936-d6b0-bedb5868f0ed",
        "execution": {
          "iopub.status.busy": "2022-12-13T14:13:54.099750Z",
          "iopub.execute_input": "2022-12-13T14:13:54.100458Z",
          "iopub.status.idle": "2022-12-13T14:13:54.235322Z",
          "shell.execute_reply.started": "2022-12-13T14:13:54.100419Z",
          "shell.execute_reply": "2022-12-13T14:13:54.234286Z"
        },
        "trusted": true
      },
      "execution_count": 19,
      "outputs": [
        {
          "output_type": "execute_result",
          "data": {
            "text/plain": [
              "   user_id  item_id   datetime  weight  watched_pct     uid   iid\n",
              "0   176549     9506 2021-05-11    4250         72.0   22413  3945\n",
              "1   699317     1659 2021-05-29    8317        100.0   88768   675\n",
              "3   864613     7638 2021-07-05   14483        100.0  109925  3163\n",
              "6  1016458      354 2021-08-14    1672         25.0  128826   139\n",
              "7   884009      693 2021-08-04     703         14.0  112355   279"
            ],
            "text/html": [
              "\n",
              "  <div id=\"df-9b39684d-f689-4aff-8419-ddac77a65eed\">\n",
              "    <div class=\"colab-df-container\">\n",
              "      <div>\n",
              "<style scoped>\n",
              "    .dataframe tbody tr th:only-of-type {\n",
              "        vertical-align: middle;\n",
              "    }\n",
              "\n",
              "    .dataframe tbody tr th {\n",
              "        vertical-align: top;\n",
              "    }\n",
              "\n",
              "    .dataframe thead th {\n",
              "        text-align: right;\n",
              "    }\n",
              "</style>\n",
              "<table border=\"1\" class=\"dataframe\">\n",
              "  <thead>\n",
              "    <tr style=\"text-align: right;\">\n",
              "      <th></th>\n",
              "      <th>user_id</th>\n",
              "      <th>item_id</th>\n",
              "      <th>datetime</th>\n",
              "      <th>weight</th>\n",
              "      <th>watched_pct</th>\n",
              "      <th>uid</th>\n",
              "      <th>iid</th>\n",
              "    </tr>\n",
              "  </thead>\n",
              "  <tbody>\n",
              "    <tr>\n",
              "      <th>0</th>\n",
              "      <td>176549</td>\n",
              "      <td>9506</td>\n",
              "      <td>2021-05-11</td>\n",
              "      <td>4250</td>\n",
              "      <td>72.0</td>\n",
              "      <td>22413</td>\n",
              "      <td>3945</td>\n",
              "    </tr>\n",
              "    <tr>\n",
              "      <th>1</th>\n",
              "      <td>699317</td>\n",
              "      <td>1659</td>\n",
              "      <td>2021-05-29</td>\n",
              "      <td>8317</td>\n",
              "      <td>100.0</td>\n",
              "      <td>88768</td>\n",
              "      <td>675</td>\n",
              "    </tr>\n",
              "    <tr>\n",
              "      <th>3</th>\n",
              "      <td>864613</td>\n",
              "      <td>7638</td>\n",
              "      <td>2021-07-05</td>\n",
              "      <td>14483</td>\n",
              "      <td>100.0</td>\n",
              "      <td>109925</td>\n",
              "      <td>3163</td>\n",
              "    </tr>\n",
              "    <tr>\n",
              "      <th>6</th>\n",
              "      <td>1016458</td>\n",
              "      <td>354</td>\n",
              "      <td>2021-08-14</td>\n",
              "      <td>1672</td>\n",
              "      <td>25.0</td>\n",
              "      <td>128826</td>\n",
              "      <td>139</td>\n",
              "    </tr>\n",
              "    <tr>\n",
              "      <th>7</th>\n",
              "      <td>884009</td>\n",
              "      <td>693</td>\n",
              "      <td>2021-08-04</td>\n",
              "      <td>703</td>\n",
              "      <td>14.0</td>\n",
              "      <td>112355</td>\n",
              "      <td>279</td>\n",
              "    </tr>\n",
              "  </tbody>\n",
              "</table>\n",
              "</div>\n",
              "      <button class=\"colab-df-convert\" onclick=\"convertToInteractive('df-9b39684d-f689-4aff-8419-ddac77a65eed')\"\n",
              "              title=\"Convert this dataframe to an interactive table.\"\n",
              "              style=\"display:none;\">\n",
              "        \n",
              "  <svg xmlns=\"http://www.w3.org/2000/svg\" height=\"24px\"viewBox=\"0 0 24 24\"\n",
              "       width=\"24px\">\n",
              "    <path d=\"M0 0h24v24H0V0z\" fill=\"none\"/>\n",
              "    <path d=\"M18.56 5.44l.94 2.06.94-2.06 2.06-.94-2.06-.94-.94-2.06-.94 2.06-2.06.94zm-11 1L8.5 8.5l.94-2.06 2.06-.94-2.06-.94L8.5 2.5l-.94 2.06-2.06.94zm10 10l.94 2.06.94-2.06 2.06-.94-2.06-.94-.94-2.06-.94 2.06-2.06.94z\"/><path d=\"M17.41 7.96l-1.37-1.37c-.4-.4-.92-.59-1.43-.59-.52 0-1.04.2-1.43.59L10.3 9.45l-7.72 7.72c-.78.78-.78 2.05 0 2.83L4 21.41c.39.39.9.59 1.41.59.51 0 1.02-.2 1.41-.59l7.78-7.78 2.81-2.81c.8-.78.8-2.07 0-2.86zM5.41 20L4 18.59l7.72-7.72 1.47 1.35L5.41 20z\"/>\n",
              "  </svg>\n",
              "      </button>\n",
              "      \n",
              "  <style>\n",
              "    .colab-df-container {\n",
              "      display:flex;\n",
              "      flex-wrap:wrap;\n",
              "      gap: 12px;\n",
              "    }\n",
              "\n",
              "    .colab-df-convert {\n",
              "      background-color: #E8F0FE;\n",
              "      border: none;\n",
              "      border-radius: 50%;\n",
              "      cursor: pointer;\n",
              "      display: none;\n",
              "      fill: #1967D2;\n",
              "      height: 32px;\n",
              "      padding: 0 0 0 0;\n",
              "      width: 32px;\n",
              "    }\n",
              "\n",
              "    .colab-df-convert:hover {\n",
              "      background-color: #E2EBFA;\n",
              "      box-shadow: 0px 1px 2px rgba(60, 64, 67, 0.3), 0px 1px 3px 1px rgba(60, 64, 67, 0.15);\n",
              "      fill: #174EA6;\n",
              "    }\n",
              "\n",
              "    [theme=dark] .colab-df-convert {\n",
              "      background-color: #3B4455;\n",
              "      fill: #D2E3FC;\n",
              "    }\n",
              "\n",
              "    [theme=dark] .colab-df-convert:hover {\n",
              "      background-color: #434B5C;\n",
              "      box-shadow: 0px 1px 3px 1px rgba(0, 0, 0, 0.15);\n",
              "      filter: drop-shadow(0px 1px 2px rgba(0, 0, 0, 0.3));\n",
              "      fill: #FFFFFF;\n",
              "    }\n",
              "  </style>\n",
              "\n",
              "      <script>\n",
              "        const buttonEl =\n",
              "          document.querySelector('#df-9b39684d-f689-4aff-8419-ddac77a65eed button.colab-df-convert');\n",
              "        buttonEl.style.display =\n",
              "          google.colab.kernel.accessAllowed ? 'block' : 'none';\n",
              "\n",
              "        async function convertToInteractive(key) {\n",
              "          const element = document.querySelector('#df-9b39684d-f689-4aff-8419-ddac77a65eed');\n",
              "          const dataTable =\n",
              "            await google.colab.kernel.invokeFunction('convertToInteractive',\n",
              "                                                     [key], {});\n",
              "          if (!dataTable) return;\n",
              "\n",
              "          const docLinkHtml = 'Like what you see? Visit the ' +\n",
              "            '<a target=\"_blank\" href=https://colab.research.google.com/notebooks/data_table.ipynb>data table notebook</a>'\n",
              "            + ' to learn more about interactive tables.';\n",
              "          element.innerHTML = '';\n",
              "          dataTable['output_type'] = 'display_data';\n",
              "          await google.colab.output.renderOutput(dataTable, element);\n",
              "          const docLink = document.createElement('div');\n",
              "          docLink.innerHTML = docLinkHtml;\n",
              "          element.appendChild(docLink);\n",
              "        }\n",
              "      </script>\n",
              "    </div>\n",
              "  </div>\n",
              "  "
            ]
          },
          "metadata": {},
          "execution_count": 19
        }
      ]
    },
    {
      "cell_type": "code",
      "source": [
        "interactions_df.head()"
      ],
      "metadata": {
        "colab": {
          "base_uri": "https://localhost:8080/",
          "height": 206
        },
        "id": "9Z1pDJm9vv4R",
        "outputId": "340693d1-1bba-4440-8fe1-147c37c38df6",
        "execution": {
          "iopub.status.busy": "2022-12-13T14:13:54.237367Z",
          "iopub.execute_input": "2022-12-13T14:13:54.238566Z",
          "iopub.status.idle": "2022-12-13T14:13:54.252956Z",
          "shell.execute_reply.started": "2022-12-13T14:13:54.238508Z",
          "shell.execute_reply": "2022-12-13T14:13:54.252018Z"
        },
        "trusted": true
      },
      "execution_count": 20,
      "outputs": [
        {
          "output_type": "execute_result",
          "data": {
            "text/plain": [
              "   user_id  item_id   datetime  weight  watched_pct     uid   iid\n",
              "0   176549     9506 2021-05-11    4250         72.0   22413  3945\n",
              "1   699317     1659 2021-05-29    8317        100.0   88768   675\n",
              "3   864613     7638 2021-07-05   14483        100.0  109925  3163\n",
              "6  1016458      354 2021-08-14    1672         25.0  128826   139\n",
              "7   884009      693 2021-08-04     703         14.0  112355   279"
            ],
            "text/html": [
              "\n",
              "  <div id=\"df-02300ab4-213a-46da-969f-47c9fbba5b59\">\n",
              "    <div class=\"colab-df-container\">\n",
              "      <div>\n",
              "<style scoped>\n",
              "    .dataframe tbody tr th:only-of-type {\n",
              "        vertical-align: middle;\n",
              "    }\n",
              "\n",
              "    .dataframe tbody tr th {\n",
              "        vertical-align: top;\n",
              "    }\n",
              "\n",
              "    .dataframe thead th {\n",
              "        text-align: right;\n",
              "    }\n",
              "</style>\n",
              "<table border=\"1\" class=\"dataframe\">\n",
              "  <thead>\n",
              "    <tr style=\"text-align: right;\">\n",
              "      <th></th>\n",
              "      <th>user_id</th>\n",
              "      <th>item_id</th>\n",
              "      <th>datetime</th>\n",
              "      <th>weight</th>\n",
              "      <th>watched_pct</th>\n",
              "      <th>uid</th>\n",
              "      <th>iid</th>\n",
              "    </tr>\n",
              "  </thead>\n",
              "  <tbody>\n",
              "    <tr>\n",
              "      <th>0</th>\n",
              "      <td>176549</td>\n",
              "      <td>9506</td>\n",
              "      <td>2021-05-11</td>\n",
              "      <td>4250</td>\n",
              "      <td>72.0</td>\n",
              "      <td>22413</td>\n",
              "      <td>3945</td>\n",
              "    </tr>\n",
              "    <tr>\n",
              "      <th>1</th>\n",
              "      <td>699317</td>\n",
              "      <td>1659</td>\n",
              "      <td>2021-05-29</td>\n",
              "      <td>8317</td>\n",
              "      <td>100.0</td>\n",
              "      <td>88768</td>\n",
              "      <td>675</td>\n",
              "    </tr>\n",
              "    <tr>\n",
              "      <th>3</th>\n",
              "      <td>864613</td>\n",
              "      <td>7638</td>\n",
              "      <td>2021-07-05</td>\n",
              "      <td>14483</td>\n",
              "      <td>100.0</td>\n",
              "      <td>109925</td>\n",
              "      <td>3163</td>\n",
              "    </tr>\n",
              "    <tr>\n",
              "      <th>6</th>\n",
              "      <td>1016458</td>\n",
              "      <td>354</td>\n",
              "      <td>2021-08-14</td>\n",
              "      <td>1672</td>\n",
              "      <td>25.0</td>\n",
              "      <td>128826</td>\n",
              "      <td>139</td>\n",
              "    </tr>\n",
              "    <tr>\n",
              "      <th>7</th>\n",
              "      <td>884009</td>\n",
              "      <td>693</td>\n",
              "      <td>2021-08-04</td>\n",
              "      <td>703</td>\n",
              "      <td>14.0</td>\n",
              "      <td>112355</td>\n",
              "      <td>279</td>\n",
              "    </tr>\n",
              "  </tbody>\n",
              "</table>\n",
              "</div>\n",
              "      <button class=\"colab-df-convert\" onclick=\"convertToInteractive('df-02300ab4-213a-46da-969f-47c9fbba5b59')\"\n",
              "              title=\"Convert this dataframe to an interactive table.\"\n",
              "              style=\"display:none;\">\n",
              "        \n",
              "  <svg xmlns=\"http://www.w3.org/2000/svg\" height=\"24px\"viewBox=\"0 0 24 24\"\n",
              "       width=\"24px\">\n",
              "    <path d=\"M0 0h24v24H0V0z\" fill=\"none\"/>\n",
              "    <path d=\"M18.56 5.44l.94 2.06.94-2.06 2.06-.94-2.06-.94-.94-2.06-.94 2.06-2.06.94zm-11 1L8.5 8.5l.94-2.06 2.06-.94-2.06-.94L8.5 2.5l-.94 2.06-2.06.94zm10 10l.94 2.06.94-2.06 2.06-.94-2.06-.94-.94-2.06-.94 2.06-2.06.94z\"/><path d=\"M17.41 7.96l-1.37-1.37c-.4-.4-.92-.59-1.43-.59-.52 0-1.04.2-1.43.59L10.3 9.45l-7.72 7.72c-.78.78-.78 2.05 0 2.83L4 21.41c.39.39.9.59 1.41.59.51 0 1.02-.2 1.41-.59l7.78-7.78 2.81-2.81c.8-.78.8-2.07 0-2.86zM5.41 20L4 18.59l7.72-7.72 1.47 1.35L5.41 20z\"/>\n",
              "  </svg>\n",
              "      </button>\n",
              "      \n",
              "  <style>\n",
              "    .colab-df-container {\n",
              "      display:flex;\n",
              "      flex-wrap:wrap;\n",
              "      gap: 12px;\n",
              "    }\n",
              "\n",
              "    .colab-df-convert {\n",
              "      background-color: #E8F0FE;\n",
              "      border: none;\n",
              "      border-radius: 50%;\n",
              "      cursor: pointer;\n",
              "      display: none;\n",
              "      fill: #1967D2;\n",
              "      height: 32px;\n",
              "      padding: 0 0 0 0;\n",
              "      width: 32px;\n",
              "    }\n",
              "\n",
              "    .colab-df-convert:hover {\n",
              "      background-color: #E2EBFA;\n",
              "      box-shadow: 0px 1px 2px rgba(60, 64, 67, 0.3), 0px 1px 3px 1px rgba(60, 64, 67, 0.15);\n",
              "      fill: #174EA6;\n",
              "    }\n",
              "\n",
              "    [theme=dark] .colab-df-convert {\n",
              "      background-color: #3B4455;\n",
              "      fill: #D2E3FC;\n",
              "    }\n",
              "\n",
              "    [theme=dark] .colab-df-convert:hover {\n",
              "      background-color: #434B5C;\n",
              "      box-shadow: 0px 1px 3px 1px rgba(0, 0, 0, 0.15);\n",
              "      filter: drop-shadow(0px 1px 2px rgba(0, 0, 0, 0.3));\n",
              "      fill: #FFFFFF;\n",
              "    }\n",
              "  </style>\n",
              "\n",
              "      <script>\n",
              "        const buttonEl =\n",
              "          document.querySelector('#df-02300ab4-213a-46da-969f-47c9fbba5b59 button.colab-df-convert');\n",
              "        buttonEl.style.display =\n",
              "          google.colab.kernel.accessAllowed ? 'block' : 'none';\n",
              "\n",
              "        async function convertToInteractive(key) {\n",
              "          const element = document.querySelector('#df-02300ab4-213a-46da-969f-47c9fbba5b59');\n",
              "          const dataTable =\n",
              "            await google.colab.kernel.invokeFunction('convertToInteractive',\n",
              "                                                     [key], {});\n",
              "          if (!dataTable) return;\n",
              "\n",
              "          const docLinkHtml = 'Like what you see? Visit the ' +\n",
              "            '<a target=\"_blank\" href=https://colab.research.google.com/notebooks/data_table.ipynb>data table notebook</a>'\n",
              "            + ' to learn more about interactive tables.';\n",
              "          element.innerHTML = '';\n",
              "          dataTable['output_type'] = 'display_data';\n",
              "          await google.colab.output.renderOutput(dataTable, element);\n",
              "          const docLink = document.createElement('div');\n",
              "          docLink.innerHTML = docLinkHtml;\n",
              "          element.appendChild(docLink);\n",
              "        }\n",
              "      </script>\n",
              "    </div>\n",
              "  </div>\n",
              "  "
            ]
          },
          "metadata": {},
          "execution_count": 20
        }
      ]
    },
    {
      "cell_type": "code",
      "source": [
        "interactions_vec = np.zeros((interactions_df.uid.nunique(), interactions_df.iid.nunique())) \n",
        "\n",
        "for user_id, item_id in zip(interactions_df.uid, interactions_df.iid):\n",
        "    interactions_vec[user_id, item_id] += 1\n",
        "\n",
        "res = interactions_vec.sum(axis=1)\n",
        "for i in range(len(interactions_vec)):\n",
        "    interactions_vec[i] /= res[i]"
      ],
      "metadata": {
        "id": "hyE8aJap0Y5l",
        "execution": {
          "iopub.status.busy": "2022-12-13T14:13:54.255020Z",
          "iopub.execute_input": "2022-12-13T14:13:54.255369Z",
          "iopub.status.idle": "2022-12-13T14:14:08.819843Z",
          "shell.execute_reply.started": "2022-12-13T14:13:54.255342Z",
          "shell.execute_reply": "2022-12-13T14:14:08.818766Z"
        },
        "trusted": true
      },
      "execution_count": 21,
      "outputs": []
    },
    {
      "cell_type": "code",
      "source": [
        "items_ohe_df = items_ohe_df[items_ohe_df['item_id'] != 11805]\n",
        "print(interactions_df.item_id.nunique())\n",
        "print(items_ohe_df.item_id.nunique())\n",
        "print(interactions_df.user_id.nunique())\n",
        "print(users_ohe_df.user_id.nunique())\n",
        "\n",
        "print(set(items_ohe_df.item_id.unique()) - set(interactions_df.item_id.unique()))"
      ],
      "metadata": {
        "id": "aELU1sQH0c7y",
        "colab": {
          "base_uri": "https://localhost:8080/"
        },
        "outputId": "74bd4e24-4c6b-4a39-d8b2-c91db2854772",
        "execution": {
          "iopub.status.busy": "2022-12-13T14:14:08.824654Z",
          "iopub.execute_input": "2022-12-13T14:14:08.827279Z",
          "iopub.status.idle": "2022-12-13T14:14:08.973650Z",
          "shell.execute_reply.started": "2022-12-13T14:14:08.827239Z",
          "shell.execute_reply": "2022-12-13T14:14:08.972686Z"
        },
        "trusted": true
      },
      "execution_count": 22,
      "outputs": [
        {
          "output_type": "stream",
          "name": "stdout",
          "text": [
            "6900\n",
            "6900\n",
            "139209\n",
            "139209\n",
            "set()\n"
          ]
        }
      ]
    },
    {
      "cell_type": "markdown",
      "source": [
        "## Mappings"
      ],
      "metadata": {
        "id": "C6nTMYF_0f-U"
      }
    },
    {
      "cell_type": "code",
      "source": [
        "iid_to_item_id = interactions_df[[\"iid\", \"item_id\"]].drop_duplicates().set_index(\"iid\").to_dict()[\"item_id\"]\n",
        "item_id_to_iid = interactions_df[[\"iid\", \"item_id\"]].drop_duplicates().set_index(\"item_id\").to_dict()[\"iid\"]\n",
        "\n",
        "uid_to_user_id = interactions_df[[\"uid\", \"user_id\"]].drop_duplicates().set_index(\"uid\").to_dict()[\"user_id\"]\n",
        "user_id_to_uid = interactions_df[[\"uid\", \"user_id\"]].drop_duplicates().set_index(\"user_id\").to_dict()[\"uid\"]\n"
      ],
      "metadata": {
        "id": "xIMq1mla0dVD",
        "execution": {
          "iopub.status.busy": "2022-12-13T14:14:08.977827Z",
          "iopub.execute_input": "2022-12-13T14:14:08.980445Z",
          "iopub.status.idle": "2022-12-13T14:14:09.959189Z",
          "shell.execute_reply.started": "2022-12-13T14:14:08.980403Z",
          "shell.execute_reply": "2022-12-13T14:14:09.958142Z"
        },
        "trusted": true
      },
      "execution_count": 23,
      "outputs": []
    },
    {
      "cell_type": "code",
      "source": [
        "items_ohe_df[\"iid\"] = items_ohe_df[\"item_id\"].apply(lambda x: item_id_to_iid[x])\n",
        "items_ohe_df = items_ohe_df.set_index(\"iid\")\n",
        "\n",
        "users_ohe_df[\"uid\"] = users_ohe_df[\"user_id\"].apply(lambda x: user_id_to_uid[x])\n",
        "users_ohe_df = users_ohe_df.set_index(\"uid\")"
      ],
      "metadata": {
        "id": "kh95q14w0dYa",
        "execution": {
          "iopub.status.busy": "2022-12-13T14:14:09.960559Z",
          "iopub.execute_input": "2022-12-13T14:14:09.960934Z",
          "iopub.status.idle": "2022-12-13T14:14:10.055768Z",
          "shell.execute_reply.started": "2022-12-13T14:14:09.960889Z",
          "shell.execute_reply": "2022-12-13T14:14:10.054591Z"
        },
        "trusted": true
      },
      "execution_count": 24,
      "outputs": []
    },
    {
      "cell_type": "markdown",
      "source": [
        "## Loss"
      ],
      "metadata": {
        "id": "frK3r2Nt0uR0"
      }
    },
    {
      "cell_type": "code",
      "source": [
        "def triplet_loss(y_true, y_pred, n_dims=128, alpha=0.4):\n",
        "    anchor = y_pred[:, 0:n_dims]\n",
        "    positive = y_pred[:, n_dims:n_dims*2]\n",
        "    negative = y_pred[:, n_dims*2:n_dims*3]\n",
        "\n",
        "    pos_dist = K.sum(K.square(anchor - positive), axis=1)\n",
        "    neg_dist = K.sum(K.square(anchor - negative), axis=1)\n",
        "\n",
        "    basic_loss = pos_dist - neg_dist + alpha\n",
        "    loss = K.maximum(basic_loss, 0.0)\n",
        " \n",
        "    return loss"
      ],
      "metadata": {
        "id": "tXwyVwkG0t87",
        "execution": {
          "iopub.status.busy": "2022-12-13T14:14:10.057181Z",
          "iopub.execute_input": "2022-12-13T14:14:10.058272Z",
          "iopub.status.idle": "2022-12-13T14:14:10.066153Z",
          "shell.execute_reply.started": "2022-12-13T14:14:10.058225Z",
          "shell.execute_reply": "2022-12-13T14:14:10.065079Z"
        },
        "trusted": true
      },
      "execution_count": 25,
      "outputs": []
    },
    {
      "cell_type": "markdown",
      "source": [
        "## Text features"
      ],
      "metadata": {
        "id": "o7WVo9YN1kvz"
      }
    },
    {
      "cell_type": "code",
      "source": [
        "pd.set_option('max_colwidth', 200) "
      ],
      "metadata": {
        "execution": {
          "iopub.status.busy": "2022-12-13T14:14:10.067715Z",
          "iopub.execute_input": "2022-12-13T14:14:10.068085Z",
          "iopub.status.idle": "2022-12-13T14:14:10.076651Z",
          "shell.execute_reply.started": "2022-12-13T14:14:10.068047Z",
          "shell.execute_reply": "2022-12-13T14:14:10.075784Z"
        },
        "trusted": true,
        "id": "kQUtvAbU1kvz"
      },
      "execution_count": 26,
      "outputs": []
    },
    {
      "cell_type": "code",
      "source": [
        "items_df['description'].head()"
      ],
      "metadata": {
        "execution": {
          "iopub.status.busy": "2022-12-13T14:14:10.078279Z",
          "iopub.execute_input": "2022-12-13T14:14:10.078714Z",
          "iopub.status.idle": "2022-12-13T14:14:10.092095Z",
          "shell.execute_reply.started": "2022-12-13T14:14:10.078672Z",
          "shell.execute_reply": "2022-12-13T14:14:10.090482Z"
        },
        "trusted": true,
        "colab": {
          "base_uri": "https://localhost:8080/"
        },
        "id": "LGoVW5P-1kv0",
        "outputId": "89ff80f9-9f7f-49cd-fb24-023e51aee7c3"
      },
      "execution_count": 27,
      "outputs": [
        {
          "output_type": "execute_result",
          "data": {
            "text/plain": [
              "0    Мелодрама легендарного Педро Альмодовара «Поговори с ней» в 2003 году получила премию «Оскар» за лучший сценарий.  Журналист Марко берет интервью у знаменитой женщины-тореро Лидии и вскоре влюбляе...\n",
              "1    Уморительная современная комедия на популярную тему о том, как не надо отмечать мальчишник. Главный герой усвоил, что не надо звать на свадьбу своего друга Джейсона, из-за которого он вместо сваде...\n",
              "2    Профессиональный рестлер Стив Остин («Все или ничего») и темнокожий мачо Майкл Джей Уайт («Темный рыцарь») в интригующем криминальном боевике. В центре сюжета – команда спецназовцев, которая оказа...\n",
              "3    Шарлотта Рэмплинг, Том Кортни, Джеральдин Джеймс и Долли Уэллс в драме Эндрю Хэйя.  Супруги Кейт и Джефф Мерсеры готовятся к важной дате – с того дня, как они поженились, прошло целых сорок пять л...\n",
              "4    Расчетливая чаровница из советского кинохита «Мой ласковый и нежный зверь», актриса-дебютантка Галина Беляева снова становится неопытным и робким подростком в спортивном фильме  «Все решает мгнове...\n",
              "Name: description, dtype: object"
            ]
          },
          "metadata": {},
          "execution_count": 27
        }
      ]
    },
    {
      "cell_type": "markdown",
      "source": [
        "### Normalization"
      ],
      "metadata": {
        "id": "e3spCXst1kv0"
      }
    },
    {
      "cell_type": "code",
      "source": [
        "items_df['description'] = items_df['description'].fillna('')"
      ],
      "metadata": {
        "execution": {
          "iopub.status.busy": "2022-12-13T14:14:10.095385Z",
          "iopub.execute_input": "2022-12-13T14:14:10.095714Z",
          "iopub.status.idle": "2022-12-13T14:14:10.105923Z",
          "shell.execute_reply.started": "2022-12-13T14:14:10.095688Z",
          "shell.execute_reply": "2022-12-13T14:14:10.104978Z"
        },
        "trusted": true,
        "id": "UPSQgteQ1kv0"
      },
      "execution_count": 28,
      "outputs": []
    },
    {
      "cell_type": "code",
      "source": [
        "def normalize(text):\n",
        "    res = [w.strip(punct) for w in word_tokenize(text)]\n",
        "    res = [w.lower() for w in res if w != '']\n",
        "    return res"
      ],
      "metadata": {
        "execution": {
          "iopub.status.busy": "2022-12-13T14:14:10.107286Z",
          "iopub.execute_input": "2022-12-13T14:14:10.108488Z",
          "iopub.status.idle": "2022-12-13T14:14:10.117899Z",
          "shell.execute_reply.started": "2022-12-13T14:14:10.108448Z",
          "shell.execute_reply": "2022-12-13T14:14:10.116885Z"
        },
        "trusted": true,
        "id": "66sbD96d1kv0"
      },
      "execution_count": 29,
      "outputs": []
    },
    {
      "cell_type": "code",
      "source": [
        "punct = '!\"#$%&()*\\+,-\\./:;<=>?@\\[\\]^_`{|}~„“«»†*\\—/\\-‘’–'\n",
        "\n",
        "items_df['cleaned_description'] = items_df['description'].apply(lambda x: normalize(x))"
      ],
      "metadata": {
        "execution": {
          "iopub.status.busy": "2022-12-13T14:14:10.126054Z",
          "iopub.execute_input": "2022-12-13T14:14:10.126944Z"
        },
        "trusted": true,
        "id": "S2zyIMEa1kv0"
      },
      "execution_count": 30,
      "outputs": []
    },
    {
      "cell_type": "markdown",
      "source": [
        "### Filter stopwords"
      ],
      "metadata": {
        "id": "Yh1-BjdZ1kv0"
      }
    },
    {
      "cell_type": "code",
      "source": [
        "sw = stopwords.words('russian')"
      ],
      "metadata": {
        "trusted": true,
        "id": "Yoc7Drvg1kv1"
      },
      "execution_count": 31,
      "outputs": []
    },
    {
      "cell_type": "code",
      "source": [
        "def filter_sw(text):\n",
        "    return [w for w in text if w not in sw]"
      ],
      "metadata": {
        "trusted": true,
        "id": "M0OVxGxQ1kv1"
      },
      "execution_count": 32,
      "outputs": []
    },
    {
      "cell_type": "code",
      "source": [
        "items_df['cleaned_description'] = items_df['cleaned_description'].apply(lambda x: filter_sw(x))"
      ],
      "metadata": {
        "trusted": true,
        "id": "l6p1wL3u1kv1"
      },
      "execution_count": 33,
      "outputs": []
    },
    {
      "cell_type": "markdown",
      "source": [
        "### Lemmatization"
      ],
      "metadata": {
        "id": "6cRAmBoe1kv1"
      }
    },
    {
      "cell_type": "code",
      "source": [
        "%%time\n",
        "\n",
        "morph = MorphAnalyzer()\n",
        "\n",
        "items_df['cleaned_description'] = items_df['cleaned_description'].progress_apply(lambda x: [morph.parse(w)[0].normalized.word for w in x])"
      ],
      "metadata": {
        "trusted": true,
        "colab": {
          "base_uri": "https://localhost:8080/"
        },
        "id": "unQOau--1kv1",
        "outputId": "ad9c984a-5252-45f7-b937-b76adfa3c55c"
      },
      "execution_count": 34,
      "outputs": [
        {
          "output_type": "stream",
          "name": "stderr",
          "text": [
            "100%|██████████| 15706/15706 [02:34<00:00, 101.80it/s]"
          ]
        },
        {
          "output_type": "stream",
          "name": "stdout",
          "text": [
            "CPU times: user 2min 32s, sys: 879 ms, total: 2min 33s\n",
            "Wall time: 2min 34s\n"
          ]
        },
        {
          "output_type": "stream",
          "name": "stderr",
          "text": [
            "\n"
          ]
        }
      ]
    },
    {
      "cell_type": "code",
      "source": [
        "items_df['cleaned_description'].head(1)"
      ],
      "metadata": {
        "trusted": true,
        "colab": {
          "base_uri": "https://localhost:8080/"
        },
        "id": "PsGvVPy91kv1",
        "outputId": "fee52054-1626-4577-a292-b77932050f25"
      },
      "execution_count": 35,
      "outputs": [
        {
          "output_type": "execute_result",
          "data": {
            "text/plain": [
              "0    [мелодрама, легендарный, педро, альмодовар, поговорить, 2003, год, получить, премия, оскар, хороший, сценарий, журналист, марко, брать, интервью, знаменитый, женщина-тореро, лидий, вскоре, влюблят...\n",
              "Name: cleaned_description, dtype: object"
            ]
          },
          "metadata": {},
          "execution_count": 35
        }
      ]
    },
    {
      "cell_type": "markdown",
      "source": [
        "### BoW vectorization"
      ],
      "metadata": {
        "id": "-WptoH4P1kv1"
      }
    },
    {
      "cell_type": "code",
      "source": [
        "items_df['cleaned_description'] = items_df['cleaned_description'].apply(lambda x: ' '.join(x))"
      ],
      "metadata": {
        "trusted": true,
        "id": "ukL5Aq7n1kv1"
      },
      "execution_count": 36,
      "outputs": []
    },
    {
      "cell_type": "code",
      "source": [
        "vectorizer = CountVectorizer(min_df=5, max_features=350)\n",
        "text_vectorized = pd.DataFrame(vectorizer.fit_transform(items_df['cleaned_description']).toarray(), columns=vectorizer.get_feature_names())\n",
        "text_vectorized.shape"
      ],
      "metadata": {
        "trusted": true,
        "colab": {
          "base_uri": "https://localhost:8080/"
        },
        "id": "cwgk6aHo1kv2",
        "outputId": "10f9afc9-a6b2-45b6-9c6f-df0bb6d07ebe"
      },
      "execution_count": 37,
      "outputs": [
        {
          "output_type": "execute_result",
          "data": {
            "text/plain": [
              "(15706, 350)"
            ]
          },
          "metadata": {},
          "execution_count": 37
        }
      ]
    },
    {
      "cell_type": "code",
      "source": [
        "text_vectorized.head()"
      ],
      "metadata": {
        "trusted": true,
        "colab": {
          "base_uri": "https://localhost:8080/",
          "height": 236
        },
        "id": "nmUBZU6i1kv2",
        "outputId": "d7059585-edf9-416f-e34c-6e5d5c7d8299"
      },
      "execution_count": 38,
      "outputs": [
        {
          "output_type": "execute_result",
          "data": {
            "text/plain": [
              "   агент  актёр  александр  американский  андрей  анна  благодаря  близкий  \\\n",
              "0      0      0          0             0       0     0          0        0   \n",
              "1      0      0          0             0       0     0          0        0   \n",
              "2      0      0          0             0       0     0          0        0   \n",
              "3      0      0          0             0       0     0          0        0   \n",
              "4      0      0          3             0       0     0          0        0   \n",
              "\n",
              "   богатый  больший  ...  часть  человек  что  чувство  чёрный  школа  это  \\\n",
              "0        0        0  ...      0        1    0        0       0      0    0   \n",
              "1        0        0  ...      0        1    0        0       0      0    0   \n",
              "2        0        0  ...      0        0    1        0       0      1    1   \n",
              "3        0        0  ...      0        0    0        0       0      0    0   \n",
              "4        0        0  ...      0        0    0        0       0      0    0   \n",
              "\n",
              "   этот  юный  являться  \n",
              "0     0     0         0  \n",
              "1     0     0         0  \n",
              "2     0     0         0  \n",
              "3     1     1         0  \n",
              "4     0     0         0  \n",
              "\n",
              "[5 rows x 350 columns]"
            ],
            "text/html": [
              "\n",
              "  <div id=\"df-0f7338ae-6d74-441a-b030-a50fce0d44f6\">\n",
              "    <div class=\"colab-df-container\">\n",
              "      <div>\n",
              "<style scoped>\n",
              "    .dataframe tbody tr th:only-of-type {\n",
              "        vertical-align: middle;\n",
              "    }\n",
              "\n",
              "    .dataframe tbody tr th {\n",
              "        vertical-align: top;\n",
              "    }\n",
              "\n",
              "    .dataframe thead th {\n",
              "        text-align: right;\n",
              "    }\n",
              "</style>\n",
              "<table border=\"1\" class=\"dataframe\">\n",
              "  <thead>\n",
              "    <tr style=\"text-align: right;\">\n",
              "      <th></th>\n",
              "      <th>агент</th>\n",
              "      <th>актёр</th>\n",
              "      <th>александр</th>\n",
              "      <th>американский</th>\n",
              "      <th>андрей</th>\n",
              "      <th>анна</th>\n",
              "      <th>благодаря</th>\n",
              "      <th>близкий</th>\n",
              "      <th>богатый</th>\n",
              "      <th>больший</th>\n",
              "      <th>...</th>\n",
              "      <th>часть</th>\n",
              "      <th>человек</th>\n",
              "      <th>что</th>\n",
              "      <th>чувство</th>\n",
              "      <th>чёрный</th>\n",
              "      <th>школа</th>\n",
              "      <th>это</th>\n",
              "      <th>этот</th>\n",
              "      <th>юный</th>\n",
              "      <th>являться</th>\n",
              "    </tr>\n",
              "  </thead>\n",
              "  <tbody>\n",
              "    <tr>\n",
              "      <th>0</th>\n",
              "      <td>0</td>\n",
              "      <td>0</td>\n",
              "      <td>0</td>\n",
              "      <td>0</td>\n",
              "      <td>0</td>\n",
              "      <td>0</td>\n",
              "      <td>0</td>\n",
              "      <td>0</td>\n",
              "      <td>0</td>\n",
              "      <td>0</td>\n",
              "      <td>...</td>\n",
              "      <td>0</td>\n",
              "      <td>1</td>\n",
              "      <td>0</td>\n",
              "      <td>0</td>\n",
              "      <td>0</td>\n",
              "      <td>0</td>\n",
              "      <td>0</td>\n",
              "      <td>0</td>\n",
              "      <td>0</td>\n",
              "      <td>0</td>\n",
              "    </tr>\n",
              "    <tr>\n",
              "      <th>1</th>\n",
              "      <td>0</td>\n",
              "      <td>0</td>\n",
              "      <td>0</td>\n",
              "      <td>0</td>\n",
              "      <td>0</td>\n",
              "      <td>0</td>\n",
              "      <td>0</td>\n",
              "      <td>0</td>\n",
              "      <td>0</td>\n",
              "      <td>0</td>\n",
              "      <td>...</td>\n",
              "      <td>0</td>\n",
              "      <td>1</td>\n",
              "      <td>0</td>\n",
              "      <td>0</td>\n",
              "      <td>0</td>\n",
              "      <td>0</td>\n",
              "      <td>0</td>\n",
              "      <td>0</td>\n",
              "      <td>0</td>\n",
              "      <td>0</td>\n",
              "    </tr>\n",
              "    <tr>\n",
              "      <th>2</th>\n",
              "      <td>0</td>\n",
              "      <td>0</td>\n",
              "      <td>0</td>\n",
              "      <td>0</td>\n",
              "      <td>0</td>\n",
              "      <td>0</td>\n",
              "      <td>0</td>\n",
              "      <td>0</td>\n",
              "      <td>0</td>\n",
              "      <td>0</td>\n",
              "      <td>...</td>\n",
              "      <td>0</td>\n",
              "      <td>0</td>\n",
              "      <td>1</td>\n",
              "      <td>0</td>\n",
              "      <td>0</td>\n",
              "      <td>1</td>\n",
              "      <td>1</td>\n",
              "      <td>0</td>\n",
              "      <td>0</td>\n",
              "      <td>0</td>\n",
              "    </tr>\n",
              "    <tr>\n",
              "      <th>3</th>\n",
              "      <td>0</td>\n",
              "      <td>0</td>\n",
              "      <td>0</td>\n",
              "      <td>0</td>\n",
              "      <td>0</td>\n",
              "      <td>0</td>\n",
              "      <td>0</td>\n",
              "      <td>0</td>\n",
              "      <td>0</td>\n",
              "      <td>0</td>\n",
              "      <td>...</td>\n",
              "      <td>0</td>\n",
              "      <td>0</td>\n",
              "      <td>0</td>\n",
              "      <td>0</td>\n",
              "      <td>0</td>\n",
              "      <td>0</td>\n",
              "      <td>0</td>\n",
              "      <td>1</td>\n",
              "      <td>1</td>\n",
              "      <td>0</td>\n",
              "    </tr>\n",
              "    <tr>\n",
              "      <th>4</th>\n",
              "      <td>0</td>\n",
              "      <td>0</td>\n",
              "      <td>3</td>\n",
              "      <td>0</td>\n",
              "      <td>0</td>\n",
              "      <td>0</td>\n",
              "      <td>0</td>\n",
              "      <td>0</td>\n",
              "      <td>0</td>\n",
              "      <td>0</td>\n",
              "      <td>...</td>\n",
              "      <td>0</td>\n",
              "      <td>0</td>\n",
              "      <td>0</td>\n",
              "      <td>0</td>\n",
              "      <td>0</td>\n",
              "      <td>0</td>\n",
              "      <td>0</td>\n",
              "      <td>0</td>\n",
              "      <td>0</td>\n",
              "      <td>0</td>\n",
              "    </tr>\n",
              "  </tbody>\n",
              "</table>\n",
              "<p>5 rows × 350 columns</p>\n",
              "</div>\n",
              "      <button class=\"colab-df-convert\" onclick=\"convertToInteractive('df-0f7338ae-6d74-441a-b030-a50fce0d44f6')\"\n",
              "              title=\"Convert this dataframe to an interactive table.\"\n",
              "              style=\"display:none;\">\n",
              "        \n",
              "  <svg xmlns=\"http://www.w3.org/2000/svg\" height=\"24px\"viewBox=\"0 0 24 24\"\n",
              "       width=\"24px\">\n",
              "    <path d=\"M0 0h24v24H0V0z\" fill=\"none\"/>\n",
              "    <path d=\"M18.56 5.44l.94 2.06.94-2.06 2.06-.94-2.06-.94-.94-2.06-.94 2.06-2.06.94zm-11 1L8.5 8.5l.94-2.06 2.06-.94-2.06-.94L8.5 2.5l-.94 2.06-2.06.94zm10 10l.94 2.06.94-2.06 2.06-.94-2.06-.94-.94-2.06-.94 2.06-2.06.94z\"/><path d=\"M17.41 7.96l-1.37-1.37c-.4-.4-.92-.59-1.43-.59-.52 0-1.04.2-1.43.59L10.3 9.45l-7.72 7.72c-.78.78-.78 2.05 0 2.83L4 21.41c.39.39.9.59 1.41.59.51 0 1.02-.2 1.41-.59l7.78-7.78 2.81-2.81c.8-.78.8-2.07 0-2.86zM5.41 20L4 18.59l7.72-7.72 1.47 1.35L5.41 20z\"/>\n",
              "  </svg>\n",
              "      </button>\n",
              "      \n",
              "  <style>\n",
              "    .colab-df-container {\n",
              "      display:flex;\n",
              "      flex-wrap:wrap;\n",
              "      gap: 12px;\n",
              "    }\n",
              "\n",
              "    .colab-df-convert {\n",
              "      background-color: #E8F0FE;\n",
              "      border: none;\n",
              "      border-radius: 50%;\n",
              "      cursor: pointer;\n",
              "      display: none;\n",
              "      fill: #1967D2;\n",
              "      height: 32px;\n",
              "      padding: 0 0 0 0;\n",
              "      width: 32px;\n",
              "    }\n",
              "\n",
              "    .colab-df-convert:hover {\n",
              "      background-color: #E2EBFA;\n",
              "      box-shadow: 0px 1px 2px rgba(60, 64, 67, 0.3), 0px 1px 3px 1px rgba(60, 64, 67, 0.15);\n",
              "      fill: #174EA6;\n",
              "    }\n",
              "\n",
              "    [theme=dark] .colab-df-convert {\n",
              "      background-color: #3B4455;\n",
              "      fill: #D2E3FC;\n",
              "    }\n",
              "\n",
              "    [theme=dark] .colab-df-convert:hover {\n",
              "      background-color: #434B5C;\n",
              "      box-shadow: 0px 1px 3px 1px rgba(0, 0, 0, 0.15);\n",
              "      filter: drop-shadow(0px 1px 2px rgba(0, 0, 0, 0.3));\n",
              "      fill: #FFFFFF;\n",
              "    }\n",
              "  </style>\n",
              "\n",
              "      <script>\n",
              "        const buttonEl =\n",
              "          document.querySelector('#df-0f7338ae-6d74-441a-b030-a50fce0d44f6 button.colab-df-convert');\n",
              "        buttonEl.style.display =\n",
              "          google.colab.kernel.accessAllowed ? 'block' : 'none';\n",
              "\n",
              "        async function convertToInteractive(key) {\n",
              "          const element = document.querySelector('#df-0f7338ae-6d74-441a-b030-a50fce0d44f6');\n",
              "          const dataTable =\n",
              "            await google.colab.kernel.invokeFunction('convertToInteractive',\n",
              "                                                     [key], {});\n",
              "          if (!dataTable) return;\n",
              "\n",
              "          const docLinkHtml = 'Like what you see? Visit the ' +\n",
              "            '<a target=\"_blank\" href=https://colab.research.google.com/notebooks/data_table.ipynb>data table notebook</a>'\n",
              "            + ' to learn more about interactive tables.';\n",
              "          element.innerHTML = '';\n",
              "          dataTable['output_type'] = 'display_data';\n",
              "          await google.colab.output.renderOutput(dataTable, element);\n",
              "          const docLink = document.createElement('div');\n",
              "          docLink.innerHTML = docLinkHtml;\n",
              "          element.appendChild(docLink);\n",
              "        }\n",
              "      </script>\n",
              "    </div>\n",
              "  </div>\n",
              "  "
            ]
          },
          "metadata": {},
          "execution_count": 38
        }
      ]
    },
    {
      "cell_type": "code",
      "source": [
        "text_vectorized['item_id'] = items_df['item_id']\n",
        "items_ohe_df = items_ohe_df.merge(text_vectorized, on='item_id', how='left')\n",
        "items_ohe_df = items_ohe_df.fillna(0)"
      ],
      "metadata": {
        "trusted": true,
        "id": "wxbbrRfa1kv2"
      },
      "execution_count": 39,
      "outputs": []
    },
    {
      "cell_type": "code",
      "source": [
        "del text_vectorized, interactions_df\n",
        "gc.collect()"
      ],
      "metadata": {
        "trusted": true,
        "colab": {
          "base_uri": "https://localhost:8080/"
        },
        "id": "9RFqKKOT1kv2",
        "outputId": "e99165f2-bcd6-4e9c-ca54-39adc9ac4cd1"
      },
      "execution_count": 40,
      "outputs": [
        {
          "output_type": "execute_result",
          "data": {
            "text/plain": [
              "462"
            ]
          },
          "metadata": {},
          "execution_count": 40
        }
      ]
    },
    {
      "cell_type": "markdown",
      "source": [
        "## Generator"
      ],
      "metadata": {
        "id": "gGK1tKDqc0z6"
      }
    },
    {
      "cell_type": "code",
      "source": [
        "tree = spatial.cKDTree(items_ohe_df.drop([\"item_id\"], axis=1))"
      ],
      "metadata": {
        "id": "eb8NohID9f4I",
        "trusted": true
      },
      "execution_count": 41,
      "outputs": []
    },
    {
      "cell_type": "code",
      "source": [
        "def generator(items, users, interactions, batch_size=32):\n",
        "    while True:\n",
        "        uid_meta = []\n",
        "        uid_interaction = []\n",
        "        pos = []\n",
        "        neg = []\n",
        "        for _ in range(batch_size):\n",
        "            while True:\n",
        "                try:\n",
        "                    # Random user\n",
        "                    uid_iid = randint(0, interactions.shape[0]-1)\n",
        "\n",
        "                    # Sample positive item\n",
        "                    pos_iid = np.random.choice(range(interactions.shape[1]), p=interactions[uid_iid])\n",
        "\n",
        "                    # Get 20 most closest items from KDTree\n",
        "                    distances, indices = tree.query(items.iloc[pos_iid].values, k=30)\n",
        "\n",
        "\n",
        "                    # Filter to sample only negative item\n",
        "                    pos_ids = np.nonzero(interactions[uid_iid])\n",
        "                    neg_items_candidates = indices[np.in1d(indices, pos_ids, invert=True)]\n",
        "                    neg_iid = np.random.choice(neg_items_candidates)\n",
        "                    \n",
        "                    #neg_iid = np.random.choice(range(interactions.shape[1]))\n",
        "                    \n",
        "                    # Negative item features\n",
        "                    neg.append(items.iloc[neg_iid - 1])\n",
        "                    \n",
        "                    # User features\n",
        "                    uid_meta.append(users.iloc[uid_iid])\n",
        "\n",
        "                    # User's items\n",
        "                    uid_interaction.append(interactions_vec[uid_iid])\n",
        "\n",
        "                    # Positive item features\n",
        "                    pos.append(items.iloc[pos_iid])\n",
        "                    break\n",
        "                except:\n",
        "                    continue\n",
        "        yield [np.array(uid_meta), np.array(uid_interaction), np.array(pos), np.array(neg)], [np.array(uid_meta), np.array(uid_interaction)]\n",
        "\n"
      ],
      "metadata": {
        "id": "P09PlnsxyXPP",
        "trusted": true
      },
      "execution_count": 42,
      "outputs": []
    },
    {
      "cell_type": "code",
      "source": [
        "# инициализируем генератор\n",
        "gen = generator(\n",
        "    items=items_ohe_df.drop([\"item_id\"], axis=1), \n",
        "    users=users_ohe_df.drop([\"user_id\"], axis=1), \n",
        "    interactions=interactions_vec,\n",
        ")\n",
        "\n",
        "ret = next(gen)\n",
        "\n",
        "\n",
        "print(f\"вектор фичей юзера: {ret[0][0].shape}\")\n",
        "print(f\"вектор взаимодействий юзера с айтемами: {ret[0][1].shape}\")\n",
        "print(f\"вектор 'хорошего' айтема: {ret[0][2].shape}\")\n",
        "print(f\"вектор 'плохого' айтема: {ret[0][3].shape}\")\n",
        "print()\n",
        "print(f\"вектор фичей юзера: {ret[1][0].shape}\")\n",
        "print(f\"вектор взаимодействий юзера с айтемами: {ret[1][1].shape}\")"
      ],
      "metadata": {
        "id": "8ZeAJnu003Yb",
        "colab": {
          "base_uri": "https://localhost:8080/"
        },
        "outputId": "1ea213cb-5b08-440b-a1db-9c9cb7ba9772",
        "trusted": true
      },
      "execution_count": 43,
      "outputs": [
        {
          "output_type": "stream",
          "name": "stdout",
          "text": [
            "вектор фичей юзера: (32, 16)\n",
            "вектор взаимодействий юзера с айтемами: (32, 6900)\n",
            "вектор 'хорошего' айтема: (32, 484)\n",
            "вектор 'плохого' айтема: (32, 484)\n",
            "\n",
            "вектор фичей юзера: (32, 16)\n",
            "вектор взаимодействий юзера с айтемами: (32, 6900)\n"
          ]
        }
      ]
    },
    {
      "cell_type": "markdown",
      "source": [
        "## Models"
      ],
      "metadata": {
        "id": "SJLuZBDr1Vyj"
      }
    },
    {
      "cell_type": "code",
      "source": [
        "N_FACTORS = 128\n",
        "\n",
        "ITEM_MODEL_SHAPE = (items_ohe_df.drop([\"item_id\"], axis=1).shape[1], ) \n",
        "USER_META_MODEL_SHAPE = (users_ohe_df.drop([\"user_id\"], axis=1).shape[1], )\n",
        "\n",
        "USER_INTERACTION_MODEL_SHAPE = (interactions_vec.shape[1], )\n",
        "\n",
        "print(f\"N_FACTORS: {N_FACTORS}\")\n",
        "print(f\"ITEM_MODEL_SHAPE: {ITEM_MODEL_SHAPE}\") # add text features\n",
        "print(f\"USER_META_MODEL_SHAPE: {USER_META_MODEL_SHAPE}\")\n",
        "print(f\"USER_INTERACTION_MODEL_SHAPE: {USER_INTERACTION_MODEL_SHAPE}\")"
      ],
      "metadata": {
        "id": "kYo_FoYf1VEl",
        "colab": {
          "base_uri": "https://localhost:8080/"
        },
        "outputId": "99b46860-77eb-4537-99e3-32a0f9152aa1",
        "trusted": true
      },
      "execution_count": 44,
      "outputs": [
        {
          "output_type": "stream",
          "name": "stdout",
          "text": [
            "N_FACTORS: 128\n",
            "ITEM_MODEL_SHAPE: (484,)\n",
            "USER_META_MODEL_SHAPE: (16,)\n",
            "USER_INTERACTION_MODEL_SHAPE: (6900,)\n"
          ]
        }
      ]
    },
    {
      "cell_type": "code",
      "source": [
        "def item_model(n_factors=N_FACTORS):\n",
        "    inp = keras.layers.Input(shape=ITEM_MODEL_SHAPE)\n",
        "    \n",
        "    layer_1 = keras.layers.Dense(N_FACTORS, activation='elu', use_bias=False,\n",
        "                               kernel_regularizer=keras.regularizers.l2(1e-6),\n",
        "                               activity_regularizer=keras.regularizers.l2(l2=1e-6))(inp)\n",
        "\n",
        "    layer_2 = keras.layers.Dense(N_FACTORS, activation='elu', use_bias=False,\n",
        "                             kernel_regularizer=keras.regularizers.l2(1e-6),\n",
        "                             activity_regularizer=keras.regularizers.l2(l2=1e-6))(layer_1)\n",
        "    \n",
        "    add = keras.layers.Add()([layer_1, layer_2])\n",
        "    \n",
        "    out = keras.layers.Dense(N_FACTORS, activation='linear', use_bias=False,\n",
        "                             kernel_regularizer=keras.regularizers.l2(1e-6),\n",
        "                             activity_regularizer=keras.regularizers.l2(l2=1e-6))(add)\n",
        "    \n",
        "    return keras.models.Model(inp, out)"
      ],
      "metadata": {
        "id": "C0O4aT-t1VHw",
        "trusted": true
      },
      "execution_count": 45,
      "outputs": []
    },
    {
      "cell_type": "code",
      "source": [
        "def user_model(n_factors=N_FACTORS):\n",
        "    inp_meta = keras.layers.Input(shape=USER_META_MODEL_SHAPE)\n",
        "    inp_interaction = keras.layers.Input(shape=USER_INTERACTION_MODEL_SHAPE)\n",
        "\n",
        "    layer_1_meta = keras.layers.Dense(N_FACTORS, activation='elu', use_bias=False,\n",
        "                                 kernel_regularizer=keras.regularizers.l2(1e-6),\n",
        "                                 activity_regularizer=keras.regularizers.l2(l2=1e-6))(inp_meta)\n",
        "\n",
        "    layer_1_interaction = keras.layers.Dense(N_FACTORS, activation='elu', use_bias=False,\n",
        "                                 kernel_regularizer=keras.regularizers.l2(1e-6),\n",
        "                                 activity_regularizer=keras.regularizers.l2(l2=1e-6))(inp_interaction)\n",
        "\n",
        "    layer_2_meta = keras.layers.Dense(N_FACTORS, activation='elu', use_bias=False,\n",
        "                                 kernel_regularizer=keras.regularizers.l2(1e-6),\n",
        "                                 activity_regularizer=keras.regularizers.l2(l2=1e-6))(layer_1_meta)\n",
        "    \n",
        "\n",
        "    add = keras.layers.Add()([layer_1_meta, layer_2_meta])\n",
        "    \n",
        "    concat_meta_interaction = keras.layers.Concatenate()([add, layer_1_interaction])\n",
        "    \n",
        "    out = keras.layers.Dense(N_FACTORS, activation='linear', use_bias=False,\n",
        "                             kernel_regularizer=keras.regularizers.l2(1e-6),\n",
        "                             activity_regularizer=keras.regularizers.l2(l2=1e-6))(concat_meta_interaction)\n",
        "    \n",
        "    return keras.models.Model([inp_meta, inp_interaction], out)"
      ],
      "metadata": {
        "id": "OdCBLAve1W0W",
        "trusted": true
      },
      "execution_count": 46,
      "outputs": []
    },
    {
      "cell_type": "code",
      "source": [
        "i2v = item_model()\n",
        "u2v = user_model()"
      ],
      "metadata": {
        "trusted": true,
        "id": "G3VnEw_c1kv4"
      },
      "execution_count": 47,
      "outputs": []
    },
    {
      "cell_type": "code",
      "source": [
        "ancor_meta_in = keras.layers.Input(shape=USER_META_MODEL_SHAPE)\n",
        "ancor_interaction_in = keras.layers.Input(shape=USER_INTERACTION_MODEL_SHAPE)\n",
        "\n",
        "pos_in = keras.layers.Input(shape=ITEM_MODEL_SHAPE)\n",
        "neg_in = keras.layers.Input(shape=ITEM_MODEL_SHAPE)\n",
        "\n",
        "ancor = u2v([ancor_meta_in, ancor_interaction_in])\n",
        "pos = i2v(pos_in)\n",
        "neg = i2v(neg_in)\n",
        "\n",
        "res = keras.layers.Concatenate(name=\"concat_ancor_pos_neg\")([ancor, pos, neg])\n",
        "\n",
        "model = keras.models.Model([ancor_meta_in, ancor_interaction_in, pos_in, neg_in], res)"
      ],
      "metadata": {
        "id": "xcIpLjFY1W3d",
        "trusted": true
      },
      "execution_count": 48,
      "outputs": []
    },
    {
      "cell_type": "code",
      "source": [
        "model_name = 'recsys_resnet_linear'\n",
        "\n",
        "decay = keras.callbacks.ReduceLROnPlateau(monitor='loss', patience=2, factor=0.8, verbose=1)\n",
        "early_stopping =  keras.callbacks.EarlyStopping(monitor='loss', patience=4)\n",
        "\n",
        "opt = keras.optimizers.Adam(lr=0.001)\n",
        "model.compile(loss=triplet_loss, optimizer=opt, run_eagerly=True)"
      ],
      "metadata": {
        "id": "2GTGs9KD1W_K",
        "trusted": true
      },
      "execution_count": 49,
      "outputs": []
    },
    {
      "cell_type": "code",
      "source": [
        "item_model().summary()"
      ],
      "metadata": {
        "id": "_A7DmUCF1XCa",
        "trusted": true,
        "colab": {
          "base_uri": "https://localhost:8080/"
        },
        "outputId": "8600f3f0-b885-4445-c9f6-d1cf6127d79b"
      },
      "execution_count": 50,
      "outputs": [
        {
          "output_type": "stream",
          "name": "stdout",
          "text": [
            "Model: \"model_3\"\n",
            "__________________________________________________________________________________________________\n",
            " Layer (type)                   Output Shape         Param #     Connected to                     \n",
            "==================================================================================================\n",
            " input_8 (InputLayer)           [(None, 484)]        0           []                               \n",
            "                                                                                                  \n",
            " dense_7 (Dense)                (None, 128)          61952       ['input_8[0][0]']                \n",
            "                                                                                                  \n",
            " dense_8 (Dense)                (None, 128)          16384       ['dense_7[0][0]']                \n",
            "                                                                                                  \n",
            " add_2 (Add)                    (None, 128)          0           ['dense_7[0][0]',                \n",
            "                                                                  'dense_8[0][0]']                \n",
            "                                                                                                  \n",
            " dense_9 (Dense)                (None, 128)          16384       ['add_2[0][0]']                  \n",
            "                                                                                                  \n",
            "==================================================================================================\n",
            "Total params: 94,720\n",
            "Trainable params: 94,720\n",
            "Non-trainable params: 0\n",
            "__________________________________________________________________________________________________\n"
          ]
        }
      ]
    },
    {
      "cell_type": "code",
      "source": [
        "user_model().summary()"
      ],
      "metadata": {
        "id": "zJltkBLw23Sy",
        "trusted": true,
        "colab": {
          "base_uri": "https://localhost:8080/"
        },
        "outputId": "f80179e8-f832-447b-8454-bab58d705e62"
      },
      "execution_count": 51,
      "outputs": [
        {
          "output_type": "stream",
          "name": "stdout",
          "text": [
            "Model: \"model_4\"\n",
            "__________________________________________________________________________________________________\n",
            " Layer (type)                   Output Shape         Param #     Connected to                     \n",
            "==================================================================================================\n",
            " input_9 (InputLayer)           [(None, 16)]         0           []                               \n",
            "                                                                                                  \n",
            " dense_10 (Dense)               (None, 128)          2048        ['input_9[0][0]']                \n",
            "                                                                                                  \n",
            " dense_12 (Dense)               (None, 128)          16384       ['dense_10[0][0]']               \n",
            "                                                                                                  \n",
            " input_10 (InputLayer)          [(None, 6900)]       0           []                               \n",
            "                                                                                                  \n",
            " add_3 (Add)                    (None, 128)          0           ['dense_10[0][0]',               \n",
            "                                                                  'dense_12[0][0]']               \n",
            "                                                                                                  \n",
            " dense_11 (Dense)               (None, 128)          883200      ['input_10[0][0]']               \n",
            "                                                                                                  \n",
            " concatenate_1 (Concatenate)    (None, 256)          0           ['add_3[0][0]',                  \n",
            "                                                                  'dense_11[0][0]']               \n",
            "                                                                                                  \n",
            " dense_13 (Dense)               (None, 128)          32768       ['concatenate_1[0][0]']          \n",
            "                                                                                                  \n",
            "==================================================================================================\n",
            "Total params: 934,400\n",
            "Trainable params: 934,400\n",
            "Non-trainable params: 0\n",
            "__________________________________________________________________________________________________\n"
          ]
        }
      ]
    },
    {
      "cell_type": "code",
      "source": [
        "model.summary()"
      ],
      "metadata": {
        "id": "4kps9yXV23aW",
        "trusted": true,
        "colab": {
          "base_uri": "https://localhost:8080/"
        },
        "outputId": "0dc5b83a-1520-4a2f-d955-ee77df69bebb"
      },
      "execution_count": 52,
      "outputs": [
        {
          "output_type": "stream",
          "name": "stdout",
          "text": [
            "Model: \"model_2\"\n",
            "__________________________________________________________________________________________________\n",
            " Layer (type)                   Output Shape         Param #     Connected to                     \n",
            "==================================================================================================\n",
            " input_4 (InputLayer)           [(None, 16)]         0           []                               \n",
            "                                                                                                  \n",
            " input_5 (InputLayer)           [(None, 6900)]       0           []                               \n",
            "                                                                                                  \n",
            " input_6 (InputLayer)           [(None, 484)]        0           []                               \n",
            "                                                                                                  \n",
            " input_7 (InputLayer)           [(None, 484)]        0           []                               \n",
            "                                                                                                  \n",
            " model_1 (Functional)           (None, 128)          934400      ['input_4[0][0]',                \n",
            "                                                                  'input_5[0][0]']                \n",
            "                                                                                                  \n",
            " model (Functional)             (None, 128)          94720       ['input_6[0][0]',                \n",
            "                                                                  'input_7[0][0]']                \n",
            "                                                                                                  \n",
            " concat_ancor_pos_neg (Concaten  (None, 384)         0           ['model_1[0][0]',                \n",
            " ate)                                                             'model[0][0]',                  \n",
            "                                                                  'model[1][0]']                  \n",
            "                                                                                                  \n",
            "==================================================================================================\n",
            "Total params: 1,029,120\n",
            "Trainable params: 1,029,120\n",
            "Non-trainable params: 0\n",
            "__________________________________________________________________________________________________\n"
          ]
        }
      ]
    },
    {
      "cell_type": "code",
      "source": [
        "model.fit(\n",
        "    generator(\n",
        "        items=items_ohe_df.drop([\"item_id\"], axis=1), \n",
        "        users=users_ohe_df.drop([\"user_id\"], axis=1), \n",
        "        interactions=interactions_vec,\n",
        "        batch_size=16,\n",
        "    ), \n",
        "    steps_per_epoch=100, \n",
        "    epochs=100, \n",
        "    initial_epoch=0,\n",
        "    callbacks=[decay, early_stopping],\n",
        ")\n"
      ],
      "metadata": {
        "id": "lZNR1YrO23dX",
        "trusted": true,
        "colab": {
          "base_uri": "https://localhost:8080/"
        },
        "outputId": "c8deda4d-240a-41b8-ec4d-69909a42d00f"
      },
      "execution_count": 53,
      "outputs": [
        {
          "output_type": "stream",
          "name": "stdout",
          "text": [
            "Epoch 1/100\n",
            "100/100 [==============================] - 16s 149ms/step - loss: 2.6121 - lr: 0.0010\n",
            "Epoch 2/100\n",
            "100/100 [==============================] - 15s 150ms/step - loss: 0.9784 - lr: 0.0010\n",
            "Epoch 3/100\n",
            "100/100 [==============================] - 15s 150ms/step - loss: 0.7146 - lr: 0.0010\n",
            "Epoch 4/100\n",
            "100/100 [==============================] - 15s 151ms/step - loss: 0.5505 - lr: 0.0010\n",
            "Epoch 5/100\n",
            "100/100 [==============================] - 15s 150ms/step - loss: 0.5029 - lr: 0.0010\n",
            "Epoch 6/100\n",
            "100/100 [==============================] - 15s 151ms/step - loss: 0.4678 - lr: 0.0010\n",
            "Epoch 7/100\n",
            "100/100 [==============================] - 15s 151ms/step - loss: 0.4355 - lr: 0.0010\n",
            "Epoch 8/100\n",
            "100/100 [==============================] - 15s 153ms/step - loss: 0.4697 - lr: 0.0010\n",
            "Epoch 9/100\n",
            "100/100 [==============================] - 15s 152ms/step - loss: 0.3521 - lr: 0.0010\n",
            "Epoch 10/100\n",
            "100/100 [==============================] - 15s 151ms/step - loss: 0.3473 - lr: 0.0010\n",
            "Epoch 11/100\n",
            "100/100 [==============================] - 15s 151ms/step - loss: 0.2967 - lr: 0.0010\n",
            "Epoch 12/100\n",
            "100/100 [==============================] - 15s 152ms/step - loss: 0.3715 - lr: 0.0010\n",
            "Epoch 13/100\n",
            "100/100 [==============================] - 15s 151ms/step - loss: 0.2900 - lr: 0.0010\n",
            "Epoch 14/100\n",
            "100/100 [==============================] - 15s 153ms/step - loss: 0.3290 - lr: 0.0010\n",
            "Epoch 15/100\n",
            "100/100 [==============================] - 15s 150ms/step - loss: 0.2741 - lr: 0.0010\n",
            "Epoch 16/100\n",
            "100/100 [==============================] - 15s 151ms/step - loss: 0.2654 - lr: 0.0010\n",
            "Epoch 17/100\n",
            "100/100 [==============================] - 15s 150ms/step - loss: 0.2219 - lr: 0.0010\n",
            "Epoch 18/100\n",
            "100/100 [==============================] - 15s 152ms/step - loss: 0.2054 - lr: 0.0010\n",
            "Epoch 19/100\n",
            "100/100 [==============================] - 15s 152ms/step - loss: 0.2420 - lr: 0.0010\n",
            "Epoch 20/100\n",
            "100/100 [==============================] - ETA: 0s - loss: 0.2205\n",
            "Epoch 20: ReduceLROnPlateau reducing learning rate to 0.000800000037997961.\n",
            "100/100 [==============================] - 15s 153ms/step - loss: 0.2205 - lr: 0.0010\n",
            "Epoch 21/100\n",
            "100/100 [==============================] - 15s 152ms/step - loss: 0.2441 - lr: 8.0000e-04\n",
            "Epoch 22/100\n",
            "100/100 [==============================] - 15s 152ms/step - loss: 0.1879 - lr: 8.0000e-04\n",
            "Epoch 23/100\n",
            "100/100 [==============================] - 15s 150ms/step - loss: 0.1839 - lr: 8.0000e-04\n",
            "Epoch 24/100\n",
            "100/100 [==============================] - 15s 152ms/step - loss: 0.1619 - lr: 8.0000e-04\n",
            "Epoch 25/100\n",
            "100/100 [==============================] - 15s 152ms/step - loss: 0.1485 - lr: 8.0000e-04\n",
            "Epoch 26/100\n",
            "100/100 [==============================] - 15s 151ms/step - loss: 0.1605 - lr: 8.0000e-04\n",
            "Epoch 27/100\n",
            "100/100 [==============================] - 15s 150ms/step - loss: 0.1301 - lr: 8.0000e-04\n",
            "Epoch 28/100\n",
            "100/100 [==============================] - 15s 153ms/step - loss: 0.1412 - lr: 8.0000e-04\n",
            "Epoch 29/100\n",
            "100/100 [==============================] - ETA: 0s - loss: 0.1550\n",
            "Epoch 29: ReduceLROnPlateau reducing learning rate to 0.0006400000303983689.\n",
            "100/100 [==============================] - 15s 150ms/step - loss: 0.1550 - lr: 8.0000e-04\n",
            "Epoch 30/100\n",
            "100/100 [==============================] - 15s 153ms/step - loss: 0.1308 - lr: 6.4000e-04\n",
            "Epoch 31/100\n",
            "100/100 [==============================] - ETA: 0s - loss: 0.1328\n",
            "Epoch 31: ReduceLROnPlateau reducing learning rate to 0.0005120000336319208.\n",
            "100/100 [==============================] - 15s 151ms/step - loss: 0.1328 - lr: 6.4000e-04\n"
          ]
        },
        {
          "output_type": "execute_result",
          "data": {
            "text/plain": [
              "<keras.callbacks.History at 0x7f3b56fb8cd0>"
            ]
          },
          "metadata": {},
          "execution_count": 53
        }
      ]
    },
    {
      "cell_type": "code",
      "source": [
        "#model.save('model')"
      ],
      "metadata": {
        "trusted": true,
        "id": "KhMHP9zO1kv5"
      },
      "execution_count": 54,
      "outputs": []
    },
    {
      "cell_type": "code",
      "source": [
        "items_feats = items_ohe_df.drop([\"item_id\"], axis=1).to_numpy()\n",
        "items_vecs = i2v.predict(items_feats)"
      ],
      "metadata": {
        "id": "W1Lfm2nm23i4",
        "trusted": true,
        "colab": {
          "base_uri": "https://localhost:8080/"
        },
        "outputId": "26580fa9-46ca-4688-a091-a224faeec9cd"
      },
      "execution_count": 55,
      "outputs": [
        {
          "output_type": "stream",
          "name": "stdout",
          "text": [
            "216/216 [==============================] - 0s 1ms/step\n"
          ]
        }
      ]
    },
    {
      "cell_type": "code",
      "source": [
        "del items_feats, users_df, items_df, items_ohe_df, model\n",
        "gc.collect()"
      ],
      "metadata": {
        "execution": {
          "iopub.status.busy": "2022-12-13T14:08:22.048437Z",
          "iopub.execute_input": "2022-12-13T14:08:22.048897Z",
          "iopub.status.idle": "2022-12-13T14:08:22.317605Z",
          "shell.execute_reply.started": "2022-12-13T14:08:22.048858Z",
          "shell.execute_reply": "2022-12-13T14:08:22.316605Z"
        },
        "trusted": true,
        "colab": {
          "base_uri": "https://localhost:8080/"
        },
        "id": "4ioTL94G1kv5",
        "outputId": "2c90f988-0e31-4b64-877f-5f8e78bb33f6"
      },
      "execution_count": 56,
      "outputs": [
        {
          "output_type": "execute_result",
          "data": {
            "text/plain": [
              "714"
            ]
          },
          "metadata": {},
          "execution_count": 56
        }
      ]
    },
    {
      "cell_type": "code",
      "source": [
        "def get_recs_for_user_batch(user_ids):\n",
        "  uids = [user_id_to_uid[user_id] for user_id in user_ids]\n",
        "  user_meta_feats = users_ohe_df.drop([\"user_id\"], axis=1).iloc[uids]\n",
        "  user_interaction_vec = interactions_vec[uids]\n",
        "\n",
        "  user_vecs = u2v.predict([np.array(user_meta_feats), np.array(user_interaction_vec)])\n",
        "\n",
        "  dists = ED(user_vecs, items_vecs)\n",
        "  top10_iids = np.argsort(dists, axis=1)[:,:10]\n",
        "  top10_iids_items = [iid_to_item_id[iid] for iid in top10_iids.reshape(-1)]\n",
        "  top10_iids_items = np.array(top10_iids_items).reshape(top10_iids.shape)\n",
        "  return top10_iids_items"
      ],
      "metadata": {
        "id": "3lrqG-DCfEnf"
      },
      "execution_count": 57,
      "outputs": []
    },
    {
      "cell_type": "markdown",
      "source": [
        "## Prepare submit"
      ],
      "metadata": {
        "id": "ENEX7CigCS_g"
      }
    },
    {
      "cell_type": "code",
      "source": [
        "submission = pd.read_csv('sample_submission.csv')"
      ],
      "metadata": {
        "id": "vFe0W-RCCSre"
      },
      "execution_count": 58,
      "outputs": []
    },
    {
      "cell_type": "code",
      "source": [
        "recs = pd.DataFrame({'user_id': submission['user_id'].unique()})\n",
        "cold = recs[~recs['user_id'].isin(users_ohe_df.user_id)]\n",
        "warm = recs[recs['user_id'].isin(users_ohe_df.user_id)]"
      ],
      "metadata": {
        "id": "EMu-3qRaCSoh"
      },
      "execution_count": 59,
      "outputs": []
    },
    {
      "cell_type": "code",
      "source": [
        "cold_recs = [[9728, 10440, 15297, 13865, 14488, 12192, 12360, 341, 4151, 3734] for i in range(len(cold['user_id']))]\n",
        "cold_recs = pd.DataFrame(list(zip(cold['user_id'].values.tolist(), cold_recs)), columns=['user_id', 'item_id'])\n",
        "cold_recs.head()"
      ],
      "metadata": {
        "colab": {
          "base_uri": "https://localhost:8080/",
          "height": 206
        },
        "id": "x0FtEgGKCSlp",
        "outputId": "c5c49a9a-d428-469e-deb7-453d2334cf7b"
      },
      "execution_count": 60,
      "outputs": [
        {
          "output_type": "execute_result",
          "data": {
            "text/plain": [
              "   user_id                                                            item_id\n",
              "0        3  [9728, 10440, 15297, 13865, 14488, 12192, 12360, 341, 4151, 3734]\n",
              "1       29  [9728, 10440, 15297, 13865, 14488, 12192, 12360, 341, 4151, 3734]\n",
              "2       30  [9728, 10440, 15297, 13865, 14488, 12192, 12360, 341, 4151, 3734]\n",
              "3       33  [9728, 10440, 15297, 13865, 14488, 12192, 12360, 341, 4151, 3734]\n",
              "4       39  [9728, 10440, 15297, 13865, 14488, 12192, 12360, 341, 4151, 3734]"
            ],
            "text/html": [
              "\n",
              "  <div id=\"df-82ea7ed4-67ab-41cb-a675-822edd672174\">\n",
              "    <div class=\"colab-df-container\">\n",
              "      <div>\n",
              "<style scoped>\n",
              "    .dataframe tbody tr th:only-of-type {\n",
              "        vertical-align: middle;\n",
              "    }\n",
              "\n",
              "    .dataframe tbody tr th {\n",
              "        vertical-align: top;\n",
              "    }\n",
              "\n",
              "    .dataframe thead th {\n",
              "        text-align: right;\n",
              "    }\n",
              "</style>\n",
              "<table border=\"1\" class=\"dataframe\">\n",
              "  <thead>\n",
              "    <tr style=\"text-align: right;\">\n",
              "      <th></th>\n",
              "      <th>user_id</th>\n",
              "      <th>item_id</th>\n",
              "    </tr>\n",
              "  </thead>\n",
              "  <tbody>\n",
              "    <tr>\n",
              "      <th>0</th>\n",
              "      <td>3</td>\n",
              "      <td>[9728, 10440, 15297, 13865, 14488, 12192, 12360, 341, 4151, 3734]</td>\n",
              "    </tr>\n",
              "    <tr>\n",
              "      <th>1</th>\n",
              "      <td>29</td>\n",
              "      <td>[9728, 10440, 15297, 13865, 14488, 12192, 12360, 341, 4151, 3734]</td>\n",
              "    </tr>\n",
              "    <tr>\n",
              "      <th>2</th>\n",
              "      <td>30</td>\n",
              "      <td>[9728, 10440, 15297, 13865, 14488, 12192, 12360, 341, 4151, 3734]</td>\n",
              "    </tr>\n",
              "    <tr>\n",
              "      <th>3</th>\n",
              "      <td>33</td>\n",
              "      <td>[9728, 10440, 15297, 13865, 14488, 12192, 12360, 341, 4151, 3734]</td>\n",
              "    </tr>\n",
              "    <tr>\n",
              "      <th>4</th>\n",
              "      <td>39</td>\n",
              "      <td>[9728, 10440, 15297, 13865, 14488, 12192, 12360, 341, 4151, 3734]</td>\n",
              "    </tr>\n",
              "  </tbody>\n",
              "</table>\n",
              "</div>\n",
              "      <button class=\"colab-df-convert\" onclick=\"convertToInteractive('df-82ea7ed4-67ab-41cb-a675-822edd672174')\"\n",
              "              title=\"Convert this dataframe to an interactive table.\"\n",
              "              style=\"display:none;\">\n",
              "        \n",
              "  <svg xmlns=\"http://www.w3.org/2000/svg\" height=\"24px\"viewBox=\"0 0 24 24\"\n",
              "       width=\"24px\">\n",
              "    <path d=\"M0 0h24v24H0V0z\" fill=\"none\"/>\n",
              "    <path d=\"M18.56 5.44l.94 2.06.94-2.06 2.06-.94-2.06-.94-.94-2.06-.94 2.06-2.06.94zm-11 1L8.5 8.5l.94-2.06 2.06-.94-2.06-.94L8.5 2.5l-.94 2.06-2.06.94zm10 10l.94 2.06.94-2.06 2.06-.94-2.06-.94-.94-2.06-.94 2.06-2.06.94z\"/><path d=\"M17.41 7.96l-1.37-1.37c-.4-.4-.92-.59-1.43-.59-.52 0-1.04.2-1.43.59L10.3 9.45l-7.72 7.72c-.78.78-.78 2.05 0 2.83L4 21.41c.39.39.9.59 1.41.59.51 0 1.02-.2 1.41-.59l7.78-7.78 2.81-2.81c.8-.78.8-2.07 0-2.86zM5.41 20L4 18.59l7.72-7.72 1.47 1.35L5.41 20z\"/>\n",
              "  </svg>\n",
              "      </button>\n",
              "      \n",
              "  <style>\n",
              "    .colab-df-container {\n",
              "      display:flex;\n",
              "      flex-wrap:wrap;\n",
              "      gap: 12px;\n",
              "    }\n",
              "\n",
              "    .colab-df-convert {\n",
              "      background-color: #E8F0FE;\n",
              "      border: none;\n",
              "      border-radius: 50%;\n",
              "      cursor: pointer;\n",
              "      display: none;\n",
              "      fill: #1967D2;\n",
              "      height: 32px;\n",
              "      padding: 0 0 0 0;\n",
              "      width: 32px;\n",
              "    }\n",
              "\n",
              "    .colab-df-convert:hover {\n",
              "      background-color: #E2EBFA;\n",
              "      box-shadow: 0px 1px 2px rgba(60, 64, 67, 0.3), 0px 1px 3px 1px rgba(60, 64, 67, 0.15);\n",
              "      fill: #174EA6;\n",
              "    }\n",
              "\n",
              "    [theme=dark] .colab-df-convert {\n",
              "      background-color: #3B4455;\n",
              "      fill: #D2E3FC;\n",
              "    }\n",
              "\n",
              "    [theme=dark] .colab-df-convert:hover {\n",
              "      background-color: #434B5C;\n",
              "      box-shadow: 0px 1px 3px 1px rgba(0, 0, 0, 0.15);\n",
              "      filter: drop-shadow(0px 1px 2px rgba(0, 0, 0, 0.3));\n",
              "      fill: #FFFFFF;\n",
              "    }\n",
              "  </style>\n",
              "\n",
              "      <script>\n",
              "        const buttonEl =\n",
              "          document.querySelector('#df-82ea7ed4-67ab-41cb-a675-822edd672174 button.colab-df-convert');\n",
              "        buttonEl.style.display =\n",
              "          google.colab.kernel.accessAllowed ? 'block' : 'none';\n",
              "\n",
              "        async function convertToInteractive(key) {\n",
              "          const element = document.querySelector('#df-82ea7ed4-67ab-41cb-a675-822edd672174');\n",
              "          const dataTable =\n",
              "            await google.colab.kernel.invokeFunction('convertToInteractive',\n",
              "                                                     [key], {});\n",
              "          if (!dataTable) return;\n",
              "\n",
              "          const docLinkHtml = 'Like what you see? Visit the ' +\n",
              "            '<a target=\"_blank\" href=https://colab.research.google.com/notebooks/data_table.ipynb>data table notebook</a>'\n",
              "            + ' to learn more about interactive tables.';\n",
              "          element.innerHTML = '';\n",
              "          dataTable['output_type'] = 'display_data';\n",
              "          await google.colab.output.renderOutput(dataTable, element);\n",
              "          const docLink = document.createElement('div');\n",
              "          docLink.innerHTML = docLinkHtml;\n",
              "          element.appendChild(docLink);\n",
              "        }\n",
              "      </script>\n",
              "    </div>\n",
              "  </div>\n",
              "  "
            ]
          },
          "metadata": {},
          "execution_count": 60
        }
      ]
    },
    {
      "cell_type": "code",
      "source": [
        "res = []\n",
        "for df in tqdm(np.array_split(warm, 20)):\n",
        "  res.append(get_recs_for_user_batch(df['user_id'].values))"
      ],
      "metadata": {
        "colab": {
          "base_uri": "https://localhost:8080/"
        },
        "id": "BN8qnvanjqe-",
        "outputId": "45a71fe4-e70c-4b88-fb54-349342db8d89"
      },
      "execution_count": 61,
      "outputs": [
        {
          "output_type": "stream",
          "name": "stderr",
          "text": [
            "\r  0%|          | 0/20 [00:00<?, ?it/s]"
          ]
        },
        {
          "output_type": "stream",
          "name": "stdout",
          "text": [
            "72/72 [==============================] - 0s 2ms/step\n"
          ]
        },
        {
          "output_type": "stream",
          "name": "stderr",
          "text": [
            "\r  5%|▌         | 1/20 [00:02<00:40,  2.11s/it]"
          ]
        },
        {
          "output_type": "stream",
          "name": "stdout",
          "text": [
            "72/72 [==============================] - 0s 2ms/step\n"
          ]
        },
        {
          "output_type": "stream",
          "name": "stderr",
          "text": [
            "\r 10%|█         | 2/20 [00:03<00:34,  1.90s/it]"
          ]
        },
        {
          "output_type": "stream",
          "name": "stdout",
          "text": [
            "72/72 [==============================] - 0s 2ms/step\n"
          ]
        },
        {
          "output_type": "stream",
          "name": "stderr",
          "text": [
            "\r 15%|█▌        | 3/20 [00:05<00:31,  1.83s/it]"
          ]
        },
        {
          "output_type": "stream",
          "name": "stdout",
          "text": [
            "72/72 [==============================] - 0s 2ms/step\n"
          ]
        },
        {
          "output_type": "stream",
          "name": "stderr",
          "text": [
            "\r 20%|██        | 4/20 [00:07<00:27,  1.74s/it]"
          ]
        },
        {
          "output_type": "stream",
          "name": "stdout",
          "text": [
            "72/72 [==============================] - 0s 2ms/step\n"
          ]
        },
        {
          "output_type": "stream",
          "name": "stderr",
          "text": [
            "\r 25%|██▌       | 5/20 [00:08<00:25,  1.69s/it]"
          ]
        },
        {
          "output_type": "stream",
          "name": "stdout",
          "text": [
            "72/72 [==============================] - 0s 2ms/step\n"
          ]
        },
        {
          "output_type": "stream",
          "name": "stderr",
          "text": [
            "\r 30%|███       | 6/20 [00:10<00:23,  1.66s/it]"
          ]
        },
        {
          "output_type": "stream",
          "name": "stdout",
          "text": [
            "72/72 [==============================] - 0s 2ms/step\n"
          ]
        },
        {
          "output_type": "stream",
          "name": "stderr",
          "text": [
            "\r 35%|███▌      | 7/20 [00:12<00:21,  1.64s/it]"
          ]
        },
        {
          "output_type": "stream",
          "name": "stdout",
          "text": [
            "72/72 [==============================] - 0s 2ms/step\n"
          ]
        },
        {
          "output_type": "stream",
          "name": "stderr",
          "text": [
            "\r 40%|████      | 8/20 [00:13<00:19,  1.62s/it]"
          ]
        },
        {
          "output_type": "stream",
          "name": "stdout",
          "text": [
            "72/72 [==============================] - 0s 2ms/step\n"
          ]
        },
        {
          "output_type": "stream",
          "name": "stderr",
          "text": [
            "\r 45%|████▌     | 9/20 [00:15<00:17,  1.60s/it]"
          ]
        },
        {
          "output_type": "stream",
          "name": "stdout",
          "text": [
            "72/72 [==============================] - 0s 2ms/step\n"
          ]
        },
        {
          "output_type": "stream",
          "name": "stderr",
          "text": [
            "\r 50%|█████     | 10/20 [00:16<00:16,  1.64s/it]"
          ]
        },
        {
          "output_type": "stream",
          "name": "stdout",
          "text": [
            "72/72 [==============================] - 0s 2ms/step\n"
          ]
        },
        {
          "output_type": "stream",
          "name": "stderr",
          "text": [
            "\r 55%|█████▌    | 11/20 [00:18<00:14,  1.62s/it]"
          ]
        },
        {
          "output_type": "stream",
          "name": "stdout",
          "text": [
            "72/72 [==============================] - 0s 2ms/step\n"
          ]
        },
        {
          "output_type": "stream",
          "name": "stderr",
          "text": [
            "\r 60%|██████    | 12/20 [00:20<00:12,  1.61s/it]"
          ]
        },
        {
          "output_type": "stream",
          "name": "stdout",
          "text": [
            "72/72 [==============================] - 0s 2ms/step\n"
          ]
        },
        {
          "output_type": "stream",
          "name": "stderr",
          "text": [
            "\r 65%|██████▌   | 13/20 [00:21<00:11,  1.62s/it]"
          ]
        },
        {
          "output_type": "stream",
          "name": "stdout",
          "text": [
            "72/72 [==============================] - 0s 2ms/step\n"
          ]
        },
        {
          "output_type": "stream",
          "name": "stderr",
          "text": [
            "\r 70%|███████   | 14/20 [00:23<00:09,  1.60s/it]"
          ]
        },
        {
          "output_type": "stream",
          "name": "stdout",
          "text": [
            "72/72 [==============================] - 0s 2ms/step\n"
          ]
        },
        {
          "output_type": "stream",
          "name": "stderr",
          "text": [
            "\r 75%|███████▌  | 15/20 [00:24<00:08,  1.64s/it]"
          ]
        },
        {
          "output_type": "stream",
          "name": "stdout",
          "text": [
            "72/72 [==============================] - 0s 2ms/step\n"
          ]
        },
        {
          "output_type": "stream",
          "name": "stderr",
          "text": [
            "\r 80%|████████  | 16/20 [00:26<00:06,  1.62s/it]"
          ]
        },
        {
          "output_type": "stream",
          "name": "stdout",
          "text": [
            "72/72 [==============================] - 0s 2ms/step\n"
          ]
        },
        {
          "output_type": "stream",
          "name": "stderr",
          "text": [
            "\r 85%|████████▌ | 17/20 [00:28<00:04,  1.67s/it]"
          ]
        },
        {
          "output_type": "stream",
          "name": "stdout",
          "text": [
            "72/72 [==============================] - 0s 2ms/step\n"
          ]
        },
        {
          "output_type": "stream",
          "name": "stderr",
          "text": [
            "\r 90%|█████████ | 18/20 [00:29<00:03,  1.64s/it]"
          ]
        },
        {
          "output_type": "stream",
          "name": "stdout",
          "text": [
            "72/72 [==============================] - 0s 2ms/step\n"
          ]
        },
        {
          "output_type": "stream",
          "name": "stderr",
          "text": [
            "\r 95%|█████████▌| 19/20 [00:31<00:01,  1.62s/it]"
          ]
        },
        {
          "output_type": "stream",
          "name": "stdout",
          "text": [
            "72/72 [==============================] - 0s 2ms/step\n"
          ]
        },
        {
          "output_type": "stream",
          "name": "stderr",
          "text": [
            "100%|██████████| 20/20 [00:33<00:00,  1.67s/it]\n"
          ]
        }
      ]
    },
    {
      "cell_type": "code",
      "source": [
        "warm['item_id'] = np.concatenate(res).tolist()"
      ],
      "metadata": {
        "id": "62yN7WbPnV77"
      },
      "execution_count": 62,
      "outputs": []
    },
    {
      "cell_type": "code",
      "source": [
        "warm.head()"
      ],
      "metadata": {
        "id": "qgmKnqtnCSet",
        "colab": {
          "base_uri": "https://localhost:8080/",
          "height": 206
        },
        "outputId": "80ddf467-f607-4391-d744-b5fb1570cb86"
      },
      "execution_count": 63,
      "outputs": [
        {
          "output_type": "execute_result",
          "data": {
            "text/plain": [
              "    user_id                                                           item_id\n",
              "1        11  [13865, 11237, 3817, 8617, 14159, 1626, 13159, 6794, 7706, 2916]\n",
              "6        46   [13865, 11237, 8617, 4470, 13159, 3817, 6794, 14159, 521, 3363]\n",
              "7        47  [13865, 11237, 8617, 3817, 13159, 14159, 512, 2916, 6646, 15262]\n",
              "15       93  [11237, 13865, 13159, 8617, 3817, 512, 3363, 4470, 14159, 15262]\n",
              "22      118    [13865, 6794, 11237, 2916, 4718, 1626, 521, 512, 12156, 12033]"
            ],
            "text/html": [
              "\n",
              "  <div id=\"df-43df8924-a23e-4f9d-ba09-be91160d24ae\">\n",
              "    <div class=\"colab-df-container\">\n",
              "      <div>\n",
              "<style scoped>\n",
              "    .dataframe tbody tr th:only-of-type {\n",
              "        vertical-align: middle;\n",
              "    }\n",
              "\n",
              "    .dataframe tbody tr th {\n",
              "        vertical-align: top;\n",
              "    }\n",
              "\n",
              "    .dataframe thead th {\n",
              "        text-align: right;\n",
              "    }\n",
              "</style>\n",
              "<table border=\"1\" class=\"dataframe\">\n",
              "  <thead>\n",
              "    <tr style=\"text-align: right;\">\n",
              "      <th></th>\n",
              "      <th>user_id</th>\n",
              "      <th>item_id</th>\n",
              "    </tr>\n",
              "  </thead>\n",
              "  <tbody>\n",
              "    <tr>\n",
              "      <th>1</th>\n",
              "      <td>11</td>\n",
              "      <td>[13865, 11237, 3817, 8617, 14159, 1626, 13159, 6794, 7706, 2916]</td>\n",
              "    </tr>\n",
              "    <tr>\n",
              "      <th>6</th>\n",
              "      <td>46</td>\n",
              "      <td>[13865, 11237, 8617, 4470, 13159, 3817, 6794, 14159, 521, 3363]</td>\n",
              "    </tr>\n",
              "    <tr>\n",
              "      <th>7</th>\n",
              "      <td>47</td>\n",
              "      <td>[13865, 11237, 8617, 3817, 13159, 14159, 512, 2916, 6646, 15262]</td>\n",
              "    </tr>\n",
              "    <tr>\n",
              "      <th>15</th>\n",
              "      <td>93</td>\n",
              "      <td>[11237, 13865, 13159, 8617, 3817, 512, 3363, 4470, 14159, 15262]</td>\n",
              "    </tr>\n",
              "    <tr>\n",
              "      <th>22</th>\n",
              "      <td>118</td>\n",
              "      <td>[13865, 6794, 11237, 2916, 4718, 1626, 521, 512, 12156, 12033]</td>\n",
              "    </tr>\n",
              "  </tbody>\n",
              "</table>\n",
              "</div>\n",
              "      <button class=\"colab-df-convert\" onclick=\"convertToInteractive('df-43df8924-a23e-4f9d-ba09-be91160d24ae')\"\n",
              "              title=\"Convert this dataframe to an interactive table.\"\n",
              "              style=\"display:none;\">\n",
              "        \n",
              "  <svg xmlns=\"http://www.w3.org/2000/svg\" height=\"24px\"viewBox=\"0 0 24 24\"\n",
              "       width=\"24px\">\n",
              "    <path d=\"M0 0h24v24H0V0z\" fill=\"none\"/>\n",
              "    <path d=\"M18.56 5.44l.94 2.06.94-2.06 2.06-.94-2.06-.94-.94-2.06-.94 2.06-2.06.94zm-11 1L8.5 8.5l.94-2.06 2.06-.94-2.06-.94L8.5 2.5l-.94 2.06-2.06.94zm10 10l.94 2.06.94-2.06 2.06-.94-2.06-.94-.94-2.06-.94 2.06-2.06.94z\"/><path d=\"M17.41 7.96l-1.37-1.37c-.4-.4-.92-.59-1.43-.59-.52 0-1.04.2-1.43.59L10.3 9.45l-7.72 7.72c-.78.78-.78 2.05 0 2.83L4 21.41c.39.39.9.59 1.41.59.51 0 1.02-.2 1.41-.59l7.78-7.78 2.81-2.81c.8-.78.8-2.07 0-2.86zM5.41 20L4 18.59l7.72-7.72 1.47 1.35L5.41 20z\"/>\n",
              "  </svg>\n",
              "      </button>\n",
              "      \n",
              "  <style>\n",
              "    .colab-df-container {\n",
              "      display:flex;\n",
              "      flex-wrap:wrap;\n",
              "      gap: 12px;\n",
              "    }\n",
              "\n",
              "    .colab-df-convert {\n",
              "      background-color: #E8F0FE;\n",
              "      border: none;\n",
              "      border-radius: 50%;\n",
              "      cursor: pointer;\n",
              "      display: none;\n",
              "      fill: #1967D2;\n",
              "      height: 32px;\n",
              "      padding: 0 0 0 0;\n",
              "      width: 32px;\n",
              "    }\n",
              "\n",
              "    .colab-df-convert:hover {\n",
              "      background-color: #E2EBFA;\n",
              "      box-shadow: 0px 1px 2px rgba(60, 64, 67, 0.3), 0px 1px 3px 1px rgba(60, 64, 67, 0.15);\n",
              "      fill: #174EA6;\n",
              "    }\n",
              "\n",
              "    [theme=dark] .colab-df-convert {\n",
              "      background-color: #3B4455;\n",
              "      fill: #D2E3FC;\n",
              "    }\n",
              "\n",
              "    [theme=dark] .colab-df-convert:hover {\n",
              "      background-color: #434B5C;\n",
              "      box-shadow: 0px 1px 3px 1px rgba(0, 0, 0, 0.15);\n",
              "      filter: drop-shadow(0px 1px 2px rgba(0, 0, 0, 0.3));\n",
              "      fill: #FFFFFF;\n",
              "    }\n",
              "  </style>\n",
              "\n",
              "      <script>\n",
              "        const buttonEl =\n",
              "          document.querySelector('#df-43df8924-a23e-4f9d-ba09-be91160d24ae button.colab-df-convert');\n",
              "        buttonEl.style.display =\n",
              "          google.colab.kernel.accessAllowed ? 'block' : 'none';\n",
              "\n",
              "        async function convertToInteractive(key) {\n",
              "          const element = document.querySelector('#df-43df8924-a23e-4f9d-ba09-be91160d24ae');\n",
              "          const dataTable =\n",
              "            await google.colab.kernel.invokeFunction('convertToInteractive',\n",
              "                                                     [key], {});\n",
              "          if (!dataTable) return;\n",
              "\n",
              "          const docLinkHtml = 'Like what you see? Visit the ' +\n",
              "            '<a target=\"_blank\" href=https://colab.research.google.com/notebooks/data_table.ipynb>data table notebook</a>'\n",
              "            + ' to learn more about interactive tables.';\n",
              "          element.innerHTML = '';\n",
              "          dataTable['output_type'] = 'display_data';\n",
              "          await google.colab.output.renderOutput(dataTable, element);\n",
              "          const docLink = document.createElement('div');\n",
              "          docLink.innerHTML = docLinkHtml;\n",
              "          element.appendChild(docLink);\n",
              "        }\n",
              "      </script>\n",
              "    </div>\n",
              "  </div>\n",
              "  "
            ]
          },
          "metadata": {},
          "execution_count": 63
        }
      ]
    },
    {
      "cell_type": "code",
      "source": [
        "res = pd.concat((cold_recs, warm))\n",
        "assert res.shape[0] == submission.shape[0]\n",
        "res.to_csv('dssm_2.csv', index=False)"
      ],
      "metadata": {
        "id": "EQV5XXJk3DZ4"
      },
      "execution_count": 64,
      "outputs": []
    },
    {
      "cell_type": "markdown",
      "source": [
        "## Submit results"
      ],
      "metadata": {
        "id": "gT_9gePDoRRU"
      }
    },
    {
      "cell_type": "markdown",
      "source": [
        "### Simple DSSM with \"good\" sampling\n",
        "\n",
        "![image.png](data:image/png;base64,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)"
      ],
      "metadata": {
        "id": "RPRxZAm0oTJV"
      }
    },
    {
      "cell_type": "markdown",
      "source": [
        "### DSSM with good sampling and text features\n",
        "\n",
        "![image.png](data:image/png;base64,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)"
      ],
      "metadata": {
        "id": "hz6aPsmEoa38"
      }
    },
    {
      "cell_type": "markdown",
      "source": [
        "### DSSM with good sampling, text features and optimal epochs\n",
        "\n",
        "![image.png](data:image/png;base64,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)"
      ],
      "metadata": {
        "id": "RkVz5IVNojal"
      }
    },
    {
      "cell_type": "code",
      "source": [],
      "metadata": {
        "id": "1chJM2NB23mF"
      },
      "execution_count": null,
      "outputs": []
    }
  ]
}