{
  "nbformat": 4,
  "nbformat_minor": 0,
  "metadata": {
    "colab": {
      "provenance": [],
      "collapsed_sections": [
        "ZqQf6Nx7Xmkr",
        "gG6fkUsQXvwp",
        "tssSNRmGRMMY"
      ],
      "toc_visible": true
    },
    "kernelspec": {
      "name": "python3",
      "display_name": "Python 3"
    },
    "language_info": {
      "name": "python"
    },
    "widgets": {
      "application/vnd.jupyter.widget-state+json": {
        "77c67a4e221e40238ebe455c019bc02b": {
          "model_module": "@jupyter-widgets/controls",
          "model_name": "HBoxModel",
          "model_module_version": "1.5.0",
          "state": {
            "_dom_classes": [],
            "_model_module": "@jupyter-widgets/controls",
            "_model_module_version": "1.5.0",
            "_model_name": "HBoxModel",
            "_view_count": null,
            "_view_module": "@jupyter-widgets/controls",
            "_view_module_version": "1.5.0",
            "_view_name": "HBoxView",
            "box_style": "",
            "children": [
              "IPY_MODEL_050b28ed13b241dfa88246f78eeb5703",
              "IPY_MODEL_ffeb62b6f4084be787139293064335a7",
              "IPY_MODEL_ae13abcb46214f66aa289788f253c2d1"
            ],
            "layout": "IPY_MODEL_64a4149ef5f0409ead036eea3c3f85b6"
          }
        },
        "050b28ed13b241dfa88246f78eeb5703": {
          "model_module": "@jupyter-widgets/controls",
          "model_name": "HTMLModel",
          "model_module_version": "1.5.0",
          "state": {
            "_dom_classes": [],
            "_model_module": "@jupyter-widgets/controls",
            "_model_module_version": "1.5.0",
            "_model_name": "HTMLModel",
            "_view_count": null,
            "_view_module": "@jupyter-widgets/controls",
            "_view_module_version": "1.5.0",
            "_view_name": "HTMLView",
            "description": "",
            "description_tooltip": null,
            "layout": "IPY_MODEL_21ff995bdcba45059617066e446cfbd0",
            "placeholder": "​",
            "style": "IPY_MODEL_ee1d439dafbd463a8ed73309fea077b4",
            "value": "kion dataset download: 100%"
          }
        },
        "ffeb62b6f4084be787139293064335a7": {
          "model_module": "@jupyter-widgets/controls",
          "model_name": "FloatProgressModel",
          "model_module_version": "1.5.0",
          "state": {
            "_dom_classes": [],
            "_model_module": "@jupyter-widgets/controls",
            "_model_module_version": "1.5.0",
            "_model_name": "FloatProgressModel",
            "_view_count": null,
            "_view_module": "@jupyter-widgets/controls",
            "_view_module_version": "1.5.0",
            "_view_name": "ProgressView",
            "bar_style": "",
            "description": "",
            "description_tooltip": null,
            "layout": "IPY_MODEL_c0cf0d221db747ff99fbd0fa06501f11",
            "max": 78795385,
            "min": 0,
            "orientation": "horizontal",
            "style": "IPY_MODEL_54cd9cc06da84526b198808b0f2601fe",
            "value": 78795385
          }
        },
        "ae13abcb46214f66aa289788f253c2d1": {
          "model_module": "@jupyter-widgets/controls",
          "model_name": "HTMLModel",
          "model_module_version": "1.5.0",
          "state": {
            "_dom_classes": [],
            "_model_module": "@jupyter-widgets/controls",
            "_model_module_version": "1.5.0",
            "_model_name": "HTMLModel",
            "_view_count": null,
            "_view_module": "@jupyter-widgets/controls",
            "_view_module_version": "1.5.0",
            "_view_name": "HTMLView",
            "description": "",
            "description_tooltip": null,
            "layout": "IPY_MODEL_ece33669f609411d9cb543d7ab752431",
            "placeholder": "​",
            "style": "IPY_MODEL_1491fa97f2d244c4bb24452376fbbfd9",
            "value": " 78.8M/78.8M [00:20&lt;00:00, 17.9MiB/s]"
          }
        },
        "64a4149ef5f0409ead036eea3c3f85b6": {
          "model_module": "@jupyter-widgets/base",
          "model_name": "LayoutModel",
          "model_module_version": "1.2.0",
          "state": {
            "_model_module": "@jupyter-widgets/base",
            "_model_module_version": "1.2.0",
            "_model_name": "LayoutModel",
            "_view_count": null,
            "_view_module": "@jupyter-widgets/base",
            "_view_module_version": "1.2.0",
            "_view_name": "LayoutView",
            "align_content": null,
            "align_items": null,
            "align_self": null,
            "border": null,
            "bottom": null,
            "display": null,
            "flex": null,
            "flex_flow": null,
            "grid_area": null,
            "grid_auto_columns": null,
            "grid_auto_flow": null,
            "grid_auto_rows": null,
            "grid_column": null,
            "grid_gap": null,
            "grid_row": null,
            "grid_template_areas": null,
            "grid_template_columns": null,
            "grid_template_rows": null,
            "height": null,
            "justify_content": null,
            "justify_items": null,
            "left": null,
            "margin": null,
            "max_height": null,
            "max_width": null,
            "min_height": null,
            "min_width": null,
            "object_fit": null,
            "object_position": null,
            "order": null,
            "overflow": null,
            "overflow_x": null,
            "overflow_y": null,
            "padding": null,
            "right": null,
            "top": null,
            "visibility": null,
            "width": null
          }
        },
        "21ff995bdcba45059617066e446cfbd0": {
          "model_module": "@jupyter-widgets/base",
          "model_name": "LayoutModel",
          "model_module_version": "1.2.0",
          "state": {
            "_model_module": "@jupyter-widgets/base",
            "_model_module_version": "1.2.0",
            "_model_name": "LayoutModel",
            "_view_count": null,
            "_view_module": "@jupyter-widgets/base",
            "_view_module_version": "1.2.0",
            "_view_name": "LayoutView",
            "align_content": null,
            "align_items": null,
            "align_self": null,
            "border": null,
            "bottom": null,
            "display": null,
            "flex": null,
            "flex_flow": null,
            "grid_area": null,
            "grid_auto_columns": null,
            "grid_auto_flow": null,
            "grid_auto_rows": null,
            "grid_column": null,
            "grid_gap": null,
            "grid_row": null,
            "grid_template_areas": null,
            "grid_template_columns": null,
            "grid_template_rows": null,
            "height": null,
            "justify_content": null,
            "justify_items": null,
            "left": null,
            "margin": null,
            "max_height": null,
            "max_width": null,
            "min_height": null,
            "min_width": null,
            "object_fit": null,
            "object_position": null,
            "order": null,
            "overflow": null,
            "overflow_x": null,
            "overflow_y": null,
            "padding": null,
            "right": null,
            "top": null,
            "visibility": null,
            "width": null
          }
        },
        "ee1d439dafbd463a8ed73309fea077b4": {
          "model_module": "@jupyter-widgets/controls",
          "model_name": "DescriptionStyleModel",
          "model_module_version": "1.5.0",
          "state": {
            "_model_module": "@jupyter-widgets/controls",
            "_model_module_version": "1.5.0",
            "_model_name": "DescriptionStyleModel",
            "_view_count": null,
            "_view_module": "@jupyter-widgets/base",
            "_view_module_version": "1.2.0",
            "_view_name": "StyleView",
            "description_width": ""
          }
        },
        "c0cf0d221db747ff99fbd0fa06501f11": {
          "model_module": "@jupyter-widgets/base",
          "model_name": "LayoutModel",
          "model_module_version": "1.2.0",
          "state": {
            "_model_module": "@jupyter-widgets/base",
            "_model_module_version": "1.2.0",
            "_model_name": "LayoutModel",
            "_view_count": null,
            "_view_module": "@jupyter-widgets/base",
            "_view_module_version": "1.2.0",
            "_view_name": "LayoutView",
            "align_content": null,
            "align_items": null,
            "align_self": null,
            "border": null,
            "bottom": null,
            "display": null,
            "flex": null,
            "flex_flow": null,
            "grid_area": null,
            "grid_auto_columns": null,
            "grid_auto_flow": null,
            "grid_auto_rows": null,
            "grid_column": null,
            "grid_gap": null,
            "grid_row": null,
            "grid_template_areas": null,
            "grid_template_columns": null,
            "grid_template_rows": null,
            "height": null,
            "justify_content": null,
            "justify_items": null,
            "left": null,
            "margin": null,
            "max_height": null,
            "max_width": null,
            "min_height": null,
            "min_width": null,
            "object_fit": null,
            "object_position": null,
            "order": null,
            "overflow": null,
            "overflow_x": null,
            "overflow_y": null,
            "padding": null,
            "right": null,
            "top": null,
            "visibility": null,
            "width": null
          }
        },
        "54cd9cc06da84526b198808b0f2601fe": {
          "model_module": "@jupyter-widgets/controls",
          "model_name": "ProgressStyleModel",
          "model_module_version": "1.5.0",
          "state": {
            "_model_module": "@jupyter-widgets/controls",
            "_model_module_version": "1.5.0",
            "_model_name": "ProgressStyleModel",
            "_view_count": null,
            "_view_module": "@jupyter-widgets/base",
            "_view_module_version": "1.2.0",
            "_view_name": "StyleView",
            "bar_color": null,
            "description_width": ""
          }
        },
        "ece33669f609411d9cb543d7ab752431": {
          "model_module": "@jupyter-widgets/base",
          "model_name": "LayoutModel",
          "model_module_version": "1.2.0",
          "state": {
            "_model_module": "@jupyter-widgets/base",
            "_model_module_version": "1.2.0",
            "_model_name": "LayoutModel",
            "_view_count": null,
            "_view_module": "@jupyter-widgets/base",
            "_view_module_version": "1.2.0",
            "_view_name": "LayoutView",
            "align_content": null,
            "align_items": null,
            "align_self": null,
            "border": null,
            "bottom": null,
            "display": null,
            "flex": null,
            "flex_flow": null,
            "grid_area": null,
            "grid_auto_columns": null,
            "grid_auto_flow": null,
            "grid_auto_rows": null,
            "grid_column": null,
            "grid_gap": null,
            "grid_row": null,
            "grid_template_areas": null,
            "grid_template_columns": null,
            "grid_template_rows": null,
            "height": null,
            "justify_content": null,
            "justify_items": null,
            "left": null,
            "margin": null,
            "max_height": null,
            "max_width": null,
            "min_height": null,
            "min_width": null,
            "object_fit": null,
            "object_position": null,
            "order": null,
            "overflow": null,
            "overflow_x": null,
            "overflow_y": null,
            "padding": null,
            "right": null,
            "top": null,
            "visibility": null,
            "width": null
          }
        },
        "1491fa97f2d244c4bb24452376fbbfd9": {
          "model_module": "@jupyter-widgets/controls",
          "model_name": "DescriptionStyleModel",
          "model_module_version": "1.5.0",
          "state": {
            "_model_module": "@jupyter-widgets/controls",
            "_model_module_version": "1.5.0",
            "_model_name": "DescriptionStyleModel",
            "_view_count": null,
            "_view_module": "@jupyter-widgets/base",
            "_view_module_version": "1.2.0",
            "_view_name": "StyleView",
            "description_width": ""
          }
        },
        "3468a4b4b3b84b3bbb0807274ce6bd6a": {
          "model_module": "@jupyter-widgets/controls",
          "model_name": "HBoxModel",
          "model_module_version": "1.5.0",
          "state": {
            "_dom_classes": [],
            "_model_module": "@jupyter-widgets/controls",
            "_model_module_version": "1.5.0",
            "_model_name": "HBoxModel",
            "_view_count": null,
            "_view_module": "@jupyter-widgets/controls",
            "_view_module_version": "1.5.0",
            "_view_name": "HBoxView",
            "box_style": "",
            "children": [
              "IPY_MODEL_609645789e0b41ff9f10865aa7515a9b",
              "IPY_MODEL_4956380bdf004baca1274969a9bf9afb",
              "IPY_MODEL_fee43525dbc646119b206d2fea071e72"
            ],
            "layout": "IPY_MODEL_b2836f7c7a014e33a7745a54f58129ec"
          }
        },
        "609645789e0b41ff9f10865aa7515a9b": {
          "model_module": "@jupyter-widgets/controls",
          "model_name": "HTMLModel",
          "model_module_version": "1.5.0",
          "state": {
            "_dom_classes": [],
            "_model_module": "@jupyter-widgets/controls",
            "_model_module_version": "1.5.0",
            "_model_name": "HTMLModel",
            "_view_count": null,
            "_view_module": "@jupyter-widgets/controls",
            "_view_module_version": "1.5.0",
            "_view_name": "HTMLView",
            "description": "",
            "description_tooltip": null,
            "layout": "IPY_MODEL_e18e5abfe4a9473a8c35900f81fdb52d",
            "placeholder": "​",
            "style": "IPY_MODEL_e1595f4fd6a34392820644eb67da433d",
            "value": ""
          }
        },
        "4956380bdf004baca1274969a9bf9afb": {
          "model_module": "@jupyter-widgets/controls",
          "model_name": "FloatProgressModel",
          "model_module_version": "1.5.0",
          "state": {
            "_dom_classes": [],
            "_model_module": "@jupyter-widgets/controls",
            "_model_module_version": "1.5.0",
            "_model_name": "FloatProgressModel",
            "_view_count": null,
            "_view_module": "@jupyter-widgets/controls",
            "_view_module_version": "1.5.0",
            "_view_name": "ProgressView",
            "bar_style": "success",
            "description": "",
            "description_tooltip": null,
            "layout": "IPY_MODEL_6cc56197fa204ca69a08b8a5a7bf885e",
            "max": 1,
            "min": 0,
            "orientation": "horizontal",
            "style": "IPY_MODEL_ea482048ceee4f15a16095cb998f3a08",
            "value": 1
          }
        },
        "fee43525dbc646119b206d2fea071e72": {
          "model_module": "@jupyter-widgets/controls",
          "model_name": "HTMLModel",
          "model_module_version": "1.5.0",
          "state": {
            "_dom_classes": [],
            "_model_module": "@jupyter-widgets/controls",
            "_model_module_version": "1.5.0",
            "_model_name": "HTMLModel",
            "_view_count": null,
            "_view_module": "@jupyter-widgets/controls",
            "_view_module_version": "1.5.0",
            "_view_name": "HTMLView",
            "description": "",
            "description_tooltip": null,
            "layout": "IPY_MODEL_05842b61f4654dcabed1cd12b9c59a6d",
            "placeholder": "​",
            "style": "IPY_MODEL_568dd256e66f415fa0c168d4db3a5417",
            "value": " 5/? [15:14&lt;00:00, 183.48s/it]"
          }
        },
        "b2836f7c7a014e33a7745a54f58129ec": {
          "model_module": "@jupyter-widgets/base",
          "model_name": "LayoutModel",
          "model_module_version": "1.2.0",
          "state": {
            "_model_module": "@jupyter-widgets/base",
            "_model_module_version": "1.2.0",
            "_model_name": "LayoutModel",
            "_view_count": null,
            "_view_module": "@jupyter-widgets/base",
            "_view_module_version": "1.2.0",
            "_view_name": "LayoutView",
            "align_content": null,
            "align_items": null,
            "align_self": null,
            "border": null,
            "bottom": null,
            "display": null,
            "flex": null,
            "flex_flow": null,
            "grid_area": null,
            "grid_auto_columns": null,
            "grid_auto_flow": null,
            "grid_auto_rows": null,
            "grid_column": null,
            "grid_gap": null,
            "grid_row": null,
            "grid_template_areas": null,
            "grid_template_columns": null,
            "grid_template_rows": null,
            "height": null,
            "justify_content": null,
            "justify_items": null,
            "left": null,
            "margin": null,
            "max_height": null,
            "max_width": null,
            "min_height": null,
            "min_width": null,
            "object_fit": null,
            "object_position": null,
            "order": null,
            "overflow": null,
            "overflow_x": null,
            "overflow_y": null,
            "padding": null,
            "right": null,
            "top": null,
            "visibility": null,
            "width": null
          }
        },
        "e18e5abfe4a9473a8c35900f81fdb52d": {
          "model_module": "@jupyter-widgets/base",
          "model_name": "LayoutModel",
          "model_module_version": "1.2.0",
          "state": {
            "_model_module": "@jupyter-widgets/base",
            "_model_module_version": "1.2.0",
            "_model_name": "LayoutModel",
            "_view_count": null,
            "_view_module": "@jupyter-widgets/base",
            "_view_module_version": "1.2.0",
            "_view_name": "LayoutView",
            "align_content": null,
            "align_items": null,
            "align_self": null,
            "border": null,
            "bottom": null,
            "display": null,
            "flex": null,
            "flex_flow": null,
            "grid_area": null,
            "grid_auto_columns": null,
            "grid_auto_flow": null,
            "grid_auto_rows": null,
            "grid_column": null,
            "grid_gap": null,
            "grid_row": null,
            "grid_template_areas": null,
            "grid_template_columns": null,
            "grid_template_rows": null,
            "height": null,
            "justify_content": null,
            "justify_items": null,
            "left": null,
            "margin": null,
            "max_height": null,
            "max_width": null,
            "min_height": null,
            "min_width": null,
            "object_fit": null,
            "object_position": null,
            "order": null,
            "overflow": null,
            "overflow_x": null,
            "overflow_y": null,
            "padding": null,
            "right": null,
            "top": null,
            "visibility": null,
            "width": null
          }
        },
        "e1595f4fd6a34392820644eb67da433d": {
          "model_module": "@jupyter-widgets/controls",
          "model_name": "DescriptionStyleModel",
          "model_module_version": "1.5.0",
          "state": {
            "_model_module": "@jupyter-widgets/controls",
            "_model_module_version": "1.5.0",
            "_model_name": "DescriptionStyleModel",
            "_view_count": null,
            "_view_module": "@jupyter-widgets/base",
            "_view_module_version": "1.2.0",
            "_view_name": "StyleView",
            "description_width": ""
          }
        },
        "6cc56197fa204ca69a08b8a5a7bf885e": {
          "model_module": "@jupyter-widgets/base",
          "model_name": "LayoutModel",
          "model_module_version": "1.2.0",
          "state": {
            "_model_module": "@jupyter-widgets/base",
            "_model_module_version": "1.2.0",
            "_model_name": "LayoutModel",
            "_view_count": null,
            "_view_module": "@jupyter-widgets/base",
            "_view_module_version": "1.2.0",
            "_view_name": "LayoutView",
            "align_content": null,
            "align_items": null,
            "align_self": null,
            "border": null,
            "bottom": null,
            "display": null,
            "flex": null,
            "flex_flow": null,
            "grid_area": null,
            "grid_auto_columns": null,
            "grid_auto_flow": null,
            "grid_auto_rows": null,
            "grid_column": null,
            "grid_gap": null,
            "grid_row": null,
            "grid_template_areas": null,
            "grid_template_columns": null,
            "grid_template_rows": null,
            "height": null,
            "justify_content": null,
            "justify_items": null,
            "left": null,
            "margin": null,
            "max_height": null,
            "max_width": null,
            "min_height": null,
            "min_width": null,
            "object_fit": null,
            "object_position": null,
            "order": null,
            "overflow": null,
            "overflow_x": null,
            "overflow_y": null,
            "padding": null,
            "right": null,
            "top": null,
            "visibility": null,
            "width": "20px"
          }
        },
        "ea482048ceee4f15a16095cb998f3a08": {
          "model_module": "@jupyter-widgets/controls",
          "model_name": "ProgressStyleModel",
          "model_module_version": "1.5.0",
          "state": {
            "_model_module": "@jupyter-widgets/controls",
            "_model_module_version": "1.5.0",
            "_model_name": "ProgressStyleModel",
            "_view_count": null,
            "_view_module": "@jupyter-widgets/base",
            "_view_module_version": "1.2.0",
            "_view_name": "StyleView",
            "bar_color": null,
            "description_width": ""
          }
        },
        "05842b61f4654dcabed1cd12b9c59a6d": {
          "model_module": "@jupyter-widgets/base",
          "model_name": "LayoutModel",
          "model_module_version": "1.2.0",
          "state": {
            "_model_module": "@jupyter-widgets/base",
            "_model_module_version": "1.2.0",
            "_model_name": "LayoutModel",
            "_view_count": null,
            "_view_module": "@jupyter-widgets/base",
            "_view_module_version": "1.2.0",
            "_view_name": "LayoutView",
            "align_content": null,
            "align_items": null,
            "align_self": null,
            "border": null,
            "bottom": null,
            "display": null,
            "flex": null,
            "flex_flow": null,
            "grid_area": null,
            "grid_auto_columns": null,
            "grid_auto_flow": null,
            "grid_auto_rows": null,
            "grid_column": null,
            "grid_gap": null,
            "grid_row": null,
            "grid_template_areas": null,
            "grid_template_columns": null,
            "grid_template_rows": null,
            "height": null,
            "justify_content": null,
            "justify_items": null,
            "left": null,
            "margin": null,
            "max_height": null,
            "max_width": null,
            "min_height": null,
            "min_width": null,
            "object_fit": null,
            "object_position": null,
            "order": null,
            "overflow": null,
            "overflow_x": null,
            "overflow_y": null,
            "padding": null,
            "right": null,
            "top": null,
            "visibility": null,
            "width": null
          }
        },
        "568dd256e66f415fa0c168d4db3a5417": {
          "model_module": "@jupyter-widgets/controls",
          "model_name": "DescriptionStyleModel",
          "model_module_version": "1.5.0",
          "state": {
            "_model_module": "@jupyter-widgets/controls",
            "_model_module_version": "1.5.0",
            "_model_name": "DescriptionStyleModel",
            "_view_count": null,
            "_view_module": "@jupyter-widgets/base",
            "_view_module_version": "1.2.0",
            "_view_name": "StyleView",
            "description_width": ""
          }
        }
      }
    },
    "accelerator": "GPU",
    "gpuClass": "standard"
  },
  "cells": [
    {
      "cell_type": "code",
      "source": [
        "!pip install rectools optuna > None"
      ],
      "metadata": {
        "id": "EAlcIV_FO84O"
      },
      "execution_count": 4,
      "outputs": []
    },
    {
      "cell_type": "code",
      "execution_count": 36,
      "metadata": {
        "id": "q9Mds7geOmRB"
      },
      "outputs": [],
      "source": [
        "import os\n",
        "\n",
        "import pandas as pd\n",
        "import numpy as np\n",
        "\n",
        "import requests\n",
        "from tqdm.auto import tqdm\n",
        "\n",
        "from rectools.metrics import Precision, Recall, MAP, calc_metrics, MeanInvUserFreq, Serendipity\n",
        "from rectools.models import ImplicitALSWrapperModel, LightFMWrapperModel\n",
        "from rectools import Columns\n",
        "from rectools.dataset import Dataset\n",
        "from lightfm import LightFM\n",
        "\n",
        "from implicit.als import AlternatingLeastSquares\n",
        "from implicit.bpr import BayesianPersonalizedRanking\n",
        "from implicit.lmf import LogisticMatrixFactorization\n",
        "\n",
        "import optuna\n",
        "import dill\n",
        "\n",
        "from tqdm.auto import tqdm"
      ]
    },
    {
      "cell_type": "code",
      "source": [
        "import warnings\n",
        "warnings.filterwarnings('ignore')"
      ],
      "metadata": {
        "id": "YvnTCJAcOpUm"
      },
      "execution_count": 6,
      "outputs": []
    },
    {
      "cell_type": "code",
      "source": [
        "from google.colab import drive\n",
        "drive.mount('/content/gdrive')"
      ],
      "metadata": {
        "colab": {
          "base_uri": "https://localhost:8080/"
        },
        "id": "XFuIcQcTQyN3",
        "outputId": "581684d3-55bd-4374-8a74-42295cedce82"
      },
      "execution_count": 7,
      "outputs": [
        {
          "output_type": "stream",
          "name": "stdout",
          "text": [
            "Mounted at /content/gdrive\n"
          ]
        }
      ]
    },
    {
      "cell_type": "code",
      "source": [
        "%cd gdrive/MyDrive/recsys/"
      ],
      "metadata": {
        "colab": {
          "base_uri": "https://localhost:8080/"
        },
        "id": "d_J1s6KXQy4k",
        "outputId": "4b86bf1b-1613-4a08-8a20-cf6383a0fa78"
      },
      "execution_count": 8,
      "outputs": [
        {
          "output_type": "stream",
          "name": "stdout",
          "text": [
            "/content/gdrive/MyDrive/recsys\n"
          ]
        }
      ]
    },
    {
      "cell_type": "code",
      "source": [
        "os.environ[\"OPENBLAS_NUM_THREADS\"] = \"1\""
      ],
      "metadata": {
        "id": "S1tnOH8wPXew"
      },
      "execution_count": 9,
      "outputs": []
    },
    {
      "cell_type": "code",
      "source": [
        "SEED = 2022\n",
        "K_RECOS = 10\n",
        "metrics = {\n",
        "    \"map@10\": MAP(k=10),\n",
        "    \"recall@10\": Recall(k=10),\n",
        "}"
      ],
      "metadata": {
        "id": "uJ2lbYdEQBSZ"
      },
      "execution_count": 10,
      "outputs": []
    },
    {
      "cell_type": "markdown",
      "source": [
        "## Get data"
      ],
      "metadata": {
        "id": "_3cGeZXMPEwR"
      }
    },
    {
      "cell_type": "code",
      "source": [
        "submission = pd.read_csv('sample_submission.csv')\n",
        "submission.head()"
      ],
      "metadata": {
        "colab": {
          "base_uri": "https://localhost:8080/",
          "height": 206
        },
        "id": "RPLBlwBLu3KY",
        "outputId": "63c58578-2a3c-48de-e7e3-df3d741c0a9b"
      },
      "execution_count": 11,
      "outputs": [
        {
          "output_type": "execute_result",
          "data": {
            "text/plain": [
              "   user_id                                            item_id\n",
              "0        3  [9728, 15297, 10440, 14488, 13865, 12192, 341,...\n",
              "1       11  [9728, 15297, 10440, 14488, 13865, 12192, 341,...\n",
              "2       29  [9728, 15297, 10440, 14488, 13865, 12192, 341,...\n",
              "3       30  [9728, 15297, 10440, 14488, 13865, 12192, 341,...\n",
              "4       33  [9728, 15297, 10440, 14488, 13865, 12192, 341,..."
            ],
            "text/html": [
              "\n",
              "  <div id=\"df-c55acd90-b3b7-4017-8035-ab2f13b197d2\">\n",
              "    <div class=\"colab-df-container\">\n",
              "      <div>\n",
              "<style scoped>\n",
              "    .dataframe tbody tr th:only-of-type {\n",
              "        vertical-align: middle;\n",
              "    }\n",
              "\n",
              "    .dataframe tbody tr th {\n",
              "        vertical-align: top;\n",
              "    }\n",
              "\n",
              "    .dataframe thead th {\n",
              "        text-align: right;\n",
              "    }\n",
              "</style>\n",
              "<table border=\"1\" class=\"dataframe\">\n",
              "  <thead>\n",
              "    <tr style=\"text-align: right;\">\n",
              "      <th></th>\n",
              "      <th>user_id</th>\n",
              "      <th>item_id</th>\n",
              "    </tr>\n",
              "  </thead>\n",
              "  <tbody>\n",
              "    <tr>\n",
              "      <th>0</th>\n",
              "      <td>3</td>\n",
              "      <td>[9728, 15297, 10440, 14488, 13865, 12192, 341,...</td>\n",
              "    </tr>\n",
              "    <tr>\n",
              "      <th>1</th>\n",
              "      <td>11</td>\n",
              "      <td>[9728, 15297, 10440, 14488, 13865, 12192, 341,...</td>\n",
              "    </tr>\n",
              "    <tr>\n",
              "      <th>2</th>\n",
              "      <td>29</td>\n",
              "      <td>[9728, 15297, 10440, 14488, 13865, 12192, 341,...</td>\n",
              "    </tr>\n",
              "    <tr>\n",
              "      <th>3</th>\n",
              "      <td>30</td>\n",
              "      <td>[9728, 15297, 10440, 14488, 13865, 12192, 341,...</td>\n",
              "    </tr>\n",
              "    <tr>\n",
              "      <th>4</th>\n",
              "      <td>33</td>\n",
              "      <td>[9728, 15297, 10440, 14488, 13865, 12192, 341,...</td>\n",
              "    </tr>\n",
              "  </tbody>\n",
              "</table>\n",
              "</div>\n",
              "      <button class=\"colab-df-convert\" onclick=\"convertToInteractive('df-c55acd90-b3b7-4017-8035-ab2f13b197d2')\"\n",
              "              title=\"Convert this dataframe to an interactive table.\"\n",
              "              style=\"display:none;\">\n",
              "        \n",
              "  <svg xmlns=\"http://www.w3.org/2000/svg\" height=\"24px\"viewBox=\"0 0 24 24\"\n",
              "       width=\"24px\">\n",
              "    <path d=\"M0 0h24v24H0V0z\" fill=\"none\"/>\n",
              "    <path d=\"M18.56 5.44l.94 2.06.94-2.06 2.06-.94-2.06-.94-.94-2.06-.94 2.06-2.06.94zm-11 1L8.5 8.5l.94-2.06 2.06-.94-2.06-.94L8.5 2.5l-.94 2.06-2.06.94zm10 10l.94 2.06.94-2.06 2.06-.94-2.06-.94-.94-2.06-.94 2.06-2.06.94z\"/><path d=\"M17.41 7.96l-1.37-1.37c-.4-.4-.92-.59-1.43-.59-.52 0-1.04.2-1.43.59L10.3 9.45l-7.72 7.72c-.78.78-.78 2.05 0 2.83L4 21.41c.39.39.9.59 1.41.59.51 0 1.02-.2 1.41-.59l7.78-7.78 2.81-2.81c.8-.78.8-2.07 0-2.86zM5.41 20L4 18.59l7.72-7.72 1.47 1.35L5.41 20z\"/>\n",
              "  </svg>\n",
              "      </button>\n",
              "      \n",
              "  <style>\n",
              "    .colab-df-container {\n",
              "      display:flex;\n",
              "      flex-wrap:wrap;\n",
              "      gap: 12px;\n",
              "    }\n",
              "\n",
              "    .colab-df-convert {\n",
              "      background-color: #E8F0FE;\n",
              "      border: none;\n",
              "      border-radius: 50%;\n",
              "      cursor: pointer;\n",
              "      display: none;\n",
              "      fill: #1967D2;\n",
              "      height: 32px;\n",
              "      padding: 0 0 0 0;\n",
              "      width: 32px;\n",
              "    }\n",
              "\n",
              "    .colab-df-convert:hover {\n",
              "      background-color: #E2EBFA;\n",
              "      box-shadow: 0px 1px 2px rgba(60, 64, 67, 0.3), 0px 1px 3px 1px rgba(60, 64, 67, 0.15);\n",
              "      fill: #174EA6;\n",
              "    }\n",
              "\n",
              "    [theme=dark] .colab-df-convert {\n",
              "      background-color: #3B4455;\n",
              "      fill: #D2E3FC;\n",
              "    }\n",
              "\n",
              "    [theme=dark] .colab-df-convert:hover {\n",
              "      background-color: #434B5C;\n",
              "      box-shadow: 0px 1px 3px 1px rgba(0, 0, 0, 0.15);\n",
              "      filter: drop-shadow(0px 1px 2px rgba(0, 0, 0, 0.3));\n",
              "      fill: #FFFFFF;\n",
              "    }\n",
              "  </style>\n",
              "\n",
              "      <script>\n",
              "        const buttonEl =\n",
              "          document.querySelector('#df-c55acd90-b3b7-4017-8035-ab2f13b197d2 button.colab-df-convert');\n",
              "        buttonEl.style.display =\n",
              "          google.colab.kernel.accessAllowed ? 'block' : 'none';\n",
              "\n",
              "        async function convertToInteractive(key) {\n",
              "          const element = document.querySelector('#df-c55acd90-b3b7-4017-8035-ab2f13b197d2');\n",
              "          const dataTable =\n",
              "            await google.colab.kernel.invokeFunction('convertToInteractive',\n",
              "                                                     [key], {});\n",
              "          if (!dataTable) return;\n",
              "\n",
              "          const docLinkHtml = 'Like what you see? Visit the ' +\n",
              "            '<a target=\"_blank\" href=https://colab.research.google.com/notebooks/data_table.ipynb>data table notebook</a>'\n",
              "            + ' to learn more about interactive tables.';\n",
              "          element.innerHTML = '';\n",
              "          dataTable['output_type'] = 'display_data';\n",
              "          await google.colab.output.renderOutput(dataTable, element);\n",
              "          const docLink = document.createElement('div');\n",
              "          docLink.innerHTML = docLinkHtml;\n",
              "          element.appendChild(docLink);\n",
              "        }\n",
              "      </script>\n",
              "    </div>\n",
              "  </div>\n",
              "  "
            ]
          },
          "metadata": {},
          "execution_count": 11
        }
      ]
    },
    {
      "cell_type": "code",
      "source": [
        "url = \"https://storage.yandexcloud.net/itmo-recsys-public-data/kion_train.zip\"\n",
        "\n",
        "req = requests.get(url, stream=True)\n",
        "\n",
        "with open('kion.zip', \"wb\") as fd:\n",
        "    total_size_in_bytes = int(req.headers.get('Content-Length', 0))\n",
        "    progress_bar = tqdm(desc='kion dataset download', total=total_size_in_bytes, unit='iB', unit_scale=True)\n",
        "    for chunk in req.iter_content(chunk_size=2 ** 20):\n",
        "        progress_bar.update(len(chunk))\n",
        "        fd.write(chunk)"
      ],
      "metadata": {
        "colab": {
          "base_uri": "https://localhost:8080/",
          "height": 49,
          "referenced_widgets": [
            "77c67a4e221e40238ebe455c019bc02b",
            "050b28ed13b241dfa88246f78eeb5703",
            "ffeb62b6f4084be787139293064335a7",
            "ae13abcb46214f66aa289788f253c2d1",
            "64a4149ef5f0409ead036eea3c3f85b6",
            "21ff995bdcba45059617066e446cfbd0",
            "ee1d439dafbd463a8ed73309fea077b4",
            "c0cf0d221db747ff99fbd0fa06501f11",
            "54cd9cc06da84526b198808b0f2601fe",
            "ece33669f609411d9cb543d7ab752431",
            "1491fa97f2d244c4bb24452376fbbfd9"
          ]
        },
        "id": "5m3dQA2mOpZ1",
        "outputId": "212f7adf-b0cf-473e-fb34-cd80d9bc82f1"
      },
      "execution_count": 12,
      "outputs": [
        {
          "output_type": "display_data",
          "data": {
            "text/plain": [
              "kion dataset download:   0%|          | 0.00/78.8M [00:00<?, ?iB/s]"
            ],
            "application/vnd.jupyter.widget-view+json": {
              "version_major": 2,
              "version_minor": 0,
              "model_id": "77c67a4e221e40238ebe455c019bc02b"
            }
          },
          "metadata": {}
        }
      ]
    },
    {
      "cell_type": "code",
      "source": [
        "#!unzip kion.zip"
      ],
      "metadata": {
        "id": "x8DMHc67Opd6"
      },
      "execution_count": 13,
      "outputs": []
    },
    {
      "cell_type": "code",
      "source": [
        "def load_data():\n",
        "  interactions = pd.read_csv('kion_train/interactions.csv')\n",
        "  users = pd.read_csv('kion_train/users.csv')\n",
        "  items = pd.read_csv('kion_train/items.csv')\n",
        "  interactions.rename(\n",
        "    columns={\n",
        "        'last_watch_dt': 'datetime',\n",
        "        'total_dur': 'weight',\n",
        "    },\n",
        "    inplace=True,\n",
        "  )\n",
        "\n",
        "  interactions['datetime'] = pd.to_datetime(interactions['datetime'])\n",
        "  interactions[Columns.Weight] = np.where(interactions['watched_pct'] > 10, 3, 1)\n",
        "  return interactions, users, items"
      ],
      "metadata": {
        "id": "K475YGTlOpjv"
      },
      "execution_count": 14,
      "outputs": []
    },
    {
      "cell_type": "code",
      "source": [
        "interactions, users, items = load_data()\n",
        "last_date = interactions['datetime'].max().normalize()\n",
        "\n",
        "train = interactions[interactions[Columns.Datetime] < last_date - pd.Timedelta(days=7)].copy()\n",
        "test = interactions[interactions[Columns.Datetime] >= last_date - pd.Timedelta(days=7)].copy()\n",
        "\n",
        "print(f\"train: {train.shape}\")\n",
        "print(f\"test: {test.shape}\")"
      ],
      "metadata": {
        "colab": {
          "base_uri": "https://localhost:8080/"
        },
        "id": "V8kgith6Opo3",
        "outputId": "0714e795-0eb5-4291-ed1d-0a3efef2bf0d"
      },
      "execution_count": 15,
      "outputs": [
        {
          "output_type": "stream",
          "name": "stdout",
          "text": [
            "train: (4985269, 5)\n",
            "test: (490982, 5)\n"
          ]
        }
      ]
    },
    {
      "cell_type": "code",
      "source": [
        "cold_users = set(test[Columns.User]) - set(train[Columns.User])"
      ],
      "metadata": {
        "id": "WgA8Vp7TP-sz"
      },
      "execution_count": 16,
      "outputs": []
    },
    {
      "cell_type": "code",
      "source": [
        "test.drop(test[test[Columns.User].isin(cold_users)].index, inplace=True)"
      ],
      "metadata": {
        "id": "Ou6EWevAPyXB"
      },
      "execution_count": 17,
      "outputs": []
    },
    {
      "cell_type": "markdown",
      "source": [
        "## Prepare user features"
      ],
      "metadata": {
        "id": "jUV7LU5cQPTj"
      }
    },
    {
      "cell_type": "code",
      "source": [
        "users.isna().sum()"
      ],
      "metadata": {
        "colab": {
          "base_uri": "https://localhost:8080/"
        },
        "id": "jF_3PCIhP-pi",
        "outputId": "3705a9a7-cc1a-4228-dfba-b3933b74aa4a"
      },
      "execution_count": 18,
      "outputs": [
        {
          "output_type": "execute_result",
          "data": {
            "text/plain": [
              "user_id         0\n",
              "age         14095\n",
              "income      14776\n",
              "sex         13831\n",
              "kids_flg        0\n",
              "dtype: int64"
            ]
          },
          "metadata": {},
          "execution_count": 18
        }
      ]
    },
    {
      "cell_type": "code",
      "source": [
        "users.fillna('Unknown', inplace=True)"
      ],
      "metadata": {
        "id": "G3CvJkQ_P-lp"
      },
      "execution_count": 19,
      "outputs": []
    },
    {
      "cell_type": "code",
      "source": [
        "users = users.loc[users[Columns.User].isin(train[Columns.User])].copy()\n",
        "users.head()"
      ],
      "metadata": {
        "colab": {
          "base_uri": "https://localhost:8080/",
          "height": 206
        },
        "id": "JVztlg7dQaGB",
        "outputId": "95b88da0-e0aa-44fe-e411-a0bb20f77498"
      },
      "execution_count": 20,
      "outputs": [
        {
          "output_type": "execute_result",
          "data": {
            "text/plain": [
              "   user_id        age        income sex  kids_flg\n",
              "0   973171  age_25_34  income_60_90   М         1\n",
              "1   962099  age_18_24  income_20_40   М         0\n",
              "3   721985  age_45_54  income_20_40   Ж         0\n",
              "4   704055  age_35_44  income_60_90   Ж         0\n",
              "5  1037719  age_45_54  income_60_90   М         0"
            ],
            "text/html": [
              "\n",
              "  <div id=\"df-6ea60490-59b1-4593-a074-3e24773115d2\">\n",
              "    <div class=\"colab-df-container\">\n",
              "      <div>\n",
              "<style scoped>\n",
              "    .dataframe tbody tr th:only-of-type {\n",
              "        vertical-align: middle;\n",
              "    }\n",
              "\n",
              "    .dataframe tbody tr th {\n",
              "        vertical-align: top;\n",
              "    }\n",
              "\n",
              "    .dataframe thead th {\n",
              "        text-align: right;\n",
              "    }\n",
              "</style>\n",
              "<table border=\"1\" class=\"dataframe\">\n",
              "  <thead>\n",
              "    <tr style=\"text-align: right;\">\n",
              "      <th></th>\n",
              "      <th>user_id</th>\n",
              "      <th>age</th>\n",
              "      <th>income</th>\n",
              "      <th>sex</th>\n",
              "      <th>kids_flg</th>\n",
              "    </tr>\n",
              "  </thead>\n",
              "  <tbody>\n",
              "    <tr>\n",
              "      <th>0</th>\n",
              "      <td>973171</td>\n",
              "      <td>age_25_34</td>\n",
              "      <td>income_60_90</td>\n",
              "      <td>М</td>\n",
              "      <td>1</td>\n",
              "    </tr>\n",
              "    <tr>\n",
              "      <th>1</th>\n",
              "      <td>962099</td>\n",
              "      <td>age_18_24</td>\n",
              "      <td>income_20_40</td>\n",
              "      <td>М</td>\n",
              "      <td>0</td>\n",
              "    </tr>\n",
              "    <tr>\n",
              "      <th>3</th>\n",
              "      <td>721985</td>\n",
              "      <td>age_45_54</td>\n",
              "      <td>income_20_40</td>\n",
              "      <td>Ж</td>\n",
              "      <td>0</td>\n",
              "    </tr>\n",
              "    <tr>\n",
              "      <th>4</th>\n",
              "      <td>704055</td>\n",
              "      <td>age_35_44</td>\n",
              "      <td>income_60_90</td>\n",
              "      <td>Ж</td>\n",
              "      <td>0</td>\n",
              "    </tr>\n",
              "    <tr>\n",
              "      <th>5</th>\n",
              "      <td>1037719</td>\n",
              "      <td>age_45_54</td>\n",
              "      <td>income_60_90</td>\n",
              "      <td>М</td>\n",
              "      <td>0</td>\n",
              "    </tr>\n",
              "  </tbody>\n",
              "</table>\n",
              "</div>\n",
              "      <button class=\"colab-df-convert\" onclick=\"convertToInteractive('df-6ea60490-59b1-4593-a074-3e24773115d2')\"\n",
              "              title=\"Convert this dataframe to an interactive table.\"\n",
              "              style=\"display:none;\">\n",
              "        \n",
              "  <svg xmlns=\"http://www.w3.org/2000/svg\" height=\"24px\"viewBox=\"0 0 24 24\"\n",
              "       width=\"24px\">\n",
              "    <path d=\"M0 0h24v24H0V0z\" fill=\"none\"/>\n",
              "    <path d=\"M18.56 5.44l.94 2.06.94-2.06 2.06-.94-2.06-.94-.94-2.06-.94 2.06-2.06.94zm-11 1L8.5 8.5l.94-2.06 2.06-.94-2.06-.94L8.5 2.5l-.94 2.06-2.06.94zm10 10l.94 2.06.94-2.06 2.06-.94-2.06-.94-.94-2.06-.94 2.06-2.06.94z\"/><path d=\"M17.41 7.96l-1.37-1.37c-.4-.4-.92-.59-1.43-.59-.52 0-1.04.2-1.43.59L10.3 9.45l-7.72 7.72c-.78.78-.78 2.05 0 2.83L4 21.41c.39.39.9.59 1.41.59.51 0 1.02-.2 1.41-.59l7.78-7.78 2.81-2.81c.8-.78.8-2.07 0-2.86zM5.41 20L4 18.59l7.72-7.72 1.47 1.35L5.41 20z\"/>\n",
              "  </svg>\n",
              "      </button>\n",
              "      \n",
              "  <style>\n",
              "    .colab-df-container {\n",
              "      display:flex;\n",
              "      flex-wrap:wrap;\n",
              "      gap: 12px;\n",
              "    }\n",
              "\n",
              "    .colab-df-convert {\n",
              "      background-color: #E8F0FE;\n",
              "      border: none;\n",
              "      border-radius: 50%;\n",
              "      cursor: pointer;\n",
              "      display: none;\n",
              "      fill: #1967D2;\n",
              "      height: 32px;\n",
              "      padding: 0 0 0 0;\n",
              "      width: 32px;\n",
              "    }\n",
              "\n",
              "    .colab-df-convert:hover {\n",
              "      background-color: #E2EBFA;\n",
              "      box-shadow: 0px 1px 2px rgba(60, 64, 67, 0.3), 0px 1px 3px 1px rgba(60, 64, 67, 0.15);\n",
              "      fill: #174EA6;\n",
              "    }\n",
              "\n",
              "    [theme=dark] .colab-df-convert {\n",
              "      background-color: #3B4455;\n",
              "      fill: #D2E3FC;\n",
              "    }\n",
              "\n",
              "    [theme=dark] .colab-df-convert:hover {\n",
              "      background-color: #434B5C;\n",
              "      box-shadow: 0px 1px 3px 1px rgba(0, 0, 0, 0.15);\n",
              "      filter: drop-shadow(0px 1px 2px rgba(0, 0, 0, 0.3));\n",
              "      fill: #FFFFFF;\n",
              "    }\n",
              "  </style>\n",
              "\n",
              "      <script>\n",
              "        const buttonEl =\n",
              "          document.querySelector('#df-6ea60490-59b1-4593-a074-3e24773115d2 button.colab-df-convert');\n",
              "        buttonEl.style.display =\n",
              "          google.colab.kernel.accessAllowed ? 'block' : 'none';\n",
              "\n",
              "        async function convertToInteractive(key) {\n",
              "          const element = document.querySelector('#df-6ea60490-59b1-4593-a074-3e24773115d2');\n",
              "          const dataTable =\n",
              "            await google.colab.kernel.invokeFunction('convertToInteractive',\n",
              "                                                     [key], {});\n",
              "          if (!dataTable) return;\n",
              "\n",
              "          const docLinkHtml = 'Like what you see? Visit the ' +\n",
              "            '<a target=\"_blank\" href=https://colab.research.google.com/notebooks/data_table.ipynb>data table notebook</a>'\n",
              "            + ' to learn more about interactive tables.';\n",
              "          element.innerHTML = '';\n",
              "          dataTable['output_type'] = 'display_data';\n",
              "          await google.colab.output.renderOutput(dataTable, element);\n",
              "          const docLink = document.createElement('div');\n",
              "          docLink.innerHTML = docLinkHtml;\n",
              "          element.appendChild(docLink);\n",
              "        }\n",
              "      </script>\n",
              "    </div>\n",
              "  </div>\n",
              "  "
            ]
          },
          "metadata": {},
          "execution_count": 20
        }
      ]
    },
    {
      "cell_type": "code",
      "source": [
        "user_features_frames = []\n",
        "for feature in [\"sex\", \"age\", \"income\"]:\n",
        "    feature_frame = users.reindex(columns=[Columns.User, feature])\n",
        "    feature_frame.columns = [\"id\", \"value\"]\n",
        "    feature_frame[\"feature\"] = feature\n",
        "    user_features_frames.append(feature_frame)\n",
        "user_features = pd.concat(user_features_frames)\n",
        "user_features.head()"
      ],
      "metadata": {
        "colab": {
          "base_uri": "https://localhost:8080/",
          "height": 206
        },
        "id": "1Jfa5nByOpsu",
        "outputId": "9f18d69d-e8b9-4b5b-f295-a313bfe18b3b"
      },
      "execution_count": 21,
      "outputs": [
        {
          "output_type": "execute_result",
          "data": {
            "text/plain": [
              "        id value feature\n",
              "0   973171     М     sex\n",
              "1   962099     М     sex\n",
              "3   721985     Ж     sex\n",
              "4   704055     Ж     sex\n",
              "5  1037719     М     sex"
            ],
            "text/html": [
              "\n",
              "  <div id=\"df-54ff5a92-7eae-4afd-ac26-1f77e8f367fc\">\n",
              "    <div class=\"colab-df-container\">\n",
              "      <div>\n",
              "<style scoped>\n",
              "    .dataframe tbody tr th:only-of-type {\n",
              "        vertical-align: middle;\n",
              "    }\n",
              "\n",
              "    .dataframe tbody tr th {\n",
              "        vertical-align: top;\n",
              "    }\n",
              "\n",
              "    .dataframe thead th {\n",
              "        text-align: right;\n",
              "    }\n",
              "</style>\n",
              "<table border=\"1\" class=\"dataframe\">\n",
              "  <thead>\n",
              "    <tr style=\"text-align: right;\">\n",
              "      <th></th>\n",
              "      <th>id</th>\n",
              "      <th>value</th>\n",
              "      <th>feature</th>\n",
              "    </tr>\n",
              "  </thead>\n",
              "  <tbody>\n",
              "    <tr>\n",
              "      <th>0</th>\n",
              "      <td>973171</td>\n",
              "      <td>М</td>\n",
              "      <td>sex</td>\n",
              "    </tr>\n",
              "    <tr>\n",
              "      <th>1</th>\n",
              "      <td>962099</td>\n",
              "      <td>М</td>\n",
              "      <td>sex</td>\n",
              "    </tr>\n",
              "    <tr>\n",
              "      <th>3</th>\n",
              "      <td>721985</td>\n",
              "      <td>Ж</td>\n",
              "      <td>sex</td>\n",
              "    </tr>\n",
              "    <tr>\n",
              "      <th>4</th>\n",
              "      <td>704055</td>\n",
              "      <td>Ж</td>\n",
              "      <td>sex</td>\n",
              "    </tr>\n",
              "    <tr>\n",
              "      <th>5</th>\n",
              "      <td>1037719</td>\n",
              "      <td>М</td>\n",
              "      <td>sex</td>\n",
              "    </tr>\n",
              "  </tbody>\n",
              "</table>\n",
              "</div>\n",
              "      <button class=\"colab-df-convert\" onclick=\"convertToInteractive('df-54ff5a92-7eae-4afd-ac26-1f77e8f367fc')\"\n",
              "              title=\"Convert this dataframe to an interactive table.\"\n",
              "              style=\"display:none;\">\n",
              "        \n",
              "  <svg xmlns=\"http://www.w3.org/2000/svg\" height=\"24px\"viewBox=\"0 0 24 24\"\n",
              "       width=\"24px\">\n",
              "    <path d=\"M0 0h24v24H0V0z\" fill=\"none\"/>\n",
              "    <path d=\"M18.56 5.44l.94 2.06.94-2.06 2.06-.94-2.06-.94-.94-2.06-.94 2.06-2.06.94zm-11 1L8.5 8.5l.94-2.06 2.06-.94-2.06-.94L8.5 2.5l-.94 2.06-2.06.94zm10 10l.94 2.06.94-2.06 2.06-.94-2.06-.94-.94-2.06-.94 2.06-2.06.94z\"/><path d=\"M17.41 7.96l-1.37-1.37c-.4-.4-.92-.59-1.43-.59-.52 0-1.04.2-1.43.59L10.3 9.45l-7.72 7.72c-.78.78-.78 2.05 0 2.83L4 21.41c.39.39.9.59 1.41.59.51 0 1.02-.2 1.41-.59l7.78-7.78 2.81-2.81c.8-.78.8-2.07 0-2.86zM5.41 20L4 18.59l7.72-7.72 1.47 1.35L5.41 20z\"/>\n",
              "  </svg>\n",
              "      </button>\n",
              "      \n",
              "  <style>\n",
              "    .colab-df-container {\n",
              "      display:flex;\n",
              "      flex-wrap:wrap;\n",
              "      gap: 12px;\n",
              "    }\n",
              "\n",
              "    .colab-df-convert {\n",
              "      background-color: #E8F0FE;\n",
              "      border: none;\n",
              "      border-radius: 50%;\n",
              "      cursor: pointer;\n",
              "      display: none;\n",
              "      fill: #1967D2;\n",
              "      height: 32px;\n",
              "      padding: 0 0 0 0;\n",
              "      width: 32px;\n",
              "    }\n",
              "\n",
              "    .colab-df-convert:hover {\n",
              "      background-color: #E2EBFA;\n",
              "      box-shadow: 0px 1px 2px rgba(60, 64, 67, 0.3), 0px 1px 3px 1px rgba(60, 64, 67, 0.15);\n",
              "      fill: #174EA6;\n",
              "    }\n",
              "\n",
              "    [theme=dark] .colab-df-convert {\n",
              "      background-color: #3B4455;\n",
              "      fill: #D2E3FC;\n",
              "    }\n",
              "\n",
              "    [theme=dark] .colab-df-convert:hover {\n",
              "      background-color: #434B5C;\n",
              "      box-shadow: 0px 1px 3px 1px rgba(0, 0, 0, 0.15);\n",
              "      filter: drop-shadow(0px 1px 2px rgba(0, 0, 0, 0.3));\n",
              "      fill: #FFFFFF;\n",
              "    }\n",
              "  </style>\n",
              "\n",
              "      <script>\n",
              "        const buttonEl =\n",
              "          document.querySelector('#df-54ff5a92-7eae-4afd-ac26-1f77e8f367fc button.colab-df-convert');\n",
              "        buttonEl.style.display =\n",
              "          google.colab.kernel.accessAllowed ? 'block' : 'none';\n",
              "\n",
              "        async function convertToInteractive(key) {\n",
              "          const element = document.querySelector('#df-54ff5a92-7eae-4afd-ac26-1f77e8f367fc');\n",
              "          const dataTable =\n",
              "            await google.colab.kernel.invokeFunction('convertToInteractive',\n",
              "                                                     [key], {});\n",
              "          if (!dataTable) return;\n",
              "\n",
              "          const docLinkHtml = 'Like what you see? Visit the ' +\n",
              "            '<a target=\"_blank\" href=https://colab.research.google.com/notebooks/data_table.ipynb>data table notebook</a>'\n",
              "            + ' to learn more about interactive tables.';\n",
              "          element.innerHTML = '';\n",
              "          dataTable['output_type'] = 'display_data';\n",
              "          await google.colab.output.renderOutput(dataTable, element);\n",
              "          const docLink = document.createElement('div');\n",
              "          docLink.innerHTML = docLinkHtml;\n",
              "          element.appendChild(docLink);\n",
              "        }\n",
              "      </script>\n",
              "    </div>\n",
              "  </div>\n",
              "  "
            ]
          },
          "metadata": {},
          "execution_count": 21
        }
      ]
    },
    {
      "cell_type": "markdown",
      "source": [
        "## Prepare item features"
      ],
      "metadata": {
        "id": "CtJC68ZTQrBJ"
      }
    },
    {
      "cell_type": "code",
      "source": [
        "items.isna().sum()"
      ],
      "metadata": {
        "colab": {
          "base_uri": "https://localhost:8080/"
        },
        "id": "maKtT21jOpyM",
        "outputId": "ed7f47d4-dfb4-4488-e6df-12c1d61f6420"
      },
      "execution_count": 22,
      "outputs": [
        {
          "output_type": "execute_result",
          "data": {
            "text/plain": [
              "item_id             0\n",
              "content_type        0\n",
              "title               0\n",
              "title_orig       4745\n",
              "release_year       98\n",
              "genres              0\n",
              "countries          37\n",
              "for_kids        15397\n",
              "age_rating          2\n",
              "studios         14898\n",
              "directors        1509\n",
              "actors           2619\n",
              "description         2\n",
              "keywords          423\n",
              "dtype: int64"
            ]
          },
          "metadata": {},
          "execution_count": 22
        }
      ]
    },
    {
      "cell_type": "code",
      "source": [
        "items = items.loc[items[Columns.Item].isin(train[Columns.Item])].copy()\n",
        "items.head()"
      ],
      "metadata": {
        "colab": {
          "base_uri": "https://localhost:8080/",
          "height": 580
        },
        "id": "a40-d7zaOp1y",
        "outputId": "50a75e71-a61d-4e9f-869c-e3551625dcfc"
      },
      "execution_count": 23,
      "outputs": [
        {
          "output_type": "execute_result",
          "data": {
            "text/plain": [
              "   item_id content_type                 title      title_orig  release_year  \\\n",
              "0    10711         film        Поговори с ней  Hable con ella        2002.0   \n",
              "1     2508         film           Голые перцы    Search Party        2014.0   \n",
              "2    10716         film      Тактическая сила  Tactical Force        2011.0   \n",
              "3     7868         film                45 лет        45 Years        2015.0   \n",
              "4    16268         film  Все решает мгновение             NaN        1978.0   \n",
              "\n",
              "                                             genres       countries  for_kids  \\\n",
              "0           драмы, зарубежные, детективы, мелодрамы         Испания       NaN   \n",
              "1                  зарубежные, приключения, комедии             США       NaN   \n",
              "2  криминал, зарубежные, триллеры, боевики, комедии          Канада       NaN   \n",
              "3                      драмы, зарубежные, мелодрамы  Великобритания       NaN   \n",
              "4                драмы, спорт, советские, мелодрамы            СССР       NaN   \n",
              "\n",
              "   age_rating   studios         directors  \\\n",
              "0        16.0       NaN  Педро Альмодовар   \n",
              "1        16.0       NaN    Скот Армстронг   \n",
              "2        16.0       NaN  Адам П. Калтраро   \n",
              "3        16.0       NaN         Эндрю Хэй   \n",
              "4        12.0  Ленфильм  Виктор Садовский   \n",
              "\n",
              "                                              actors  \\\n",
              "0  Адольфо Фернандес, Ана Фернандес, Дарио Гранди...   \n",
              "1  Адам Палли, Брайан Хаски, Дж.Б. Смув, Джейсон ...   \n",
              "2  Адриан Холмс, Даррен Шалави, Джерри Вассерман,...   \n",
              "3  Александра Риддлстон-Барретт, Джеральдин Джейм...   \n",
              "4  Александр Абдулов, Александр Демьяненко, Алекс...   \n",
              "\n",
              "                                         description  \\\n",
              "0  Мелодрама легендарного Педро Альмодовара «Пого...   \n",
              "1  Уморительная современная комедия на популярную...   \n",
              "2  Профессиональный рестлер Стив Остин («Все или ...   \n",
              "3  Шарлотта Рэмплинг, Том Кортни, Джеральдин Джей...   \n",
              "4  Расчетливая чаровница из советского кинохита «...   \n",
              "\n",
              "                                            keywords  \n",
              "0  Поговори, ней, 2002, Испания, друзья, любовь, ...  \n",
              "1  Голые, перцы, 2014, США, друзья, свадьбы, прео...  \n",
              "2  Тактическая, сила, 2011, Канада, бандиты, ганг...  \n",
              "3  45, лет, 2015, Великобритания, брак, жизнь, лю...  \n",
              "4  Все, решает, мгновение, 1978, СССР, сильные, ж...  "
            ],
            "text/html": [
              "\n",
              "  <div id=\"df-611ca579-b598-4cce-9757-38583108fa7a\">\n",
              "    <div class=\"colab-df-container\">\n",
              "      <div>\n",
              "<style scoped>\n",
              "    .dataframe tbody tr th:only-of-type {\n",
              "        vertical-align: middle;\n",
              "    }\n",
              "\n",
              "    .dataframe tbody tr th {\n",
              "        vertical-align: top;\n",
              "    }\n",
              "\n",
              "    .dataframe thead th {\n",
              "        text-align: right;\n",
              "    }\n",
              "</style>\n",
              "<table border=\"1\" class=\"dataframe\">\n",
              "  <thead>\n",
              "    <tr style=\"text-align: right;\">\n",
              "      <th></th>\n",
              "      <th>item_id</th>\n",
              "      <th>content_type</th>\n",
              "      <th>title</th>\n",
              "      <th>title_orig</th>\n",
              "      <th>release_year</th>\n",
              "      <th>genres</th>\n",
              "      <th>countries</th>\n",
              "      <th>for_kids</th>\n",
              "      <th>age_rating</th>\n",
              "      <th>studios</th>\n",
              "      <th>directors</th>\n",
              "      <th>actors</th>\n",
              "      <th>description</th>\n",
              "      <th>keywords</th>\n",
              "    </tr>\n",
              "  </thead>\n",
              "  <tbody>\n",
              "    <tr>\n",
              "      <th>0</th>\n",
              "      <td>10711</td>\n",
              "      <td>film</td>\n",
              "      <td>Поговори с ней</td>\n",
              "      <td>Hable con ella</td>\n",
              "      <td>2002.0</td>\n",
              "      <td>драмы, зарубежные, детективы, мелодрамы</td>\n",
              "      <td>Испания</td>\n",
              "      <td>NaN</td>\n",
              "      <td>16.0</td>\n",
              "      <td>NaN</td>\n",
              "      <td>Педро Альмодовар</td>\n",
              "      <td>Адольфо Фернандес, Ана Фернандес, Дарио Гранди...</td>\n",
              "      <td>Мелодрама легендарного Педро Альмодовара «Пого...</td>\n",
              "      <td>Поговори, ней, 2002, Испания, друзья, любовь, ...</td>\n",
              "    </tr>\n",
              "    <tr>\n",
              "      <th>1</th>\n",
              "      <td>2508</td>\n",
              "      <td>film</td>\n",
              "      <td>Голые перцы</td>\n",
              "      <td>Search Party</td>\n",
              "      <td>2014.0</td>\n",
              "      <td>зарубежные, приключения, комедии</td>\n",
              "      <td>США</td>\n",
              "      <td>NaN</td>\n",
              "      <td>16.0</td>\n",
              "      <td>NaN</td>\n",
              "      <td>Скот Армстронг</td>\n",
              "      <td>Адам Палли, Брайан Хаски, Дж.Б. Смув, Джейсон ...</td>\n",
              "      <td>Уморительная современная комедия на популярную...</td>\n",
              "      <td>Голые, перцы, 2014, США, друзья, свадьбы, прео...</td>\n",
              "    </tr>\n",
              "    <tr>\n",
              "      <th>2</th>\n",
              "      <td>10716</td>\n",
              "      <td>film</td>\n",
              "      <td>Тактическая сила</td>\n",
              "      <td>Tactical Force</td>\n",
              "      <td>2011.0</td>\n",
              "      <td>криминал, зарубежные, триллеры, боевики, комедии</td>\n",
              "      <td>Канада</td>\n",
              "      <td>NaN</td>\n",
              "      <td>16.0</td>\n",
              "      <td>NaN</td>\n",
              "      <td>Адам П. Калтраро</td>\n",
              "      <td>Адриан Холмс, Даррен Шалави, Джерри Вассерман,...</td>\n",
              "      <td>Профессиональный рестлер Стив Остин («Все или ...</td>\n",
              "      <td>Тактическая, сила, 2011, Канада, бандиты, ганг...</td>\n",
              "    </tr>\n",
              "    <tr>\n",
              "      <th>3</th>\n",
              "      <td>7868</td>\n",
              "      <td>film</td>\n",
              "      <td>45 лет</td>\n",
              "      <td>45 Years</td>\n",
              "      <td>2015.0</td>\n",
              "      <td>драмы, зарубежные, мелодрамы</td>\n",
              "      <td>Великобритания</td>\n",
              "      <td>NaN</td>\n",
              "      <td>16.0</td>\n",
              "      <td>NaN</td>\n",
              "      <td>Эндрю Хэй</td>\n",
              "      <td>Александра Риддлстон-Барретт, Джеральдин Джейм...</td>\n",
              "      <td>Шарлотта Рэмплинг, Том Кортни, Джеральдин Джей...</td>\n",
              "      <td>45, лет, 2015, Великобритания, брак, жизнь, лю...</td>\n",
              "    </tr>\n",
              "    <tr>\n",
              "      <th>4</th>\n",
              "      <td>16268</td>\n",
              "      <td>film</td>\n",
              "      <td>Все решает мгновение</td>\n",
              "      <td>NaN</td>\n",
              "      <td>1978.0</td>\n",
              "      <td>драмы, спорт, советские, мелодрамы</td>\n",
              "      <td>СССР</td>\n",
              "      <td>NaN</td>\n",
              "      <td>12.0</td>\n",
              "      <td>Ленфильм</td>\n",
              "      <td>Виктор Садовский</td>\n",
              "      <td>Александр Абдулов, Александр Демьяненко, Алекс...</td>\n",
              "      <td>Расчетливая чаровница из советского кинохита «...</td>\n",
              "      <td>Все, решает, мгновение, 1978, СССР, сильные, ж...</td>\n",
              "    </tr>\n",
              "  </tbody>\n",
              "</table>\n",
              "</div>\n",
              "      <button class=\"colab-df-convert\" onclick=\"convertToInteractive('df-611ca579-b598-4cce-9757-38583108fa7a')\"\n",
              "              title=\"Convert this dataframe to an interactive table.\"\n",
              "              style=\"display:none;\">\n",
              "        \n",
              "  <svg xmlns=\"http://www.w3.org/2000/svg\" height=\"24px\"viewBox=\"0 0 24 24\"\n",
              "       width=\"24px\">\n",
              "    <path d=\"M0 0h24v24H0V0z\" fill=\"none\"/>\n",
              "    <path d=\"M18.56 5.44l.94 2.06.94-2.06 2.06-.94-2.06-.94-.94-2.06-.94 2.06-2.06.94zm-11 1L8.5 8.5l.94-2.06 2.06-.94-2.06-.94L8.5 2.5l-.94 2.06-2.06.94zm10 10l.94 2.06.94-2.06 2.06-.94-2.06-.94-.94-2.06-.94 2.06-2.06.94z\"/><path d=\"M17.41 7.96l-1.37-1.37c-.4-.4-.92-.59-1.43-.59-.52 0-1.04.2-1.43.59L10.3 9.45l-7.72 7.72c-.78.78-.78 2.05 0 2.83L4 21.41c.39.39.9.59 1.41.59.51 0 1.02-.2 1.41-.59l7.78-7.78 2.81-2.81c.8-.78.8-2.07 0-2.86zM5.41 20L4 18.59l7.72-7.72 1.47 1.35L5.41 20z\"/>\n",
              "  </svg>\n",
              "      </button>\n",
              "      \n",
              "  <style>\n",
              "    .colab-df-container {\n",
              "      display:flex;\n",
              "      flex-wrap:wrap;\n",
              "      gap: 12px;\n",
              "    }\n",
              "\n",
              "    .colab-df-convert {\n",
              "      background-color: #E8F0FE;\n",
              "      border: none;\n",
              "      border-radius: 50%;\n",
              "      cursor: pointer;\n",
              "      display: none;\n",
              "      fill: #1967D2;\n",
              "      height: 32px;\n",
              "      padding: 0 0 0 0;\n",
              "      width: 32px;\n",
              "    }\n",
              "\n",
              "    .colab-df-convert:hover {\n",
              "      background-color: #E2EBFA;\n",
              "      box-shadow: 0px 1px 2px rgba(60, 64, 67, 0.3), 0px 1px 3px 1px rgba(60, 64, 67, 0.15);\n",
              "      fill: #174EA6;\n",
              "    }\n",
              "\n",
              "    [theme=dark] .colab-df-convert {\n",
              "      background-color: #3B4455;\n",
              "      fill: #D2E3FC;\n",
              "    }\n",
              "\n",
              "    [theme=dark] .colab-df-convert:hover {\n",
              "      background-color: #434B5C;\n",
              "      box-shadow: 0px 1px 3px 1px rgba(0, 0, 0, 0.15);\n",
              "      filter: drop-shadow(0px 1px 2px rgba(0, 0, 0, 0.3));\n",
              "      fill: #FFFFFF;\n",
              "    }\n",
              "  </style>\n",
              "\n",
              "      <script>\n",
              "        const buttonEl =\n",
              "          document.querySelector('#df-611ca579-b598-4cce-9757-38583108fa7a button.colab-df-convert');\n",
              "        buttonEl.style.display =\n",
              "          google.colab.kernel.accessAllowed ? 'block' : 'none';\n",
              "\n",
              "        async function convertToInteractive(key) {\n",
              "          const element = document.querySelector('#df-611ca579-b598-4cce-9757-38583108fa7a');\n",
              "          const dataTable =\n",
              "            await google.colab.kernel.invokeFunction('convertToInteractive',\n",
              "                                                     [key], {});\n",
              "          if (!dataTable) return;\n",
              "\n",
              "          const docLinkHtml = 'Like what you see? Visit the ' +\n",
              "            '<a target=\"_blank\" href=https://colab.research.google.com/notebooks/data_table.ipynb>data table notebook</a>'\n",
              "            + ' to learn more about interactive tables.';\n",
              "          element.innerHTML = '';\n",
              "          dataTable['output_type'] = 'display_data';\n",
              "          await google.colab.output.renderOutput(dataTable, element);\n",
              "          const docLink = document.createElement('div');\n",
              "          docLink.innerHTML = docLinkHtml;\n",
              "          element.appendChild(docLink);\n",
              "        }\n",
              "      </script>\n",
              "    </div>\n",
              "  </div>\n",
              "  "
            ]
          },
          "metadata": {},
          "execution_count": 23
        }
      ]
    },
    {
      "cell_type": "markdown",
      "source": [
        "### Genre"
      ],
      "metadata": {
        "id": "ZLLpd9IRRB-Y"
      }
    },
    {
      "cell_type": "code",
      "source": [
        "items[\"genre\"] = items[\"genres\"].str.lower().str.replace(\", \", \",\", regex=False).str.split(\",\")\n",
        "genre_feature = items[[\"item_id\", \"genre\"]].explode(\"genre\")\n",
        "genre_feature.columns = [\"id\", \"value\"]\n",
        "genre_feature[\"feature\"] = \"genre\"\n",
        "genre_feature.head()"
      ],
      "metadata": {
        "colab": {
          "base_uri": "https://localhost:8080/",
          "height": 206
        },
        "id": "p2iBUt4zOp55",
        "outputId": "30331322-d114-466e-8e46-10d650cf7789"
      },
      "execution_count": 24,
      "outputs": [
        {
          "output_type": "execute_result",
          "data": {
            "text/plain": [
              "      id       value feature\n",
              "0  10711       драмы   genre\n",
              "0  10711  зарубежные   genre\n",
              "0  10711   детективы   genre\n",
              "0  10711   мелодрамы   genre\n",
              "1   2508  зарубежные   genre"
            ],
            "text/html": [
              "\n",
              "  <div id=\"df-d52dc2bc-1f5c-4622-ad1a-8390da6db1c3\">\n",
              "    <div class=\"colab-df-container\">\n",
              "      <div>\n",
              "<style scoped>\n",
              "    .dataframe tbody tr th:only-of-type {\n",
              "        vertical-align: middle;\n",
              "    }\n",
              "\n",
              "    .dataframe tbody tr th {\n",
              "        vertical-align: top;\n",
              "    }\n",
              "\n",
              "    .dataframe thead th {\n",
              "        text-align: right;\n",
              "    }\n",
              "</style>\n",
              "<table border=\"1\" class=\"dataframe\">\n",
              "  <thead>\n",
              "    <tr style=\"text-align: right;\">\n",
              "      <th></th>\n",
              "      <th>id</th>\n",
              "      <th>value</th>\n",
              "      <th>feature</th>\n",
              "    </tr>\n",
              "  </thead>\n",
              "  <tbody>\n",
              "    <tr>\n",
              "      <th>0</th>\n",
              "      <td>10711</td>\n",
              "      <td>драмы</td>\n",
              "      <td>genre</td>\n",
              "    </tr>\n",
              "    <tr>\n",
              "      <th>0</th>\n",
              "      <td>10711</td>\n",
              "      <td>зарубежные</td>\n",
              "      <td>genre</td>\n",
              "    </tr>\n",
              "    <tr>\n",
              "      <th>0</th>\n",
              "      <td>10711</td>\n",
              "      <td>детективы</td>\n",
              "      <td>genre</td>\n",
              "    </tr>\n",
              "    <tr>\n",
              "      <th>0</th>\n",
              "      <td>10711</td>\n",
              "      <td>мелодрамы</td>\n",
              "      <td>genre</td>\n",
              "    </tr>\n",
              "    <tr>\n",
              "      <th>1</th>\n",
              "      <td>2508</td>\n",
              "      <td>зарубежные</td>\n",
              "      <td>genre</td>\n",
              "    </tr>\n",
              "  </tbody>\n",
              "</table>\n",
              "</div>\n",
              "      <button class=\"colab-df-convert\" onclick=\"convertToInteractive('df-d52dc2bc-1f5c-4622-ad1a-8390da6db1c3')\"\n",
              "              title=\"Convert this dataframe to an interactive table.\"\n",
              "              style=\"display:none;\">\n",
              "        \n",
              "  <svg xmlns=\"http://www.w3.org/2000/svg\" height=\"24px\"viewBox=\"0 0 24 24\"\n",
              "       width=\"24px\">\n",
              "    <path d=\"M0 0h24v24H0V0z\" fill=\"none\"/>\n",
              "    <path d=\"M18.56 5.44l.94 2.06.94-2.06 2.06-.94-2.06-.94-.94-2.06-.94 2.06-2.06.94zm-11 1L8.5 8.5l.94-2.06 2.06-.94-2.06-.94L8.5 2.5l-.94 2.06-2.06.94zm10 10l.94 2.06.94-2.06 2.06-.94-2.06-.94-.94-2.06-.94 2.06-2.06.94z\"/><path d=\"M17.41 7.96l-1.37-1.37c-.4-.4-.92-.59-1.43-.59-.52 0-1.04.2-1.43.59L10.3 9.45l-7.72 7.72c-.78.78-.78 2.05 0 2.83L4 21.41c.39.39.9.59 1.41.59.51 0 1.02-.2 1.41-.59l7.78-7.78 2.81-2.81c.8-.78.8-2.07 0-2.86zM5.41 20L4 18.59l7.72-7.72 1.47 1.35L5.41 20z\"/>\n",
              "  </svg>\n",
              "      </button>\n",
              "      \n",
              "  <style>\n",
              "    .colab-df-container {\n",
              "      display:flex;\n",
              "      flex-wrap:wrap;\n",
              "      gap: 12px;\n",
              "    }\n",
              "\n",
              "    .colab-df-convert {\n",
              "      background-color: #E8F0FE;\n",
              "      border: none;\n",
              "      border-radius: 50%;\n",
              "      cursor: pointer;\n",
              "      display: none;\n",
              "      fill: #1967D2;\n",
              "      height: 32px;\n",
              "      padding: 0 0 0 0;\n",
              "      width: 32px;\n",
              "    }\n",
              "\n",
              "    .colab-df-convert:hover {\n",
              "      background-color: #E2EBFA;\n",
              "      box-shadow: 0px 1px 2px rgba(60, 64, 67, 0.3), 0px 1px 3px 1px rgba(60, 64, 67, 0.15);\n",
              "      fill: #174EA6;\n",
              "    }\n",
              "\n",
              "    [theme=dark] .colab-df-convert {\n",
              "      background-color: #3B4455;\n",
              "      fill: #D2E3FC;\n",
              "    }\n",
              "\n",
              "    [theme=dark] .colab-df-convert:hover {\n",
              "      background-color: #434B5C;\n",
              "      box-shadow: 0px 1px 3px 1px rgba(0, 0, 0, 0.15);\n",
              "      filter: drop-shadow(0px 1px 2px rgba(0, 0, 0, 0.3));\n",
              "      fill: #FFFFFF;\n",
              "    }\n",
              "  </style>\n",
              "\n",
              "      <script>\n",
              "        const buttonEl =\n",
              "          document.querySelector('#df-d52dc2bc-1f5c-4622-ad1a-8390da6db1c3 button.colab-df-convert');\n",
              "        buttonEl.style.display =\n",
              "          google.colab.kernel.accessAllowed ? 'block' : 'none';\n",
              "\n",
              "        async function convertToInteractive(key) {\n",
              "          const element = document.querySelector('#df-d52dc2bc-1f5c-4622-ad1a-8390da6db1c3');\n",
              "          const dataTable =\n",
              "            await google.colab.kernel.invokeFunction('convertToInteractive',\n",
              "                                                     [key], {});\n",
              "          if (!dataTable) return;\n",
              "\n",
              "          const docLinkHtml = 'Like what you see? Visit the ' +\n",
              "            '<a target=\"_blank\" href=https://colab.research.google.com/notebooks/data_table.ipynb>data table notebook</a>'\n",
              "            + ' to learn more about interactive tables.';\n",
              "          element.innerHTML = '';\n",
              "          dataTable['output_type'] = 'display_data';\n",
              "          await google.colab.output.renderOutput(dataTable, element);\n",
              "          const docLink = document.createElement('div');\n",
              "          docLink.innerHTML = docLinkHtml;\n",
              "          element.appendChild(docLink);\n",
              "        }\n",
              "      </script>\n",
              "    </div>\n",
              "  </div>\n",
              "  "
            ]
          },
          "metadata": {},
          "execution_count": 24
        }
      ]
    },
    {
      "cell_type": "markdown",
      "source": [
        "### Content"
      ],
      "metadata": {
        "id": "Y-sY9Aq2RF4Y"
      }
    },
    {
      "cell_type": "code",
      "source": [
        "content_feature = items.reindex(columns=[Columns.Item, \"content_type\"])\n",
        "content_feature.columns = [\"id\", \"value\"]\n",
        "content_feature[\"feature\"] = \"content_type\"\n",
        "content_feature.head()"
      ],
      "metadata": {
        "colab": {
          "base_uri": "https://localhost:8080/",
          "height": 206
        },
        "id": "2rvoMTceOqDn",
        "outputId": "9fc6f660-3815-416d-a8eb-316d37783d62"
      },
      "execution_count": 25,
      "outputs": [
        {
          "output_type": "execute_result",
          "data": {
            "text/plain": [
              "      id value       feature\n",
              "0  10711  film  content_type\n",
              "1   2508  film  content_type\n",
              "2  10716  film  content_type\n",
              "3   7868  film  content_type\n",
              "4  16268  film  content_type"
            ],
            "text/html": [
              "\n",
              "  <div id=\"df-8eecc9a5-006f-4ea3-9426-41213368b23c\">\n",
              "    <div class=\"colab-df-container\">\n",
              "      <div>\n",
              "<style scoped>\n",
              "    .dataframe tbody tr th:only-of-type {\n",
              "        vertical-align: middle;\n",
              "    }\n",
              "\n",
              "    .dataframe tbody tr th {\n",
              "        vertical-align: top;\n",
              "    }\n",
              "\n",
              "    .dataframe thead th {\n",
              "        text-align: right;\n",
              "    }\n",
              "</style>\n",
              "<table border=\"1\" class=\"dataframe\">\n",
              "  <thead>\n",
              "    <tr style=\"text-align: right;\">\n",
              "      <th></th>\n",
              "      <th>id</th>\n",
              "      <th>value</th>\n",
              "      <th>feature</th>\n",
              "    </tr>\n",
              "  </thead>\n",
              "  <tbody>\n",
              "    <tr>\n",
              "      <th>0</th>\n",
              "      <td>10711</td>\n",
              "      <td>film</td>\n",
              "      <td>content_type</td>\n",
              "    </tr>\n",
              "    <tr>\n",
              "      <th>1</th>\n",
              "      <td>2508</td>\n",
              "      <td>film</td>\n",
              "      <td>content_type</td>\n",
              "    </tr>\n",
              "    <tr>\n",
              "      <th>2</th>\n",
              "      <td>10716</td>\n",
              "      <td>film</td>\n",
              "      <td>content_type</td>\n",
              "    </tr>\n",
              "    <tr>\n",
              "      <th>3</th>\n",
              "      <td>7868</td>\n",
              "      <td>film</td>\n",
              "      <td>content_type</td>\n",
              "    </tr>\n",
              "    <tr>\n",
              "      <th>4</th>\n",
              "      <td>16268</td>\n",
              "      <td>film</td>\n",
              "      <td>content_type</td>\n",
              "    </tr>\n",
              "  </tbody>\n",
              "</table>\n",
              "</div>\n",
              "      <button class=\"colab-df-convert\" onclick=\"convertToInteractive('df-8eecc9a5-006f-4ea3-9426-41213368b23c')\"\n",
              "              title=\"Convert this dataframe to an interactive table.\"\n",
              "              style=\"display:none;\">\n",
              "        \n",
              "  <svg xmlns=\"http://www.w3.org/2000/svg\" height=\"24px\"viewBox=\"0 0 24 24\"\n",
              "       width=\"24px\">\n",
              "    <path d=\"M0 0h24v24H0V0z\" fill=\"none\"/>\n",
              "    <path d=\"M18.56 5.44l.94 2.06.94-2.06 2.06-.94-2.06-.94-.94-2.06-.94 2.06-2.06.94zm-11 1L8.5 8.5l.94-2.06 2.06-.94-2.06-.94L8.5 2.5l-.94 2.06-2.06.94zm10 10l.94 2.06.94-2.06 2.06-.94-2.06-.94-.94-2.06-.94 2.06-2.06.94z\"/><path d=\"M17.41 7.96l-1.37-1.37c-.4-.4-.92-.59-1.43-.59-.52 0-1.04.2-1.43.59L10.3 9.45l-7.72 7.72c-.78.78-.78 2.05 0 2.83L4 21.41c.39.39.9.59 1.41.59.51 0 1.02-.2 1.41-.59l7.78-7.78 2.81-2.81c.8-.78.8-2.07 0-2.86zM5.41 20L4 18.59l7.72-7.72 1.47 1.35L5.41 20z\"/>\n",
              "  </svg>\n",
              "      </button>\n",
              "      \n",
              "  <style>\n",
              "    .colab-df-container {\n",
              "      display:flex;\n",
              "      flex-wrap:wrap;\n",
              "      gap: 12px;\n",
              "    }\n",
              "\n",
              "    .colab-df-convert {\n",
              "      background-color: #E8F0FE;\n",
              "      border: none;\n",
              "      border-radius: 50%;\n",
              "      cursor: pointer;\n",
              "      display: none;\n",
              "      fill: #1967D2;\n",
              "      height: 32px;\n",
              "      padding: 0 0 0 0;\n",
              "      width: 32px;\n",
              "    }\n",
              "\n",
              "    .colab-df-convert:hover {\n",
              "      background-color: #E2EBFA;\n",
              "      box-shadow: 0px 1px 2px rgba(60, 64, 67, 0.3), 0px 1px 3px 1px rgba(60, 64, 67, 0.15);\n",
              "      fill: #174EA6;\n",
              "    }\n",
              "\n",
              "    [theme=dark] .colab-df-convert {\n",
              "      background-color: #3B4455;\n",
              "      fill: #D2E3FC;\n",
              "    }\n",
              "\n",
              "    [theme=dark] .colab-df-convert:hover {\n",
              "      background-color: #434B5C;\n",
              "      box-shadow: 0px 1px 3px 1px rgba(0, 0, 0, 0.15);\n",
              "      filter: drop-shadow(0px 1px 2px rgba(0, 0, 0, 0.3));\n",
              "      fill: #FFFFFF;\n",
              "    }\n",
              "  </style>\n",
              "\n",
              "      <script>\n",
              "        const buttonEl =\n",
              "          document.querySelector('#df-8eecc9a5-006f-4ea3-9426-41213368b23c button.colab-df-convert');\n",
              "        buttonEl.style.display =\n",
              "          google.colab.kernel.accessAllowed ? 'block' : 'none';\n",
              "\n",
              "        async function convertToInteractive(key) {\n",
              "          const element = document.querySelector('#df-8eecc9a5-006f-4ea3-9426-41213368b23c');\n",
              "          const dataTable =\n",
              "            await google.colab.kernel.invokeFunction('convertToInteractive',\n",
              "                                                     [key], {});\n",
              "          if (!dataTable) return;\n",
              "\n",
              "          const docLinkHtml = 'Like what you see? Visit the ' +\n",
              "            '<a target=\"_blank\" href=https://colab.research.google.com/notebooks/data_table.ipynb>data table notebook</a>'\n",
              "            + ' to learn more about interactive tables.';\n",
              "          element.innerHTML = '';\n",
              "          dataTable['output_type'] = 'display_data';\n",
              "          await google.colab.output.renderOutput(dataTable, element);\n",
              "          const docLink = document.createElement('div');\n",
              "          docLink.innerHTML = docLinkHtml;\n",
              "          element.appendChild(docLink);\n",
              "        }\n",
              "      </script>\n",
              "    </div>\n",
              "  </div>\n",
              "  "
            ]
          },
          "metadata": {},
          "execution_count": 25
        }
      ]
    },
    {
      "cell_type": "markdown",
      "source": [
        "### Binned release_year"
      ],
      "metadata": {
        "id": "ZqQf6Nx7Xmkr"
      }
    },
    {
      "cell_type": "code",
      "source": [
        "pd.qcut(items['release_year'], q=10).head()"
      ],
      "metadata": {
        "colab": {
          "base_uri": "https://localhost:8080/"
        },
        "id": "LQFwhns5bVdo",
        "outputId": "7b37da68-f36b-413e-9607-5959ecf07256"
      },
      "execution_count": 26,
      "outputs": [
        {
          "output_type": "execute_result",
          "data": {
            "text/plain": [
              "0      (1983.0, 2003.0]\n",
              "1      (2012.0, 2014.0]\n",
              "2      (2009.0, 2012.0]\n",
              "3      (2014.0, 2016.0]\n",
              "4    (1896.999, 1983.0]\n",
              "Name: release_year, dtype: category\n",
              "Categories (10, interval[float64, right]): [(1896.999, 1983.0] < (1983.0, 2003.0] < (2003.0, 2009.0] <\n",
              "                                            (2009.0, 2012.0] ... (2016.0, 2017.0] <\n",
              "                                            (2017.0, 2019.0] < (2019.0, 2020.0] < (2020.0, 2021.0]]"
            ]
          },
          "metadata": {},
          "execution_count": 26
        }
      ]
    },
    {
      "cell_type": "code",
      "source": [
        "items['binned_r_year'] = pd.qcut(items['release_year'], q=10, labels=list(range(10)))"
      ],
      "metadata": {
        "id": "vm-A5Cl_a9ax"
      },
      "execution_count": 27,
      "outputs": []
    },
    {
      "cell_type": "code",
      "source": [
        "release_year_feature = items.reindex(columns=[Columns.Item, \"binned_r_year\"])\n",
        "release_year_feature.columns = [\"id\", \"value\"]\n",
        "release_year_feature[\"feature\"] = \"binned_r_year\"\n",
        "release_year_feature.head()"
      ],
      "metadata": {
        "colab": {
          "base_uri": "https://localhost:8080/",
          "height": 0
        },
        "id": "4vi1xHbXRPU6",
        "outputId": "ab1c80a2-e0fa-4ea3-ab73-23f470e64d85"
      },
      "execution_count": 28,
      "outputs": [
        {
          "output_type": "execute_result",
          "data": {
            "text/plain": [
              "      id value        feature\n",
              "0  10711     1  binned_r_year\n",
              "1   2508     4  binned_r_year\n",
              "2  10716     3  binned_r_year\n",
              "3   7868     5  binned_r_year\n",
              "4  16268     0  binned_r_year"
            ],
            "text/html": [
              "\n",
              "  <div id=\"df-46bde0b1-2e3d-4e67-817f-35a633feb7b4\">\n",
              "    <div class=\"colab-df-container\">\n",
              "      <div>\n",
              "<style scoped>\n",
              "    .dataframe tbody tr th:only-of-type {\n",
              "        vertical-align: middle;\n",
              "    }\n",
              "\n",
              "    .dataframe tbody tr th {\n",
              "        vertical-align: top;\n",
              "    }\n",
              "\n",
              "    .dataframe thead th {\n",
              "        text-align: right;\n",
              "    }\n",
              "</style>\n",
              "<table border=\"1\" class=\"dataframe\">\n",
              "  <thead>\n",
              "    <tr style=\"text-align: right;\">\n",
              "      <th></th>\n",
              "      <th>id</th>\n",
              "      <th>value</th>\n",
              "      <th>feature</th>\n",
              "    </tr>\n",
              "  </thead>\n",
              "  <tbody>\n",
              "    <tr>\n",
              "      <th>0</th>\n",
              "      <td>10711</td>\n",
              "      <td>1</td>\n",
              "      <td>binned_r_year</td>\n",
              "    </tr>\n",
              "    <tr>\n",
              "      <th>1</th>\n",
              "      <td>2508</td>\n",
              "      <td>4</td>\n",
              "      <td>binned_r_year</td>\n",
              "    </tr>\n",
              "    <tr>\n",
              "      <th>2</th>\n",
              "      <td>10716</td>\n",
              "      <td>3</td>\n",
              "      <td>binned_r_year</td>\n",
              "    </tr>\n",
              "    <tr>\n",
              "      <th>3</th>\n",
              "      <td>7868</td>\n",
              "      <td>5</td>\n",
              "      <td>binned_r_year</td>\n",
              "    </tr>\n",
              "    <tr>\n",
              "      <th>4</th>\n",
              "      <td>16268</td>\n",
              "      <td>0</td>\n",
              "      <td>binned_r_year</td>\n",
              "    </tr>\n",
              "  </tbody>\n",
              "</table>\n",
              "</div>\n",
              "      <button class=\"colab-df-convert\" onclick=\"convertToInteractive('df-46bde0b1-2e3d-4e67-817f-35a633feb7b4')\"\n",
              "              title=\"Convert this dataframe to an interactive table.\"\n",
              "              style=\"display:none;\">\n",
              "        \n",
              "  <svg xmlns=\"http://www.w3.org/2000/svg\" height=\"24px\"viewBox=\"0 0 24 24\"\n",
              "       width=\"24px\">\n",
              "    <path d=\"M0 0h24v24H0V0z\" fill=\"none\"/>\n",
              "    <path d=\"M18.56 5.44l.94 2.06.94-2.06 2.06-.94-2.06-.94-.94-2.06-.94 2.06-2.06.94zm-11 1L8.5 8.5l.94-2.06 2.06-.94-2.06-.94L8.5 2.5l-.94 2.06-2.06.94zm10 10l.94 2.06.94-2.06 2.06-.94-2.06-.94-.94-2.06-.94 2.06-2.06.94z\"/><path d=\"M17.41 7.96l-1.37-1.37c-.4-.4-.92-.59-1.43-.59-.52 0-1.04.2-1.43.59L10.3 9.45l-7.72 7.72c-.78.78-.78 2.05 0 2.83L4 21.41c.39.39.9.59 1.41.59.51 0 1.02-.2 1.41-.59l7.78-7.78 2.81-2.81c.8-.78.8-2.07 0-2.86zM5.41 20L4 18.59l7.72-7.72 1.47 1.35L5.41 20z\"/>\n",
              "  </svg>\n",
              "      </button>\n",
              "      \n",
              "  <style>\n",
              "    .colab-df-container {\n",
              "      display:flex;\n",
              "      flex-wrap:wrap;\n",
              "      gap: 12px;\n",
              "    }\n",
              "\n",
              "    .colab-df-convert {\n",
              "      background-color: #E8F0FE;\n",
              "      border: none;\n",
              "      border-radius: 50%;\n",
              "      cursor: pointer;\n",
              "      display: none;\n",
              "      fill: #1967D2;\n",
              "      height: 32px;\n",
              "      padding: 0 0 0 0;\n",
              "      width: 32px;\n",
              "    }\n",
              "\n",
              "    .colab-df-convert:hover {\n",
              "      background-color: #E2EBFA;\n",
              "      box-shadow: 0px 1px 2px rgba(60, 64, 67, 0.3), 0px 1px 3px 1px rgba(60, 64, 67, 0.15);\n",
              "      fill: #174EA6;\n",
              "    }\n",
              "\n",
              "    [theme=dark] .colab-df-convert {\n",
              "      background-color: #3B4455;\n",
              "      fill: #D2E3FC;\n",
              "    }\n",
              "\n",
              "    [theme=dark] .colab-df-convert:hover {\n",
              "      background-color: #434B5C;\n",
              "      box-shadow: 0px 1px 3px 1px rgba(0, 0, 0, 0.15);\n",
              "      filter: drop-shadow(0px 1px 2px rgba(0, 0, 0, 0.3));\n",
              "      fill: #FFFFFF;\n",
              "    }\n",
              "  </style>\n",
              "\n",
              "      <script>\n",
              "        const buttonEl =\n",
              "          document.querySelector('#df-46bde0b1-2e3d-4e67-817f-35a633feb7b4 button.colab-df-convert');\n",
              "        buttonEl.style.display =\n",
              "          google.colab.kernel.accessAllowed ? 'block' : 'none';\n",
              "\n",
              "        async function convertToInteractive(key) {\n",
              "          const element = document.querySelector('#df-46bde0b1-2e3d-4e67-817f-35a633feb7b4');\n",
              "          const dataTable =\n",
              "            await google.colab.kernel.invokeFunction('convertToInteractive',\n",
              "                                                     [key], {});\n",
              "          if (!dataTable) return;\n",
              "\n",
              "          const docLinkHtml = 'Like what you see? Visit the ' +\n",
              "            '<a target=\"_blank\" href=https://colab.research.google.com/notebooks/data_table.ipynb>data table notebook</a>'\n",
              "            + ' to learn more about interactive tables.';\n",
              "          element.innerHTML = '';\n",
              "          dataTable['output_type'] = 'display_data';\n",
              "          await google.colab.output.renderOutput(dataTable, element);\n",
              "          const docLink = document.createElement('div');\n",
              "          docLink.innerHTML = docLinkHtml;\n",
              "          element.appendChild(docLink);\n",
              "        }\n",
              "      </script>\n",
              "    </div>\n",
              "  </div>\n",
              "  "
            ]
          },
          "metadata": {},
          "execution_count": 28
        }
      ]
    },
    {
      "cell_type": "markdown",
      "source": [
        "### countries"
      ],
      "metadata": {
        "id": "gG6fkUsQXvwp"
      }
    },
    {
      "cell_type": "code",
      "source": [
        "items[\"country\"] = items[\"countries\"].str.lower().str.replace(\", \", \",\", regex=False).str.split(\",\")\n",
        "country_feature = items[[\"item_id\", \"country\"]].explode(\"country\")\n",
        "country_feature.columns = [\"id\", \"value\"]\n",
        "country_feature[\"feature\"] = \"country\"\n",
        "country_feature.head()"
      ],
      "metadata": {
        "colab": {
          "base_uri": "https://localhost:8080/",
          "height": 0
        },
        "id": "wDWwxB6eRPR1",
        "outputId": "71a5a3d1-4530-4658-dc75-fbdb3e9f38ee"
      },
      "execution_count": 29,
      "outputs": [
        {
          "output_type": "execute_result",
          "data": {
            "text/plain": [
              "      id           value  feature\n",
              "0  10711         испания  country\n",
              "1   2508             сша  country\n",
              "2  10716          канада  country\n",
              "3   7868  великобритания  country\n",
              "4  16268            ссср  country"
            ],
            "text/html": [
              "\n",
              "  <div id=\"df-e645ba5c-26df-451b-9c01-e977a54708cf\">\n",
              "    <div class=\"colab-df-container\">\n",
              "      <div>\n",
              "<style scoped>\n",
              "    .dataframe tbody tr th:only-of-type {\n",
              "        vertical-align: middle;\n",
              "    }\n",
              "\n",
              "    .dataframe tbody tr th {\n",
              "        vertical-align: top;\n",
              "    }\n",
              "\n",
              "    .dataframe thead th {\n",
              "        text-align: right;\n",
              "    }\n",
              "</style>\n",
              "<table border=\"1\" class=\"dataframe\">\n",
              "  <thead>\n",
              "    <tr style=\"text-align: right;\">\n",
              "      <th></th>\n",
              "      <th>id</th>\n",
              "      <th>value</th>\n",
              "      <th>feature</th>\n",
              "    </tr>\n",
              "  </thead>\n",
              "  <tbody>\n",
              "    <tr>\n",
              "      <th>0</th>\n",
              "      <td>10711</td>\n",
              "      <td>испания</td>\n",
              "      <td>country</td>\n",
              "    </tr>\n",
              "    <tr>\n",
              "      <th>1</th>\n",
              "      <td>2508</td>\n",
              "      <td>сша</td>\n",
              "      <td>country</td>\n",
              "    </tr>\n",
              "    <tr>\n",
              "      <th>2</th>\n",
              "      <td>10716</td>\n",
              "      <td>канада</td>\n",
              "      <td>country</td>\n",
              "    </tr>\n",
              "    <tr>\n",
              "      <th>3</th>\n",
              "      <td>7868</td>\n",
              "      <td>великобритания</td>\n",
              "      <td>country</td>\n",
              "    </tr>\n",
              "    <tr>\n",
              "      <th>4</th>\n",
              "      <td>16268</td>\n",
              "      <td>ссср</td>\n",
              "      <td>country</td>\n",
              "    </tr>\n",
              "  </tbody>\n",
              "</table>\n",
              "</div>\n",
              "      <button class=\"colab-df-convert\" onclick=\"convertToInteractive('df-e645ba5c-26df-451b-9c01-e977a54708cf')\"\n",
              "              title=\"Convert this dataframe to an interactive table.\"\n",
              "              style=\"display:none;\">\n",
              "        \n",
              "  <svg xmlns=\"http://www.w3.org/2000/svg\" height=\"24px\"viewBox=\"0 0 24 24\"\n",
              "       width=\"24px\">\n",
              "    <path d=\"M0 0h24v24H0V0z\" fill=\"none\"/>\n",
              "    <path d=\"M18.56 5.44l.94 2.06.94-2.06 2.06-.94-2.06-.94-.94-2.06-.94 2.06-2.06.94zm-11 1L8.5 8.5l.94-2.06 2.06-.94-2.06-.94L8.5 2.5l-.94 2.06-2.06.94zm10 10l.94 2.06.94-2.06 2.06-.94-2.06-.94-.94-2.06-.94 2.06-2.06.94z\"/><path d=\"M17.41 7.96l-1.37-1.37c-.4-.4-.92-.59-1.43-.59-.52 0-1.04.2-1.43.59L10.3 9.45l-7.72 7.72c-.78.78-.78 2.05 0 2.83L4 21.41c.39.39.9.59 1.41.59.51 0 1.02-.2 1.41-.59l7.78-7.78 2.81-2.81c.8-.78.8-2.07 0-2.86zM5.41 20L4 18.59l7.72-7.72 1.47 1.35L5.41 20z\"/>\n",
              "  </svg>\n",
              "      </button>\n",
              "      \n",
              "  <style>\n",
              "    .colab-df-container {\n",
              "      display:flex;\n",
              "      flex-wrap:wrap;\n",
              "      gap: 12px;\n",
              "    }\n",
              "\n",
              "    .colab-df-convert {\n",
              "      background-color: #E8F0FE;\n",
              "      border: none;\n",
              "      border-radius: 50%;\n",
              "      cursor: pointer;\n",
              "      display: none;\n",
              "      fill: #1967D2;\n",
              "      height: 32px;\n",
              "      padding: 0 0 0 0;\n",
              "      width: 32px;\n",
              "    }\n",
              "\n",
              "    .colab-df-convert:hover {\n",
              "      background-color: #E2EBFA;\n",
              "      box-shadow: 0px 1px 2px rgba(60, 64, 67, 0.3), 0px 1px 3px 1px rgba(60, 64, 67, 0.15);\n",
              "      fill: #174EA6;\n",
              "    }\n",
              "\n",
              "    [theme=dark] .colab-df-convert {\n",
              "      background-color: #3B4455;\n",
              "      fill: #D2E3FC;\n",
              "    }\n",
              "\n",
              "    [theme=dark] .colab-df-convert:hover {\n",
              "      background-color: #434B5C;\n",
              "      box-shadow: 0px 1px 3px 1px rgba(0, 0, 0, 0.15);\n",
              "      filter: drop-shadow(0px 1px 2px rgba(0, 0, 0, 0.3));\n",
              "      fill: #FFFFFF;\n",
              "    }\n",
              "  </style>\n",
              "\n",
              "      <script>\n",
              "        const buttonEl =\n",
              "          document.querySelector('#df-e645ba5c-26df-451b-9c01-e977a54708cf button.colab-df-convert');\n",
              "        buttonEl.style.display =\n",
              "          google.colab.kernel.accessAllowed ? 'block' : 'none';\n",
              "\n",
              "        async function convertToInteractive(key) {\n",
              "          const element = document.querySelector('#df-e645ba5c-26df-451b-9c01-e977a54708cf');\n",
              "          const dataTable =\n",
              "            await google.colab.kernel.invokeFunction('convertToInteractive',\n",
              "                                                     [key], {});\n",
              "          if (!dataTable) return;\n",
              "\n",
              "          const docLinkHtml = 'Like what you see? Visit the ' +\n",
              "            '<a target=\"_blank\" href=https://colab.research.google.com/notebooks/data_table.ipynb>data table notebook</a>'\n",
              "            + ' to learn more about interactive tables.';\n",
              "          element.innerHTML = '';\n",
              "          dataTable['output_type'] = 'display_data';\n",
              "          await google.colab.output.renderOutput(dataTable, element);\n",
              "          const docLink = document.createElement('div');\n",
              "          docLink.innerHTML = docLinkHtml;\n",
              "          element.appendChild(docLink);\n",
              "        }\n",
              "      </script>\n",
              "    </div>\n",
              "  </div>\n",
              "  "
            ]
          },
          "metadata": {},
          "execution_count": 29
        }
      ]
    },
    {
      "cell_type": "markdown",
      "source": [
        "###  Combine all"
      ],
      "metadata": {
        "id": "tssSNRmGRMMY"
      }
    },
    {
      "cell_type": "code",
      "source": [
        "item_features = pd.concat((genre_feature, content_feature, country_feature, release_year_feature))\n",
        "item_features[item_features['id'] == 10711]"
      ],
      "metadata": {
        "colab": {
          "base_uri": "https://localhost:8080/",
          "height": 0
        },
        "id": "tIRRgjdYRKFq",
        "outputId": "2dd6a162-9dea-4892-d269-f91398118cf3"
      },
      "execution_count": 30,
      "outputs": [
        {
          "output_type": "execute_result",
          "data": {
            "text/plain": [
              "      id       value        feature\n",
              "0  10711       драмы          genre\n",
              "0  10711  зарубежные          genre\n",
              "0  10711   детективы          genre\n",
              "0  10711   мелодрамы          genre\n",
              "0  10711        film   content_type\n",
              "0  10711     испания        country\n",
              "0  10711           1  binned_r_year"
            ],
            "text/html": [
              "\n",
              "  <div id=\"df-1972715b-8c1f-47f9-adaa-46314aec441b\">\n",
              "    <div class=\"colab-df-container\">\n",
              "      <div>\n",
              "<style scoped>\n",
              "    .dataframe tbody tr th:only-of-type {\n",
              "        vertical-align: middle;\n",
              "    }\n",
              "\n",
              "    .dataframe tbody tr th {\n",
              "        vertical-align: top;\n",
              "    }\n",
              "\n",
              "    .dataframe thead th {\n",
              "        text-align: right;\n",
              "    }\n",
              "</style>\n",
              "<table border=\"1\" class=\"dataframe\">\n",
              "  <thead>\n",
              "    <tr style=\"text-align: right;\">\n",
              "      <th></th>\n",
              "      <th>id</th>\n",
              "      <th>value</th>\n",
              "      <th>feature</th>\n",
              "    </tr>\n",
              "  </thead>\n",
              "  <tbody>\n",
              "    <tr>\n",
              "      <th>0</th>\n",
              "      <td>10711</td>\n",
              "      <td>драмы</td>\n",
              "      <td>genre</td>\n",
              "    </tr>\n",
              "    <tr>\n",
              "      <th>0</th>\n",
              "      <td>10711</td>\n",
              "      <td>зарубежные</td>\n",
              "      <td>genre</td>\n",
              "    </tr>\n",
              "    <tr>\n",
              "      <th>0</th>\n",
              "      <td>10711</td>\n",
              "      <td>детективы</td>\n",
              "      <td>genre</td>\n",
              "    </tr>\n",
              "    <tr>\n",
              "      <th>0</th>\n",
              "      <td>10711</td>\n",
              "      <td>мелодрамы</td>\n",
              "      <td>genre</td>\n",
              "    </tr>\n",
              "    <tr>\n",
              "      <th>0</th>\n",
              "      <td>10711</td>\n",
              "      <td>film</td>\n",
              "      <td>content_type</td>\n",
              "    </tr>\n",
              "    <tr>\n",
              "      <th>0</th>\n",
              "      <td>10711</td>\n",
              "      <td>испания</td>\n",
              "      <td>country</td>\n",
              "    </tr>\n",
              "    <tr>\n",
              "      <th>0</th>\n",
              "      <td>10711</td>\n",
              "      <td>1</td>\n",
              "      <td>binned_r_year</td>\n",
              "    </tr>\n",
              "  </tbody>\n",
              "</table>\n",
              "</div>\n",
              "      <button class=\"colab-df-convert\" onclick=\"convertToInteractive('df-1972715b-8c1f-47f9-adaa-46314aec441b')\"\n",
              "              title=\"Convert this dataframe to an interactive table.\"\n",
              "              style=\"display:none;\">\n",
              "        \n",
              "  <svg xmlns=\"http://www.w3.org/2000/svg\" height=\"24px\"viewBox=\"0 0 24 24\"\n",
              "       width=\"24px\">\n",
              "    <path d=\"M0 0h24v24H0V0z\" fill=\"none\"/>\n",
              "    <path d=\"M18.56 5.44l.94 2.06.94-2.06 2.06-.94-2.06-.94-.94-2.06-.94 2.06-2.06.94zm-11 1L8.5 8.5l.94-2.06 2.06-.94-2.06-.94L8.5 2.5l-.94 2.06-2.06.94zm10 10l.94 2.06.94-2.06 2.06-.94-2.06-.94-.94-2.06-.94 2.06-2.06.94z\"/><path d=\"M17.41 7.96l-1.37-1.37c-.4-.4-.92-.59-1.43-.59-.52 0-1.04.2-1.43.59L10.3 9.45l-7.72 7.72c-.78.78-.78 2.05 0 2.83L4 21.41c.39.39.9.59 1.41.59.51 0 1.02-.2 1.41-.59l7.78-7.78 2.81-2.81c.8-.78.8-2.07 0-2.86zM5.41 20L4 18.59l7.72-7.72 1.47 1.35L5.41 20z\"/>\n",
              "  </svg>\n",
              "      </button>\n",
              "      \n",
              "  <style>\n",
              "    .colab-df-container {\n",
              "      display:flex;\n",
              "      flex-wrap:wrap;\n",
              "      gap: 12px;\n",
              "    }\n",
              "\n",
              "    .colab-df-convert {\n",
              "      background-color: #E8F0FE;\n",
              "      border: none;\n",
              "      border-radius: 50%;\n",
              "      cursor: pointer;\n",
              "      display: none;\n",
              "      fill: #1967D2;\n",
              "      height: 32px;\n",
              "      padding: 0 0 0 0;\n",
              "      width: 32px;\n",
              "    }\n",
              "\n",
              "    .colab-df-convert:hover {\n",
              "      background-color: #E2EBFA;\n",
              "      box-shadow: 0px 1px 2px rgba(60, 64, 67, 0.3), 0px 1px 3px 1px rgba(60, 64, 67, 0.15);\n",
              "      fill: #174EA6;\n",
              "    }\n",
              "\n",
              "    [theme=dark] .colab-df-convert {\n",
              "      background-color: #3B4455;\n",
              "      fill: #D2E3FC;\n",
              "    }\n",
              "\n",
              "    [theme=dark] .colab-df-convert:hover {\n",
              "      background-color: #434B5C;\n",
              "      box-shadow: 0px 1px 3px 1px rgba(0, 0, 0, 0.15);\n",
              "      filter: drop-shadow(0px 1px 2px rgba(0, 0, 0, 0.3));\n",
              "      fill: #FFFFFF;\n",
              "    }\n",
              "  </style>\n",
              "\n",
              "      <script>\n",
              "        const buttonEl =\n",
              "          document.querySelector('#df-1972715b-8c1f-47f9-adaa-46314aec441b button.colab-df-convert');\n",
              "        buttonEl.style.display =\n",
              "          google.colab.kernel.accessAllowed ? 'block' : 'none';\n",
              "\n",
              "        async function convertToInteractive(key) {\n",
              "          const element = document.querySelector('#df-1972715b-8c1f-47f9-adaa-46314aec441b');\n",
              "          const dataTable =\n",
              "            await google.colab.kernel.invokeFunction('convertToInteractive',\n",
              "                                                     [key], {});\n",
              "          if (!dataTable) return;\n",
              "\n",
              "          const docLinkHtml = 'Like what you see? Visit the ' +\n",
              "            '<a target=\"_blank\" href=https://colab.research.google.com/notebooks/data_table.ipynb>data table notebook</a>'\n",
              "            + ' to learn more about interactive tables.';\n",
              "          element.innerHTML = '';\n",
              "          dataTable['output_type'] = 'display_data';\n",
              "          await google.colab.output.renderOutput(dataTable, element);\n",
              "          const docLink = document.createElement('div');\n",
              "          docLink.innerHTML = docLinkHtml;\n",
              "          element.appendChild(docLink);\n",
              "        }\n",
              "      </script>\n",
              "    </div>\n",
              "  </div>\n",
              "  "
            ]
          },
          "metadata": {},
          "execution_count": 30
        }
      ]
    },
    {
      "cell_type": "markdown",
      "source": [
        "## Init dataset"
      ],
      "metadata": {
        "id": "wp0Ei_5bcgIr"
      }
    },
    {
      "cell_type": "code",
      "source": [
        "dataset = Dataset.construct(\n",
        "    interactions_df=train,\n",
        "    user_features_df=user_features,\n",
        "    cat_user_features=[\"sex\", \"age\", \"income\"],\n",
        "    item_features_df=item_features,\n",
        "    cat_item_features=[\"genre\", \"country\", 'binned_r_year', 'content_type'],\n",
        ")"
      ],
      "metadata": {
        "id": "A7qKf-EUKkKt"
      },
      "execution_count": 31,
      "outputs": []
    },
    {
      "cell_type": "code",
      "source": [
        "TEST_USERS = test[Columns.User].unique()"
      ],
      "metadata": {
        "id": "Li5MAiRDLJzY"
      },
      "execution_count": 32,
      "outputs": []
    },
    {
      "cell_type": "markdown",
      "source": [
        "## Models"
      ],
      "metadata": {
        "id": "gGK1tKDqc0z6"
      }
    },
    {
      "cell_type": "code",
      "source": [
        "def print_study_info(study):\n",
        "  print(\"Number of finished trials: \", len(study.trials))\n",
        "  print(\"Best trial:\")\n",
        "  trials = study.best_trials\n",
        "  for trial in trials:\n",
        "    #print(\"  Value: {}\".format(trial.value))\n",
        "    print(\"  Params: \")\n",
        "    for key, value in trial.params.items():\n",
        "      print(\"    {}: {}\".format(key, value))"
      ],
      "metadata": {
        "id": "sDVUeKA-L5sG"
      },
      "execution_count": null,
      "outputs": []
    },
    {
      "cell_type": "markdown",
      "source": [
        "### ImplicitALSWrapperModel"
      ],
      "metadata": {
        "id": "5dnp7gV5G-Dl"
      }
    },
    {
      "cell_type": "code",
      "source": [
        "def objective_ImplicitALSWrapperModel(trial):\n",
        "    n_factors = trial.suggest_int(\"n_factors\", low=32, high=128, step=32)\n",
        "    regularization = trial.suggest_float(\"regularization\", low=0.01, high=0.51, step=0.1)\n",
        "    model_obj = ImplicitALSWrapperModel(\n",
        "      model=AlternatingLeastSquares(\n",
        "        factors=n_factors, \n",
        "        regularization=regularization,\n",
        "        random_state=SEED, \n",
        "      ),\n",
        "      fit_features_together=True,\n",
        "    )\n",
        "\n",
        "    model_obj.fit(dataset)\n",
        "    recos = model_obj.recommend(\n",
        "      users=TEST_USERS,\n",
        "      dataset=dataset,\n",
        "      k=K_RECOS,\n",
        "      filter_viewed=True,\n",
        "    )\n",
        "    metric_values = calc_metrics(metrics, recos, test, train)\n",
        "\n",
        "    return metric_values['map@10'], metric_values['recall@10']"
      ],
      "metadata": {
        "id": "6hs0x0Bqc11i"
      },
      "execution_count": null,
      "outputs": []
    },
    {
      "cell_type": "code",
      "source": [
        "def save_best_trial_model(trial):\n",
        "    # Use same code objective to reproduce the best model\n",
        "    n_factors = trial.suggest_int(\"n_factors\", low=32, high=128, step=32)\n",
        "    regularization = trial.suggest_float(\"regularization\", low=0.01, high=0.51, step=0.1)\n",
        "    model_obj = ImplicitALSWrapperModel(\n",
        "      model=AlternatingLeastSquares(\n",
        "        factors=n_factors, \n",
        "        regularization=regularization,\n",
        "        random_state=SEED, \n",
        "      ),\n",
        "      fit_features_together=True,\n",
        "    )\n",
        "\n",
        "    model_obj.fit(dataset)\n",
        "\n",
        "    with open('implicit_als.dill', 'wb') as f:\n",
        "      dill.dump(model_obj.model, f)"
      ],
      "metadata": {
        "id": "7oWFhhS-Ruvb"
      },
      "execution_count": null,
      "outputs": []
    },
    {
      "cell_type": "code",
      "source": [
        "%%time\n",
        "\n",
        "study = optuna.create_study(directions=[\"maximize\", \"maximize\"])\n",
        "study.optimize(objective_ImplicitALSWrapperModel, n_trials=10)"
      ],
      "metadata": {
        "id": "lJ4qREyBc2QP",
        "colab": {
          "base_uri": "https://localhost:8080/"
        },
        "outputId": "2ef14fd8-cf9c-4194-f598-6d166695164b"
      },
      "execution_count": null,
      "outputs": [
        {
          "output_type": "stream",
          "name": "stderr",
          "text": [
            "\u001b[32m[I 2022-12-03 15:32:19,437]\u001b[0m A new study created in memory with name: no-name-e922ab2d-40c9-4ce0-bea6-bb4345f6e611\u001b[0m\n",
            "\u001b[32m[I 2022-12-03 15:35:47,122]\u001b[0m Trial 0 finished with values: [0.07885603622836726, 0.1532056605991221] and parameters: {'n_factors': 128, 'regularization': 0.01}. \u001b[0m\n",
            "\u001b[32m[I 2022-12-03 15:38:54,429]\u001b[0m Trial 1 finished with values: [0.07902425782760353, 0.15199976234504708] and parameters: {'n_factors': 96, 'regularization': 0.11}. \u001b[0m\n",
            "\u001b[32m[I 2022-12-03 15:42:24,712]\u001b[0m Trial 2 finished with values: [0.07964396869947794, 0.15335980287799073] and parameters: {'n_factors': 128, 'regularization': 0.21000000000000002}. \u001b[0m\n",
            "\u001b[32m[I 2022-12-03 15:45:04,539]\u001b[0m Trial 3 finished with values: [0.07853638902402547, 0.1519968910022485] and parameters: {'n_factors': 32, 'regularization': 0.41000000000000003}. \u001b[0m\n",
            "\u001b[32m[I 2022-12-03 15:47:57,005]\u001b[0m Trial 4 finished with values: [0.07964172532576119, 0.1544882749441643] and parameters: {'n_factors': 64, 'regularization': 0.41000000000000003}. \u001b[0m\n",
            "\u001b[32m[I 2022-12-03 15:51:21,038]\u001b[0m Trial 5 finished with values: [0.07933078884537276, 0.15311154150830145] and parameters: {'n_factors': 128, 'regularization': 0.11}. \u001b[0m\n",
            "\u001b[32m[I 2022-12-03 15:53:58,396]\u001b[0m Trial 6 finished with values: [0.07952286977280587, 0.15348735554366563] and parameters: {'n_factors': 32, 'regularization': 0.11}. \u001b[0m\n",
            "\u001b[32m[I 2022-12-03 15:56:51,284]\u001b[0m Trial 7 finished with values: [0.07889852721563258, 0.15276003002372432] and parameters: {'n_factors': 64, 'regularization': 0.11}. \u001b[0m\n",
            "\u001b[32m[I 2022-12-03 15:59:41,274]\u001b[0m Trial 8 finished with values: [0.07889852721563258, 0.15276003002372432] and parameters: {'n_factors': 64, 'regularization': 0.11}. \u001b[0m\n",
            "\u001b[32m[I 2022-12-03 16:02:19,481]\u001b[0m Trial 9 finished with values: [0.07853638902402547, 0.1519968910022485] and parameters: {'n_factors': 32, 'regularization': 0.41000000000000003}. \u001b[0m\n"
          ]
        },
        {
          "output_type": "stream",
          "name": "stdout",
          "text": [
            "CPU times: user 41min 36s, sys: 8min 59s, total: 50min 36s\n",
            "Wall time: 30min\n"
          ]
        }
      ]
    },
    {
      "cell_type": "code",
      "source": [
        "print_study_info(study)"
      ],
      "metadata": {
        "colab": {
          "base_uri": "https://localhost:8080/"
        },
        "id": "47sbyW07Y3z6",
        "outputId": "61a25070-74ff-49c5-a051-875156274ae9"
      },
      "execution_count": null,
      "outputs": [
        {
          "output_type": "stream",
          "name": "stdout",
          "text": [
            "Number of finished trials:  10\n",
            "Best trial:\n",
            "  Params: \n",
            "    n_factors: 128\n",
            "    regularization: 0.21000000000000002\n",
            "  Params: \n",
            "    n_factors: 64\n",
            "    regularization: 0.41000000000000003\n"
          ]
        }
      ]
    },
    {
      "cell_type": "code",
      "source": [
        "study.best_trials"
      ],
      "metadata": {
        "colab": {
          "base_uri": "https://localhost:8080/"
        },
        "id": "YLxRH7YaZc3x",
        "outputId": "a6125693-47c0-43f1-fa44-50a6fb7f31e9"
      },
      "execution_count": null,
      "outputs": [
        {
          "output_type": "execute_result",
          "data": {
            "text/plain": [
              "[FrozenTrial(number=2, values=[0.07964396869947794, 0.15335980287799073], datetime_start=datetime.datetime(2022, 12, 3, 15, 38, 54, 430700), datetime_complete=datetime.datetime(2022, 12, 3, 15, 42, 24, 711952), params={'n_factors': 128, 'regularization': 0.21000000000000002}, distributions={'n_factors': IntDistribution(high=128, log=False, low=32, step=32), 'regularization': FloatDistribution(high=0.51, log=False, low=0.01, step=0.1)}, user_attrs={}, system_attrs={'nsga2:generation': 0}, intermediate_values={}, trial_id=2, state=TrialState.COMPLETE, value=None),\n",
              " FrozenTrial(number=4, values=[0.07964172532576119, 0.1544882749441643], datetime_start=datetime.datetime(2022, 12, 3, 15, 45, 4, 540899), datetime_complete=datetime.datetime(2022, 12, 3, 15, 47, 57, 5299), params={'n_factors': 64, 'regularization': 0.41000000000000003}, distributions={'n_factors': IntDistribution(high=128, log=False, low=32, step=32), 'regularization': FloatDistribution(high=0.51, log=False, low=0.01, step=0.1)}, user_attrs={}, system_attrs={'nsga2:generation': 0}, intermediate_values={}, trial_id=4, state=TrialState.COMPLETE, value=None)]"
            ]
          },
          "metadata": {},
          "execution_count": 70
        }
      ]
    },
    {
      "cell_type": "code",
      "source": [
        "save_best_trial_model(study.best_trials[0])"
      ],
      "metadata": {
        "id": "_02E9ki-Sak8"
      },
      "execution_count": null,
      "outputs": []
    },
    {
      "cell_type": "code",
      "source": [
        "with open('implicit_als.dill', 'rb') as f:\n",
        "    assert type(dill.load(f)) == AlternatingLeastSquares"
      ],
      "metadata": {
        "id": "GfM_SsrPZ5k9"
      },
      "execution_count": null,
      "outputs": []
    },
    {
      "cell_type": "markdown",
      "source": [
        "#### Fit best model & submit"
      ],
      "metadata": {
        "id": "EvC_LhTNvSkm"
      }
    },
    {
      "cell_type": "code",
      "source": [
        "recs = pd.DataFrame({'user_id': submission['user_id'].unique()})\n",
        "cold = recs[~recs['user_id'].isin(dataset.user_id_map.external_ids)]\n",
        "warm = recs[recs['user_id'].isin(dataset.user_id_map.external_ids)]\n",
        "cold.head()"
      ],
      "metadata": {
        "colab": {
          "base_uri": "https://localhost:8080/",
          "height": 206
        },
        "id": "yLKE5xwyvruj",
        "outputId": "12df4095-8988-48ea-f8e2-4efa1222c7f0"
      },
      "execution_count": null,
      "outputs": [
        {
          "output_type": "execute_result",
          "data": {
            "text/plain": [
              "    user_id\n",
              "2        29\n",
              "4        33\n",
              "5        39\n",
              "11       70\n",
              "12       74"
            ],
            "text/html": [
              "\n",
              "  <div id=\"df-171c2609-81d0-4deb-9c61-3774eb38598c\">\n",
              "    <div class=\"colab-df-container\">\n",
              "      <div>\n",
              "<style scoped>\n",
              "    .dataframe tbody tr th:only-of-type {\n",
              "        vertical-align: middle;\n",
              "    }\n",
              "\n",
              "    .dataframe tbody tr th {\n",
              "        vertical-align: top;\n",
              "    }\n",
              "\n",
              "    .dataframe thead th {\n",
              "        text-align: right;\n",
              "    }\n",
              "</style>\n",
              "<table border=\"1\" class=\"dataframe\">\n",
              "  <thead>\n",
              "    <tr style=\"text-align: right;\">\n",
              "      <th></th>\n",
              "      <th>user_id</th>\n",
              "    </tr>\n",
              "  </thead>\n",
              "  <tbody>\n",
              "    <tr>\n",
              "      <th>2</th>\n",
              "      <td>29</td>\n",
              "    </tr>\n",
              "    <tr>\n",
              "      <th>4</th>\n",
              "      <td>33</td>\n",
              "    </tr>\n",
              "    <tr>\n",
              "      <th>5</th>\n",
              "      <td>39</td>\n",
              "    </tr>\n",
              "    <tr>\n",
              "      <th>11</th>\n",
              "      <td>70</td>\n",
              "    </tr>\n",
              "    <tr>\n",
              "      <th>12</th>\n",
              "      <td>74</td>\n",
              "    </tr>\n",
              "  </tbody>\n",
              "</table>\n",
              "</div>\n",
              "      <button class=\"colab-df-convert\" onclick=\"convertToInteractive('df-171c2609-81d0-4deb-9c61-3774eb38598c')\"\n",
              "              title=\"Convert this dataframe to an interactive table.\"\n",
              "              style=\"display:none;\">\n",
              "        \n",
              "  <svg xmlns=\"http://www.w3.org/2000/svg\" height=\"24px\"viewBox=\"0 0 24 24\"\n",
              "       width=\"24px\">\n",
              "    <path d=\"M0 0h24v24H0V0z\" fill=\"none\"/>\n",
              "    <path d=\"M18.56 5.44l.94 2.06.94-2.06 2.06-.94-2.06-.94-.94-2.06-.94 2.06-2.06.94zm-11 1L8.5 8.5l.94-2.06 2.06-.94-2.06-.94L8.5 2.5l-.94 2.06-2.06.94zm10 10l.94 2.06.94-2.06 2.06-.94-2.06-.94-.94-2.06-.94 2.06-2.06.94z\"/><path d=\"M17.41 7.96l-1.37-1.37c-.4-.4-.92-.59-1.43-.59-.52 0-1.04.2-1.43.59L10.3 9.45l-7.72 7.72c-.78.78-.78 2.05 0 2.83L4 21.41c.39.39.9.59 1.41.59.51 0 1.02-.2 1.41-.59l7.78-7.78 2.81-2.81c.8-.78.8-2.07 0-2.86zM5.41 20L4 18.59l7.72-7.72 1.47 1.35L5.41 20z\"/>\n",
              "  </svg>\n",
              "      </button>\n",
              "      \n",
              "  <style>\n",
              "    .colab-df-container {\n",
              "      display:flex;\n",
              "      flex-wrap:wrap;\n",
              "      gap: 12px;\n",
              "    }\n",
              "\n",
              "    .colab-df-convert {\n",
              "      background-color: #E8F0FE;\n",
              "      border: none;\n",
              "      border-radius: 50%;\n",
              "      cursor: pointer;\n",
              "      display: none;\n",
              "      fill: #1967D2;\n",
              "      height: 32px;\n",
              "      padding: 0 0 0 0;\n",
              "      width: 32px;\n",
              "    }\n",
              "\n",
              "    .colab-df-convert:hover {\n",
              "      background-color: #E2EBFA;\n",
              "      box-shadow: 0px 1px 2px rgba(60, 64, 67, 0.3), 0px 1px 3px 1px rgba(60, 64, 67, 0.15);\n",
              "      fill: #174EA6;\n",
              "    }\n",
              "\n",
              "    [theme=dark] .colab-df-convert {\n",
              "      background-color: #3B4455;\n",
              "      fill: #D2E3FC;\n",
              "    }\n",
              "\n",
              "    [theme=dark] .colab-df-convert:hover {\n",
              "      background-color: #434B5C;\n",
              "      box-shadow: 0px 1px 3px 1px rgba(0, 0, 0, 0.15);\n",
              "      filter: drop-shadow(0px 1px 2px rgba(0, 0, 0, 0.3));\n",
              "      fill: #FFFFFF;\n",
              "    }\n",
              "  </style>\n",
              "\n",
              "      <script>\n",
              "        const buttonEl =\n",
              "          document.querySelector('#df-171c2609-81d0-4deb-9c61-3774eb38598c button.colab-df-convert');\n",
              "        buttonEl.style.display =\n",
              "          google.colab.kernel.accessAllowed ? 'block' : 'none';\n",
              "\n",
              "        async function convertToInteractive(key) {\n",
              "          const element = document.querySelector('#df-171c2609-81d0-4deb-9c61-3774eb38598c');\n",
              "          const dataTable =\n",
              "            await google.colab.kernel.invokeFunction('convertToInteractive',\n",
              "                                                     [key], {});\n",
              "          if (!dataTable) return;\n",
              "\n",
              "          const docLinkHtml = 'Like what you see? Visit the ' +\n",
              "            '<a target=\"_blank\" href=https://colab.research.google.com/notebooks/data_table.ipynb>data table notebook</a>'\n",
              "            + ' to learn more about interactive tables.';\n",
              "          element.innerHTML = '';\n",
              "          dataTable['output_type'] = 'display_data';\n",
              "          await google.colab.output.renderOutput(dataTable, element);\n",
              "          const docLink = document.createElement('div');\n",
              "          docLink.innerHTML = docLinkHtml;\n",
              "          element.appendChild(docLink);\n",
              "        }\n",
              "      </script>\n",
              "    </div>\n",
              "  </div>\n",
              "  "
            ]
          },
          "metadata": {},
          "execution_count": 73
        }
      ]
    },
    {
      "cell_type": "code",
      "source": [
        "model_obj = ImplicitALSWrapperModel(\n",
        "      model=AlternatingLeastSquares(\n",
        "        factors=128, \n",
        "        regularization=0.21,\n",
        "        random_state=SEED, \n",
        "      ),\n",
        "      fit_features_together=True,\n",
        "    )\n",
        "\n",
        "model_obj.fit(dataset)"
      ],
      "metadata": {
        "id": "xOudr2r3vM2L"
      },
      "execution_count": null,
      "outputs": []
    },
    {
      "cell_type": "code",
      "source": [
        "recos = model_obj.recommend(\n",
        "  users=warm['user_id'].values,\n",
        "  dataset=dataset,\n",
        "  k=K_RECOS,\n",
        "  filter_viewed=True,\n",
        ")\n",
        "recos.head()"
      ],
      "metadata": {
        "colab": {
          "base_uri": "https://localhost:8080/",
          "height": 206
        },
        "id": "14ZZtn_Vw6-P",
        "outputId": "e063ee35-36e4-44ce-b505-81fe2153b422"
      },
      "execution_count": null,
      "outputs": [
        {
          "output_type": "execute_result",
          "data": {
            "text/plain": [
              "   user_id  item_id     score  rank\n",
              "0        3    15297  1.279092     1\n",
              "1        3    13865  0.795849     2\n",
              "2        3     9996  0.308027     3\n",
              "3        3     8636  0.280311     4\n",
              "4        3     6809  0.265177     5"
            ],
            "text/html": [
              "\n",
              "  <div id=\"df-f9d75be7-b6c6-448f-a90c-c9b4a46510d8\">\n",
              "    <div class=\"colab-df-container\">\n",
              "      <div>\n",
              "<style scoped>\n",
              "    .dataframe tbody tr th:only-of-type {\n",
              "        vertical-align: middle;\n",
              "    }\n",
              "\n",
              "    .dataframe tbody tr th {\n",
              "        vertical-align: top;\n",
              "    }\n",
              "\n",
              "    .dataframe thead th {\n",
              "        text-align: right;\n",
              "    }\n",
              "</style>\n",
              "<table border=\"1\" class=\"dataframe\">\n",
              "  <thead>\n",
              "    <tr style=\"text-align: right;\">\n",
              "      <th></th>\n",
              "      <th>user_id</th>\n",
              "      <th>item_id</th>\n",
              "      <th>score</th>\n",
              "      <th>rank</th>\n",
              "    </tr>\n",
              "  </thead>\n",
              "  <tbody>\n",
              "    <tr>\n",
              "      <th>0</th>\n",
              "      <td>3</td>\n",
              "      <td>15297</td>\n",
              "      <td>1.279092</td>\n",
              "      <td>1</td>\n",
              "    </tr>\n",
              "    <tr>\n",
              "      <th>1</th>\n",
              "      <td>3</td>\n",
              "      <td>13865</td>\n",
              "      <td>0.795849</td>\n",
              "      <td>2</td>\n",
              "    </tr>\n",
              "    <tr>\n",
              "      <th>2</th>\n",
              "      <td>3</td>\n",
              "      <td>9996</td>\n",
              "      <td>0.308027</td>\n",
              "      <td>3</td>\n",
              "    </tr>\n",
              "    <tr>\n",
              "      <th>3</th>\n",
              "      <td>3</td>\n",
              "      <td>8636</td>\n",
              "      <td>0.280311</td>\n",
              "      <td>4</td>\n",
              "    </tr>\n",
              "    <tr>\n",
              "      <th>4</th>\n",
              "      <td>3</td>\n",
              "      <td>6809</td>\n",
              "      <td>0.265177</td>\n",
              "      <td>5</td>\n",
              "    </tr>\n",
              "  </tbody>\n",
              "</table>\n",
              "</div>\n",
              "      <button class=\"colab-df-convert\" onclick=\"convertToInteractive('df-f9d75be7-b6c6-448f-a90c-c9b4a46510d8')\"\n",
              "              title=\"Convert this dataframe to an interactive table.\"\n",
              "              style=\"display:none;\">\n",
              "        \n",
              "  <svg xmlns=\"http://www.w3.org/2000/svg\" height=\"24px\"viewBox=\"0 0 24 24\"\n",
              "       width=\"24px\">\n",
              "    <path d=\"M0 0h24v24H0V0z\" fill=\"none\"/>\n",
              "    <path d=\"M18.56 5.44l.94 2.06.94-2.06 2.06-.94-2.06-.94-.94-2.06-.94 2.06-2.06.94zm-11 1L8.5 8.5l.94-2.06 2.06-.94-2.06-.94L8.5 2.5l-.94 2.06-2.06.94zm10 10l.94 2.06.94-2.06 2.06-.94-2.06-.94-.94-2.06-.94 2.06-2.06.94z\"/><path d=\"M17.41 7.96l-1.37-1.37c-.4-.4-.92-.59-1.43-.59-.52 0-1.04.2-1.43.59L10.3 9.45l-7.72 7.72c-.78.78-.78 2.05 0 2.83L4 21.41c.39.39.9.59 1.41.59.51 0 1.02-.2 1.41-.59l7.78-7.78 2.81-2.81c.8-.78.8-2.07 0-2.86zM5.41 20L4 18.59l7.72-7.72 1.47 1.35L5.41 20z\"/>\n",
              "  </svg>\n",
              "      </button>\n",
              "      \n",
              "  <style>\n",
              "    .colab-df-container {\n",
              "      display:flex;\n",
              "      flex-wrap:wrap;\n",
              "      gap: 12px;\n",
              "    }\n",
              "\n",
              "    .colab-df-convert {\n",
              "      background-color: #E8F0FE;\n",
              "      border: none;\n",
              "      border-radius: 50%;\n",
              "      cursor: pointer;\n",
              "      display: none;\n",
              "      fill: #1967D2;\n",
              "      height: 32px;\n",
              "      padding: 0 0 0 0;\n",
              "      width: 32px;\n",
              "    }\n",
              "\n",
              "    .colab-df-convert:hover {\n",
              "      background-color: #E2EBFA;\n",
              "      box-shadow: 0px 1px 2px rgba(60, 64, 67, 0.3), 0px 1px 3px 1px rgba(60, 64, 67, 0.15);\n",
              "      fill: #174EA6;\n",
              "    }\n",
              "\n",
              "    [theme=dark] .colab-df-convert {\n",
              "      background-color: #3B4455;\n",
              "      fill: #D2E3FC;\n",
              "    }\n",
              "\n",
              "    [theme=dark] .colab-df-convert:hover {\n",
              "      background-color: #434B5C;\n",
              "      box-shadow: 0px 1px 3px 1px rgba(0, 0, 0, 0.15);\n",
              "      filter: drop-shadow(0px 1px 2px rgba(0, 0, 0, 0.3));\n",
              "      fill: #FFFFFF;\n",
              "    }\n",
              "  </style>\n",
              "\n",
              "      <script>\n",
              "        const buttonEl =\n",
              "          document.querySelector('#df-f9d75be7-b6c6-448f-a90c-c9b4a46510d8 button.colab-df-convert');\n",
              "        buttonEl.style.display =\n",
              "          google.colab.kernel.accessAllowed ? 'block' : 'none';\n",
              "\n",
              "        async function convertToInteractive(key) {\n",
              "          const element = document.querySelector('#df-f9d75be7-b6c6-448f-a90c-c9b4a46510d8');\n",
              "          const dataTable =\n",
              "            await google.colab.kernel.invokeFunction('convertToInteractive',\n",
              "                                                     [key], {});\n",
              "          if (!dataTable) return;\n",
              "\n",
              "          const docLinkHtml = 'Like what you see? Visit the ' +\n",
              "            '<a target=\"_blank\" href=https://colab.research.google.com/notebooks/data_table.ipynb>data table notebook</a>'\n",
              "            + ' to learn more about interactive tables.';\n",
              "          element.innerHTML = '';\n",
              "          dataTable['output_type'] = 'display_data';\n",
              "          await google.colab.output.renderOutput(dataTable, element);\n",
              "          const docLink = document.createElement('div');\n",
              "          docLink.innerHTML = docLinkHtml;\n",
              "          element.appendChild(docLink);\n",
              "        }\n",
              "      </script>\n",
              "    </div>\n",
              "  </div>\n",
              "  "
            ]
          },
          "metadata": {},
          "execution_count": 82
        }
      ]
    },
    {
      "cell_type": "code",
      "source": [
        "recos = recos.drop(['score', 'rank'], axis=1).groupby('user_id').agg({'item_id': list}).reset_index()\n",
        "recos.head()"
      ],
      "metadata": {
        "colab": {
          "base_uri": "https://localhost:8080/",
          "height": 206
        },
        "id": "jsOPReEkxyg5",
        "outputId": "02472cd0-969c-42eb-ddb8-44a9e63a31a3"
      },
      "execution_count": null,
      "outputs": [
        {
          "output_type": "execute_result",
          "data": {
            "text/plain": [
              "   user_id                                            item_id\n",
              "0        3  [15297, 13865, 9996, 8636, 6809, 4740, 4495, 7...\n",
              "1       11  [10440, 13865, 9728, 4151, 142, 3734, 2657, 99...\n",
              "2       30  [15297, 10440, 4151, 13865, 2657, 3734, 142, 9...\n",
              "3       46  [15297, 9728, 4151, 13865, 3734, 2657, 6809, 9...\n",
              "4       47  [9728, 10440, 15297, 4151, 3734, 8636, 11237, ..."
            ],
            "text/html": [
              "\n",
              "  <div id=\"df-2bdc482b-432b-4bd2-be7e-1de5db37ba36\">\n",
              "    <div class=\"colab-df-container\">\n",
              "      <div>\n",
              "<style scoped>\n",
              "    .dataframe tbody tr th:only-of-type {\n",
              "        vertical-align: middle;\n",
              "    }\n",
              "\n",
              "    .dataframe tbody tr th {\n",
              "        vertical-align: top;\n",
              "    }\n",
              "\n",
              "    .dataframe thead th {\n",
              "        text-align: right;\n",
              "    }\n",
              "</style>\n",
              "<table border=\"1\" class=\"dataframe\">\n",
              "  <thead>\n",
              "    <tr style=\"text-align: right;\">\n",
              "      <th></th>\n",
              "      <th>user_id</th>\n",
              "      <th>item_id</th>\n",
              "    </tr>\n",
              "  </thead>\n",
              "  <tbody>\n",
              "    <tr>\n",
              "      <th>0</th>\n",
              "      <td>3</td>\n",
              "      <td>[15297, 13865, 9996, 8636, 6809, 4740, 4495, 7...</td>\n",
              "    </tr>\n",
              "    <tr>\n",
              "      <th>1</th>\n",
              "      <td>11</td>\n",
              "      <td>[10440, 13865, 9728, 4151, 142, 3734, 2657, 99...</td>\n",
              "    </tr>\n",
              "    <tr>\n",
              "      <th>2</th>\n",
              "      <td>30</td>\n",
              "      <td>[15297, 10440, 4151, 13865, 2657, 3734, 142, 9...</td>\n",
              "    </tr>\n",
              "    <tr>\n",
              "      <th>3</th>\n",
              "      <td>46</td>\n",
              "      <td>[15297, 9728, 4151, 13865, 3734, 2657, 6809, 9...</td>\n",
              "    </tr>\n",
              "    <tr>\n",
              "      <th>4</th>\n",
              "      <td>47</td>\n",
              "      <td>[9728, 10440, 15297, 4151, 3734, 8636, 11237, ...</td>\n",
              "    </tr>\n",
              "  </tbody>\n",
              "</table>\n",
              "</div>\n",
              "      <button class=\"colab-df-convert\" onclick=\"convertToInteractive('df-2bdc482b-432b-4bd2-be7e-1de5db37ba36')\"\n",
              "              title=\"Convert this dataframe to an interactive table.\"\n",
              "              style=\"display:none;\">\n",
              "        \n",
              "  <svg xmlns=\"http://www.w3.org/2000/svg\" height=\"24px\"viewBox=\"0 0 24 24\"\n",
              "       width=\"24px\">\n",
              "    <path d=\"M0 0h24v24H0V0z\" fill=\"none\"/>\n",
              "    <path d=\"M18.56 5.44l.94 2.06.94-2.06 2.06-.94-2.06-.94-.94-2.06-.94 2.06-2.06.94zm-11 1L8.5 8.5l.94-2.06 2.06-.94-2.06-.94L8.5 2.5l-.94 2.06-2.06.94zm10 10l.94 2.06.94-2.06 2.06-.94-2.06-.94-.94-2.06-.94 2.06-2.06.94z\"/><path d=\"M17.41 7.96l-1.37-1.37c-.4-.4-.92-.59-1.43-.59-.52 0-1.04.2-1.43.59L10.3 9.45l-7.72 7.72c-.78.78-.78 2.05 0 2.83L4 21.41c.39.39.9.59 1.41.59.51 0 1.02-.2 1.41-.59l7.78-7.78 2.81-2.81c.8-.78.8-2.07 0-2.86zM5.41 20L4 18.59l7.72-7.72 1.47 1.35L5.41 20z\"/>\n",
              "  </svg>\n",
              "      </button>\n",
              "      \n",
              "  <style>\n",
              "    .colab-df-container {\n",
              "      display:flex;\n",
              "      flex-wrap:wrap;\n",
              "      gap: 12px;\n",
              "    }\n",
              "\n",
              "    .colab-df-convert {\n",
              "      background-color: #E8F0FE;\n",
              "      border: none;\n",
              "      border-radius: 50%;\n",
              "      cursor: pointer;\n",
              "      display: none;\n",
              "      fill: #1967D2;\n",
              "      height: 32px;\n",
              "      padding: 0 0 0 0;\n",
              "      width: 32px;\n",
              "    }\n",
              "\n",
              "    .colab-df-convert:hover {\n",
              "      background-color: #E2EBFA;\n",
              "      box-shadow: 0px 1px 2px rgba(60, 64, 67, 0.3), 0px 1px 3px 1px rgba(60, 64, 67, 0.15);\n",
              "      fill: #174EA6;\n",
              "    }\n",
              "\n",
              "    [theme=dark] .colab-df-convert {\n",
              "      background-color: #3B4455;\n",
              "      fill: #D2E3FC;\n",
              "    }\n",
              "\n",
              "    [theme=dark] .colab-df-convert:hover {\n",
              "      background-color: #434B5C;\n",
              "      box-shadow: 0px 1px 3px 1px rgba(0, 0, 0, 0.15);\n",
              "      filter: drop-shadow(0px 1px 2px rgba(0, 0, 0, 0.3));\n",
              "      fill: #FFFFFF;\n",
              "    }\n",
              "  </style>\n",
              "\n",
              "      <script>\n",
              "        const buttonEl =\n",
              "          document.querySelector('#df-2bdc482b-432b-4bd2-be7e-1de5db37ba36 button.colab-df-convert');\n",
              "        buttonEl.style.display =\n",
              "          google.colab.kernel.accessAllowed ? 'block' : 'none';\n",
              "\n",
              "        async function convertToInteractive(key) {\n",
              "          const element = document.querySelector('#df-2bdc482b-432b-4bd2-be7e-1de5db37ba36');\n",
              "          const dataTable =\n",
              "            await google.colab.kernel.invokeFunction('convertToInteractive',\n",
              "                                                     [key], {});\n",
              "          if (!dataTable) return;\n",
              "\n",
              "          const docLinkHtml = 'Like what you see? Visit the ' +\n",
              "            '<a target=\"_blank\" href=https://colab.research.google.com/notebooks/data_table.ipynb>data table notebook</a>'\n",
              "            + ' to learn more about interactive tables.';\n",
              "          element.innerHTML = '';\n",
              "          dataTable['output_type'] = 'display_data';\n",
              "          await google.colab.output.renderOutput(dataTable, element);\n",
              "          const docLink = document.createElement('div');\n",
              "          docLink.innerHTML = docLinkHtml;\n",
              "          element.appendChild(docLink);\n",
              "        }\n",
              "      </script>\n",
              "    </div>\n",
              "  </div>\n",
              "  "
            ]
          },
          "metadata": {},
          "execution_count": 83
        }
      ]
    },
    {
      "cell_type": "markdown",
      "source": [
        "Popular for cold users"
      ],
      "metadata": {
        "id": "shWg6ASEwu08"
      }
    },
    {
      "cell_type": "code",
      "source": [
        "cold_recs = [[9728, 10440, 15297, 13865, 14488, 12192, 12360, 341, 4151, 3734] for i in range(len(cold['user_id']))]\n",
        "cold_recs = pd.DataFrame(list(zip(cold['user_id'].values.tolist(), cold_recs)), columns=['user_id', 'item_id'])\n",
        "cold_recs.head()"
      ],
      "metadata": {
        "colab": {
          "base_uri": "https://localhost:8080/",
          "height": 206
        },
        "id": "COqZFDQUxTqj",
        "outputId": "dfcdb620-2608-47a9-8bf6-afe0977c600e"
      },
      "execution_count": null,
      "outputs": [
        {
          "output_type": "execute_result",
          "data": {
            "text/plain": [
              "   user_id                                            item_id\n",
              "0       29  [9728, 10440, 15297, 13865, 14488, 12192, 1236...\n",
              "1       33  [9728, 10440, 15297, 13865, 14488, 12192, 1236...\n",
              "2       39  [9728, 10440, 15297, 13865, 14488, 12192, 1236...\n",
              "3       70  [9728, 10440, 15297, 13865, 14488, 12192, 1236...\n",
              "4       74  [9728, 10440, 15297, 13865, 14488, 12192, 1236..."
            ],
            "text/html": [
              "\n",
              "  <div id=\"df-ebe023ee-880f-48dd-8c72-b19e4be08d3a\">\n",
              "    <div class=\"colab-df-container\">\n",
              "      <div>\n",
              "<style scoped>\n",
              "    .dataframe tbody tr th:only-of-type {\n",
              "        vertical-align: middle;\n",
              "    }\n",
              "\n",
              "    .dataframe tbody tr th {\n",
              "        vertical-align: top;\n",
              "    }\n",
              "\n",
              "    .dataframe thead th {\n",
              "        text-align: right;\n",
              "    }\n",
              "</style>\n",
              "<table border=\"1\" class=\"dataframe\">\n",
              "  <thead>\n",
              "    <tr style=\"text-align: right;\">\n",
              "      <th></th>\n",
              "      <th>user_id</th>\n",
              "      <th>item_id</th>\n",
              "    </tr>\n",
              "  </thead>\n",
              "  <tbody>\n",
              "    <tr>\n",
              "      <th>0</th>\n",
              "      <td>29</td>\n",
              "      <td>[9728, 10440, 15297, 13865, 14488, 12192, 1236...</td>\n",
              "    </tr>\n",
              "    <tr>\n",
              "      <th>1</th>\n",
              "      <td>33</td>\n",
              "      <td>[9728, 10440, 15297, 13865, 14488, 12192, 1236...</td>\n",
              "    </tr>\n",
              "    <tr>\n",
              "      <th>2</th>\n",
              "      <td>39</td>\n",
              "      <td>[9728, 10440, 15297, 13865, 14488, 12192, 1236...</td>\n",
              "    </tr>\n",
              "    <tr>\n",
              "      <th>3</th>\n",
              "      <td>70</td>\n",
              "      <td>[9728, 10440, 15297, 13865, 14488, 12192, 1236...</td>\n",
              "    </tr>\n",
              "    <tr>\n",
              "      <th>4</th>\n",
              "      <td>74</td>\n",
              "      <td>[9728, 10440, 15297, 13865, 14488, 12192, 1236...</td>\n",
              "    </tr>\n",
              "  </tbody>\n",
              "</table>\n",
              "</div>\n",
              "      <button class=\"colab-df-convert\" onclick=\"convertToInteractive('df-ebe023ee-880f-48dd-8c72-b19e4be08d3a')\"\n",
              "              title=\"Convert this dataframe to an interactive table.\"\n",
              "              style=\"display:none;\">\n",
              "        \n",
              "  <svg xmlns=\"http://www.w3.org/2000/svg\" height=\"24px\"viewBox=\"0 0 24 24\"\n",
              "       width=\"24px\">\n",
              "    <path d=\"M0 0h24v24H0V0z\" fill=\"none\"/>\n",
              "    <path d=\"M18.56 5.44l.94 2.06.94-2.06 2.06-.94-2.06-.94-.94-2.06-.94 2.06-2.06.94zm-11 1L8.5 8.5l.94-2.06 2.06-.94-2.06-.94L8.5 2.5l-.94 2.06-2.06.94zm10 10l.94 2.06.94-2.06 2.06-.94-2.06-.94-.94-2.06-.94 2.06-2.06.94z\"/><path d=\"M17.41 7.96l-1.37-1.37c-.4-.4-.92-.59-1.43-.59-.52 0-1.04.2-1.43.59L10.3 9.45l-7.72 7.72c-.78.78-.78 2.05 0 2.83L4 21.41c.39.39.9.59 1.41.59.51 0 1.02-.2 1.41-.59l7.78-7.78 2.81-2.81c.8-.78.8-2.07 0-2.86zM5.41 20L4 18.59l7.72-7.72 1.47 1.35L5.41 20z\"/>\n",
              "  </svg>\n",
              "      </button>\n",
              "      \n",
              "  <style>\n",
              "    .colab-df-container {\n",
              "      display:flex;\n",
              "      flex-wrap:wrap;\n",
              "      gap: 12px;\n",
              "    }\n",
              "\n",
              "    .colab-df-convert {\n",
              "      background-color: #E8F0FE;\n",
              "      border: none;\n",
              "      border-radius: 50%;\n",
              "      cursor: pointer;\n",
              "      display: none;\n",
              "      fill: #1967D2;\n",
              "      height: 32px;\n",
              "      padding: 0 0 0 0;\n",
              "      width: 32px;\n",
              "    }\n",
              "\n",
              "    .colab-df-convert:hover {\n",
              "      background-color: #E2EBFA;\n",
              "      box-shadow: 0px 1px 2px rgba(60, 64, 67, 0.3), 0px 1px 3px 1px rgba(60, 64, 67, 0.15);\n",
              "      fill: #174EA6;\n",
              "    }\n",
              "\n",
              "    [theme=dark] .colab-df-convert {\n",
              "      background-color: #3B4455;\n",
              "      fill: #D2E3FC;\n",
              "    }\n",
              "\n",
              "    [theme=dark] .colab-df-convert:hover {\n",
              "      background-color: #434B5C;\n",
              "      box-shadow: 0px 1px 3px 1px rgba(0, 0, 0, 0.15);\n",
              "      filter: drop-shadow(0px 1px 2px rgba(0, 0, 0, 0.3));\n",
              "      fill: #FFFFFF;\n",
              "    }\n",
              "  </style>\n",
              "\n",
              "      <script>\n",
              "        const buttonEl =\n",
              "          document.querySelector('#df-ebe023ee-880f-48dd-8c72-b19e4be08d3a button.colab-df-convert');\n",
              "        buttonEl.style.display =\n",
              "          google.colab.kernel.accessAllowed ? 'block' : 'none';\n",
              "\n",
              "        async function convertToInteractive(key) {\n",
              "          const element = document.querySelector('#df-ebe023ee-880f-48dd-8c72-b19e4be08d3a');\n",
              "          const dataTable =\n",
              "            await google.colab.kernel.invokeFunction('convertToInteractive',\n",
              "                                                     [key], {});\n",
              "          if (!dataTable) return;\n",
              "\n",
              "          const docLinkHtml = 'Like what you see? Visit the ' +\n",
              "            '<a target=\"_blank\" href=https://colab.research.google.com/notebooks/data_table.ipynb>data table notebook</a>'\n",
              "            + ' to learn more about interactive tables.';\n",
              "          element.innerHTML = '';\n",
              "          dataTable['output_type'] = 'display_data';\n",
              "          await google.colab.output.renderOutput(dataTable, element);\n",
              "          const docLink = document.createElement('div');\n",
              "          docLink.innerHTML = docLinkHtml;\n",
              "          element.appendChild(docLink);\n",
              "        }\n",
              "      </script>\n",
              "    </div>\n",
              "  </div>\n",
              "  "
            ]
          },
          "metadata": {},
          "execution_count": 88
        }
      ]
    },
    {
      "cell_type": "markdown",
      "source": [
        "Combine all"
      ],
      "metadata": {
        "id": "rwjH93Y9xGEt"
      }
    },
    {
      "cell_type": "code",
      "source": [
        "res = pd.concat((cold_recs, recos))\n",
        "assert res.shape[0] == submission.shape[0]"
      ],
      "metadata": {
        "id": "IjJzQRkvvHts"
      },
      "execution_count": null,
      "outputs": []
    },
    {
      "cell_type": "code",
      "source": [
        "res.to_csv('implicit_als.csv', index=False)"
      ],
      "metadata": {
        "id": "-U6NLZjZvHw_"
      },
      "execution_count": null,
      "outputs": []
    },
    {
      "cell_type": "markdown",
      "source": [
        "![image.png](data:image/png;base64,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)"
      ],
      "metadata": {
        "id": "AjrqhqJ2y46i"
      }
    },
    {
      "cell_type": "markdown",
      "source": [
        "### LightFM"
      ],
      "metadata": {
        "id": "tLIPLT-jMF94"
      }
    },
    {
      "cell_type": "code",
      "source": [
        "def objective_LightFMWrapperModel(trial):\n",
        "    n_factors = trial.suggest_int(\"n_factors\", low=32, high=128, step=32)\n",
        "    loss = trial.suggest_categorical(\"loss\", choices=['logistic', 'bpr', 'warp'])\n",
        "    lr = trial.suggest_float(\"lr\", low=0.05, high=0.25, step=0.05)\n",
        "    item_alpha = trial.suggest_float(\"item_alpha\", low=0.0, high=0.1, step=0.05)\n",
        "    user_alpha = trial.suggest_float(\"item_alpha\", low=0.0, high=0.1, step=0.05)\n",
        "\n",
        "    model_obj = LightFMWrapperModel(\n",
        "      model=LightFM(\n",
        "        no_components=n_factors, \n",
        "        loss=loss, \n",
        "        random_state=SEED,\n",
        "        learning_rate=lr,\n",
        "        user_alpha=user_alpha,\n",
        "        item_alpha=item_alpha,\n",
        "      ),\n",
        "      epochs=2,\n",
        "      num_threads=1,\n",
        "    )\n",
        "\n",
        "    model_obj.fit(dataset)\n",
        "    recos = model_obj.recommend(\n",
        "      users=TEST_USERS,\n",
        "      dataset=dataset,\n",
        "      k=K_RECOS,\n",
        "      filter_viewed=True,\n",
        "    )\n",
        "    metric_values = calc_metrics(metrics, recos, test, train)\n",
        "\n",
        "    return metric_values['map@10'], metric_values['recall@10']"
      ],
      "metadata": {
        "id": "3RNxxuJhMcsA"
      },
      "execution_count": null,
      "outputs": []
    },
    {
      "cell_type": "code",
      "source": [
        "def save_best_trial_model(trial):\n",
        "    # Use same code objective to reproduce the best model\n",
        "    n_factors = trial.suggest_int(\"n_factors\", low=32, high=128, step=32)\n",
        "    loss = trial.suggest_categorical(\"loss\", choices=['logistic', 'bpr', 'warp'])\n",
        "    lr = trial.suggest_float(\"lr\", low=0.05, high=0.25, step=0.05)\n",
        "    item_alpha = trial.suggest_float(\"item_alpha\", low=0.0, high=0.1, step=0.05)\n",
        "    user_alpha = trial.suggest_float(\"item_alpha\", low=0.0, high=0.1, step=0.05)\n",
        "\n",
        "    model_obj = LightFMWrapperModel(\n",
        "      model=LightFM(\n",
        "        no_components=n_factors, \n",
        "        loss=loss, \n",
        "        random_state=SEED,\n",
        "        learning_rate=lr,\n",
        "        user_alpha=user_alpha,\n",
        "        item_alpha=item_alpha,\n",
        "      ),\n",
        "      epochs=3,\n",
        "      num_threads=1,\n",
        "    )\n",
        "\n",
        "    model_obj.fit(dataset)\n",
        "\n",
        "    with open('lightfm.dill', 'wb') as f:\n",
        "      dill.dump(model_obj.model, f)"
      ],
      "metadata": {
        "id": "HCTkxdEISofK"
      },
      "execution_count": null,
      "outputs": []
    },
    {
      "cell_type": "code",
      "source": [
        "%%time\n",
        "\n",
        "study = optuna.create_study(directions=[\"maximize\", \"maximize\"])\n",
        "study.optimize(objective_LightFMWrapperModel, n_trials=10)"
      ],
      "metadata": {
        "colab": {
          "base_uri": "https://localhost:8080/"
        },
        "id": "GJvzBqyQMFo8",
        "outputId": "72a60e98-5ff5-4a39-ab94-c42893588d7a"
      },
      "execution_count": null,
      "outputs": [
        {
          "output_type": "stream",
          "name": "stderr",
          "text": [
            "\u001b[32m[I 2022-12-03 14:43:08,017]\u001b[0m A new study created in memory with name: no-name-4eb36191-5d9f-4148-b135-67ae31d616a6\u001b[0m\n",
            "\u001b[32m[I 2022-12-03 14:45:55,842]\u001b[0m Trial 0 finished with values: [0.08192788774082765, 0.17559389481428675] and parameters: {'n_factors': 32, 'loss': 'warp', 'lr': 0.05, 'item_alpha': 0.1}. \u001b[0m\n",
            "\u001b[32m[I 2022-12-03 14:48:32,030]\u001b[0m Trial 1 finished with values: [0.057390103587612436, 0.11485589995710924] and parameters: {'n_factors': 32, 'loss': 'warp', 'lr': 0.1, 'item_alpha': 0.1}. \u001b[0m\n",
            "\u001b[32m[I 2022-12-03 14:52:50,587]\u001b[0m Trial 2 finished with values: [0.0003676267437634818, 0.001102979447741638] and parameters: {'n_factors': 64, 'loss': 'logistic', 'lr': 0.1, 'item_alpha': 0.1}. \u001b[0m\n",
            "\u001b[32m[I 2022-12-03 14:55:01,055]\u001b[0m Trial 3 finished with values: [0.00040315926647058837, 0.0009623803721536533] and parameters: {'n_factors': 32, 'loss': 'logistic', 'lr': 0.15000000000000002, 'item_alpha': 0.0}. \u001b[0m\n",
            "\u001b[32m[I 2022-12-03 15:03:52,871]\u001b[0m Trial 4 finished with values: [0.08042141895515426, 0.17016015189823552] and parameters: {'n_factors': 96, 'loss': 'warp', 'lr': 0.05, 'item_alpha': 0.05}. \u001b[0m\n",
            "\u001b[32m[I 2022-12-03 15:06:31,658]\u001b[0m Trial 5 finished with values: [5.20793964151443e-06, 2.6913513583665174e-05] and parameters: {'n_factors': 32, 'loss': 'bpr', 'lr': 0.2, 'item_alpha': 0.05}. \u001b[0m\n",
            "\u001b[32m[I 2022-12-03 15:13:06,489]\u001b[0m Trial 6 finished with values: [0.08190305592360815, 0.17229569285982343] and parameters: {'n_factors': 96, 'loss': 'warp', 'lr': 0.1, 'item_alpha': 0.05}. \u001b[0m\n",
            "\u001b[32m[I 2022-12-03 15:19:35,203]\u001b[0m Trial 7 finished with values: [0.047610449155128166, 0.1203126192098809] and parameters: {'n_factors': 128, 'loss': 'warp', 'lr': 0.2, 'item_alpha': 0.05}. \u001b[0m\n",
            "\u001b[32m[I 2022-12-03 15:22:34,097]\u001b[0m Trial 8 finished with values: [0.00018569182594063027, 0.001319369616845277] and parameters: {'n_factors': 32, 'loss': 'bpr', 'lr': 0.2, 'item_alpha': 0.1}. \u001b[0m\n",
            "\u001b[32m[I 2022-12-03 15:28:50,568]\u001b[0m Trial 9 finished with values: [0.07748736050194321, 0.15297079848386755] and parameters: {'n_factors': 128, 'loss': 'warp', 'lr': 0.25, 'item_alpha': 0.05}. \u001b[0m\n"
          ]
        },
        {
          "output_type": "stream",
          "name": "stdout",
          "text": [
            "CPU times: user 52min 21s, sys: 8min 45s, total: 1h 1min 6s\n",
            "Wall time: 45min 42s\n"
          ]
        }
      ]
    },
    {
      "cell_type": "code",
      "source": [
        "print_study_info(study)"
      ],
      "metadata": {
        "id": "LwCdJeEGc2Zg",
        "colab": {
          "base_uri": "https://localhost:8080/"
        },
        "outputId": "bce41e24-2fc9-4447-cb60-1b7d26f02f04"
      },
      "execution_count": null,
      "outputs": [
        {
          "output_type": "stream",
          "name": "stdout",
          "text": [
            "Number of finished trials:  10\n",
            "Best trial:\n",
            "  Params: \n",
            "    n_factors: 32\n",
            "    loss: warp\n",
            "    lr: 0.05\n",
            "    item_alpha: 0.1\n"
          ]
        }
      ]
    },
    {
      "cell_type": "code",
      "source": [
        "study.best_trials"
      ],
      "metadata": {
        "colab": {
          "base_uri": "https://localhost:8080/"
        },
        "id": "A66aKydjZy54",
        "outputId": "bb926d1c-8625-4542-b570-5510da8335a8"
      },
      "execution_count": null,
      "outputs": [
        {
          "output_type": "execute_result",
          "data": {
            "text/plain": [
              "[FrozenTrial(number=0, values=[0.08192788774082765, 0.17559389481428675], datetime_start=datetime.datetime(2022, 12, 3, 14, 43, 8, 20019), datetime_complete=datetime.datetime(2022, 12, 3, 14, 45, 55, 842660), params={'n_factors': 32, 'loss': 'warp', 'lr': 0.05, 'item_alpha': 0.1}, distributions={'n_factors': IntDistribution(high=128, log=False, low=32, step=32), 'loss': CategoricalDistribution(choices=('logistic', 'bpr', 'warp')), 'lr': FloatDistribution(high=0.25, log=False, low=0.05, step=0.05), 'item_alpha': FloatDistribution(high=0.1, log=False, low=0.0, step=0.05)}, user_attrs={}, system_attrs={'nsga2:generation': 0}, intermediate_values={}, trial_id=0, state=TrialState.COMPLETE, value=None)]"
            ]
          },
          "metadata": {},
          "execution_count": 63
        }
      ]
    },
    {
      "cell_type": "code",
      "source": [
        "save_best_trial_model(study.best_trials[0])"
      ],
      "metadata": {
        "id": "0YlR9xWZZzLK"
      },
      "execution_count": null,
      "outputs": []
    },
    {
      "cell_type": "code",
      "source": [
        "with open('lightfm.dill', 'rb') as f:\n",
        "    assert type(dill.load(f)) == LightFM"
      ],
      "metadata": {
        "id": "S-FCmkivaJrY"
      },
      "execution_count": null,
      "outputs": []
    },
    {
      "cell_type": "markdown",
      "source": [
        "#### Fit best model & submit"
      ],
      "metadata": {
        "id": "LHr4_6bSy_bi"
      }
    },
    {
      "cell_type": "code",
      "source": [
        "recs = pd.DataFrame({'user_id': submission['user_id'].unique()})\n",
        "cold = recs[~recs['user_id'].isin(dataset.user_id_map.external_ids)]\n",
        "warm = recs[recs['user_id'].isin(dataset.user_id_map.external_ids)]\n",
        "cold.head()"
      ],
      "metadata": {
        "colab": {
          "base_uri": "https://localhost:8080/",
          "height": 206
        },
        "id": "4b9BZFfzy_G1",
        "outputId": "5b0255e2-248f-4b08-ce25-cb3ee4ac4398"
      },
      "execution_count": null,
      "outputs": [
        {
          "output_type": "execute_result",
          "data": {
            "text/plain": [
              "    user_id\n",
              "2        29\n",
              "4        33\n",
              "5        39\n",
              "11       70\n",
              "12       74"
            ],
            "text/html": [
              "\n",
              "  <div id=\"df-179257f8-02a9-4b1e-a6a9-c80c2b03cb4a\">\n",
              "    <div class=\"colab-df-container\">\n",
              "      <div>\n",
              "<style scoped>\n",
              "    .dataframe tbody tr th:only-of-type {\n",
              "        vertical-align: middle;\n",
              "    }\n",
              "\n",
              "    .dataframe tbody tr th {\n",
              "        vertical-align: top;\n",
              "    }\n",
              "\n",
              "    .dataframe thead th {\n",
              "        text-align: right;\n",
              "    }\n",
              "</style>\n",
              "<table border=\"1\" class=\"dataframe\">\n",
              "  <thead>\n",
              "    <tr style=\"text-align: right;\">\n",
              "      <th></th>\n",
              "      <th>user_id</th>\n",
              "    </tr>\n",
              "  </thead>\n",
              "  <tbody>\n",
              "    <tr>\n",
              "      <th>2</th>\n",
              "      <td>29</td>\n",
              "    </tr>\n",
              "    <tr>\n",
              "      <th>4</th>\n",
              "      <td>33</td>\n",
              "    </tr>\n",
              "    <tr>\n",
              "      <th>5</th>\n",
              "      <td>39</td>\n",
              "    </tr>\n",
              "    <tr>\n",
              "      <th>11</th>\n",
              "      <td>70</td>\n",
              "    </tr>\n",
              "    <tr>\n",
              "      <th>12</th>\n",
              "      <td>74</td>\n",
              "    </tr>\n",
              "  </tbody>\n",
              "</table>\n",
              "</div>\n",
              "      <button class=\"colab-df-convert\" onclick=\"convertToInteractive('df-179257f8-02a9-4b1e-a6a9-c80c2b03cb4a')\"\n",
              "              title=\"Convert this dataframe to an interactive table.\"\n",
              "              style=\"display:none;\">\n",
              "        \n",
              "  <svg xmlns=\"http://www.w3.org/2000/svg\" height=\"24px\"viewBox=\"0 0 24 24\"\n",
              "       width=\"24px\">\n",
              "    <path d=\"M0 0h24v24H0V0z\" fill=\"none\"/>\n",
              "    <path d=\"M18.56 5.44l.94 2.06.94-2.06 2.06-.94-2.06-.94-.94-2.06-.94 2.06-2.06.94zm-11 1L8.5 8.5l.94-2.06 2.06-.94-2.06-.94L8.5 2.5l-.94 2.06-2.06.94zm10 10l.94 2.06.94-2.06 2.06-.94-2.06-.94-.94-2.06-.94 2.06-2.06.94z\"/><path d=\"M17.41 7.96l-1.37-1.37c-.4-.4-.92-.59-1.43-.59-.52 0-1.04.2-1.43.59L10.3 9.45l-7.72 7.72c-.78.78-.78 2.05 0 2.83L4 21.41c.39.39.9.59 1.41.59.51 0 1.02-.2 1.41-.59l7.78-7.78 2.81-2.81c.8-.78.8-2.07 0-2.86zM5.41 20L4 18.59l7.72-7.72 1.47 1.35L5.41 20z\"/>\n",
              "  </svg>\n",
              "      </button>\n",
              "      \n",
              "  <style>\n",
              "    .colab-df-container {\n",
              "      display:flex;\n",
              "      flex-wrap:wrap;\n",
              "      gap: 12px;\n",
              "    }\n",
              "\n",
              "    .colab-df-convert {\n",
              "      background-color: #E8F0FE;\n",
              "      border: none;\n",
              "      border-radius: 50%;\n",
              "      cursor: pointer;\n",
              "      display: none;\n",
              "      fill: #1967D2;\n",
              "      height: 32px;\n",
              "      padding: 0 0 0 0;\n",
              "      width: 32px;\n",
              "    }\n",
              "\n",
              "    .colab-df-convert:hover {\n",
              "      background-color: #E2EBFA;\n",
              "      box-shadow: 0px 1px 2px rgba(60, 64, 67, 0.3), 0px 1px 3px 1px rgba(60, 64, 67, 0.15);\n",
              "      fill: #174EA6;\n",
              "    }\n",
              "\n",
              "    [theme=dark] .colab-df-convert {\n",
              "      background-color: #3B4455;\n",
              "      fill: #D2E3FC;\n",
              "    }\n",
              "\n",
              "    [theme=dark] .colab-df-convert:hover {\n",
              "      background-color: #434B5C;\n",
              "      box-shadow: 0px 1px 3px 1px rgba(0, 0, 0, 0.15);\n",
              "      filter: drop-shadow(0px 1px 2px rgba(0, 0, 0, 0.3));\n",
              "      fill: #FFFFFF;\n",
              "    }\n",
              "  </style>\n",
              "\n",
              "      <script>\n",
              "        const buttonEl =\n",
              "          document.querySelector('#df-179257f8-02a9-4b1e-a6a9-c80c2b03cb4a button.colab-df-convert');\n",
              "        buttonEl.style.display =\n",
              "          google.colab.kernel.accessAllowed ? 'block' : 'none';\n",
              "\n",
              "        async function convertToInteractive(key) {\n",
              "          const element = document.querySelector('#df-179257f8-02a9-4b1e-a6a9-c80c2b03cb4a');\n",
              "          const dataTable =\n",
              "            await google.colab.kernel.invokeFunction('convertToInteractive',\n",
              "                                                     [key], {});\n",
              "          if (!dataTable) return;\n",
              "\n",
              "          const docLinkHtml = 'Like what you see? Visit the ' +\n",
              "            '<a target=\"_blank\" href=https://colab.research.google.com/notebooks/data_table.ipynb>data table notebook</a>'\n",
              "            + ' to learn more about interactive tables.';\n",
              "          element.innerHTML = '';\n",
              "          dataTable['output_type'] = 'display_data';\n",
              "          await google.colab.output.renderOutput(dataTable, element);\n",
              "          const docLink = document.createElement('div');\n",
              "          docLink.innerHTML = docLinkHtml;\n",
              "          element.appendChild(docLink);\n",
              "        }\n",
              "      </script>\n",
              "    </div>\n",
              "  </div>\n",
              "  "
            ]
          },
          "metadata": {},
          "execution_count": 92
        }
      ]
    },
    {
      "cell_type": "code",
      "source": [
        "model_obj = LightFMWrapperModel(\n",
        "  model=LightFM(\n",
        "    no_components=32, \n",
        "    loss='warp', \n",
        "    random_state=SEED,\n",
        "    learning_rate=0.05,\n",
        "    user_alpha=0.1,\n",
        "    item_alpha=0.1,\n",
        "  ),\n",
        "  epochs=2,\n",
        "  num_threads=1,\n",
        ")\n",
        "\n",
        "model_obj.fit(dataset)"
      ],
      "metadata": {
        "colab": {
          "base_uri": "https://localhost:8080/"
        },
        "id": "euM4w7-My_Kh",
        "outputId": "19112595-57e9-48d1-ca90-3e50dc7c5042"
      },
      "execution_count": null,
      "outputs": [
        {
          "output_type": "execute_result",
          "data": {
            "text/plain": [
              "<rectools.models.lightfm.LightFMWrapperModel at 0x7fc40419da00>"
            ]
          },
          "metadata": {},
          "execution_count": 91
        }
      ]
    },
    {
      "cell_type": "code",
      "source": [
        "recos = model_obj.recommend(\n",
        "  users=warm['user_id'].values,\n",
        "  dataset=dataset,\n",
        "  k=K_RECOS,\n",
        "  filter_viewed=True,\n",
        ").drop(['score', 'rank'], axis=1).groupby('user_id').agg({'item_id': list}).reset_index()\n",
        "recos.head()"
      ],
      "metadata": {
        "colab": {
          "base_uri": "https://localhost:8080/",
          "height": 206
        },
        "id": "ZuoC9tRay_Oo",
        "outputId": "189b6aa6-938f-4852-e82f-4b36a458095d"
      },
      "execution_count": null,
      "outputs": [
        {
          "output_type": "execute_result",
          "data": {
            "text/plain": [
              "   user_id                                            item_id\n",
              "0        3  [15297, 13865, 6809, 4740, 7102, 9996, 1844, 1...\n",
              "1       11  [10440, 9728, 13865, 4151, 142, 3734, 2657, 48...\n",
              "2       30  [15297, 10440, 13865, 4151, 6809, 142, 3734, 2...\n",
              "3       46  [15297, 9728, 13865, 4151, 6809, 3734, 2657, 1...\n",
              "4       47  [15297, 10440, 9728, 4151, 6809, 142, 3734, 26..."
            ],
            "text/html": [
              "\n",
              "  <div id=\"df-2b2b5c39-f3da-4da2-b0ea-a377260bb8ec\">\n",
              "    <div class=\"colab-df-container\">\n",
              "      <div>\n",
              "<style scoped>\n",
              "    .dataframe tbody tr th:only-of-type {\n",
              "        vertical-align: middle;\n",
              "    }\n",
              "\n",
              "    .dataframe tbody tr th {\n",
              "        vertical-align: top;\n",
              "    }\n",
              "\n",
              "    .dataframe thead th {\n",
              "        text-align: right;\n",
              "    }\n",
              "</style>\n",
              "<table border=\"1\" class=\"dataframe\">\n",
              "  <thead>\n",
              "    <tr style=\"text-align: right;\">\n",
              "      <th></th>\n",
              "      <th>user_id</th>\n",
              "      <th>item_id</th>\n",
              "    </tr>\n",
              "  </thead>\n",
              "  <tbody>\n",
              "    <tr>\n",
              "      <th>0</th>\n",
              "      <td>3</td>\n",
              "      <td>[15297, 13865, 6809, 4740, 7102, 9996, 1844, 1...</td>\n",
              "    </tr>\n",
              "    <tr>\n",
              "      <th>1</th>\n",
              "      <td>11</td>\n",
              "      <td>[10440, 9728, 13865, 4151, 142, 3734, 2657, 48...</td>\n",
              "    </tr>\n",
              "    <tr>\n",
              "      <th>2</th>\n",
              "      <td>30</td>\n",
              "      <td>[15297, 10440, 13865, 4151, 6809, 142, 3734, 2...</td>\n",
              "    </tr>\n",
              "    <tr>\n",
              "      <th>3</th>\n",
              "      <td>46</td>\n",
              "      <td>[15297, 9728, 13865, 4151, 6809, 3734, 2657, 1...</td>\n",
              "    </tr>\n",
              "    <tr>\n",
              "      <th>4</th>\n",
              "      <td>47</td>\n",
              "      <td>[15297, 10440, 9728, 4151, 6809, 142, 3734, 26...</td>\n",
              "    </tr>\n",
              "  </tbody>\n",
              "</table>\n",
              "</div>\n",
              "      <button class=\"colab-df-convert\" onclick=\"convertToInteractive('df-2b2b5c39-f3da-4da2-b0ea-a377260bb8ec')\"\n",
              "              title=\"Convert this dataframe to an interactive table.\"\n",
              "              style=\"display:none;\">\n",
              "        \n",
              "  <svg xmlns=\"http://www.w3.org/2000/svg\" height=\"24px\"viewBox=\"0 0 24 24\"\n",
              "       width=\"24px\">\n",
              "    <path d=\"M0 0h24v24H0V0z\" fill=\"none\"/>\n",
              "    <path d=\"M18.56 5.44l.94 2.06.94-2.06 2.06-.94-2.06-.94-.94-2.06-.94 2.06-2.06.94zm-11 1L8.5 8.5l.94-2.06 2.06-.94-2.06-.94L8.5 2.5l-.94 2.06-2.06.94zm10 10l.94 2.06.94-2.06 2.06-.94-2.06-.94-.94-2.06-.94 2.06-2.06.94z\"/><path d=\"M17.41 7.96l-1.37-1.37c-.4-.4-.92-.59-1.43-.59-.52 0-1.04.2-1.43.59L10.3 9.45l-7.72 7.72c-.78.78-.78 2.05 0 2.83L4 21.41c.39.39.9.59 1.41.59.51 0 1.02-.2 1.41-.59l7.78-7.78 2.81-2.81c.8-.78.8-2.07 0-2.86zM5.41 20L4 18.59l7.72-7.72 1.47 1.35L5.41 20z\"/>\n",
              "  </svg>\n",
              "      </button>\n",
              "      \n",
              "  <style>\n",
              "    .colab-df-container {\n",
              "      display:flex;\n",
              "      flex-wrap:wrap;\n",
              "      gap: 12px;\n",
              "    }\n",
              "\n",
              "    .colab-df-convert {\n",
              "      background-color: #E8F0FE;\n",
              "      border: none;\n",
              "      border-radius: 50%;\n",
              "      cursor: pointer;\n",
              "      display: none;\n",
              "      fill: #1967D2;\n",
              "      height: 32px;\n",
              "      padding: 0 0 0 0;\n",
              "      width: 32px;\n",
              "    }\n",
              "\n",
              "    .colab-df-convert:hover {\n",
              "      background-color: #E2EBFA;\n",
              "      box-shadow: 0px 1px 2px rgba(60, 64, 67, 0.3), 0px 1px 3px 1px rgba(60, 64, 67, 0.15);\n",
              "      fill: #174EA6;\n",
              "    }\n",
              "\n",
              "    [theme=dark] .colab-df-convert {\n",
              "      background-color: #3B4455;\n",
              "      fill: #D2E3FC;\n",
              "    }\n",
              "\n",
              "    [theme=dark] .colab-df-convert:hover {\n",
              "      background-color: #434B5C;\n",
              "      box-shadow: 0px 1px 3px 1px rgba(0, 0, 0, 0.15);\n",
              "      filter: drop-shadow(0px 1px 2px rgba(0, 0, 0, 0.3));\n",
              "      fill: #FFFFFF;\n",
              "    }\n",
              "  </style>\n",
              "\n",
              "      <script>\n",
              "        const buttonEl =\n",
              "          document.querySelector('#df-2b2b5c39-f3da-4da2-b0ea-a377260bb8ec button.colab-df-convert');\n",
              "        buttonEl.style.display =\n",
              "          google.colab.kernel.accessAllowed ? 'block' : 'none';\n",
              "\n",
              "        async function convertToInteractive(key) {\n",
              "          const element = document.querySelector('#df-2b2b5c39-f3da-4da2-b0ea-a377260bb8ec');\n",
              "          const dataTable =\n",
              "            await google.colab.kernel.invokeFunction('convertToInteractive',\n",
              "                                                     [key], {});\n",
              "          if (!dataTable) return;\n",
              "\n",
              "          const docLinkHtml = 'Like what you see? Visit the ' +\n",
              "            '<a target=\"_blank\" href=https://colab.research.google.com/notebooks/data_table.ipynb>data table notebook</a>'\n",
              "            + ' to learn more about interactive tables.';\n",
              "          element.innerHTML = '';\n",
              "          dataTable['output_type'] = 'display_data';\n",
              "          await google.colab.output.renderOutput(dataTable, element);\n",
              "          const docLink = document.createElement('div');\n",
              "          docLink.innerHTML = docLinkHtml;\n",
              "          element.appendChild(docLink);\n",
              "        }\n",
              "      </script>\n",
              "    </div>\n",
              "  </div>\n",
              "  "
            ]
          },
          "metadata": {},
          "execution_count": 94
        }
      ]
    },
    {
      "cell_type": "code",
      "source": [
        "cold_recs = [[9728, 10440, 15297, 13865, 14488, 12192, 12360, 341, 4151, 3734] for i in range(len(cold['user_id']))]\n",
        "cold_recs = pd.DataFrame(list(zip(cold['user_id'].values.tolist(), cold_recs)), columns=['user_id', 'item_id'])\n",
        "cold_recs.head()"
      ],
      "metadata": {
        "colab": {
          "base_uri": "https://localhost:8080/",
          "height": 206
        },
        "id": "sCpT_4isy_Rz",
        "outputId": "8640c32c-0d64-4c14-be34-692909944e14"
      },
      "execution_count": null,
      "outputs": [
        {
          "output_type": "execute_result",
          "data": {
            "text/plain": [
              "   user_id                                            item_id\n",
              "0       29  [9728, 10440, 15297, 13865, 14488, 12192, 1236...\n",
              "1       33  [9728, 10440, 15297, 13865, 14488, 12192, 1236...\n",
              "2       39  [9728, 10440, 15297, 13865, 14488, 12192, 1236...\n",
              "3       70  [9728, 10440, 15297, 13865, 14488, 12192, 1236...\n",
              "4       74  [9728, 10440, 15297, 13865, 14488, 12192, 1236..."
            ],
            "text/html": [
              "\n",
              "  <div id=\"df-91bbd6df-2b34-4246-bfad-9e1557e11bdb\">\n",
              "    <div class=\"colab-df-container\">\n",
              "      <div>\n",
              "<style scoped>\n",
              "    .dataframe tbody tr th:only-of-type {\n",
              "        vertical-align: middle;\n",
              "    }\n",
              "\n",
              "    .dataframe tbody tr th {\n",
              "        vertical-align: top;\n",
              "    }\n",
              "\n",
              "    .dataframe thead th {\n",
              "        text-align: right;\n",
              "    }\n",
              "</style>\n",
              "<table border=\"1\" class=\"dataframe\">\n",
              "  <thead>\n",
              "    <tr style=\"text-align: right;\">\n",
              "      <th></th>\n",
              "      <th>user_id</th>\n",
              "      <th>item_id</th>\n",
              "    </tr>\n",
              "  </thead>\n",
              "  <tbody>\n",
              "    <tr>\n",
              "      <th>0</th>\n",
              "      <td>29</td>\n",
              "      <td>[9728, 10440, 15297, 13865, 14488, 12192, 1236...</td>\n",
              "    </tr>\n",
              "    <tr>\n",
              "      <th>1</th>\n",
              "      <td>33</td>\n",
              "      <td>[9728, 10440, 15297, 13865, 14488, 12192, 1236...</td>\n",
              "    </tr>\n",
              "    <tr>\n",
              "      <th>2</th>\n",
              "      <td>39</td>\n",
              "      <td>[9728, 10440, 15297, 13865, 14488, 12192, 1236...</td>\n",
              "    </tr>\n",
              "    <tr>\n",
              "      <th>3</th>\n",
              "      <td>70</td>\n",
              "      <td>[9728, 10440, 15297, 13865, 14488, 12192, 1236...</td>\n",
              "    </tr>\n",
              "    <tr>\n",
              "      <th>4</th>\n",
              "      <td>74</td>\n",
              "      <td>[9728, 10440, 15297, 13865, 14488, 12192, 1236...</td>\n",
              "    </tr>\n",
              "  </tbody>\n",
              "</table>\n",
              "</div>\n",
              "      <button class=\"colab-df-convert\" onclick=\"convertToInteractive('df-91bbd6df-2b34-4246-bfad-9e1557e11bdb')\"\n",
              "              title=\"Convert this dataframe to an interactive table.\"\n",
              "              style=\"display:none;\">\n",
              "        \n",
              "  <svg xmlns=\"http://www.w3.org/2000/svg\" height=\"24px\"viewBox=\"0 0 24 24\"\n",
              "       width=\"24px\">\n",
              "    <path d=\"M0 0h24v24H0V0z\" fill=\"none\"/>\n",
              "    <path d=\"M18.56 5.44l.94 2.06.94-2.06 2.06-.94-2.06-.94-.94-2.06-.94 2.06-2.06.94zm-11 1L8.5 8.5l.94-2.06 2.06-.94-2.06-.94L8.5 2.5l-.94 2.06-2.06.94zm10 10l.94 2.06.94-2.06 2.06-.94-2.06-.94-.94-2.06-.94 2.06-2.06.94z\"/><path d=\"M17.41 7.96l-1.37-1.37c-.4-.4-.92-.59-1.43-.59-.52 0-1.04.2-1.43.59L10.3 9.45l-7.72 7.72c-.78.78-.78 2.05 0 2.83L4 21.41c.39.39.9.59 1.41.59.51 0 1.02-.2 1.41-.59l7.78-7.78 2.81-2.81c.8-.78.8-2.07 0-2.86zM5.41 20L4 18.59l7.72-7.72 1.47 1.35L5.41 20z\"/>\n",
              "  </svg>\n",
              "      </button>\n",
              "      \n",
              "  <style>\n",
              "    .colab-df-container {\n",
              "      display:flex;\n",
              "      flex-wrap:wrap;\n",
              "      gap: 12px;\n",
              "    }\n",
              "\n",
              "    .colab-df-convert {\n",
              "      background-color: #E8F0FE;\n",
              "      border: none;\n",
              "      border-radius: 50%;\n",
              "      cursor: pointer;\n",
              "      display: none;\n",
              "      fill: #1967D2;\n",
              "      height: 32px;\n",
              "      padding: 0 0 0 0;\n",
              "      width: 32px;\n",
              "    }\n",
              "\n",
              "    .colab-df-convert:hover {\n",
              "      background-color: #E2EBFA;\n",
              "      box-shadow: 0px 1px 2px rgba(60, 64, 67, 0.3), 0px 1px 3px 1px rgba(60, 64, 67, 0.15);\n",
              "      fill: #174EA6;\n",
              "    }\n",
              "\n",
              "    [theme=dark] .colab-df-convert {\n",
              "      background-color: #3B4455;\n",
              "      fill: #D2E3FC;\n",
              "    }\n",
              "\n",
              "    [theme=dark] .colab-df-convert:hover {\n",
              "      background-color: #434B5C;\n",
              "      box-shadow: 0px 1px 3px 1px rgba(0, 0, 0, 0.15);\n",
              "      filter: drop-shadow(0px 1px 2px rgba(0, 0, 0, 0.3));\n",
              "      fill: #FFFFFF;\n",
              "    }\n",
              "  </style>\n",
              "\n",
              "      <script>\n",
              "        const buttonEl =\n",
              "          document.querySelector('#df-91bbd6df-2b34-4246-bfad-9e1557e11bdb button.colab-df-convert');\n",
              "        buttonEl.style.display =\n",
              "          google.colab.kernel.accessAllowed ? 'block' : 'none';\n",
              "\n",
              "        async function convertToInteractive(key) {\n",
              "          const element = document.querySelector('#df-91bbd6df-2b34-4246-bfad-9e1557e11bdb');\n",
              "          const dataTable =\n",
              "            await google.colab.kernel.invokeFunction('convertToInteractive',\n",
              "                                                     [key], {});\n",
              "          if (!dataTable) return;\n",
              "\n",
              "          const docLinkHtml = 'Like what you see? Visit the ' +\n",
              "            '<a target=\"_blank\" href=https://colab.research.google.com/notebooks/data_table.ipynb>data table notebook</a>'\n",
              "            + ' to learn more about interactive tables.';\n",
              "          element.innerHTML = '';\n",
              "          dataTable['output_type'] = 'display_data';\n",
              "          await google.colab.output.renderOutput(dataTable, element);\n",
              "          const docLink = document.createElement('div');\n",
              "          docLink.innerHTML = docLinkHtml;\n",
              "          element.appendChild(docLink);\n",
              "        }\n",
              "      </script>\n",
              "    </div>\n",
              "  </div>\n",
              "  "
            ]
          },
          "metadata": {},
          "execution_count": 95
        }
      ]
    },
    {
      "cell_type": "code",
      "source": [
        "res = pd.concat((cold_recs, recos))\n",
        "assert res.shape[0] == submission.shape[0]\n",
        "res.to_csv('lightfm.csv', index=False)"
      ],
      "metadata": {
        "id": "BnMWoZXszvFw"
      },
      "execution_count": null,
      "outputs": []
    },
    {
      "cell_type": "markdown",
      "source": [
        "![image.png](data:image/png;base64,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)"
      ],
      "metadata": {
        "id": "HkBbmfV20vtQ"
      }
    },
    {
      "cell_type": "markdown",
      "source": [
        "## Let's explore the connection between validation and leaderboard with ALS"
      ],
      "metadata": {
        "id": "mkoAs1DLROwX"
      }
    },
    {
      "cell_type": "markdown",
      "source": [
        "### Create models from Optuna trials"
      ],
      "metadata": {
        "id": "IGdw5MY6UgsT"
      }
    },
    {
      "cell_type": "markdown",
      "source": [
        "Trial 0 finished with values: [0.07885603622836726, 0.1532056605991221] and parameters: {'n_factors': 128, 'regularization': 0.01}\n",
        "\n",
        "Trial 1 finished with values: [0.07902425782760353, 0.15199976234504708] and parameters: {'n_factors': 96, 'regularization': 0.11}\n",
        "\n",
        "Trial 2 finished with values: [0.07964396869947794, 0.15335980287799073] and parameters: {'n_factors': 128, 'regularization': 0.21000000000000002}.\n",
        "\n",
        "Trial 3 finished with values: [0.07853638902402547, 0.1519968910022485] and parameters: {'n_factors': 32, 'regularization': 0.41000000000000003}\n",
        "\n",
        "Trial 4 finished with values: [0.07964172532576119, 0.1544882749441643] and parameters: {'n_factors': 64, 'regularization': 0.41000000000000003}\n",
        "\n",
        "Trial 5 finished with values: [0.07933078884537276, 0.15311154150830145] and parameters: {'n_factors': 128, 'regularization': 0.11}\n",
        "\n",
        "Trial 6 finished with values: [0.07952286977280587, 0.15348735554366563] and parameters: {'n_factors': 32, 'regularization': 0.11}\n",
        "\n",
        "Trial 7 finished with values: [0.07889852721563258, 0.15276003002372432] and parameters: {'n_factors': 64, 'regularization': 0.11}\n",
        "\n",
        "Trial 8 finished with values: [0.07889852721563258, 0.15276003002372432] and parameters: {'n_factors': 64, 'regularization': 0.11}\n",
        "\n",
        "Trial 9 finished with values: [0.07853638902402547, 0.1519968910022485] and parameters: {'n_factors': 32, 'regularization': 0.41000000000000003}. "
      ],
      "metadata": {
        "id": "8hAf0zT2SXae"
      }
    },
    {
      "cell_type": "code",
      "source": [
        "recs = pd.DataFrame({'user_id': submission['user_id'].unique()})\n",
        "cold = recs[~recs['user_id'].isin(dataset.user_id_map.external_ids)]\n",
        "warm = recs[recs['user_id'].isin(dataset.user_id_map.external_ids)]"
      ],
      "metadata": {
        "id": "_giqweOxUEzh"
      },
      "execution_count": 33,
      "outputs": []
    },
    {
      "cell_type": "code",
      "source": [
        "cold_recs = [[9728, 10440, 15297, 13865, 14488, 12192, 12360, 341, 4151, 3734] for i in range(len(cold['user_id']))]\n",
        "cold_recs = pd.DataFrame(list(zip(cold['user_id'].values.tolist(), cold_recs)), columns=['user_id', 'item_id'])"
      ],
      "metadata": {
        "id": "IplaXhC7UPFE"
      },
      "execution_count": 34,
      "outputs": []
    },
    {
      "cell_type": "code",
      "source": [
        "# top 5 trials sorted by map10 validation value\n",
        "\n",
        "als_params = [\n",
        "    {'factors': 128, 'regularization': 0.21},  # map@10 = 0.07964396869947794 - best\n",
        "    {'factors': 64, 'regularization': 0.11},   # map@10 = 0.07964172532576119 \n",
        "    {'factors': 32, 'regularization': 0.11},   # map@10 = 0.07952286977280587\n",
        "    {'factors': 128, 'regularization': 0.11},  # map@10 = 0.07933078884537276\n",
        "    {'factors': 96, 'regularization': 0.11},   # map@10 = 0.07902425782760353\n",
        "]"
      ],
      "metadata": {
        "id": "85Vt5cihSKOy"
      },
      "execution_count": 38,
      "outputs": []
    },
    {
      "cell_type": "code",
      "source": [
        "for i, model_setup in tqdm(enumerate(als_params)):\n",
        "  model_setup['random_state'] = SEED\n",
        "\n",
        "  model_obj = ImplicitALSWrapperModel(\n",
        "        model=AlternatingLeastSquares(**model_setup),\n",
        "        fit_features_together=True,\n",
        "      )\n",
        "  model_obj.fit(dataset)\n",
        "\n",
        "  recos = model_obj.recommend(\n",
        "    users=warm['user_id'].values,\n",
        "    dataset=dataset,\n",
        "    k=K_RECOS,\n",
        "    filter_viewed=True,\n",
        "  ).drop(['score', 'rank'], axis=1).groupby('user_id').agg({'item_id': list}).reset_index()\n",
        "  res = pd.concat((cold_recs, recos))\n",
        "  assert res.shape[0] == submission.shape[0]\n",
        "  res.to_csv(f'implicit_als_{i}.csv', index=False)"
      ],
      "metadata": {
        "colab": {
          "base_uri": "https://localhost:8080/",
          "height": 49,
          "referenced_widgets": [
            "3468a4b4b3b84b3bbb0807274ce6bd6a",
            "609645789e0b41ff9f10865aa7515a9b",
            "4956380bdf004baca1274969a9bf9afb",
            "fee43525dbc646119b206d2fea071e72",
            "b2836f7c7a014e33a7745a54f58129ec",
            "e18e5abfe4a9473a8c35900f81fdb52d",
            "e1595f4fd6a34392820644eb67da433d",
            "6cc56197fa204ca69a08b8a5a7bf885e",
            "ea482048ceee4f15a16095cb998f3a08",
            "05842b61f4654dcabed1cd12b9c59a6d",
            "568dd256e66f415fa0c168d4db3a5417"
          ]
        },
        "id": "MoCULJZrSKLd",
        "outputId": "d51e0407-6c2c-442b-b087-4b33eef6e069"
      },
      "execution_count": 39,
      "outputs": [
        {
          "output_type": "display_data",
          "data": {
            "text/plain": [
              "0it [00:00, ?it/s]"
            ],
            "application/vnd.jupyter.widget-view+json": {
              "version_major": 2,
              "version_minor": 0,
              "model_id": "3468a4b4b3b84b3bbb0807274ce6bd6a"
            }
          },
          "metadata": {}
        }
      ]
    },
    {
      "cell_type": "markdown",
      "source": [
        "### Scores from leaderbord"
      ],
      "metadata": {
        "id": "o1hdJvIOU0l8"
      }
    },
    {
      "cell_type": "markdown",
      "source": [
        "![image.png](data:image/png;base64,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)"
      ],
      "metadata": {
        "id": "ycKmKVixZ8te"
      }
    },
    {
      "cell_type": "markdown",
      "source": [
        "So we can see that validation is partially correlated with leaderboard. The best and the worst models have right order, but model 1 has a score worse than expected"
      ],
      "metadata": {
        "id": "cExezGjmcwQi"
      }
    },
    {
      "cell_type": "code",
      "source": [],
      "metadata": {
        "id": "F89nmfojSKHx"
      },
      "execution_count": null,
      "outputs": []
    },
    {
      "cell_type": "code",
      "source": [],
      "metadata": {
        "id": "7vkjBoaXROZd"
      },
      "execution_count": null,
      "outputs": []
    },
    {
      "cell_type": "code",
      "source": [],
      "metadata": {
        "id": "IjnrxLnbROmm"
      },
      "execution_count": null,
      "outputs": []
    }
  ]
}