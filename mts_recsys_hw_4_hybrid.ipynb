{
  "cells": [
    {
      "cell_type": "code",
      "execution_count": 1,
      "metadata": {
        "id": "1yoixWuP9tdr"
      },
      "outputs": [],
      "source": [
        "!pip install rectools optuna shap catboost > None"
      ]
    },
    {
      "cell_type": "code",
      "execution_count": 2,
      "metadata": {
        "id": "cEujJUj69vtz"
      },
      "outputs": [],
      "source": [
        "import os\n",
        "import datetime\n",
        "\n",
        "import pandas as pd\n",
        "import numpy as np\n",
        "from scipy import stats\n",
        "from scipy.sparse import csr_matrix\n",
        "\n",
        "import requests\n",
        "from tqdm.auto import tqdm\n",
        "\n",
        "from sklearn.model_selection import train_test_split\n",
        "from sklearn.metrics import roc_auc_score\n",
        "\n",
        "from rectools.metrics import MAP, calc_metrics, Recall, NDCG\n",
        "from rectools.models import ImplicitALSWrapperModel, LightFMWrapperModel\n",
        "from rectools.models.popular import PopularModel\n",
        "from rectools import Columns\n",
        "from rectools.dataset import Dataset\n",
        "\n",
        "from lightfm import LightFM\n",
        "from lightfm.data import Dataset as LFMDataset\n",
        "\n",
        "from implicit.als import AlternatingLeastSquares\n",
        "from implicit.bpr import BayesianPersonalizedRanking\n",
        "from implicit.lmf import LogisticMatrixFactorization\n",
        "\n",
        "from lightgbm import LGBMRanker\n",
        "from xgboost import XGBRanker\n",
        "from catboost import CatBoostRanker, Pool\n",
        "\n",
        "import optuna\n",
        "\n",
        "import dill\n",
        "\n",
        "from typing import Callable, Dict, Set, List, Optional, Any, Tuple\n",
        "import gc\n",
        "from timeit import Timer\n",
        "\n",
        "import shap"
      ]
    },
    {
      "cell_type": "code",
      "execution_count": 3,
      "metadata": {
        "id": "2SD8yOog9vxQ"
      },
      "outputs": [],
      "source": [
        "import warnings\n",
        "warnings.filterwarnings('ignore')"
      ]
    },
    {
      "cell_type": "code",
      "execution_count": 4,
      "metadata": {
        "colab": {
          "base_uri": "https://localhost:8080/"
        },
        "id": "Oa4qPDN96o8-",
        "outputId": "31f2eedc-2718-4a52-8150-0927fe0c3e4e"
      },
      "outputs": [
        {
          "output_type": "stream",
          "name": "stdout",
          "text": [
            "Drive already mounted at /content/gdrive; to attempt to forcibly remount, call drive.mount(\"/content/gdrive\", force_remount=True).\n"
          ]
        }
      ],
      "source": [
        "from google.colab import drive\n",
        "drive.mount('/content/gdrive')"
      ]
    },
    {
      "cell_type": "code",
      "execution_count": 5,
      "metadata": {
        "colab": {
          "base_uri": "https://localhost:8080/"
        },
        "id": "3Hdtx-FU6sRq",
        "outputId": "926b254a-20d7-41d2-f938-e2d1289a29f4"
      },
      "outputs": [
        {
          "output_type": "stream",
          "name": "stdout",
          "text": [
            "/content/gdrive/MyDrive/recsys\n"
          ]
        }
      ],
      "source": [
        "%cd gdrive/MyDrive/recsys/"
      ]
    },
    {
      "cell_type": "code",
      "execution_count": 6,
      "metadata": {
        "id": "0P-oW3vxlfAd"
      },
      "outputs": [],
      "source": [
        "os.environ[\"OPENBLAS_NUM_THREADS\"] = \"0\""
      ]
    },
    {
      "cell_type": "code",
      "execution_count": 7,
      "metadata": {
        "id": "3NDkgOED9v0l"
      },
      "outputs": [],
      "source": [
        "SEED = 2022\n",
        "K_RECOS = 10"
      ]
    },
    {
      "cell_type": "markdown",
      "metadata": {
        "id": "eKeZcbmZDKuq"
      },
      "source": [
        "## Utils"
      ]
    },
    {
      "cell_type": "code",
      "execution_count": 8,
      "metadata": {
        "id": "bAAllftW-T5C"
      },
      "outputs": [],
      "source": [
        "def avg_user_metric(\n",
        "        y_true: np.ndarray,\n",
        "        y_pred: np.ndarray,\n",
        "        user_ids: np.ndarray,\n",
        "        metric_function: Callable[[np.ndarray, np.ndarray], float],\n",
        ") -> float:\n",
        "    \"\"\"\n",
        "    Вычисляем метрику, усредненную по всем значимым (есть разные таргеты) группам.\n",
        "    :param y_true: список таргетов\n",
        "    :param y_pred: список предсказаний\n",
        "    :param user_ids: список групп (обычно это список user_id той же размерности, что и предсказания и таргеты)\n",
        "    :param metric_function: усредняемая метрика(y_true, y_pred) -> float\n",
        "    :return: значение метрики metric_function, усредненное по всем значимым группам\n",
        "    \"\"\"\n",
        "    avg_score: float = 0.\n",
        "\n",
        "    if len(y_pred) == len(y_true) == len(user_ids):\n",
        "        l_ind: int = 0\n",
        "        cur_group_id: int = user_ids[0] if len(user_ids) else 0\n",
        "        n_groups: int = 0\n",
        "        for r_ind, group_id in enumerate(user_ids):\n",
        "            if group_id != cur_group_id or r_ind == len(user_ids) - 1:\n",
        "                if r_ind == len(user_ids) - 1:\n",
        "                    r_ind += 1\n",
        "                # Если группа не состоит из одного и того же таргета - добавляем ее\n",
        "                group_true = y_true[l_ind: r_ind]\n",
        "                if not np.all(group_true == group_true[0]):\n",
        "                    avg_score += metric_function(group_true, y_pred[l_ind: r_ind])\n",
        "                    n_groups += 1\n",
        "                l_ind = r_ind\n",
        "                cur_group_id = group_id\n",
        "        avg_score /= max(1, n_groups)\n",
        "    else:\n",
        "        raise ValueError(f'Размерности не совпадают: '\n",
        "                         f'y_pred - {len(y_pred)}, y_true - {len(y_true)}, user_ids - {len(user_ids)}')\n",
        "    return avg_score"
      ]
    },
    {
      "cell_type": "code",
      "execution_count": 9,
      "metadata": {
        "id": "_6Arslu7DQAB"
      },
      "outputs": [],
      "source": [
        "def calc_metrics_(candidates_df, rank_col: str) -> Dict[str, float]:\n",
        "    metrics = {\n",
        "        'map@10': MAP(k = 10),\n",
        "        'recall@10': Recall(k = 10),\n",
        "    }\n",
        "    return calc_metrics(\n",
        "        metrics=metrics,\n",
        "        reco=(\n",
        "            candidates_df\n",
        "            .rename(columns={rank_col: Columns.Rank})\n",
        "            [[Columns.User, Columns.Item, Columns.Rank]]\n",
        "            [candidates_df[Columns.User].isin(test_users)]\n",
        "        ),\n",
        "        interactions=(\n",
        "            ranker_data\n",
        "            [[Columns.User, Columns.Item, Columns.Datetime, Columns.Weight]]\n",
        "            [ranker_data[Columns.User].isin(test_users)]\n",
        "        ), \n",
        "        prev_interactions=(\n",
        "            base_models_data\n",
        "            [[Columns.User, Columns.Item, Columns.Datetime, Columns.Weight]]\n",
        "            [base_models_data[Columns.User].isin(test_users)]\n",
        "        ),\n",
        "        catalog=items['item_id'].unique()\n",
        "    )"
      ]
    },
    {
      "cell_type": "markdown",
      "metadata": {
        "id": "UvVGQ0Fg--hu"
      },
      "source": [
        "## Get data"
      ]
    },
    {
      "cell_type": "code",
      "execution_count": 10,
      "metadata": {
        "id": "CYACIF9l9wB4"
      },
      "outputs": [],
      "source": [
        "interactions = pd.read_csv('kion_train/interactions.csv')\n",
        "users = pd.read_csv('kion_train/users.csv')\n",
        "items = pd.read_csv('kion_train/items.csv')"
      ]
    },
    {
      "cell_type": "code",
      "execution_count": 11,
      "metadata": {
        "colab": {
          "base_uri": "https://localhost:8080/",
          "height": 206
        },
        "id": "_ux7R2aDe_9y",
        "outputId": "849144cd-3f89-41ad-e824-7e76b3979ee5"
      },
      "outputs": [
        {
          "output_type": "execute_result",
          "data": {
            "text/plain": [
              "   user_id  item_id last_watch_dt  total_dur  watched_pct\n",
              "0   176549     9506    2021-05-11       4250         72.0\n",
              "1   699317     1659    2021-05-29       8317        100.0\n",
              "2   656683     7107    2021-05-09         10          0.0\n",
              "3   864613     7638    2021-07-05      14483        100.0\n",
              "4   964868     9506    2021-04-30       6725        100.0"
            ],
            "text/html": [
              "\n",
              "  <div id=\"df-fd21bff8-bb6d-4ce4-9375-4fe2e42dec29\">\n",
              "    <div class=\"colab-df-container\">\n",
              "      <div>\n",
              "<style scoped>\n",
              "    .dataframe tbody tr th:only-of-type {\n",
              "        vertical-align: middle;\n",
              "    }\n",
              "\n",
              "    .dataframe tbody tr th {\n",
              "        vertical-align: top;\n",
              "    }\n",
              "\n",
              "    .dataframe thead th {\n",
              "        text-align: right;\n",
              "    }\n",
              "</style>\n",
              "<table border=\"1\" class=\"dataframe\">\n",
              "  <thead>\n",
              "    <tr style=\"text-align: right;\">\n",
              "      <th></th>\n",
              "      <th>user_id</th>\n",
              "      <th>item_id</th>\n",
              "      <th>last_watch_dt</th>\n",
              "      <th>total_dur</th>\n",
              "      <th>watched_pct</th>\n",
              "    </tr>\n",
              "  </thead>\n",
              "  <tbody>\n",
              "    <tr>\n",
              "      <th>0</th>\n",
              "      <td>176549</td>\n",
              "      <td>9506</td>\n",
              "      <td>2021-05-11</td>\n",
              "      <td>4250</td>\n",
              "      <td>72.0</td>\n",
              "    </tr>\n",
              "    <tr>\n",
              "      <th>1</th>\n",
              "      <td>699317</td>\n",
              "      <td>1659</td>\n",
              "      <td>2021-05-29</td>\n",
              "      <td>8317</td>\n",
              "      <td>100.0</td>\n",
              "    </tr>\n",
              "    <tr>\n",
              "      <th>2</th>\n",
              "      <td>656683</td>\n",
              "      <td>7107</td>\n",
              "      <td>2021-05-09</td>\n",
              "      <td>10</td>\n",
              "      <td>0.0</td>\n",
              "    </tr>\n",
              "    <tr>\n",
              "      <th>3</th>\n",
              "      <td>864613</td>\n",
              "      <td>7638</td>\n",
              "      <td>2021-07-05</td>\n",
              "      <td>14483</td>\n",
              "      <td>100.0</td>\n",
              "    </tr>\n",
              "    <tr>\n",
              "      <th>4</th>\n",
              "      <td>964868</td>\n",
              "      <td>9506</td>\n",
              "      <td>2021-04-30</td>\n",
              "      <td>6725</td>\n",
              "      <td>100.0</td>\n",
              "    </tr>\n",
              "  </tbody>\n",
              "</table>\n",
              "</div>\n",
              "      <button class=\"colab-df-convert\" onclick=\"convertToInteractive('df-fd21bff8-bb6d-4ce4-9375-4fe2e42dec29')\"\n",
              "              title=\"Convert this dataframe to an interactive table.\"\n",
              "              style=\"display:none;\">\n",
              "        \n",
              "  <svg xmlns=\"http://www.w3.org/2000/svg\" height=\"24px\"viewBox=\"0 0 24 24\"\n",
              "       width=\"24px\">\n",
              "    <path d=\"M0 0h24v24H0V0z\" fill=\"none\"/>\n",
              "    <path d=\"M18.56 5.44l.94 2.06.94-2.06 2.06-.94-2.06-.94-.94-2.06-.94 2.06-2.06.94zm-11 1L8.5 8.5l.94-2.06 2.06-.94-2.06-.94L8.5 2.5l-.94 2.06-2.06.94zm10 10l.94 2.06.94-2.06 2.06-.94-2.06-.94-.94-2.06-.94 2.06-2.06.94z\"/><path d=\"M17.41 7.96l-1.37-1.37c-.4-.4-.92-.59-1.43-.59-.52 0-1.04.2-1.43.59L10.3 9.45l-7.72 7.72c-.78.78-.78 2.05 0 2.83L4 21.41c.39.39.9.59 1.41.59.51 0 1.02-.2 1.41-.59l7.78-7.78 2.81-2.81c.8-.78.8-2.07 0-2.86zM5.41 20L4 18.59l7.72-7.72 1.47 1.35L5.41 20z\"/>\n",
              "  </svg>\n",
              "      </button>\n",
              "      \n",
              "  <style>\n",
              "    .colab-df-container {\n",
              "      display:flex;\n",
              "      flex-wrap:wrap;\n",
              "      gap: 12px;\n",
              "    }\n",
              "\n",
              "    .colab-df-convert {\n",
              "      background-color: #E8F0FE;\n",
              "      border: none;\n",
              "      border-radius: 50%;\n",
              "      cursor: pointer;\n",
              "      display: none;\n",
              "      fill: #1967D2;\n",
              "      height: 32px;\n",
              "      padding: 0 0 0 0;\n",
              "      width: 32px;\n",
              "    }\n",
              "\n",
              "    .colab-df-convert:hover {\n",
              "      background-color: #E2EBFA;\n",
              "      box-shadow: 0px 1px 2px rgba(60, 64, 67, 0.3), 0px 1px 3px 1px rgba(60, 64, 67, 0.15);\n",
              "      fill: #174EA6;\n",
              "    }\n",
              "\n",
              "    [theme=dark] .colab-df-convert {\n",
              "      background-color: #3B4455;\n",
              "      fill: #D2E3FC;\n",
              "    }\n",
              "\n",
              "    [theme=dark] .colab-df-convert:hover {\n",
              "      background-color: #434B5C;\n",
              "      box-shadow: 0px 1px 3px 1px rgba(0, 0, 0, 0.15);\n",
              "      filter: drop-shadow(0px 1px 2px rgba(0, 0, 0, 0.3));\n",
              "      fill: #FFFFFF;\n",
              "    }\n",
              "  </style>\n",
              "\n",
              "      <script>\n",
              "        const buttonEl =\n",
              "          document.querySelector('#df-fd21bff8-bb6d-4ce4-9375-4fe2e42dec29 button.colab-df-convert');\n",
              "        buttonEl.style.display =\n",
              "          google.colab.kernel.accessAllowed ? 'block' : 'none';\n",
              "\n",
              "        async function convertToInteractive(key) {\n",
              "          const element = document.querySelector('#df-fd21bff8-bb6d-4ce4-9375-4fe2e42dec29');\n",
              "          const dataTable =\n",
              "            await google.colab.kernel.invokeFunction('convertToInteractive',\n",
              "                                                     [key], {});\n",
              "          if (!dataTable) return;\n",
              "\n",
              "          const docLinkHtml = 'Like what you see? Visit the ' +\n",
              "            '<a target=\"_blank\" href=https://colab.research.google.com/notebooks/data_table.ipynb>data table notebook</a>'\n",
              "            + ' to learn more about interactive tables.';\n",
              "          element.innerHTML = '';\n",
              "          dataTable['output_type'] = 'display_data';\n",
              "          await google.colab.output.renderOutput(dataTable, element);\n",
              "          const docLink = document.createElement('div');\n",
              "          docLink.innerHTML = docLinkHtml;\n",
              "          element.appendChild(docLink);\n",
              "        }\n",
              "      </script>\n",
              "    </div>\n",
              "  </div>\n",
              "  "
            ]
          },
          "metadata": {},
          "execution_count": 11
        }
      ],
      "source": [
        "interactions.head()"
      ]
    },
    {
      "cell_type": "markdown",
      "metadata": {
        "id": "UFL2_P1y_m6W"
      },
      "source": [
        "### Interactions"
      ]
    },
    {
      "cell_type": "code",
      "execution_count": 12,
      "metadata": {
        "colab": {
          "base_uri": "https://localhost:8080/",
          "height": 206
        },
        "id": "Gqm0cVHX-tc-",
        "outputId": "c2d5143b-08d4-4367-ae96-8048d62bfd5c"
      },
      "outputs": [
        {
          "output_type": "execute_result",
          "data": {
            "text/plain": [
              "   user_id  item_id   datetime  total_dur  weight\n",
              "0   176549     9506 2021-05-11       4250    72.0\n",
              "1   699317     1659 2021-05-29       8317   100.0\n",
              "2   656683     7107 2021-05-09         10     0.0\n",
              "3   864613     7638 2021-07-05      14483   100.0\n",
              "4   964868     9506 2021-04-30       6725   100.0"
            ],
            "text/html": [
              "\n",
              "  <div id=\"df-5e3ee7c8-bcf5-401c-8735-013488cf6001\">\n",
              "    <div class=\"colab-df-container\">\n",
              "      <div>\n",
              "<style scoped>\n",
              "    .dataframe tbody tr th:only-of-type {\n",
              "        vertical-align: middle;\n",
              "    }\n",
              "\n",
              "    .dataframe tbody tr th {\n",
              "        vertical-align: top;\n",
              "    }\n",
              "\n",
              "    .dataframe thead th {\n",
              "        text-align: right;\n",
              "    }\n",
              "</style>\n",
              "<table border=\"1\" class=\"dataframe\">\n",
              "  <thead>\n",
              "    <tr style=\"text-align: right;\">\n",
              "      <th></th>\n",
              "      <th>user_id</th>\n",
              "      <th>item_id</th>\n",
              "      <th>datetime</th>\n",
              "      <th>total_dur</th>\n",
              "      <th>weight</th>\n",
              "    </tr>\n",
              "  </thead>\n",
              "  <tbody>\n",
              "    <tr>\n",
              "      <th>0</th>\n",
              "      <td>176549</td>\n",
              "      <td>9506</td>\n",
              "      <td>2021-05-11</td>\n",
              "      <td>4250</td>\n",
              "      <td>72.0</td>\n",
              "    </tr>\n",
              "    <tr>\n",
              "      <th>1</th>\n",
              "      <td>699317</td>\n",
              "      <td>1659</td>\n",
              "      <td>2021-05-29</td>\n",
              "      <td>8317</td>\n",
              "      <td>100.0</td>\n",
              "    </tr>\n",
              "    <tr>\n",
              "      <th>2</th>\n",
              "      <td>656683</td>\n",
              "      <td>7107</td>\n",
              "      <td>2021-05-09</td>\n",
              "      <td>10</td>\n",
              "      <td>0.0</td>\n",
              "    </tr>\n",
              "    <tr>\n",
              "      <th>3</th>\n",
              "      <td>864613</td>\n",
              "      <td>7638</td>\n",
              "      <td>2021-07-05</td>\n",
              "      <td>14483</td>\n",
              "      <td>100.0</td>\n",
              "    </tr>\n",
              "    <tr>\n",
              "      <th>4</th>\n",
              "      <td>964868</td>\n",
              "      <td>9506</td>\n",
              "      <td>2021-04-30</td>\n",
              "      <td>6725</td>\n",
              "      <td>100.0</td>\n",
              "    </tr>\n",
              "  </tbody>\n",
              "</table>\n",
              "</div>\n",
              "      <button class=\"colab-df-convert\" onclick=\"convertToInteractive('df-5e3ee7c8-bcf5-401c-8735-013488cf6001')\"\n",
              "              title=\"Convert this dataframe to an interactive table.\"\n",
              "              style=\"display:none;\">\n",
              "        \n",
              "  <svg xmlns=\"http://www.w3.org/2000/svg\" height=\"24px\"viewBox=\"0 0 24 24\"\n",
              "       width=\"24px\">\n",
              "    <path d=\"M0 0h24v24H0V0z\" fill=\"none\"/>\n",
              "    <path d=\"M18.56 5.44l.94 2.06.94-2.06 2.06-.94-2.06-.94-.94-2.06-.94 2.06-2.06.94zm-11 1L8.5 8.5l.94-2.06 2.06-.94-2.06-.94L8.5 2.5l-.94 2.06-2.06.94zm10 10l.94 2.06.94-2.06 2.06-.94-2.06-.94-.94-2.06-.94 2.06-2.06.94z\"/><path d=\"M17.41 7.96l-1.37-1.37c-.4-.4-.92-.59-1.43-.59-.52 0-1.04.2-1.43.59L10.3 9.45l-7.72 7.72c-.78.78-.78 2.05 0 2.83L4 21.41c.39.39.9.59 1.41.59.51 0 1.02-.2 1.41-.59l7.78-7.78 2.81-2.81c.8-.78.8-2.07 0-2.86zM5.41 20L4 18.59l7.72-7.72 1.47 1.35L5.41 20z\"/>\n",
              "  </svg>\n",
              "      </button>\n",
              "      \n",
              "  <style>\n",
              "    .colab-df-container {\n",
              "      display:flex;\n",
              "      flex-wrap:wrap;\n",
              "      gap: 12px;\n",
              "    }\n",
              "\n",
              "    .colab-df-convert {\n",
              "      background-color: #E8F0FE;\n",
              "      border: none;\n",
              "      border-radius: 50%;\n",
              "      cursor: pointer;\n",
              "      display: none;\n",
              "      fill: #1967D2;\n",
              "      height: 32px;\n",
              "      padding: 0 0 0 0;\n",
              "      width: 32px;\n",
              "    }\n",
              "\n",
              "    .colab-df-convert:hover {\n",
              "      background-color: #E2EBFA;\n",
              "      box-shadow: 0px 1px 2px rgba(60, 64, 67, 0.3), 0px 1px 3px 1px rgba(60, 64, 67, 0.15);\n",
              "      fill: #174EA6;\n",
              "    }\n",
              "\n",
              "    [theme=dark] .colab-df-convert {\n",
              "      background-color: #3B4455;\n",
              "      fill: #D2E3FC;\n",
              "    }\n",
              "\n",
              "    [theme=dark] .colab-df-convert:hover {\n",
              "      background-color: #434B5C;\n",
              "      box-shadow: 0px 1px 3px 1px rgba(0, 0, 0, 0.15);\n",
              "      filter: drop-shadow(0px 1px 2px rgba(0, 0, 0, 0.3));\n",
              "      fill: #FFFFFF;\n",
              "    }\n",
              "  </style>\n",
              "\n",
              "      <script>\n",
              "        const buttonEl =\n",
              "          document.querySelector('#df-5e3ee7c8-bcf5-401c-8735-013488cf6001 button.colab-df-convert');\n",
              "        buttonEl.style.display =\n",
              "          google.colab.kernel.accessAllowed ? 'block' : 'none';\n",
              "\n",
              "        async function convertToInteractive(key) {\n",
              "          const element = document.querySelector('#df-5e3ee7c8-bcf5-401c-8735-013488cf6001');\n",
              "          const dataTable =\n",
              "            await google.colab.kernel.invokeFunction('convertToInteractive',\n",
              "                                                     [key], {});\n",
              "          if (!dataTable) return;\n",
              "\n",
              "          const docLinkHtml = 'Like what you see? Visit the ' +\n",
              "            '<a target=\"_blank\" href=https://colab.research.google.com/notebooks/data_table.ipynb>data table notebook</a>'\n",
              "            + ' to learn more about interactive tables.';\n",
              "          element.innerHTML = '';\n",
              "          dataTable['output_type'] = 'display_data';\n",
              "          await google.colab.output.renderOutput(dataTable, element);\n",
              "          const docLink = document.createElement('div');\n",
              "          docLink.innerHTML = docLinkHtml;\n",
              "          element.appendChild(docLink);\n",
              "        }\n",
              "      </script>\n",
              "    </div>\n",
              "  </div>\n",
              "  "
            ]
          },
          "metadata": {},
          "execution_count": 12
        }
      ],
      "source": [
        "interactions.rename(\n",
        "    columns={\n",
        "        'last_watch_dt': Columns.Datetime,\n",
        "        'watched_pct': Columns.Weight,\n",
        "    }, \n",
        "    inplace=True,\n",
        ") \n",
        "interactions['datetime'] = interactions['datetime'].astype(np.datetime64)\n",
        "\n",
        "interactions_default_values: Dict[str, Any] = {\n",
        "   Columns.Datetime: interactions[Columns.Datetime].median(),\n",
        "    Columns.Weight: 0.,\n",
        "    'total_dur': 0,\n",
        "}\n",
        "interactions.fillna(interactions_default_values, inplace=True)\n",
        "interactions.head()"
      ]
    },
    {
      "cell_type": "markdown",
      "metadata": {
        "id": "cSVcdXIu_lZ3"
      },
      "source": [
        "### Users"
      ]
    },
    {
      "cell_type": "code",
      "execution_count": 14,
      "metadata": {
        "colab": {
          "base_uri": "https://localhost:8080/",
          "height": 206
        },
        "id": "mib6pxJB_Djd",
        "outputId": "48c471d1-396e-47fc-cee5-4793a98b379d"
      },
      "outputs": [
        {
          "output_type": "execute_result",
          "data": {
            "text/plain": [
              "   user_id age income sex kids_flg\n",
              "0   973171   1      4   1        1\n",
              "1   962099   0      2   1        0\n",
              "2  1047345   3      3   0        0\n",
              "3   721985   3      2   0        0\n",
              "4   704055   2      4   0        0"
            ],
            "text/html": [
              "\n",
              "  <div id=\"df-19438ad3-6489-466a-b107-e670695ea837\">\n",
              "    <div class=\"colab-df-container\">\n",
              "      <div>\n",
              "<style scoped>\n",
              "    .dataframe tbody tr th:only-of-type {\n",
              "        vertical-align: middle;\n",
              "    }\n",
              "\n",
              "    .dataframe tbody tr th {\n",
              "        vertical-align: top;\n",
              "    }\n",
              "\n",
              "    .dataframe thead th {\n",
              "        text-align: right;\n",
              "    }\n",
              "</style>\n",
              "<table border=\"1\" class=\"dataframe\">\n",
              "  <thead>\n",
              "    <tr style=\"text-align: right;\">\n",
              "      <th></th>\n",
              "      <th>user_id</th>\n",
              "      <th>age</th>\n",
              "      <th>income</th>\n",
              "      <th>sex</th>\n",
              "      <th>kids_flg</th>\n",
              "    </tr>\n",
              "  </thead>\n",
              "  <tbody>\n",
              "    <tr>\n",
              "      <th>0</th>\n",
              "      <td>973171</td>\n",
              "      <td>1</td>\n",
              "      <td>4</td>\n",
              "      <td>1</td>\n",
              "      <td>1</td>\n",
              "    </tr>\n",
              "    <tr>\n",
              "      <th>1</th>\n",
              "      <td>962099</td>\n",
              "      <td>0</td>\n",
              "      <td>2</td>\n",
              "      <td>1</td>\n",
              "      <td>0</td>\n",
              "    </tr>\n",
              "    <tr>\n",
              "      <th>2</th>\n",
              "      <td>1047345</td>\n",
              "      <td>3</td>\n",
              "      <td>3</td>\n",
              "      <td>0</td>\n",
              "      <td>0</td>\n",
              "    </tr>\n",
              "    <tr>\n",
              "      <th>3</th>\n",
              "      <td>721985</td>\n",
              "      <td>3</td>\n",
              "      <td>2</td>\n",
              "      <td>0</td>\n",
              "      <td>0</td>\n",
              "    </tr>\n",
              "    <tr>\n",
              "      <th>4</th>\n",
              "      <td>704055</td>\n",
              "      <td>2</td>\n",
              "      <td>4</td>\n",
              "      <td>0</td>\n",
              "      <td>0</td>\n",
              "    </tr>\n",
              "  </tbody>\n",
              "</table>\n",
              "</div>\n",
              "      <button class=\"colab-df-convert\" onclick=\"convertToInteractive('df-19438ad3-6489-466a-b107-e670695ea837')\"\n",
              "              title=\"Convert this dataframe to an interactive table.\"\n",
              "              style=\"display:none;\">\n",
              "        \n",
              "  <svg xmlns=\"http://www.w3.org/2000/svg\" height=\"24px\"viewBox=\"0 0 24 24\"\n",
              "       width=\"24px\">\n",
              "    <path d=\"M0 0h24v24H0V0z\" fill=\"none\"/>\n",
              "    <path d=\"M18.56 5.44l.94 2.06.94-2.06 2.06-.94-2.06-.94-.94-2.06-.94 2.06-2.06.94zm-11 1L8.5 8.5l.94-2.06 2.06-.94-2.06-.94L8.5 2.5l-.94 2.06-2.06.94zm10 10l.94 2.06.94-2.06 2.06-.94-2.06-.94-.94-2.06-.94 2.06-2.06.94z\"/><path d=\"M17.41 7.96l-1.37-1.37c-.4-.4-.92-.59-1.43-.59-.52 0-1.04.2-1.43.59L10.3 9.45l-7.72 7.72c-.78.78-.78 2.05 0 2.83L4 21.41c.39.39.9.59 1.41.59.51 0 1.02-.2 1.41-.59l7.78-7.78 2.81-2.81c.8-.78.8-2.07 0-2.86zM5.41 20L4 18.59l7.72-7.72 1.47 1.35L5.41 20z\"/>\n",
              "  </svg>\n",
              "      </button>\n",
              "      \n",
              "  <style>\n",
              "    .colab-df-container {\n",
              "      display:flex;\n",
              "      flex-wrap:wrap;\n",
              "      gap: 12px;\n",
              "    }\n",
              "\n",
              "    .colab-df-convert {\n",
              "      background-color: #E8F0FE;\n",
              "      border: none;\n",
              "      border-radius: 50%;\n",
              "      cursor: pointer;\n",
              "      display: none;\n",
              "      fill: #1967D2;\n",
              "      height: 32px;\n",
              "      padding: 0 0 0 0;\n",
              "      width: 32px;\n",
              "    }\n",
              "\n",
              "    .colab-df-convert:hover {\n",
              "      background-color: #E2EBFA;\n",
              "      box-shadow: 0px 1px 2px rgba(60, 64, 67, 0.3), 0px 1px 3px 1px rgba(60, 64, 67, 0.15);\n",
              "      fill: #174EA6;\n",
              "    }\n",
              "\n",
              "    [theme=dark] .colab-df-convert {\n",
              "      background-color: #3B4455;\n",
              "      fill: #D2E3FC;\n",
              "    }\n",
              "\n",
              "    [theme=dark] .colab-df-convert:hover {\n",
              "      background-color: #434B5C;\n",
              "      box-shadow: 0px 1px 3px 1px rgba(0, 0, 0, 0.15);\n",
              "      filter: drop-shadow(0px 1px 2px rgba(0, 0, 0, 0.3));\n",
              "      fill: #FFFFFF;\n",
              "    }\n",
              "  </style>\n",
              "\n",
              "      <script>\n",
              "        const buttonEl =\n",
              "          document.querySelector('#df-19438ad3-6489-466a-b107-e670695ea837 button.colab-df-convert');\n",
              "        buttonEl.style.display =\n",
              "          google.colab.kernel.accessAllowed ? 'block' : 'none';\n",
              "\n",
              "        async function convertToInteractive(key) {\n",
              "          const element = document.querySelector('#df-19438ad3-6489-466a-b107-e670695ea837');\n",
              "          const dataTable =\n",
              "            await google.colab.kernel.invokeFunction('convertToInteractive',\n",
              "                                                     [key], {});\n",
              "          if (!dataTable) return;\n",
              "\n",
              "          const docLinkHtml = 'Like what you see? Visit the ' +\n",
              "            '<a target=\"_blank\" href=https://colab.research.google.com/notebooks/data_table.ipynb>data table notebook</a>'\n",
              "            + ' to learn more about interactive tables.';\n",
              "          element.innerHTML = '';\n",
              "          dataTable['output_type'] = 'display_data';\n",
              "          await google.colab.output.renderOutput(dataTable, element);\n",
              "          const docLink = document.createElement('div');\n",
              "          docLink.innerHTML = docLinkHtml;\n",
              "          element.appendChild(docLink);\n",
              "        }\n",
              "      </script>\n",
              "    </div>\n",
              "  </div>\n",
              "  "
            ]
          },
          "metadata": {},
          "execution_count": 14
        }
      ],
      "source": [
        "def encode_cat_cols(df: pd.DataFrame, cat_cols) -> Tuple[pd.DataFrame, Dict]:\n",
        "    cat_col_encoding = {} \n",
        "\n",
        "    for col in cat_cols:\n",
        "        cat_col = df[col].astype('category').cat\n",
        "        cat_col_encoding[col] = cat_col.categories\n",
        "        df[col] = cat_col.codes.astype('category')\n",
        "    return df, cat_col_encoding\n",
        "\n",
        "users_cat_cols = [\n",
        "     'age', 'income', 'sex', 'kids_flg'\n",
        "]\n",
        "users, users_cat_col_encoding = encode_cat_cols(users, users_cat_cols)\n",
        "users.head()"
      ]
    },
    {
      "cell_type": "markdown",
      "metadata": {
        "id": "7QeRW5AY_071"
      },
      "source": [
        "### items"
      ]
    },
    {
      "cell_type": "code",
      "execution_count": 15,
      "metadata": {
        "colab": {
          "base_uri": "https://localhost:8080/",
          "height": 206
        },
        "id": "34LUWhpz_Dmk",
        "outputId": "ead752ce-f1c1-432e-8ce6-f73d5268db65"
      },
      "outputs": [
        {
          "output_type": "execute_result",
          "data": {
            "text/plain": [
              "   item_id content_type  release_year for_kids  age_rating studios\n",
              "0    10711            0        2002.0       -1        16.0      -1\n",
              "1     2508            0        2014.0       -1        16.0      -1\n",
              "2    10716            0        2011.0       -1        16.0      -1\n",
              "3     7868            0        2015.0       -1        16.0      -1\n",
              "4    16268            0        1978.0       -1        12.0      33"
            ],
            "text/html": [
              "\n",
              "  <div id=\"df-00273abc-e67f-49d5-b173-1372e861c625\">\n",
              "    <div class=\"colab-df-container\">\n",
              "      <div>\n",
              "<style scoped>\n",
              "    .dataframe tbody tr th:only-of-type {\n",
              "        vertical-align: middle;\n",
              "    }\n",
              "\n",
              "    .dataframe tbody tr th {\n",
              "        vertical-align: top;\n",
              "    }\n",
              "\n",
              "    .dataframe thead th {\n",
              "        text-align: right;\n",
              "    }\n",
              "</style>\n",
              "<table border=\"1\" class=\"dataframe\">\n",
              "  <thead>\n",
              "    <tr style=\"text-align: right;\">\n",
              "      <th></th>\n",
              "      <th>item_id</th>\n",
              "      <th>content_type</th>\n",
              "      <th>release_year</th>\n",
              "      <th>for_kids</th>\n",
              "      <th>age_rating</th>\n",
              "      <th>studios</th>\n",
              "    </tr>\n",
              "  </thead>\n",
              "  <tbody>\n",
              "    <tr>\n",
              "      <th>0</th>\n",
              "      <td>10711</td>\n",
              "      <td>0</td>\n",
              "      <td>2002.0</td>\n",
              "      <td>-1</td>\n",
              "      <td>16.0</td>\n",
              "      <td>-1</td>\n",
              "    </tr>\n",
              "    <tr>\n",
              "      <th>1</th>\n",
              "      <td>2508</td>\n",
              "      <td>0</td>\n",
              "      <td>2014.0</td>\n",
              "      <td>-1</td>\n",
              "      <td>16.0</td>\n",
              "      <td>-1</td>\n",
              "    </tr>\n",
              "    <tr>\n",
              "      <th>2</th>\n",
              "      <td>10716</td>\n",
              "      <td>0</td>\n",
              "      <td>2011.0</td>\n",
              "      <td>-1</td>\n",
              "      <td>16.0</td>\n",
              "      <td>-1</td>\n",
              "    </tr>\n",
              "    <tr>\n",
              "      <th>3</th>\n",
              "      <td>7868</td>\n",
              "      <td>0</td>\n",
              "      <td>2015.0</td>\n",
              "      <td>-1</td>\n",
              "      <td>16.0</td>\n",
              "      <td>-1</td>\n",
              "    </tr>\n",
              "    <tr>\n",
              "      <th>4</th>\n",
              "      <td>16268</td>\n",
              "      <td>0</td>\n",
              "      <td>1978.0</td>\n",
              "      <td>-1</td>\n",
              "      <td>12.0</td>\n",
              "      <td>33</td>\n",
              "    </tr>\n",
              "  </tbody>\n",
              "</table>\n",
              "</div>\n",
              "      <button class=\"colab-df-convert\" onclick=\"convertToInteractive('df-00273abc-e67f-49d5-b173-1372e861c625')\"\n",
              "              title=\"Convert this dataframe to an interactive table.\"\n",
              "              style=\"display:none;\">\n",
              "        \n",
              "  <svg xmlns=\"http://www.w3.org/2000/svg\" height=\"24px\"viewBox=\"0 0 24 24\"\n",
              "       width=\"24px\">\n",
              "    <path d=\"M0 0h24v24H0V0z\" fill=\"none\"/>\n",
              "    <path d=\"M18.56 5.44l.94 2.06.94-2.06 2.06-.94-2.06-.94-.94-2.06-.94 2.06-2.06.94zm-11 1L8.5 8.5l.94-2.06 2.06-.94-2.06-.94L8.5 2.5l-.94 2.06-2.06.94zm10 10l.94 2.06.94-2.06 2.06-.94-2.06-.94-.94-2.06-.94 2.06-2.06.94z\"/><path d=\"M17.41 7.96l-1.37-1.37c-.4-.4-.92-.59-1.43-.59-.52 0-1.04.2-1.43.59L10.3 9.45l-7.72 7.72c-.78.78-.78 2.05 0 2.83L4 21.41c.39.39.9.59 1.41.59.51 0 1.02-.2 1.41-.59l7.78-7.78 2.81-2.81c.8-.78.8-2.07 0-2.86zM5.41 20L4 18.59l7.72-7.72 1.47 1.35L5.41 20z\"/>\n",
              "  </svg>\n",
              "      </button>\n",
              "      \n",
              "  <style>\n",
              "    .colab-df-container {\n",
              "      display:flex;\n",
              "      flex-wrap:wrap;\n",
              "      gap: 12px;\n",
              "    }\n",
              "\n",
              "    .colab-df-convert {\n",
              "      background-color: #E8F0FE;\n",
              "      border: none;\n",
              "      border-radius: 50%;\n",
              "      cursor: pointer;\n",
              "      display: none;\n",
              "      fill: #1967D2;\n",
              "      height: 32px;\n",
              "      padding: 0 0 0 0;\n",
              "      width: 32px;\n",
              "    }\n",
              "\n",
              "    .colab-df-convert:hover {\n",
              "      background-color: #E2EBFA;\n",
              "      box-shadow: 0px 1px 2px rgba(60, 64, 67, 0.3), 0px 1px 3px 1px rgba(60, 64, 67, 0.15);\n",
              "      fill: #174EA6;\n",
              "    }\n",
              "\n",
              "    [theme=dark] .colab-df-convert {\n",
              "      background-color: #3B4455;\n",
              "      fill: #D2E3FC;\n",
              "    }\n",
              "\n",
              "    [theme=dark] .colab-df-convert:hover {\n",
              "      background-color: #434B5C;\n",
              "      box-shadow: 0px 1px 3px 1px rgba(0, 0, 0, 0.15);\n",
              "      filter: drop-shadow(0px 1px 2px rgba(0, 0, 0, 0.3));\n",
              "      fill: #FFFFFF;\n",
              "    }\n",
              "  </style>\n",
              "\n",
              "      <script>\n",
              "        const buttonEl =\n",
              "          document.querySelector('#df-00273abc-e67f-49d5-b173-1372e861c625 button.colab-df-convert');\n",
              "        buttonEl.style.display =\n",
              "          google.colab.kernel.accessAllowed ? 'block' : 'none';\n",
              "\n",
              "        async function convertToInteractive(key) {\n",
              "          const element = document.querySelector('#df-00273abc-e67f-49d5-b173-1372e861c625');\n",
              "          const dataTable =\n",
              "            await google.colab.kernel.invokeFunction('convertToInteractive',\n",
              "                                                     [key], {});\n",
              "          if (!dataTable) return;\n",
              "\n",
              "          const docLinkHtml = 'Like what you see? Visit the ' +\n",
              "            '<a target=\"_blank\" href=https://colab.research.google.com/notebooks/data_table.ipynb>data table notebook</a>'\n",
              "            + ' to learn more about interactive tables.';\n",
              "          element.innerHTML = '';\n",
              "          dataTable['output_type'] = 'display_data';\n",
              "          await google.colab.output.renderOutput(dataTable, element);\n",
              "          const docLink = document.createElement('div');\n",
              "          docLink.innerHTML = docLinkHtml;\n",
              "          element.appendChild(docLink);\n",
              "        }\n",
              "      </script>\n",
              "    </div>\n",
              "  </div>\n",
              "  "
            ]
          },
          "metadata": {},
          "execution_count": 15
        }
      ],
      "source": [
        "items_cat_cols = [\n",
        "    'content_type', 'for_kids', 'studios',\n",
        "]\n",
        "items_text_cols = [\n",
        "    'title', 'title_orig', 'genres', 'countries', 'directors', 'actors', 'description', 'keywords',\n",
        "]\n",
        "items_num_cols = [\n",
        "    'release_year', 'age_rating', \n",
        "]\n",
        "default_values_items = {\n",
        "    'release_year': items['release_year'].median(),\n",
        "    'age_rating': items['age_rating'].median(),\n",
        "}\n",
        "\n",
        "items, items_cat_col_encoding = encode_cat_cols(items, items_cat_cols) \n",
        "items = items.drop(items_text_cols, axis=1)\n",
        "items.fillna(default_values_items, inplace=True)\n",
        "items.head()"
      ]
    },
    {
      "cell_type": "markdown",
      "metadata": {
        "id": "F2VVWx0C_9lt"
      },
      "source": [
        "## Train/test split"
      ]
    },
    {
      "cell_type": "code",
      "execution_count": 16,
      "metadata": {
        "colab": {
          "base_uri": "https://localhost:8080/"
        },
        "id": "fntU3Iua_Dp0",
        "outputId": "f1a5ebfe-919e-4fc8-b46d-56bea9183813"
      },
      "outputs": [
        {
          "output_type": "stream",
          "name": "stdout",
          "text": [
            "min дата в interactions: 2021-03-13 00:00:00\n",
            "max дата в interactions: 2021-08-22 00:00:00\n",
            "Продолжительность: 162 days 00:00:00\n"
          ]
        }
      ],
      "source": [
        "max_date = interactions[Columns.Datetime].max()\n",
        "min_date = interactions[Columns.Datetime].min()\n",
        "\n",
        "print(f'min дата в interactions: {min_date}')\n",
        "print(f'max дата в interactions: {max_date}')\n",
        "print(f'Продолжительность: {max_date - min_date}')"
      ]
    },
    {
      "cell_type": "code",
      "execution_count": 17,
      "metadata": {
        "id": "L0KvVR8JAStD"
      },
      "outputs": [],
      "source": [
        "ranker_train_size = 0.7\n",
        "ranker_val_size = 0.15\n",
        "ranker_test_size = 0.15"
      ]
    },
    {
      "cell_type": "code",
      "execution_count": 18,
      "metadata": {
        "id": "w2izZmoyAAj-"
      },
      "outputs": [],
      "source": [
        "ranker_days_count = 30\n",
        "ranker_data = interactions[\n",
        "    (interactions[Columns.Datetime] >= max_date - pd.Timedelta(days=ranker_days_count))\n",
        "]"
      ]
    },
    {
      "cell_type": "code",
      "execution_count": 19,
      "metadata": {
        "id": "jKL9vDnMAAnT"
      },
      "outputs": [],
      "source": [
        "train_val_users, test_users = train_test_split(\n",
        "    ranker_data['user_id'].unique(), random_state=SEED, test_size=ranker_test_size\n",
        ")\n",
        "\n",
        "train_users, val_users = train_test_split(\n",
        "    train_val_users, random_state=SEED, test_size=ranker_val_size / (ranker_train_size + ranker_val_size)\n",
        ")"
      ]
    },
    {
      "cell_type": "code",
      "execution_count": 20,
      "metadata": {
        "id": "HtUFtV9aAApx"
      },
      "outputs": [],
      "source": [
        "base_models_data = interactions[\n",
        "    (interactions[Columns.Datetime] < max_date - pd.Timedelta(days=ranker_days_count))\n",
        "]"
      ]
    },
    {
      "cell_type": "markdown",
      "metadata": {
        "id": "1AohU7gpDc-p"
      },
      "source": [
        "## Create ranker dataset"
      ]
    },
    {
      "cell_type": "markdown",
      "metadata": {
        "id": "vRGdz9GvlJNI"
      },
      "source": [
        "### From seminar code"
      ]
    },
    {
      "cell_type": "code",
      "execution_count": 21,
      "metadata": {
        "colab": {
          "base_uri": "https://localhost:8080/",
          "height": 143
        },
        "id": "z8bOx9D4DclA",
        "outputId": "8694869b-354e-4d5e-ac1c-1d37f1a73bb2"
      },
      "outputs": [
        {
          "output_type": "execute_result",
          "data": {
            "text/plain": [
              "   user_id  item_id   datetime  total_dur  weight  user_hist  item_pop  \\\n",
              "0        0     6006 2021-07-20          1     0.0          6      5208   \n",
              "1        0     7102 2021-07-19        169     3.0          6     11626   \n",
              "2        0    14359 2021-07-19        130     2.0          6      6053   \n",
              "\n",
              "   user_avg_pop  item_avg_hist  user_last_pop  \n",
              "0       41885.0      16.891897           5208  \n",
              "1       41885.0      20.349475           5208  \n",
              "2       41885.0      22.546836           5208  "
            ],
            "text/html": [
              "\n",
              "  <div id=\"df-ff6e7f86-8346-4791-ba81-80e03e910235\">\n",
              "    <div class=\"colab-df-container\">\n",
              "      <div>\n",
              "<style scoped>\n",
              "    .dataframe tbody tr th:only-of-type {\n",
              "        vertical-align: middle;\n",
              "    }\n",
              "\n",
              "    .dataframe tbody tr th {\n",
              "        vertical-align: top;\n",
              "    }\n",
              "\n",
              "    .dataframe thead th {\n",
              "        text-align: right;\n",
              "    }\n",
              "</style>\n",
              "<table border=\"1\" class=\"dataframe\">\n",
              "  <thead>\n",
              "    <tr style=\"text-align: right;\">\n",
              "      <th></th>\n",
              "      <th>user_id</th>\n",
              "      <th>item_id</th>\n",
              "      <th>datetime</th>\n",
              "      <th>total_dur</th>\n",
              "      <th>weight</th>\n",
              "      <th>user_hist</th>\n",
              "      <th>item_pop</th>\n",
              "      <th>user_avg_pop</th>\n",
              "      <th>item_avg_hist</th>\n",
              "      <th>user_last_pop</th>\n",
              "    </tr>\n",
              "  </thead>\n",
              "  <tbody>\n",
              "    <tr>\n",
              "      <th>0</th>\n",
              "      <td>0</td>\n",
              "      <td>6006</td>\n",
              "      <td>2021-07-20</td>\n",
              "      <td>1</td>\n",
              "      <td>0.0</td>\n",
              "      <td>6</td>\n",
              "      <td>5208</td>\n",
              "      <td>41885.0</td>\n",
              "      <td>16.891897</td>\n",
              "      <td>5208</td>\n",
              "    </tr>\n",
              "    <tr>\n",
              "      <th>1</th>\n",
              "      <td>0</td>\n",
              "      <td>7102</td>\n",
              "      <td>2021-07-19</td>\n",
              "      <td>169</td>\n",
              "      <td>3.0</td>\n",
              "      <td>6</td>\n",
              "      <td>11626</td>\n",
              "      <td>41885.0</td>\n",
              "      <td>20.349475</td>\n",
              "      <td>5208</td>\n",
              "    </tr>\n",
              "    <tr>\n",
              "      <th>2</th>\n",
              "      <td>0</td>\n",
              "      <td>14359</td>\n",
              "      <td>2021-07-19</td>\n",
              "      <td>130</td>\n",
              "      <td>2.0</td>\n",
              "      <td>6</td>\n",
              "      <td>6053</td>\n",
              "      <td>41885.0</td>\n",
              "      <td>22.546836</td>\n",
              "      <td>5208</td>\n",
              "    </tr>\n",
              "  </tbody>\n",
              "</table>\n",
              "</div>\n",
              "      <button class=\"colab-df-convert\" onclick=\"convertToInteractive('df-ff6e7f86-8346-4791-ba81-80e03e910235')\"\n",
              "              title=\"Convert this dataframe to an interactive table.\"\n",
              "              style=\"display:none;\">\n",
              "        \n",
              "  <svg xmlns=\"http://www.w3.org/2000/svg\" height=\"24px\"viewBox=\"0 0 24 24\"\n",
              "       width=\"24px\">\n",
              "    <path d=\"M0 0h24v24H0V0z\" fill=\"none\"/>\n",
              "    <path d=\"M18.56 5.44l.94 2.06.94-2.06 2.06-.94-2.06-.94-.94-2.06-.94 2.06-2.06.94zm-11 1L8.5 8.5l.94-2.06 2.06-.94-2.06-.94L8.5 2.5l-.94 2.06-2.06.94zm10 10l.94 2.06.94-2.06 2.06-.94-2.06-.94-.94-2.06-.94 2.06-2.06.94z\"/><path d=\"M17.41 7.96l-1.37-1.37c-.4-.4-.92-.59-1.43-.59-.52 0-1.04.2-1.43.59L10.3 9.45l-7.72 7.72c-.78.78-.78 2.05 0 2.83L4 21.41c.39.39.9.59 1.41.59.51 0 1.02-.2 1.41-.59l7.78-7.78 2.81-2.81c.8-.78.8-2.07 0-2.86zM5.41 20L4 18.59l7.72-7.72 1.47 1.35L5.41 20z\"/>\n",
              "  </svg>\n",
              "      </button>\n",
              "      \n",
              "  <style>\n",
              "    .colab-df-container {\n",
              "      display:flex;\n",
              "      flex-wrap:wrap;\n",
              "      gap: 12px;\n",
              "    }\n",
              "\n",
              "    .colab-df-convert {\n",
              "      background-color: #E8F0FE;\n",
              "      border: none;\n",
              "      border-radius: 50%;\n",
              "      cursor: pointer;\n",
              "      display: none;\n",
              "      fill: #1967D2;\n",
              "      height: 32px;\n",
              "      padding: 0 0 0 0;\n",
              "      width: 32px;\n",
              "    }\n",
              "\n",
              "    .colab-df-convert:hover {\n",
              "      background-color: #E2EBFA;\n",
              "      box-shadow: 0px 1px 2px rgba(60, 64, 67, 0.3), 0px 1px 3px 1px rgba(60, 64, 67, 0.15);\n",
              "      fill: #174EA6;\n",
              "    }\n",
              "\n",
              "    [theme=dark] .colab-df-convert {\n",
              "      background-color: #3B4455;\n",
              "      fill: #D2E3FC;\n",
              "    }\n",
              "\n",
              "    [theme=dark] .colab-df-convert:hover {\n",
              "      background-color: #434B5C;\n",
              "      box-shadow: 0px 1px 3px 1px rgba(0, 0, 0, 0.15);\n",
              "      filter: drop-shadow(0px 1px 2px rgba(0, 0, 0, 0.3));\n",
              "      fill: #FFFFFF;\n",
              "    }\n",
              "  </style>\n",
              "\n",
              "      <script>\n",
              "        const buttonEl =\n",
              "          document.querySelector('#df-ff6e7f86-8346-4791-ba81-80e03e910235 button.colab-df-convert');\n",
              "        buttonEl.style.display =\n",
              "          google.colab.kernel.accessAllowed ? 'block' : 'none';\n",
              "\n",
              "        async function convertToInteractive(key) {\n",
              "          const element = document.querySelector('#df-ff6e7f86-8346-4791-ba81-80e03e910235');\n",
              "          const dataTable =\n",
              "            await google.colab.kernel.invokeFunction('convertToInteractive',\n",
              "                                                     [key], {});\n",
              "          if (!dataTable) return;\n",
              "\n",
              "          const docLinkHtml = 'Like what you see? Visit the ' +\n",
              "            '<a target=\"_blank\" href=https://colab.research.google.com/notebooks/data_table.ipynb>data table notebook</a>'\n",
              "            + ' to learn more about interactive tables.';\n",
              "          element.innerHTML = '';\n",
              "          dataTable['output_type'] = 'display_data';\n",
              "          await google.colab.output.renderOutput(dataTable, element);\n",
              "          const docLink = document.createElement('div');\n",
              "          docLink.innerHTML = docLinkHtml;\n",
              "          element.appendChild(docLink);\n",
              "        }\n",
              "      </script>\n",
              "    </div>\n",
              "  </div>\n",
              "  "
            ]
          },
          "metadata": {},
          "execution_count": 21
        }
      ],
      "source": [
        "# Получаем длину истории юзера \n",
        "base_models_data['user_hist'] = (\n",
        "    base_models_data.groupby('user_id')\n",
        "    ['item_id'].transform('count')\n",
        ")\n",
        "# Получаем популярность контента\n",
        "base_models_data['item_pop'] = (\n",
        "    base_models_data.groupby('item_id')\n",
        "    ['user_id'].transform('count')\n",
        ")\n",
        "# Получаем среднюю популярность контента, просматриваемого этим юзером\n",
        "base_models_data['user_avg_pop'] = (\n",
        "    base_models_data.groupby('user_id')\n",
        "    ['item_pop'].transform('mean')\n",
        ")\n",
        "# Получаем среднюю длину истории пользователя, которые смотрит этот контент\n",
        "base_models_data['item_avg_hist'] = (\n",
        "    base_models_data.groupby('item_id')\n",
        "    ['user_hist'].transform('mean')\n",
        ")\n",
        "# Получаем популярность последнего просмотренного контента\n",
        "base_models_data.sort_values(\n",
        "    by=[Columns.User, Columns.Datetime], \n",
        "    ascending=[True, False], \n",
        "    ignore_index=True,\n",
        "    inplace=True,\n",
        ")\n",
        "base_models_data['user_last_pop'] = (\n",
        "    base_models_data.groupby('user_id')\n",
        "    ['item_pop'].transform('first')\n",
        ")\n",
        "base_models_data.head(3)\n"
      ]
    },
    {
      "cell_type": "markdown",
      "metadata": {
        "id": "CKeXOrWJlXvP"
      },
      "source": [
        "### Custom features"
      ]
    },
    {
      "cell_type": "code",
      "execution_count": 22,
      "metadata": {
        "id": "zPO1Tbk0lLob"
      },
      "outputs": [],
      "source": [
        "# Users age mode for current item\n",
        "full_base_data = base_models_data.merge(users, on='user_id', how='left')\n",
        "full_base_data['age'] = full_base_data['age'].astype(float)\n",
        "age_mode_data = full_base_data.groupby('item_id')['age'].agg(lambda x: stats.mode(x)[0][0]).reset_index().rename(columns={'age': 'user_age_mode'})\n",
        "full_base_data = full_base_data.merge(age_mode_data, on='item_id', how='left')\n",
        "\n",
        "# Users income mode for current item\n",
        "full_base_data['income'] = full_base_data['income'].astype(float)\n",
        "income_mode_data = full_base_data.groupby('item_id')['income'].agg(lambda x: stats.mode(x)[0][0]).reset_index().rename(columns={'income': 'user_income_mode'})\n",
        "full_base_data = full_base_data.merge(income_mode_data, on='item_id', how='left')\n",
        "\n",
        "# Item's popularity with kids\n",
        "full_base_data['kids_flg_float'] = full_base_data['kids_flg'].astype(float)\n",
        "full_base_data['kids_flg_float'] = full_base_data['kids_flg_float'].fillna(-1)\n",
        "kids_pop_data = full_base_data[\n",
        "    full_base_data['kids_flg_float'] != -1\n",
        "].groupby('item_id')['kids_flg_float'].sum() / full_base_data[full_base_data['kids_flg_float'] != -1].groupby('item_id')['kids_flg_float'].count()\n",
        "full_base_data = full_base_data.merge(kids_pop_data.reset_index().rename(columns={'kids_flg_float': 'kids_pop'}), on='item_id', how='left')\n",
        "\n",
        "# Item's popularity with female/male\n",
        "full_base_data['sex_float'] = full_base_data['sex'].astype(float)\n",
        "full_base_data['sex_float'] = full_base_data['sex_float'].fillna(-1)\n",
        "male_pop_data = full_base_data[\n",
        "    full_base_data['sex_float'] != -1\n",
        "].groupby('item_id')['sex_float'].sum() / full_base_data[full_base_data['sex_float'] != -1].groupby('item_id')['sex_float'].count()\n",
        "full_base_data = full_base_data.merge(male_pop_data.reset_index().rename(columns={'sex_float': 'male_pop'}), on='item_id', how='left')\n",
        "\n",
        "full_base_data['female_pop'] = 1 - full_base_data['male_pop']\n",
        "\n",
        "\n",
        "full_base_data = full_base_data.drop(['kids_flg_float', 'sex_float', 'datetime'], axis=1)"
      ]
    },
    {
      "cell_type": "code",
      "execution_count": 23,
      "metadata": {
        "id": "mlBffvKvsEbJ"
      },
      "outputs": [],
      "source": [
        "assert full_base_data.shape[0] == base_models_data.shape[0]"
      ]
    },
    {
      "cell_type": "code",
      "execution_count": 24,
      "metadata": {
        "colab": {
          "base_uri": "https://localhost:8080/"
        },
        "id": "VHSkK8TpwNm2",
        "outputId": "725c0cee-012e-4813-bcb3-151bb9e6d78d"
      },
      "outputs": [
        {
          "output_type": "execute_result",
          "data": {
            "text/plain": [
              "31"
            ]
          },
          "metadata": {},
          "execution_count": 24
        }
      ],
      "source": [
        "del age_mode_data, income_mode_data, kids_pop_data, male_pop_data, interactions #base_models_data\n",
        "gc.collect()"
      ]
    },
    {
      "cell_type": "markdown",
      "metadata": {
        "id": "gytnVLe0r97v"
      },
      "source": [
        "### Items/users features joining"
      ]
    },
    {
      "cell_type": "code",
      "execution_count": 25,
      "metadata": {
        "id": "0QdOXddagkrl"
      },
      "outputs": [],
      "source": [
        "for col in full_base_data.columns:\n",
        "  if isinstance(full_base_data[col].dtype, pd.CategoricalDtype):\n",
        "    if -1 not in full_base_data[col].cat.categories:\n",
        "      full_base_data[col] = full_base_data[col].cat.add_categories(-1)\n",
        "      full_base_data.fillna({col: -1}, inplace=True)\n",
        "  else:\n",
        "     full_base_data.fillna({col: -1}, inplace=True)"
      ]
    },
    {
      "cell_type": "code",
      "execution_count": 26,
      "metadata": {
        "colab": {
          "base_uri": "https://localhost:8080/",
          "height": 143
        },
        "id": "sAjquIcgDqEW",
        "outputId": "828c2bf3-410d-47b1-b893-8258308256b9"
      },
      "outputs": [
        {
          "output_type": "execute_result",
          "data": {
            "text/plain": [
              "   user_id  user_hist  user_avg_pop  user_last_pop  age  income kids_flg  sex\n",
              "0   973171        5.0  19550.800000        93403.0  1.0     4.0        1    1\n",
              "1   962099       13.0   1329.307692          260.0  0.0     2.0        0    1\n",
              "2  1047345        NaN           NaN            NaN  NaN     NaN      NaN  NaN"
            ],
            "text/html": [
              "\n",
              "  <div id=\"df-6cfe1dec-4777-4b5e-9614-ad82d67670a8\">\n",
              "    <div class=\"colab-df-container\">\n",
              "      <div>\n",
              "<style scoped>\n",
              "    .dataframe tbody tr th:only-of-type {\n",
              "        vertical-align: middle;\n",
              "    }\n",
              "\n",
              "    .dataframe tbody tr th {\n",
              "        vertical-align: top;\n",
              "    }\n",
              "\n",
              "    .dataframe thead th {\n",
              "        text-align: right;\n",
              "    }\n",
              "</style>\n",
              "<table border=\"1\" class=\"dataframe\">\n",
              "  <thead>\n",
              "    <tr style=\"text-align: right;\">\n",
              "      <th></th>\n",
              "      <th>user_id</th>\n",
              "      <th>user_hist</th>\n",
              "      <th>user_avg_pop</th>\n",
              "      <th>user_last_pop</th>\n",
              "      <th>age</th>\n",
              "      <th>income</th>\n",
              "      <th>kids_flg</th>\n",
              "      <th>sex</th>\n",
              "    </tr>\n",
              "  </thead>\n",
              "  <tbody>\n",
              "    <tr>\n",
              "      <th>0</th>\n",
              "      <td>973171</td>\n",
              "      <td>5.0</td>\n",
              "      <td>19550.800000</td>\n",
              "      <td>93403.0</td>\n",
              "      <td>1.0</td>\n",
              "      <td>4.0</td>\n",
              "      <td>1</td>\n",
              "      <td>1</td>\n",
              "    </tr>\n",
              "    <tr>\n",
              "      <th>1</th>\n",
              "      <td>962099</td>\n",
              "      <td>13.0</td>\n",
              "      <td>1329.307692</td>\n",
              "      <td>260.0</td>\n",
              "      <td>0.0</td>\n",
              "      <td>2.0</td>\n",
              "      <td>0</td>\n",
              "      <td>1</td>\n",
              "    </tr>\n",
              "    <tr>\n",
              "      <th>2</th>\n",
              "      <td>1047345</td>\n",
              "      <td>NaN</td>\n",
              "      <td>NaN</td>\n",
              "      <td>NaN</td>\n",
              "      <td>NaN</td>\n",
              "      <td>NaN</td>\n",
              "      <td>NaN</td>\n",
              "      <td>NaN</td>\n",
              "    </tr>\n",
              "  </tbody>\n",
              "</table>\n",
              "</div>\n",
              "      <button class=\"colab-df-convert\" onclick=\"convertToInteractive('df-6cfe1dec-4777-4b5e-9614-ad82d67670a8')\"\n",
              "              title=\"Convert this dataframe to an interactive table.\"\n",
              "              style=\"display:none;\">\n",
              "        \n",
              "  <svg xmlns=\"http://www.w3.org/2000/svg\" height=\"24px\"viewBox=\"0 0 24 24\"\n",
              "       width=\"24px\">\n",
              "    <path d=\"M0 0h24v24H0V0z\" fill=\"none\"/>\n",
              "    <path d=\"M18.56 5.44l.94 2.06.94-2.06 2.06-.94-2.06-.94-.94-2.06-.94 2.06-2.06.94zm-11 1L8.5 8.5l.94-2.06 2.06-.94-2.06-.94L8.5 2.5l-.94 2.06-2.06.94zm10 10l.94 2.06.94-2.06 2.06-.94-2.06-.94-.94-2.06-.94 2.06-2.06.94z\"/><path d=\"M17.41 7.96l-1.37-1.37c-.4-.4-.92-.59-1.43-.59-.52 0-1.04.2-1.43.59L10.3 9.45l-7.72 7.72c-.78.78-.78 2.05 0 2.83L4 21.41c.39.39.9.59 1.41.59.51 0 1.02-.2 1.41-.59l7.78-7.78 2.81-2.81c.8-.78.8-2.07 0-2.86zM5.41 20L4 18.59l7.72-7.72 1.47 1.35L5.41 20z\"/>\n",
              "  </svg>\n",
              "      </button>\n",
              "      \n",
              "  <style>\n",
              "    .colab-df-container {\n",
              "      display:flex;\n",
              "      flex-wrap:wrap;\n",
              "      gap: 12px;\n",
              "    }\n",
              "\n",
              "    .colab-df-convert {\n",
              "      background-color: #E8F0FE;\n",
              "      border: none;\n",
              "      border-radius: 50%;\n",
              "      cursor: pointer;\n",
              "      display: none;\n",
              "      fill: #1967D2;\n",
              "      height: 32px;\n",
              "      padding: 0 0 0 0;\n",
              "      width: 32px;\n",
              "    }\n",
              "\n",
              "    .colab-df-convert:hover {\n",
              "      background-color: #E2EBFA;\n",
              "      box-shadow: 0px 1px 2px rgba(60, 64, 67, 0.3), 0px 1px 3px 1px rgba(60, 64, 67, 0.15);\n",
              "      fill: #174EA6;\n",
              "    }\n",
              "\n",
              "    [theme=dark] .colab-df-convert {\n",
              "      background-color: #3B4455;\n",
              "      fill: #D2E3FC;\n",
              "    }\n",
              "\n",
              "    [theme=dark] .colab-df-convert:hover {\n",
              "      background-color: #434B5C;\n",
              "      box-shadow: 0px 1px 3px 1px rgba(0, 0, 0, 0.15);\n",
              "      filter: drop-shadow(0px 1px 2px rgba(0, 0, 0, 0.3));\n",
              "      fill: #FFFFFF;\n",
              "    }\n",
              "  </style>\n",
              "\n",
              "      <script>\n",
              "        const buttonEl =\n",
              "          document.querySelector('#df-6cfe1dec-4777-4b5e-9614-ad82d67670a8 button.colab-df-convert');\n",
              "        buttonEl.style.display =\n",
              "          google.colab.kernel.accessAllowed ? 'block' : 'none';\n",
              "\n",
              "        async function convertToInteractive(key) {\n",
              "          const element = document.querySelector('#df-6cfe1dec-4777-4b5e-9614-ad82d67670a8');\n",
              "          const dataTable =\n",
              "            await google.colab.kernel.invokeFunction('convertToInteractive',\n",
              "                                                     [key], {});\n",
              "          if (!dataTable) return;\n",
              "\n",
              "          const docLinkHtml = 'Like what you see? Visit the ' +\n",
              "            '<a target=\"_blank\" href=https://colab.research.google.com/notebooks/data_table.ipynb>data table notebook</a>'\n",
              "            + ' to learn more about interactive tables.';\n",
              "          element.innerHTML = '';\n",
              "          dataTable['output_type'] = 'display_data';\n",
              "          await google.colab.output.renderOutput(dataTable, element);\n",
              "          const docLink = document.createElement('div');\n",
              "          docLink.innerHTML = docLinkHtml;\n",
              "          element.appendChild(docLink);\n",
              "        }\n",
              "      </script>\n",
              "    </div>\n",
              "  </div>\n",
              "  "
            ]
          },
          "metadata": {},
          "execution_count": 26
        }
      ],
      "source": [
        "items = pd.merge(\n",
        "    left=items, \n",
        "    right=(\n",
        "        full_base_data\n",
        "        [['item_id', 'item_pop', 'item_avg_hist', 'user_age_mode', 'user_income_mode', 'kids_pop', 'male_pop', 'female_pop']]\n",
        "        .drop_duplicates()\n",
        "    ),\n",
        "    how='left',\n",
        "    on='item_id',\n",
        ")\n",
        "\n",
        "users = pd.merge(\n",
        "    left=users.drop(['age', 'income', 'kids_flg', 'sex'], axis=1), \n",
        "    right=(\n",
        "        full_base_data\n",
        "        [['user_id', 'user_hist', 'user_avg_pop', 'user_last_pop', 'age', 'income', 'kids_flg', 'sex']]\n",
        "        .drop_duplicates()\n",
        "    ),\n",
        "    how='left',\n",
        "    on='user_id',\n",
        ")\n",
        "users.head(3)"
      ]
    },
    {
      "cell_type": "code",
      "execution_count": 27,
      "metadata": {
        "colab": {
          "base_uri": "https://localhost:8080/",
          "height": 143
        },
        "id": "u_LcQgB8_bWT",
        "outputId": "5c95373c-5011-4c8a-8904-45014b72da13"
      },
      "outputs": [
        {
          "output_type": "execute_result",
          "data": {
            "text/plain": [
              "   item_id content_type  release_year for_kids  age_rating studios  item_pop  \\\n",
              "0    10711            0        2002.0       -1        16.0      -1       4.0   \n",
              "1     2508            0        2014.0       -1        16.0      -1       9.0   \n",
              "2    10716            0        2011.0       -1        16.0      -1       6.0   \n",
              "\n",
              "   item_avg_hist  user_age_mode  user_income_mode  kids_pop  male_pop  \\\n",
              "0      63.250000            0.0               2.0       0.0  0.333333   \n",
              "1      75.222222           -1.0               2.0       0.2  0.600000   \n",
              "2      65.666667            0.0               3.0       0.4  0.400000   \n",
              "\n",
              "   female_pop  \n",
              "0    0.666667  \n",
              "1    0.400000  \n",
              "2    0.600000  "
            ],
            "text/html": [
              "\n",
              "  <div id=\"df-c3d05c36-c124-4ffc-8603-c371e7a1c285\">\n",
              "    <div class=\"colab-df-container\">\n",
              "      <div>\n",
              "<style scoped>\n",
              "    .dataframe tbody tr th:only-of-type {\n",
              "        vertical-align: middle;\n",
              "    }\n",
              "\n",
              "    .dataframe tbody tr th {\n",
              "        vertical-align: top;\n",
              "    }\n",
              "\n",
              "    .dataframe thead th {\n",
              "        text-align: right;\n",
              "    }\n",
              "</style>\n",
              "<table border=\"1\" class=\"dataframe\">\n",
              "  <thead>\n",
              "    <tr style=\"text-align: right;\">\n",
              "      <th></th>\n",
              "      <th>item_id</th>\n",
              "      <th>content_type</th>\n",
              "      <th>release_year</th>\n",
              "      <th>for_kids</th>\n",
              "      <th>age_rating</th>\n",
              "      <th>studios</th>\n",
              "      <th>item_pop</th>\n",
              "      <th>item_avg_hist</th>\n",
              "      <th>user_age_mode</th>\n",
              "      <th>user_income_mode</th>\n",
              "      <th>kids_pop</th>\n",
              "      <th>male_pop</th>\n",
              "      <th>female_pop</th>\n",
              "    </tr>\n",
              "  </thead>\n",
              "  <tbody>\n",
              "    <tr>\n",
              "      <th>0</th>\n",
              "      <td>10711</td>\n",
              "      <td>0</td>\n",
              "      <td>2002.0</td>\n",
              "      <td>-1</td>\n",
              "      <td>16.0</td>\n",
              "      <td>-1</td>\n",
              "      <td>4.0</td>\n",
              "      <td>63.250000</td>\n",
              "      <td>0.0</td>\n",
              "      <td>2.0</td>\n",
              "      <td>0.0</td>\n",
              "      <td>0.333333</td>\n",
              "      <td>0.666667</td>\n",
              "    </tr>\n",
              "    <tr>\n",
              "      <th>1</th>\n",
              "      <td>2508</td>\n",
              "      <td>0</td>\n",
              "      <td>2014.0</td>\n",
              "      <td>-1</td>\n",
              "      <td>16.0</td>\n",
              "      <td>-1</td>\n",
              "      <td>9.0</td>\n",
              "      <td>75.222222</td>\n",
              "      <td>-1.0</td>\n",
              "      <td>2.0</td>\n",
              "      <td>0.2</td>\n",
              "      <td>0.600000</td>\n",
              "      <td>0.400000</td>\n",
              "    </tr>\n",
              "    <tr>\n",
              "      <th>2</th>\n",
              "      <td>10716</td>\n",
              "      <td>0</td>\n",
              "      <td>2011.0</td>\n",
              "      <td>-1</td>\n",
              "      <td>16.0</td>\n",
              "      <td>-1</td>\n",
              "      <td>6.0</td>\n",
              "      <td>65.666667</td>\n",
              "      <td>0.0</td>\n",
              "      <td>3.0</td>\n",
              "      <td>0.4</td>\n",
              "      <td>0.400000</td>\n",
              "      <td>0.600000</td>\n",
              "    </tr>\n",
              "  </tbody>\n",
              "</table>\n",
              "</div>\n",
              "      <button class=\"colab-df-convert\" onclick=\"convertToInteractive('df-c3d05c36-c124-4ffc-8603-c371e7a1c285')\"\n",
              "              title=\"Convert this dataframe to an interactive table.\"\n",
              "              style=\"display:none;\">\n",
              "        \n",
              "  <svg xmlns=\"http://www.w3.org/2000/svg\" height=\"24px\"viewBox=\"0 0 24 24\"\n",
              "       width=\"24px\">\n",
              "    <path d=\"M0 0h24v24H0V0z\" fill=\"none\"/>\n",
              "    <path d=\"M18.56 5.44l.94 2.06.94-2.06 2.06-.94-2.06-.94-.94-2.06-.94 2.06-2.06.94zm-11 1L8.5 8.5l.94-2.06 2.06-.94-2.06-.94L8.5 2.5l-.94 2.06-2.06.94zm10 10l.94 2.06.94-2.06 2.06-.94-2.06-.94-.94-2.06-.94 2.06-2.06.94z\"/><path d=\"M17.41 7.96l-1.37-1.37c-.4-.4-.92-.59-1.43-.59-.52 0-1.04.2-1.43.59L10.3 9.45l-7.72 7.72c-.78.78-.78 2.05 0 2.83L4 21.41c.39.39.9.59 1.41.59.51 0 1.02-.2 1.41-.59l7.78-7.78 2.81-2.81c.8-.78.8-2.07 0-2.86zM5.41 20L4 18.59l7.72-7.72 1.47 1.35L5.41 20z\"/>\n",
              "  </svg>\n",
              "      </button>\n",
              "      \n",
              "  <style>\n",
              "    .colab-df-container {\n",
              "      display:flex;\n",
              "      flex-wrap:wrap;\n",
              "      gap: 12px;\n",
              "    }\n",
              "\n",
              "    .colab-df-convert {\n",
              "      background-color: #E8F0FE;\n",
              "      border: none;\n",
              "      border-radius: 50%;\n",
              "      cursor: pointer;\n",
              "      display: none;\n",
              "      fill: #1967D2;\n",
              "      height: 32px;\n",
              "      padding: 0 0 0 0;\n",
              "      width: 32px;\n",
              "    }\n",
              "\n",
              "    .colab-df-convert:hover {\n",
              "      background-color: #E2EBFA;\n",
              "      box-shadow: 0px 1px 2px rgba(60, 64, 67, 0.3), 0px 1px 3px 1px rgba(60, 64, 67, 0.15);\n",
              "      fill: #174EA6;\n",
              "    }\n",
              "\n",
              "    [theme=dark] .colab-df-convert {\n",
              "      background-color: #3B4455;\n",
              "      fill: #D2E3FC;\n",
              "    }\n",
              "\n",
              "    [theme=dark] .colab-df-convert:hover {\n",
              "      background-color: #434B5C;\n",
              "      box-shadow: 0px 1px 3px 1px rgba(0, 0, 0, 0.15);\n",
              "      filter: drop-shadow(0px 1px 2px rgba(0, 0, 0, 0.3));\n",
              "      fill: #FFFFFF;\n",
              "    }\n",
              "  </style>\n",
              "\n",
              "      <script>\n",
              "        const buttonEl =\n",
              "          document.querySelector('#df-c3d05c36-c124-4ffc-8603-c371e7a1c285 button.colab-df-convert');\n",
              "        buttonEl.style.display =\n",
              "          google.colab.kernel.accessAllowed ? 'block' : 'none';\n",
              "\n",
              "        async function convertToInteractive(key) {\n",
              "          const element = document.querySelector('#df-c3d05c36-c124-4ffc-8603-c371e7a1c285');\n",
              "          const dataTable =\n",
              "            await google.colab.kernel.invokeFunction('convertToInteractive',\n",
              "                                                     [key], {});\n",
              "          if (!dataTable) return;\n",
              "\n",
              "          const docLinkHtml = 'Like what you see? Visit the ' +\n",
              "            '<a target=\"_blank\" href=https://colab.research.google.com/notebooks/data_table.ipynb>data table notebook</a>'\n",
              "            + ' to learn more about interactive tables.';\n",
              "          element.innerHTML = '';\n",
              "          dataTable['output_type'] = 'display_data';\n",
              "          await google.colab.output.renderOutput(dataTable, element);\n",
              "          const docLink = document.createElement('div');\n",
              "          docLink.innerHTML = docLinkHtml;\n",
              "          element.appendChild(docLink);\n",
              "        }\n",
              "      </script>\n",
              "    </div>\n",
              "  </div>\n",
              "  "
            ]
          },
          "metadata": {},
          "execution_count": 27
        }
      ],
      "source": [
        "items.head(3)"
      ]
    },
    {
      "cell_type": "markdown",
      "metadata": {
        "id": "ZKbZ-GWdBHpX"
      },
      "source": [
        "#### Default features"
      ]
    },
    {
      "cell_type": "code",
      "execution_count": 28,
      "metadata": {
        "id": "iauhJJivDqH_"
      },
      "outputs": [],
      "source": [
        "for col in ['item_pop', 'item_avg_hist', 'male_pop', 'female_pop']:\n",
        "  default_values_items[col] = full_base_data[col].median()\n",
        "\n",
        "for col in ['content_type',  'kids_pop']:\n",
        "  default_values_items[col] = 0\n",
        "\n",
        "for col in ['for_kids', 'studios', 'user_income_mode', 'user_age_mode']:\n",
        "  default_values_items[col] = -1\n",
        "  \n",
        "default_values_users = {\n",
        "    'user_hist': 0,\n",
        "    'user_avg_pop': full_base_data['user_avg_pop'].median(),\n",
        "    'user_last_pop': full_base_data['user_last_pop'].median(),\n",
        "}"
      ]
    },
    {
      "cell_type": "markdown",
      "metadata": {
        "id": "MDJb68B-bRUa"
      },
      "source": [
        "### Build ranker dataset"
      ]
    },
    {
      "cell_type": "code",
      "execution_count": 29,
      "metadata": {
        "id": "-86I_viFDcoa"
      },
      "outputs": [],
      "source": [
        "def users_filter(\n",
        "    user_list: np.ndarray,\n",
        "    candidates_df: pd.DataFrame, \n",
        "    df: pd.DataFrame,\n",
        "    how='right'\n",
        ") -> pd.DataFrame:\n",
        "    df = pd.merge(\n",
        "        df[df['user_id'].isin(user_list)], \n",
        "        candidates_df[candidates_df['user_id'].isin(user_list)], \n",
        "        how=how,  # ? \n",
        "        on=['user_id', 'item_id']\n",
        "    )\n",
        "    \n",
        "    default_values = {\n",
        "        'als_score': df['als_score'].min() - 0.01,\n",
        "        'als_rank': df['als_rank'].max() + 1,\n",
        "        'lfm_score': df['lfm_score'].min() - 0.01,\n",
        "        'lfm_rank': df['lfm_rank'].max() + 1,\n",
        "        'pop_score': df['pop_score'].min() - 0.01,\n",
        "        'pop_rank': df['pop_rank'].max() + 1,\n",
        "        **interactions_default_values,\n",
        "    }\n",
        "    df.fillna(default_values, inplace=True)\n",
        "        \n",
        "    df.sort_values(\n",
        "        by=['user_id', 'item_id'],\n",
        "        inplace=True,\n",
        "    )\n",
        "    return df"
      ]
    },
    {
      "cell_type": "code",
      "execution_count": 30,
      "metadata": {
        "id": "MCR3n8ySHG93"
      },
      "outputs": [],
      "source": [
        "def add_features(df: pd.DataFrame) -> pd.DataFrame:\n",
        "    df = pd.merge(\n",
        "        df, \n",
        "        users, \n",
        "        how='left', \n",
        "        on=['user_id']\n",
        "    )\n",
        "    df = pd.merge(\n",
        "        df, \n",
        "        items, \n",
        "        how='left', \n",
        "        on=['item_id']\n",
        "    )\n",
        "\n",
        "    df.fillna(default_values_items, inplace=True)\n",
        "    df.fillna(default_values_users, inplace=True)\n",
        "\n",
        "    for col in df.columns:\n",
        "        if isinstance(df[col].dtype, pd.CategoricalDtype):\n",
        "            if -1 not in df[col].cat.categories:\n",
        "                df[col] = df[col].cat.add_categories(-1)\n",
        "            df.fillna({col: -1}, inplace=True)\n",
        "    return df"
      ]
    },
    {
      "cell_type": "code",
      "execution_count": 31,
      "metadata": {
        "colab": {
          "base_uri": "https://localhost:8080/",
          "height": 206
        },
        "id": "2i1p0E9MDMCn",
        "outputId": "48b08589-04f3-4094-dbf1-d83cf3b9697a"
      },
      "outputs": [
        {
          "output_type": "execute_result",
          "data": {
            "text/plain": [
              "   Unnamed: 0  user_id  item_id  als_score  als_rank  lfm_score  lfm_rank  \\\n",
              "0        37.0   699317    10876   1.353945       8.0   1.441382      30.0   \n",
              "1        41.0   699317     3309   1.256813      12.0   2.057376       3.0   \n",
              "2        42.0   699317    12132   1.244004      13.0   1.562747      25.0   \n",
              "3        45.0   699317    16166   1.216029      16.0   1.915234       7.0   \n",
              "4        58.0   699317    11654   1.118920      29.0   1.480057      29.0   \n",
              "\n",
              "   pop_score  pop_rank  \n",
              "0     1611.0       395  \n",
              "1     1393.0       470  \n",
              "2     2983.0       176  \n",
              "3     8522.0        41  \n",
              "4     3116.0       162  "
            ],
            "text/html": [
              "\n",
              "  <div id=\"df-55efa6ee-0500-446e-81c1-79221ddec66a\">\n",
              "    <div class=\"colab-df-container\">\n",
              "      <div>\n",
              "<style scoped>\n",
              "    .dataframe tbody tr th:only-of-type {\n",
              "        vertical-align: middle;\n",
              "    }\n",
              "\n",
              "    .dataframe tbody tr th {\n",
              "        vertical-align: top;\n",
              "    }\n",
              "\n",
              "    .dataframe thead th {\n",
              "        text-align: right;\n",
              "    }\n",
              "</style>\n",
              "<table border=\"1\" class=\"dataframe\">\n",
              "  <thead>\n",
              "    <tr style=\"text-align: right;\">\n",
              "      <th></th>\n",
              "      <th>Unnamed: 0</th>\n",
              "      <th>user_id</th>\n",
              "      <th>item_id</th>\n",
              "      <th>als_score</th>\n",
              "      <th>als_rank</th>\n",
              "      <th>lfm_score</th>\n",
              "      <th>lfm_rank</th>\n",
              "      <th>pop_score</th>\n",
              "      <th>pop_rank</th>\n",
              "    </tr>\n",
              "  </thead>\n",
              "  <tbody>\n",
              "    <tr>\n",
              "      <th>0</th>\n",
              "      <td>37.0</td>\n",
              "      <td>699317</td>\n",
              "      <td>10876</td>\n",
              "      <td>1.353945</td>\n",
              "      <td>8.0</td>\n",
              "      <td>1.441382</td>\n",
              "      <td>30.0</td>\n",
              "      <td>1611.0</td>\n",
              "      <td>395</td>\n",
              "    </tr>\n",
              "    <tr>\n",
              "      <th>1</th>\n",
              "      <td>41.0</td>\n",
              "      <td>699317</td>\n",
              "      <td>3309</td>\n",
              "      <td>1.256813</td>\n",
              "      <td>12.0</td>\n",
              "      <td>2.057376</td>\n",
              "      <td>3.0</td>\n",
              "      <td>1393.0</td>\n",
              "      <td>470</td>\n",
              "    </tr>\n",
              "    <tr>\n",
              "      <th>2</th>\n",
              "      <td>42.0</td>\n",
              "      <td>699317</td>\n",
              "      <td>12132</td>\n",
              "      <td>1.244004</td>\n",
              "      <td>13.0</td>\n",
              "      <td>1.562747</td>\n",
              "      <td>25.0</td>\n",
              "      <td>2983.0</td>\n",
              "      <td>176</td>\n",
              "    </tr>\n",
              "    <tr>\n",
              "      <th>3</th>\n",
              "      <td>45.0</td>\n",
              "      <td>699317</td>\n",
              "      <td>16166</td>\n",
              "      <td>1.216029</td>\n",
              "      <td>16.0</td>\n",
              "      <td>1.915234</td>\n",
              "      <td>7.0</td>\n",
              "      <td>8522.0</td>\n",
              "      <td>41</td>\n",
              "    </tr>\n",
              "    <tr>\n",
              "      <th>4</th>\n",
              "      <td>58.0</td>\n",
              "      <td>699317</td>\n",
              "      <td>11654</td>\n",
              "      <td>1.118920</td>\n",
              "      <td>29.0</td>\n",
              "      <td>1.480057</td>\n",
              "      <td>29.0</td>\n",
              "      <td>3116.0</td>\n",
              "      <td>162</td>\n",
              "    </tr>\n",
              "  </tbody>\n",
              "</table>\n",
              "</div>\n",
              "      <button class=\"colab-df-convert\" onclick=\"convertToInteractive('df-55efa6ee-0500-446e-81c1-79221ddec66a')\"\n",
              "              title=\"Convert this dataframe to an interactive table.\"\n",
              "              style=\"display:none;\">\n",
              "        \n",
              "  <svg xmlns=\"http://www.w3.org/2000/svg\" height=\"24px\"viewBox=\"0 0 24 24\"\n",
              "       width=\"24px\">\n",
              "    <path d=\"M0 0h24v24H0V0z\" fill=\"none\"/>\n",
              "    <path d=\"M18.56 5.44l.94 2.06.94-2.06 2.06-.94-2.06-.94-.94-2.06-.94 2.06-2.06.94zm-11 1L8.5 8.5l.94-2.06 2.06-.94-2.06-.94L8.5 2.5l-.94 2.06-2.06.94zm10 10l.94 2.06.94-2.06 2.06-.94-2.06-.94-.94-2.06-.94 2.06-2.06.94z\"/><path d=\"M17.41 7.96l-1.37-1.37c-.4-.4-.92-.59-1.43-.59-.52 0-1.04.2-1.43.59L10.3 9.45l-7.72 7.72c-.78.78-.78 2.05 0 2.83L4 21.41c.39.39.9.59 1.41.59.51 0 1.02-.2 1.41-.59l7.78-7.78 2.81-2.81c.8-.78.8-2.07 0-2.86zM5.41 20L4 18.59l7.72-7.72 1.47 1.35L5.41 20z\"/>\n",
              "  </svg>\n",
              "      </button>\n",
              "      \n",
              "  <style>\n",
              "    .colab-df-container {\n",
              "      display:flex;\n",
              "      flex-wrap:wrap;\n",
              "      gap: 12px;\n",
              "    }\n",
              "\n",
              "    .colab-df-convert {\n",
              "      background-color: #E8F0FE;\n",
              "      border: none;\n",
              "      border-radius: 50%;\n",
              "      cursor: pointer;\n",
              "      display: none;\n",
              "      fill: #1967D2;\n",
              "      height: 32px;\n",
              "      padding: 0 0 0 0;\n",
              "      width: 32px;\n",
              "    }\n",
              "\n",
              "    .colab-df-convert:hover {\n",
              "      background-color: #E2EBFA;\n",
              "      box-shadow: 0px 1px 2px rgba(60, 64, 67, 0.3), 0px 1px 3px 1px rgba(60, 64, 67, 0.15);\n",
              "      fill: #174EA6;\n",
              "    }\n",
              "\n",
              "    [theme=dark] .colab-df-convert {\n",
              "      background-color: #3B4455;\n",
              "      fill: #D2E3FC;\n",
              "    }\n",
              "\n",
              "    [theme=dark] .colab-df-convert:hover {\n",
              "      background-color: #434B5C;\n",
              "      box-shadow: 0px 1px 3px 1px rgba(0, 0, 0, 0.15);\n",
              "      filter: drop-shadow(0px 1px 2px rgba(0, 0, 0, 0.3));\n",
              "      fill: #FFFFFF;\n",
              "    }\n",
              "  </style>\n",
              "\n",
              "      <script>\n",
              "        const buttonEl =\n",
              "          document.querySelector('#df-55efa6ee-0500-446e-81c1-79221ddec66a button.colab-df-convert');\n",
              "        buttonEl.style.display =\n",
              "          google.colab.kernel.accessAllowed ? 'block' : 'none';\n",
              "\n",
              "        async function convertToInteractive(key) {\n",
              "          const element = document.querySelector('#df-55efa6ee-0500-446e-81c1-79221ddec66a');\n",
              "          const dataTable =\n",
              "            await google.colab.kernel.invokeFunction('convertToInteractive',\n",
              "                                                     [key], {});\n",
              "          if (!dataTable) return;\n",
              "\n",
              "          const docLinkHtml = 'Like what you see? Visit the ' +\n",
              "            '<a target=\"_blank\" href=https://colab.research.google.com/notebooks/data_table.ipynb>data table notebook</a>'\n",
              "            + ' to learn more about interactive tables.';\n",
              "          element.innerHTML = '';\n",
              "          dataTable['output_type'] = 'display_data';\n",
              "          await google.colab.output.renderOutput(dataTable, element);\n",
              "          const docLink = document.createElement('div');\n",
              "          docLink.innerHTML = docLinkHtml;\n",
              "          element.appendChild(docLink);\n",
              "        }\n",
              "      </script>\n",
              "    </div>\n",
              "  </div>\n",
              "  "
            ]
          },
          "metadata": {},
          "execution_count": 31
        }
      ],
      "source": [
        "candidates_df = pd.read_csv('als_candidates.csv').rename(\n",
        "    columns={'rank': 'als_rank', 'score': 'als_score'}\n",
        ").merge(\n",
        "    pd.read_csv('lfm_candidates.csv').rename(\n",
        "      columns={'rank': 'lfm_rank', 'score': 'lfm_score'}\n",
        "    ),\n",
        "    on=['user_id', 'item_id'],\n",
        "     how='outer'\n",
        ")\n",
        "candidates_df = candidates_df[candidates_df['lfm_rank'] < 31]\n",
        "\n",
        "top_popular = pd.read_csv('popular_candidates.csv').rename(columns={'rank': 'pop_rank', 'score': 'pop_score'}).drop('user_id', axis=1)\n",
        "candidates_df = candidates_df.merge(top_popular, on='item_id', how='left')\n",
        "\n",
        "candidates_df.head()"
      ]
    },
    {
      "cell_type": "code",
      "execution_count": 32,
      "metadata": {
        "colab": {
          "base_uri": "https://localhost:8080/",
          "height": 206
        },
        "id": "1YVvFIVquKgk",
        "outputId": "ee99878b-90f8-4835-c227-c316e5902737"
      },
      "outputs": [
        {
          "output_type": "execute_result",
          "data": {
            "text/plain": [
              "         user_id  item_id   datetime  total_dur  weight  Unnamed: 0  \\\n",
              "3700507        3      142 2021-08-13     5892.0   100.0         NaN   \n",
              "3700520        3      849 2021-07-01        0.0     0.0         NaN   \n",
              "1054911        3     1819 2021-07-01        0.0     0.0  16480250.0   \n",
              "3700512        3     1844 2021-07-01        0.0     0.0         NaN   \n",
              "3700508        3     2657 2021-07-01        0.0     0.0         NaN   \n",
              "\n",
              "         als_score  als_rank  lfm_score  lfm_rank  pop_score  pop_rank  \n",
              "3700507  -0.010000      31.0   3.313618       7.0    35862.0         9  \n",
              "3700520  -0.010000      31.0   2.616008      27.0    13304.0        27  \n",
              "1054911   0.146245      21.0   2.678070      25.0     9792.0        34  \n",
              "3700512  -0.010000      31.0   2.977912      15.0    22344.0        15  \n",
              "3700508  -0.010000      31.0   3.282620       9.0    55146.0         6  "
            ],
            "text/html": [
              "\n",
              "  <div id=\"df-83dfd806-f546-47e8-b3a2-52573a93eecd\">\n",
              "    <div class=\"colab-df-container\">\n",
              "      <div>\n",
              "<style scoped>\n",
              "    .dataframe tbody tr th:only-of-type {\n",
              "        vertical-align: middle;\n",
              "    }\n",
              "\n",
              "    .dataframe tbody tr th {\n",
              "        vertical-align: top;\n",
              "    }\n",
              "\n",
              "    .dataframe thead th {\n",
              "        text-align: right;\n",
              "    }\n",
              "</style>\n",
              "<table border=\"1\" class=\"dataframe\">\n",
              "  <thead>\n",
              "    <tr style=\"text-align: right;\">\n",
              "      <th></th>\n",
              "      <th>user_id</th>\n",
              "      <th>item_id</th>\n",
              "      <th>datetime</th>\n",
              "      <th>total_dur</th>\n",
              "      <th>weight</th>\n",
              "      <th>Unnamed: 0</th>\n",
              "      <th>als_score</th>\n",
              "      <th>als_rank</th>\n",
              "      <th>lfm_score</th>\n",
              "      <th>lfm_rank</th>\n",
              "      <th>pop_score</th>\n",
              "      <th>pop_rank</th>\n",
              "    </tr>\n",
              "  </thead>\n",
              "  <tbody>\n",
              "    <tr>\n",
              "      <th>3700507</th>\n",
              "      <td>3</td>\n",
              "      <td>142</td>\n",
              "      <td>2021-08-13</td>\n",
              "      <td>5892.0</td>\n",
              "      <td>100.0</td>\n",
              "      <td>NaN</td>\n",
              "      <td>-0.010000</td>\n",
              "      <td>31.0</td>\n",
              "      <td>3.313618</td>\n",
              "      <td>7.0</td>\n",
              "      <td>35862.0</td>\n",
              "      <td>9</td>\n",
              "    </tr>\n",
              "    <tr>\n",
              "      <th>3700520</th>\n",
              "      <td>3</td>\n",
              "      <td>849</td>\n",
              "      <td>2021-07-01</td>\n",
              "      <td>0.0</td>\n",
              "      <td>0.0</td>\n",
              "      <td>NaN</td>\n",
              "      <td>-0.010000</td>\n",
              "      <td>31.0</td>\n",
              "      <td>2.616008</td>\n",
              "      <td>27.0</td>\n",
              "      <td>13304.0</td>\n",
              "      <td>27</td>\n",
              "    </tr>\n",
              "    <tr>\n",
              "      <th>1054911</th>\n",
              "      <td>3</td>\n",
              "      <td>1819</td>\n",
              "      <td>2021-07-01</td>\n",
              "      <td>0.0</td>\n",
              "      <td>0.0</td>\n",
              "      <td>16480250.0</td>\n",
              "      <td>0.146245</td>\n",
              "      <td>21.0</td>\n",
              "      <td>2.678070</td>\n",
              "      <td>25.0</td>\n",
              "      <td>9792.0</td>\n",
              "      <td>34</td>\n",
              "    </tr>\n",
              "    <tr>\n",
              "      <th>3700512</th>\n",
              "      <td>3</td>\n",
              "      <td>1844</td>\n",
              "      <td>2021-07-01</td>\n",
              "      <td>0.0</td>\n",
              "      <td>0.0</td>\n",
              "      <td>NaN</td>\n",
              "      <td>-0.010000</td>\n",
              "      <td>31.0</td>\n",
              "      <td>2.977912</td>\n",
              "      <td>15.0</td>\n",
              "      <td>22344.0</td>\n",
              "      <td>15</td>\n",
              "    </tr>\n",
              "    <tr>\n",
              "      <th>3700508</th>\n",
              "      <td>3</td>\n",
              "      <td>2657</td>\n",
              "      <td>2021-07-01</td>\n",
              "      <td>0.0</td>\n",
              "      <td>0.0</td>\n",
              "      <td>NaN</td>\n",
              "      <td>-0.010000</td>\n",
              "      <td>31.0</td>\n",
              "      <td>3.282620</td>\n",
              "      <td>9.0</td>\n",
              "      <td>55146.0</td>\n",
              "      <td>6</td>\n",
              "    </tr>\n",
              "  </tbody>\n",
              "</table>\n",
              "</div>\n",
              "      <button class=\"colab-df-convert\" onclick=\"convertToInteractive('df-83dfd806-f546-47e8-b3a2-52573a93eecd')\"\n",
              "              title=\"Convert this dataframe to an interactive table.\"\n",
              "              style=\"display:none;\">\n",
              "        \n",
              "  <svg xmlns=\"http://www.w3.org/2000/svg\" height=\"24px\"viewBox=\"0 0 24 24\"\n",
              "       width=\"24px\">\n",
              "    <path d=\"M0 0h24v24H0V0z\" fill=\"none\"/>\n",
              "    <path d=\"M18.56 5.44l.94 2.06.94-2.06 2.06-.94-2.06-.94-.94-2.06-.94 2.06-2.06.94zm-11 1L8.5 8.5l.94-2.06 2.06-.94-2.06-.94L8.5 2.5l-.94 2.06-2.06.94zm10 10l.94 2.06.94-2.06 2.06-.94-2.06-.94-.94-2.06-.94 2.06-2.06.94z\"/><path d=\"M17.41 7.96l-1.37-1.37c-.4-.4-.92-.59-1.43-.59-.52 0-1.04.2-1.43.59L10.3 9.45l-7.72 7.72c-.78.78-.78 2.05 0 2.83L4 21.41c.39.39.9.59 1.41.59.51 0 1.02-.2 1.41-.59l7.78-7.78 2.81-2.81c.8-.78.8-2.07 0-2.86zM5.41 20L4 18.59l7.72-7.72 1.47 1.35L5.41 20z\"/>\n",
              "  </svg>\n",
              "      </button>\n",
              "      \n",
              "  <style>\n",
              "    .colab-df-container {\n",
              "      display:flex;\n",
              "      flex-wrap:wrap;\n",
              "      gap: 12px;\n",
              "    }\n",
              "\n",
              "    .colab-df-convert {\n",
              "      background-color: #E8F0FE;\n",
              "      border: none;\n",
              "      border-radius: 50%;\n",
              "      cursor: pointer;\n",
              "      display: none;\n",
              "      fill: #1967D2;\n",
              "      height: 32px;\n",
              "      padding: 0 0 0 0;\n",
              "      width: 32px;\n",
              "    }\n",
              "\n",
              "    .colab-df-convert:hover {\n",
              "      background-color: #E2EBFA;\n",
              "      box-shadow: 0px 1px 2px rgba(60, 64, 67, 0.3), 0px 1px 3px 1px rgba(60, 64, 67, 0.15);\n",
              "      fill: #174EA6;\n",
              "    }\n",
              "\n",
              "    [theme=dark] .colab-df-convert {\n",
              "      background-color: #3B4455;\n",
              "      fill: #D2E3FC;\n",
              "    }\n",
              "\n",
              "    [theme=dark] .colab-df-convert:hover {\n",
              "      background-color: #434B5C;\n",
              "      box-shadow: 0px 1px 3px 1px rgba(0, 0, 0, 0.15);\n",
              "      filter: drop-shadow(0px 1px 2px rgba(0, 0, 0, 0.3));\n",
              "      fill: #FFFFFF;\n",
              "    }\n",
              "  </style>\n",
              "\n",
              "      <script>\n",
              "        const buttonEl =\n",
              "          document.querySelector('#df-83dfd806-f546-47e8-b3a2-52573a93eecd button.colab-df-convert');\n",
              "        buttonEl.style.display =\n",
              "          google.colab.kernel.accessAllowed ? 'block' : 'none';\n",
              "\n",
              "        async function convertToInteractive(key) {\n",
              "          const element = document.querySelector('#df-83dfd806-f546-47e8-b3a2-52573a93eecd');\n",
              "          const dataTable =\n",
              "            await google.colab.kernel.invokeFunction('convertToInteractive',\n",
              "                                                     [key], {});\n",
              "          if (!dataTable) return;\n",
              "\n",
              "          const docLinkHtml = 'Like what you see? Visit the ' +\n",
              "            '<a target=\"_blank\" href=https://colab.research.google.com/notebooks/data_table.ipynb>data table notebook</a>'\n",
              "            + ' to learn more about interactive tables.';\n",
              "          element.innerHTML = '';\n",
              "          dataTable['output_type'] = 'display_data';\n",
              "          await google.colab.output.renderOutput(dataTable, element);\n",
              "          const docLink = document.createElement('div');\n",
              "          docLink.innerHTML = docLinkHtml;\n",
              "          element.appendChild(docLink);\n",
              "        }\n",
              "      </script>\n",
              "    </div>\n",
              "  </div>\n",
              "  "
            ]
          },
          "metadata": {},
          "execution_count": 32
        }
      ],
      "source": [
        "ranker_train = users_filter(train_users, candidates_df, ranker_data)\n",
        "ranker_val = users_filter(val_users, candidates_df, ranker_data)\n",
        "ranker_test = users_filter(test_users, candidates_df, ranker_data)\n",
        "\n",
        "ranker_train.head()"
      ]
    },
    {
      "cell_type": "code",
      "execution_count": 33,
      "metadata": {
        "colab": {
          "base_uri": "https://localhost:8080/",
          "height": 306
        },
        "id": "WH-Uo6GNuKjh",
        "outputId": "6468860b-aa1c-4312-9030-9c3adad9a307"
      },
      "outputs": [
        {
          "output_type": "execute_result",
          "data": {
            "text/plain": [
              "   user_id  item_id   datetime  total_dur  weight  Unnamed: 0  als_score  \\\n",
              "0        3      142 2021-08-13     5892.0   100.0         NaN  -0.010000   \n",
              "1        3      849 2021-07-01        0.0     0.0         NaN  -0.010000   \n",
              "2        3     1819 2021-07-01        0.0     0.0  16480250.0   0.146245   \n",
              "\n",
              "   als_rank  lfm_score  lfm_rank  ...  for_kids  age_rating  studios  \\\n",
              "0      31.0   3.313618       7.0  ...        -1        16.0       -1   \n",
              "1      31.0   2.616008      27.0  ...        -1        18.0       -1   \n",
              "2      21.0   2.678070      25.0  ...        -1        16.0       -1   \n",
              "\n",
              "   item_pop  item_avg_hist  user_age_mode  user_income_mode  kids_pop  \\\n",
              "0   35862.0      15.251464            2.0               2.0  0.366487   \n",
              "1   13304.0      16.444678            2.0               2.0  0.349387   \n",
              "2    9792.0      14.719669            1.0               2.0  0.349565   \n",
              "\n",
              "   male_pop female_pop  \n",
              "0  0.470470   0.529530  \n",
              "1  0.655714   0.344286  \n",
              "2  0.594162   0.405838  \n",
              "\n",
              "[3 rows x 31 columns]"
            ],
            "text/html": [
              "\n",
              "  <div id=\"df-44ea1170-0388-48c5-aac6-5fdb40ea8f03\">\n",
              "    <div class=\"colab-df-container\">\n",
              "      <div>\n",
              "<style scoped>\n",
              "    .dataframe tbody tr th:only-of-type {\n",
              "        vertical-align: middle;\n",
              "    }\n",
              "\n",
              "    .dataframe tbody tr th {\n",
              "        vertical-align: top;\n",
              "    }\n",
              "\n",
              "    .dataframe thead th {\n",
              "        text-align: right;\n",
              "    }\n",
              "</style>\n",
              "<table border=\"1\" class=\"dataframe\">\n",
              "  <thead>\n",
              "    <tr style=\"text-align: right;\">\n",
              "      <th></th>\n",
              "      <th>user_id</th>\n",
              "      <th>item_id</th>\n",
              "      <th>datetime</th>\n",
              "      <th>total_dur</th>\n",
              "      <th>weight</th>\n",
              "      <th>Unnamed: 0</th>\n",
              "      <th>als_score</th>\n",
              "      <th>als_rank</th>\n",
              "      <th>lfm_score</th>\n",
              "      <th>lfm_rank</th>\n",
              "      <th>...</th>\n",
              "      <th>for_kids</th>\n",
              "      <th>age_rating</th>\n",
              "      <th>studios</th>\n",
              "      <th>item_pop</th>\n",
              "      <th>item_avg_hist</th>\n",
              "      <th>user_age_mode</th>\n",
              "      <th>user_income_mode</th>\n",
              "      <th>kids_pop</th>\n",
              "      <th>male_pop</th>\n",
              "      <th>female_pop</th>\n",
              "    </tr>\n",
              "  </thead>\n",
              "  <tbody>\n",
              "    <tr>\n",
              "      <th>0</th>\n",
              "      <td>3</td>\n",
              "      <td>142</td>\n",
              "      <td>2021-08-13</td>\n",
              "      <td>5892.0</td>\n",
              "      <td>100.0</td>\n",
              "      <td>NaN</td>\n",
              "      <td>-0.010000</td>\n",
              "      <td>31.0</td>\n",
              "      <td>3.313618</td>\n",
              "      <td>7.0</td>\n",
              "      <td>...</td>\n",
              "      <td>-1</td>\n",
              "      <td>16.0</td>\n",
              "      <td>-1</td>\n",
              "      <td>35862.0</td>\n",
              "      <td>15.251464</td>\n",
              "      <td>2.0</td>\n",
              "      <td>2.0</td>\n",
              "      <td>0.366487</td>\n",
              "      <td>0.470470</td>\n",
              "      <td>0.529530</td>\n",
              "    </tr>\n",
              "    <tr>\n",
              "      <th>1</th>\n",
              "      <td>3</td>\n",
              "      <td>849</td>\n",
              "      <td>2021-07-01</td>\n",
              "      <td>0.0</td>\n",
              "      <td>0.0</td>\n",
              "      <td>NaN</td>\n",
              "      <td>-0.010000</td>\n",
              "      <td>31.0</td>\n",
              "      <td>2.616008</td>\n",
              "      <td>27.0</td>\n",
              "      <td>...</td>\n",
              "      <td>-1</td>\n",
              "      <td>18.0</td>\n",
              "      <td>-1</td>\n",
              "      <td>13304.0</td>\n",
              "      <td>16.444678</td>\n",
              "      <td>2.0</td>\n",
              "      <td>2.0</td>\n",
              "      <td>0.349387</td>\n",
              "      <td>0.655714</td>\n",
              "      <td>0.344286</td>\n",
              "    </tr>\n",
              "    <tr>\n",
              "      <th>2</th>\n",
              "      <td>3</td>\n",
              "      <td>1819</td>\n",
              "      <td>2021-07-01</td>\n",
              "      <td>0.0</td>\n",
              "      <td>0.0</td>\n",
              "      <td>16480250.0</td>\n",
              "      <td>0.146245</td>\n",
              "      <td>21.0</td>\n",
              "      <td>2.678070</td>\n",
              "      <td>25.0</td>\n",
              "      <td>...</td>\n",
              "      <td>-1</td>\n",
              "      <td>16.0</td>\n",
              "      <td>-1</td>\n",
              "      <td>9792.0</td>\n",
              "      <td>14.719669</td>\n",
              "      <td>1.0</td>\n",
              "      <td>2.0</td>\n",
              "      <td>0.349565</td>\n",
              "      <td>0.594162</td>\n",
              "      <td>0.405838</td>\n",
              "    </tr>\n",
              "  </tbody>\n",
              "</table>\n",
              "<p>3 rows × 31 columns</p>\n",
              "</div>\n",
              "      <button class=\"colab-df-convert\" onclick=\"convertToInteractive('df-44ea1170-0388-48c5-aac6-5fdb40ea8f03')\"\n",
              "              title=\"Convert this dataframe to an interactive table.\"\n",
              "              style=\"display:none;\">\n",
              "        \n",
              "  <svg xmlns=\"http://www.w3.org/2000/svg\" height=\"24px\"viewBox=\"0 0 24 24\"\n",
              "       width=\"24px\">\n",
              "    <path d=\"M0 0h24v24H0V0z\" fill=\"none\"/>\n",
              "    <path d=\"M18.56 5.44l.94 2.06.94-2.06 2.06-.94-2.06-.94-.94-2.06-.94 2.06-2.06.94zm-11 1L8.5 8.5l.94-2.06 2.06-.94-2.06-.94L8.5 2.5l-.94 2.06-2.06.94zm10 10l.94 2.06.94-2.06 2.06-.94-2.06-.94-.94-2.06-.94 2.06-2.06.94z\"/><path d=\"M17.41 7.96l-1.37-1.37c-.4-.4-.92-.59-1.43-.59-.52 0-1.04.2-1.43.59L10.3 9.45l-7.72 7.72c-.78.78-.78 2.05 0 2.83L4 21.41c.39.39.9.59 1.41.59.51 0 1.02-.2 1.41-.59l7.78-7.78 2.81-2.81c.8-.78.8-2.07 0-2.86zM5.41 20L4 18.59l7.72-7.72 1.47 1.35L5.41 20z\"/>\n",
              "  </svg>\n",
              "      </button>\n",
              "      \n",
              "  <style>\n",
              "    .colab-df-container {\n",
              "      display:flex;\n",
              "      flex-wrap:wrap;\n",
              "      gap: 12px;\n",
              "    }\n",
              "\n",
              "    .colab-df-convert {\n",
              "      background-color: #E8F0FE;\n",
              "      border: none;\n",
              "      border-radius: 50%;\n",
              "      cursor: pointer;\n",
              "      display: none;\n",
              "      fill: #1967D2;\n",
              "      height: 32px;\n",
              "      padding: 0 0 0 0;\n",
              "      width: 32px;\n",
              "    }\n",
              "\n",
              "    .colab-df-convert:hover {\n",
              "      background-color: #E2EBFA;\n",
              "      box-shadow: 0px 1px 2px rgba(60, 64, 67, 0.3), 0px 1px 3px 1px rgba(60, 64, 67, 0.15);\n",
              "      fill: #174EA6;\n",
              "    }\n",
              "\n",
              "    [theme=dark] .colab-df-convert {\n",
              "      background-color: #3B4455;\n",
              "      fill: #D2E3FC;\n",
              "    }\n",
              "\n",
              "    [theme=dark] .colab-df-convert:hover {\n",
              "      background-color: #434B5C;\n",
              "      box-shadow: 0px 1px 3px 1px rgba(0, 0, 0, 0.15);\n",
              "      filter: drop-shadow(0px 1px 2px rgba(0, 0, 0, 0.3));\n",
              "      fill: #FFFFFF;\n",
              "    }\n",
              "  </style>\n",
              "\n",
              "      <script>\n",
              "        const buttonEl =\n",
              "          document.querySelector('#df-44ea1170-0388-48c5-aac6-5fdb40ea8f03 button.colab-df-convert');\n",
              "        buttonEl.style.display =\n",
              "          google.colab.kernel.accessAllowed ? 'block' : 'none';\n",
              "\n",
              "        async function convertToInteractive(key) {\n",
              "          const element = document.querySelector('#df-44ea1170-0388-48c5-aac6-5fdb40ea8f03');\n",
              "          const dataTable =\n",
              "            await google.colab.kernel.invokeFunction('convertToInteractive',\n",
              "                                                     [key], {});\n",
              "          if (!dataTable) return;\n",
              "\n",
              "          const docLinkHtml = 'Like what you see? Visit the ' +\n",
              "            '<a target=\"_blank\" href=https://colab.research.google.com/notebooks/data_table.ipynb>data table notebook</a>'\n",
              "            + ' to learn more about interactive tables.';\n",
              "          element.innerHTML = '';\n",
              "          dataTable['output_type'] = 'display_data';\n",
              "          await google.colab.output.renderOutput(dataTable, element);\n",
              "          const docLink = document.createElement('div');\n",
              "          docLink.innerHTML = docLinkHtml;\n",
              "          element.appendChild(docLink);\n",
              "        }\n",
              "      </script>\n",
              "    </div>\n",
              "  </div>\n",
              "  "
            ]
          },
          "metadata": {},
          "execution_count": 33
        }
      ],
      "source": [
        "ranker_train = add_features(ranker_train)\n",
        "ranker_val = add_features(ranker_val)\n",
        "ranker_test = add_features(ranker_test)\n",
        "\n",
        "ranker_train.head(3)"
      ]
    },
    {
      "cell_type": "markdown",
      "metadata": {
        "id": "FJ00VQVHkEs3"
      },
      "source": [
        "### Submission build"
      ]
    },
    {
      "cell_type": "code",
      "execution_count": 34,
      "metadata": {
        "colab": {
          "base_uri": "https://localhost:8080/",
          "height": 112
        },
        "id": "nhNpi9gT4iof",
        "outputId": "5014d556-ff74-4e23-def0-56c66eb65806"
      },
      "outputs": [
        {
          "output_type": "execute_result",
          "data": {
            "text/plain": [
              "   user_id\n",
              "0        3\n",
              "1       11"
            ],
            "text/html": [
              "\n",
              "  <div id=\"df-24629028-a9c3-470e-a92c-c28d1db5dd37\">\n",
              "    <div class=\"colab-df-container\">\n",
              "      <div>\n",
              "<style scoped>\n",
              "    .dataframe tbody tr th:only-of-type {\n",
              "        vertical-align: middle;\n",
              "    }\n",
              "\n",
              "    .dataframe tbody tr th {\n",
              "        vertical-align: top;\n",
              "    }\n",
              "\n",
              "    .dataframe thead th {\n",
              "        text-align: right;\n",
              "    }\n",
              "</style>\n",
              "<table border=\"1\" class=\"dataframe\">\n",
              "  <thead>\n",
              "    <tr style=\"text-align: right;\">\n",
              "      <th></th>\n",
              "      <th>user_id</th>\n",
              "    </tr>\n",
              "  </thead>\n",
              "  <tbody>\n",
              "    <tr>\n",
              "      <th>0</th>\n",
              "      <td>3</td>\n",
              "    </tr>\n",
              "    <tr>\n",
              "      <th>1</th>\n",
              "      <td>11</td>\n",
              "    </tr>\n",
              "  </tbody>\n",
              "</table>\n",
              "</div>\n",
              "      <button class=\"colab-df-convert\" onclick=\"convertToInteractive('df-24629028-a9c3-470e-a92c-c28d1db5dd37')\"\n",
              "              title=\"Convert this dataframe to an interactive table.\"\n",
              "              style=\"display:none;\">\n",
              "        \n",
              "  <svg xmlns=\"http://www.w3.org/2000/svg\" height=\"24px\"viewBox=\"0 0 24 24\"\n",
              "       width=\"24px\">\n",
              "    <path d=\"M0 0h24v24H0V0z\" fill=\"none\"/>\n",
              "    <path d=\"M18.56 5.44l.94 2.06.94-2.06 2.06-.94-2.06-.94-.94-2.06-.94 2.06-2.06.94zm-11 1L8.5 8.5l.94-2.06 2.06-.94-2.06-.94L8.5 2.5l-.94 2.06-2.06.94zm10 10l.94 2.06.94-2.06 2.06-.94-2.06-.94-.94-2.06-.94 2.06-2.06.94z\"/><path d=\"M17.41 7.96l-1.37-1.37c-.4-.4-.92-.59-1.43-.59-.52 0-1.04.2-1.43.59L10.3 9.45l-7.72 7.72c-.78.78-.78 2.05 0 2.83L4 21.41c.39.39.9.59 1.41.59.51 0 1.02-.2 1.41-.59l7.78-7.78 2.81-2.81c.8-.78.8-2.07 0-2.86zM5.41 20L4 18.59l7.72-7.72 1.47 1.35L5.41 20z\"/>\n",
              "  </svg>\n",
              "      </button>\n",
              "      \n",
              "  <style>\n",
              "    .colab-df-container {\n",
              "      display:flex;\n",
              "      flex-wrap:wrap;\n",
              "      gap: 12px;\n",
              "    }\n",
              "\n",
              "    .colab-df-convert {\n",
              "      background-color: #E8F0FE;\n",
              "      border: none;\n",
              "      border-radius: 50%;\n",
              "      cursor: pointer;\n",
              "      display: none;\n",
              "      fill: #1967D2;\n",
              "      height: 32px;\n",
              "      padding: 0 0 0 0;\n",
              "      width: 32px;\n",
              "    }\n",
              "\n",
              "    .colab-df-convert:hover {\n",
              "      background-color: #E2EBFA;\n",
              "      box-shadow: 0px 1px 2px rgba(60, 64, 67, 0.3), 0px 1px 3px 1px rgba(60, 64, 67, 0.15);\n",
              "      fill: #174EA6;\n",
              "    }\n",
              "\n",
              "    [theme=dark] .colab-df-convert {\n",
              "      background-color: #3B4455;\n",
              "      fill: #D2E3FC;\n",
              "    }\n",
              "\n",
              "    [theme=dark] .colab-df-convert:hover {\n",
              "      background-color: #434B5C;\n",
              "      box-shadow: 0px 1px 3px 1px rgba(0, 0, 0, 0.15);\n",
              "      filter: drop-shadow(0px 1px 2px rgba(0, 0, 0, 0.3));\n",
              "      fill: #FFFFFF;\n",
              "    }\n",
              "  </style>\n",
              "\n",
              "      <script>\n",
              "        const buttonEl =\n",
              "          document.querySelector('#df-24629028-a9c3-470e-a92c-c28d1db5dd37 button.colab-df-convert');\n",
              "        buttonEl.style.display =\n",
              "          google.colab.kernel.accessAllowed ? 'block' : 'none';\n",
              "\n",
              "        async function convertToInteractive(key) {\n",
              "          const element = document.querySelector('#df-24629028-a9c3-470e-a92c-c28d1db5dd37');\n",
              "          const dataTable =\n",
              "            await google.colab.kernel.invokeFunction('convertToInteractive',\n",
              "                                                     [key], {});\n",
              "          if (!dataTable) return;\n",
              "\n",
              "          const docLinkHtml = 'Like what you see? Visit the ' +\n",
              "            '<a target=\"_blank\" href=https://colab.research.google.com/notebooks/data_table.ipynb>data table notebook</a>'\n",
              "            + ' to learn more about interactive tables.';\n",
              "          element.innerHTML = '';\n",
              "          dataTable['output_type'] = 'display_data';\n",
              "          await google.colab.output.renderOutput(dataTable, element);\n",
              "          const docLink = document.createElement('div');\n",
              "          docLink.innerHTML = docLinkHtml;\n",
              "          element.appendChild(docLink);\n",
              "        }\n",
              "      </script>\n",
              "    </div>\n",
              "  </div>\n",
              "  "
            ]
          },
          "metadata": {},
          "execution_count": 34
        }
      ],
      "source": [
        "submission = pd.read_csv('sample_submission.csv').drop('item_id', axis=1)\n",
        "submission_usrs = users_filter(submission['user_id'], candidates_df, ranker_data, how='outer')\n",
        "submission.head(2)"
      ]
    },
    {
      "cell_type": "code",
      "execution_count": 35,
      "metadata": {
        "colab": {
          "base_uri": "https://localhost:8080/"
        },
        "id": "qLTJhr-kcynZ",
        "outputId": "ec05c809-87bd-4997-8261-eaba454edc4f"
      },
      "outputs": [
        {
          "output_type": "execute_result",
          "data": {
            "text/plain": [
              "(42831,)"
            ]
          },
          "metadata": {},
          "execution_count": 35
        }
      ],
      "source": [
        "row_counts = submission_usrs.groupby('user_id').size().reset_index().rename(columns={0: 'size'})\n",
        "less_recs_user = row_counts[row_counts['size'] < 10]['user_id']\n",
        "less_recs_user.shape"
      ]
    },
    {
      "cell_type": "code",
      "execution_count": 36,
      "metadata": {
        "colab": {
          "base_uri": "https://localhost:8080/"
        },
        "id": "JQxH6AJBLczS",
        "outputId": "13ff6374-e5cd-4041-d0cf-c075c827c6b4"
      },
      "outputs": [
        {
          "output_type": "execute_result",
          "data": {
            "text/plain": [
              "(107774, 1)"
            ]
          },
          "metadata": {},
          "execution_count": 36
        }
      ],
      "source": [
        "cold_users = submission[~submission['user_id'].isin(submission_usrs['user_id'])]\n",
        "cold_users = pd.concat([cold_users, pd.DataFrame(less_recs_user)])\n",
        "cold_users.shape"
      ]
    },
    {
      "cell_type": "code",
      "source": [
        "top30_popular = pd.read_csv('top30_popular.csv').rename(columns={'score': 'pop_score', 'rank': 'pop_rank'})"
      ],
      "metadata": {
        "id": "DOT8DaFzDqgq"
      },
      "execution_count": 37,
      "outputs": []
    },
    {
      "cell_type": "code",
      "execution_count": 38,
      "metadata": {
        "colab": {
          "base_uri": "https://localhost:8080/"
        },
        "id": "bTlhGV6JKwgr",
        "outputId": "3ee553af-4af5-4ffe-bc6d-a963d8b9623b"
      },
      "outputs": [
        {
          "output_type": "execute_result",
          "data": {
            "text/plain": [
              "(3233220, 4)"
            ]
          },
          "metadata": {},
          "execution_count": 38
        }
      ],
      "source": [
        "cold_recs = [top30_popular['item_id'].values.tolist()[:30] for i in range(len(cold_users['user_id']))]\n",
        "cold_scores = [top30_popular['pop_score'].values.tolist()[:30] for i in range(len(cold_users['user_id']))]\n",
        "cold_ranks = [top30_popular['pop_rank'].values.tolist()[:30] for i in range(len(cold_users['user_id']))]\n",
        "cold_recs = pd.DataFrame(list(zip(cold_users['user_id'].unique().tolist(), cold_recs, cold_scores, cold_ranks)), columns=['user_id', 'item_id', 'pop_score', 'pop_rank'])\n",
        "cold_recs = cold_recs.explode(['item_id', 'pop_score', 'pop_rank'])\n",
        "cold_recs.shape"
      ]
    },
    {
      "cell_type": "code",
      "execution_count": 39,
      "metadata": {
        "colab": {
          "base_uri": "https://localhost:8080/"
        },
        "id": "iSPw_JGNR9SD",
        "outputId": "c69303c9-0f4a-42d6-f61c-d97b0e3ef2e4"
      },
      "outputs": [
        {
          "output_type": "execute_result",
          "data": {
            "text/plain": [
              "(6211788, 12)"
            ]
          },
          "metadata": {},
          "execution_count": 39
        }
      ],
      "source": [
        "submission_usrs = pd.concat([submission_usrs, cold_recs])\n",
        "submission_usrs.shape"
      ]
    },
    {
      "cell_type": "code",
      "execution_count": 40,
      "metadata": {
        "id": "AZa44jmyKNh6"
      },
      "outputs": [],
      "source": [
        "default_values = {\n",
        "        'als_score': submission_usrs['als_score'].min() - 0.01,\n",
        "        'als_rank': submission_usrs['als_rank'].max() + 1,\n",
        "        'lfm_score': submission_usrs['lfm_score'].min() - 0.01,\n",
        "        'lfm_rank': submission_usrs['lfm_rank'].max() + 1,\n",
        "        'pop_score': submission_usrs['pop_score'].min() - 0.01,\n",
        "        'pop_rank': submission_usrs['pop_rank'].max() + 1,\n",
        "        **interactions_default_values,\n",
        "}\n",
        "submission_usrs.fillna(default_values, inplace=True)\n",
        "        \n",
        "submission_usrs.sort_values(\n",
        "      by=['user_id', 'item_id'],\n",
        "      inplace=True,\n",
        ")"
      ]
    },
    {
      "cell_type": "code",
      "execution_count": 41,
      "metadata": {
        "colab": {
          "base_uri": "https://localhost:8080/"
        },
        "id": "fY57rp99GYK4",
        "outputId": "7c8bd903-5e54-449d-902d-3c1c87ccad4c"
      },
      "outputs": [
        {
          "output_type": "execute_result",
          "data": {
            "text/plain": [
              "(6211788, 31)"
            ]
          },
          "metadata": {},
          "execution_count": 41
        }
      ],
      "source": [
        "submission_usrs = add_features(submission_usrs)\n",
        "submission_usrs.shape"
      ]
    },
    {
      "cell_type": "markdown",
      "metadata": {
        "id": "daCyDKA-HMYt"
      },
      "source": [
        "## Fit ranker"
      ]
    },
    {
      "cell_type": "code",
      "execution_count": 42,
      "metadata": {
        "colab": {
          "base_uri": "https://localhost:8080/"
        },
        "id": "7ieb1V4zuPzm",
        "outputId": "7df10ebb-320c-477a-8ca7-520e38c47157"
      },
      "outputs": [
        {
          "output_type": "execute_result",
          "data": {
            "text/plain": [
              "0"
            ]
          },
          "metadata": {},
          "execution_count": 42
        }
      ],
      "source": [
        "del candidates_df, full_base_data #, users, items\n",
        "gc.collect()"
      ]
    },
    {
      "cell_type": "code",
      "execution_count": 43,
      "metadata": {
        "id": "Qk29Hx_Oz51B"
      },
      "outputs": [],
      "source": [
        "def print_study_info(study):\n",
        "  print(\"Number of finished trials: \", len(study.trials))\n",
        "  print(\"Best trial:\")\n",
        "  trials = study.best_trials\n",
        "  for trial in trials:\n",
        "    #print(\"  Value: {}\".format(trial.value))\n",
        "    print(\"  Params: \")\n",
        "    for key, value in trial.params.items():\n",
        "      print(\"    {}: {}\".format(key, value))"
      ]
    },
    {
      "cell_type": "code",
      "execution_count": 44,
      "metadata": {
        "id": "7EKQSLnpxyEZ"
      },
      "outputs": [],
      "source": [
        "def add_target(df: pd.DataFrame) -> pd.DataFrame:\n",
        "    \"\"\"\n",
        "    0 - доля досмотра < 0.15\n",
        "    1 - 0.15 <= доля досмотра < 0.75\n",
        "    2 - 0.75 <= доля досмотра\n",
        "    \"\"\"\n",
        "    df['target_ranker'] = (df[Columns.Weight] >= 15).astype(int)\n",
        "    #df['target_ranker'] += (df[Columns.Weight] >= 50).astype(int)   # 'watched_pct'\n",
        "    df['target_ranker'] += (df[Columns.Weight] >= 75).astype(int)\n",
        "    #df['target_ranker'] += (df[Columns.Weight] >= 90).astype(int)\n",
        "    return df"
      ]
    },
    {
      "cell_type": "code",
      "execution_count": 45,
      "metadata": {
        "id": "98GuC84Zo2-v"
      },
      "outputs": [],
      "source": [
        "def add_simple_target(df: pd.DataFrame) -> pd.DataFrame:\n",
        "    df['target'] = df[Columns.Weight] > 50  # 'watched_pct'\n",
        "    df['target'] = df['target'].astype(int)\n",
        "    return df"
      ]
    },
    {
      "cell_type": "code",
      "execution_count": 46,
      "metadata": {
        "id": "g5vR2mbL0iVN"
      },
      "outputs": [],
      "source": [
        "def add_score_and_rank(df: pd.DataFrame, y_pred_scores: np.ndarray, name: str) -> pd.DataFrame:\n",
        "    df[f'{name}_score'] = y_pred_scores\n",
        "    df = df.drop_duplicates(['user_id', 'item_id'], keep='last')\n",
        "    df.sort_values(\n",
        "        by=['user_id', f'{name}_score'],\n",
        "        ascending=[True, False],\n",
        "        inplace=True,\n",
        "    )\n",
        "    df[f'{name}_rank'] = df.groupby('user_id').cumcount() + 1\n",
        "\n",
        "    # Исключаем айтемы, которые не были предсказаны на первом уровне\n",
        "    mask = ((df['lfm_rank'] < 31) & (df['als_rank'] < 31) & df['pop_rank'] < 31).to_numpy()\n",
        "    # Добавляем общий скор двух-этапной модели\n",
        "    eps: float = 0.001\n",
        "    min_score: float = min(y_pred_scores) - eps\n",
        "    df[f'{name}_hybrid_score'] = df[f'{name}_score'] * mask\n",
        "    df[f'{name}_hybrid_score'].replace(\n",
        "        0,\n",
        "        min_score,\n",
        "        inplace=True,\n",
        "    )\n",
        "    # Добавляем общий ранг двух-этапной модели\n",
        "    df[f'{name}_hybrid_rank'] = df[f'{name}_rank'] * mask\n",
        "    max_rank: int = 31\n",
        "    df[f'{name}_hybrid_rank'].replace(\n",
        "        0,\n",
        "        max_rank,\n",
        "        inplace=True,\n",
        "    )\n",
        "    return df"
      ]
    },
    {
      "cell_type": "code",
      "execution_count": 47,
      "metadata": {
        "id": "UxukW0xyzs8A"
      },
      "outputs": [],
      "source": [
        "ranker_train = add_simple_target(ranker_train)\n",
        "ranker_val = add_simple_target(ranker_val)\n",
        "ranker_test = add_simple_target(ranker_test)"
      ]
    },
    {
      "cell_type": "code",
      "execution_count": 48,
      "metadata": {
        "colab": {
          "base_uri": "https://localhost:8080/",
          "height": 306
        },
        "id": "Alo_tgCeGmew",
        "outputId": "2d7af6ce-79f3-427f-c79b-e874d99e97a4"
      },
      "outputs": [
        {
          "output_type": "execute_result",
          "data": {
            "text/plain": [
              "   user_id  item_id   datetime  total_dur  weight  Unnamed: 0  als_score  \\\n",
              "0        3      142 2021-08-13     5892.0   100.0         NaN  -0.010000   \n",
              "1        3      849 2021-07-01        0.0     0.0         NaN  -0.010000   \n",
              "2        3     1819 2021-07-01        0.0     0.0  16480250.0   0.146245   \n",
              "\n",
              "   als_rank  lfm_score  lfm_rank  ...  studios  item_pop  item_avg_hist  \\\n",
              "0      31.0   3.313618       7.0  ...       -1   35862.0      15.251464   \n",
              "1      31.0   2.616008      27.0  ...       -1   13304.0      16.444678   \n",
              "2      21.0   2.678070      25.0  ...       -1    9792.0      14.719669   \n",
              "\n",
              "   user_age_mode  user_income_mode  kids_pop  male_pop female_pop target  \\\n",
              "0            2.0               2.0  0.366487  0.470470   0.529530      1   \n",
              "1            2.0               2.0  0.349387  0.655714   0.344286      0   \n",
              "2            1.0               2.0  0.349565  0.594162   0.405838      0   \n",
              "\n",
              "  target_ranker  \n",
              "0             2  \n",
              "1             0  \n",
              "2             0  \n",
              "\n",
              "[3 rows x 33 columns]"
            ],
            "text/html": [
              "\n",
              "  <div id=\"df-f1499c70-6a39-4169-9608-b25b89905021\">\n",
              "    <div class=\"colab-df-container\">\n",
              "      <div>\n",
              "<style scoped>\n",
              "    .dataframe tbody tr th:only-of-type {\n",
              "        vertical-align: middle;\n",
              "    }\n",
              "\n",
              "    .dataframe tbody tr th {\n",
              "        vertical-align: top;\n",
              "    }\n",
              "\n",
              "    .dataframe thead th {\n",
              "        text-align: right;\n",
              "    }\n",
              "</style>\n",
              "<table border=\"1\" class=\"dataframe\">\n",
              "  <thead>\n",
              "    <tr style=\"text-align: right;\">\n",
              "      <th></th>\n",
              "      <th>user_id</th>\n",
              "      <th>item_id</th>\n",
              "      <th>datetime</th>\n",
              "      <th>total_dur</th>\n",
              "      <th>weight</th>\n",
              "      <th>Unnamed: 0</th>\n",
              "      <th>als_score</th>\n",
              "      <th>als_rank</th>\n",
              "      <th>lfm_score</th>\n",
              "      <th>lfm_rank</th>\n",
              "      <th>...</th>\n",
              "      <th>studios</th>\n",
              "      <th>item_pop</th>\n",
              "      <th>item_avg_hist</th>\n",
              "      <th>user_age_mode</th>\n",
              "      <th>user_income_mode</th>\n",
              "      <th>kids_pop</th>\n",
              "      <th>male_pop</th>\n",
              "      <th>female_pop</th>\n",
              "      <th>target</th>\n",
              "      <th>target_ranker</th>\n",
              "    </tr>\n",
              "  </thead>\n",
              "  <tbody>\n",
              "    <tr>\n",
              "      <th>0</th>\n",
              "      <td>3</td>\n",
              "      <td>142</td>\n",
              "      <td>2021-08-13</td>\n",
              "      <td>5892.0</td>\n",
              "      <td>100.0</td>\n",
              "      <td>NaN</td>\n",
              "      <td>-0.010000</td>\n",
              "      <td>31.0</td>\n",
              "      <td>3.313618</td>\n",
              "      <td>7.0</td>\n",
              "      <td>...</td>\n",
              "      <td>-1</td>\n",
              "      <td>35862.0</td>\n",
              "      <td>15.251464</td>\n",
              "      <td>2.0</td>\n",
              "      <td>2.0</td>\n",
              "      <td>0.366487</td>\n",
              "      <td>0.470470</td>\n",
              "      <td>0.529530</td>\n",
              "      <td>1</td>\n",
              "      <td>2</td>\n",
              "    </tr>\n",
              "    <tr>\n",
              "      <th>1</th>\n",
              "      <td>3</td>\n",
              "      <td>849</td>\n",
              "      <td>2021-07-01</td>\n",
              "      <td>0.0</td>\n",
              "      <td>0.0</td>\n",
              "      <td>NaN</td>\n",
              "      <td>-0.010000</td>\n",
              "      <td>31.0</td>\n",
              "      <td>2.616008</td>\n",
              "      <td>27.0</td>\n",
              "      <td>...</td>\n",
              "      <td>-1</td>\n",
              "      <td>13304.0</td>\n",
              "      <td>16.444678</td>\n",
              "      <td>2.0</td>\n",
              "      <td>2.0</td>\n",
              "      <td>0.349387</td>\n",
              "      <td>0.655714</td>\n",
              "      <td>0.344286</td>\n",
              "      <td>0</td>\n",
              "      <td>0</td>\n",
              "    </tr>\n",
              "    <tr>\n",
              "      <th>2</th>\n",
              "      <td>3</td>\n",
              "      <td>1819</td>\n",
              "      <td>2021-07-01</td>\n",
              "      <td>0.0</td>\n",
              "      <td>0.0</td>\n",
              "      <td>16480250.0</td>\n",
              "      <td>0.146245</td>\n",
              "      <td>21.0</td>\n",
              "      <td>2.678070</td>\n",
              "      <td>25.0</td>\n",
              "      <td>...</td>\n",
              "      <td>-1</td>\n",
              "      <td>9792.0</td>\n",
              "      <td>14.719669</td>\n",
              "      <td>1.0</td>\n",
              "      <td>2.0</td>\n",
              "      <td>0.349565</td>\n",
              "      <td>0.594162</td>\n",
              "      <td>0.405838</td>\n",
              "      <td>0</td>\n",
              "      <td>0</td>\n",
              "    </tr>\n",
              "  </tbody>\n",
              "</table>\n",
              "<p>3 rows × 33 columns</p>\n",
              "</div>\n",
              "      <button class=\"colab-df-convert\" onclick=\"convertToInteractive('df-f1499c70-6a39-4169-9608-b25b89905021')\"\n",
              "              title=\"Convert this dataframe to an interactive table.\"\n",
              "              style=\"display:none;\">\n",
              "        \n",
              "  <svg xmlns=\"http://www.w3.org/2000/svg\" height=\"24px\"viewBox=\"0 0 24 24\"\n",
              "       width=\"24px\">\n",
              "    <path d=\"M0 0h24v24H0V0z\" fill=\"none\"/>\n",
              "    <path d=\"M18.56 5.44l.94 2.06.94-2.06 2.06-.94-2.06-.94-.94-2.06-.94 2.06-2.06.94zm-11 1L8.5 8.5l.94-2.06 2.06-.94-2.06-.94L8.5 2.5l-.94 2.06-2.06.94zm10 10l.94 2.06.94-2.06 2.06-.94-2.06-.94-.94-2.06-.94 2.06-2.06.94z\"/><path d=\"M17.41 7.96l-1.37-1.37c-.4-.4-.92-.59-1.43-.59-.52 0-1.04.2-1.43.59L10.3 9.45l-7.72 7.72c-.78.78-.78 2.05 0 2.83L4 21.41c.39.39.9.59 1.41.59.51 0 1.02-.2 1.41-.59l7.78-7.78 2.81-2.81c.8-.78.8-2.07 0-2.86zM5.41 20L4 18.59l7.72-7.72 1.47 1.35L5.41 20z\"/>\n",
              "  </svg>\n",
              "      </button>\n",
              "      \n",
              "  <style>\n",
              "    .colab-df-container {\n",
              "      display:flex;\n",
              "      flex-wrap:wrap;\n",
              "      gap: 12px;\n",
              "    }\n",
              "\n",
              "    .colab-df-convert {\n",
              "      background-color: #E8F0FE;\n",
              "      border: none;\n",
              "      border-radius: 50%;\n",
              "      cursor: pointer;\n",
              "      display: none;\n",
              "      fill: #1967D2;\n",
              "      height: 32px;\n",
              "      padding: 0 0 0 0;\n",
              "      width: 32px;\n",
              "    }\n",
              "\n",
              "    .colab-df-convert:hover {\n",
              "      background-color: #E2EBFA;\n",
              "      box-shadow: 0px 1px 2px rgba(60, 64, 67, 0.3), 0px 1px 3px 1px rgba(60, 64, 67, 0.15);\n",
              "      fill: #174EA6;\n",
              "    }\n",
              "\n",
              "    [theme=dark] .colab-df-convert {\n",
              "      background-color: #3B4455;\n",
              "      fill: #D2E3FC;\n",
              "    }\n",
              "\n",
              "    [theme=dark] .colab-df-convert:hover {\n",
              "      background-color: #434B5C;\n",
              "      box-shadow: 0px 1px 3px 1px rgba(0, 0, 0, 0.15);\n",
              "      filter: drop-shadow(0px 1px 2px rgba(0, 0, 0, 0.3));\n",
              "      fill: #FFFFFF;\n",
              "    }\n",
              "  </style>\n",
              "\n",
              "      <script>\n",
              "        const buttonEl =\n",
              "          document.querySelector('#df-f1499c70-6a39-4169-9608-b25b89905021 button.colab-df-convert');\n",
              "        buttonEl.style.display =\n",
              "          google.colab.kernel.accessAllowed ? 'block' : 'none';\n",
              "\n",
              "        async function convertToInteractive(key) {\n",
              "          const element = document.querySelector('#df-f1499c70-6a39-4169-9608-b25b89905021');\n",
              "          const dataTable =\n",
              "            await google.colab.kernel.invokeFunction('convertToInteractive',\n",
              "                                                     [key], {});\n",
              "          if (!dataTable) return;\n",
              "\n",
              "          const docLinkHtml = 'Like what you see? Visit the ' +\n",
              "            '<a target=\"_blank\" href=https://colab.research.google.com/notebooks/data_table.ipynb>data table notebook</a>'\n",
              "            + ' to learn more about interactive tables.';\n",
              "          element.innerHTML = '';\n",
              "          dataTable['output_type'] = 'display_data';\n",
              "          await google.colab.output.renderOutput(dataTable, element);\n",
              "          const docLink = document.createElement('div');\n",
              "          docLink.innerHTML = docLinkHtml;\n",
              "          element.appendChild(docLink);\n",
              "        }\n",
              "      </script>\n",
              "    </div>\n",
              "  </div>\n",
              "  "
            ]
          },
          "metadata": {},
          "execution_count": 48
        }
      ],
      "source": [
        "ranker_train = add_target(ranker_train)\n",
        "ranker_val = add_target(ranker_val)\n",
        "ranker_test = add_target(ranker_test)\n",
        "\n",
        "ranker_train.head(3)"
      ]
    },
    {
      "cell_type": "code",
      "execution_count": 49,
      "metadata": {
        "id": "289ZobsDx7GK"
      },
      "outputs": [],
      "source": [
        "cols = [\n",
        "    'als_score', 'als_rank', 'lfm_score', 'lfm_rank', 'pop_score', 'pop_rank', 'user_hist', 'user_avg_pop', 'user_last_pop', 'age', 'income', 'kids_flg', 'sex',\n",
        "    'content_type', 'release_year', 'for_kids', 'age_rating', 'studios', 'item_pop', 'item_avg_hist', 'user_age_mode', 'user_income_mode', 'kids_pop', 'male_pop', 'female_pop'\n",
        "]\n",
        "\n",
        "cat_cols = ['age', 'income', 'sex', 'kids_flg', 'content_type', 'for_kids', 'studios', 'user_age_mode', 'user_income_mode']"
      ]
    },
    {
      "cell_type": "code",
      "execution_count": 50,
      "metadata": {
        "id": "794zpan1-Uxo"
      },
      "outputs": [],
      "source": [
        "for col in ['kids_flg', 'sex', 'content_type', 'for_kids', 'studios']:\n",
        "  ranker_train[col] = ranker_train[col].astype(int)\n",
        "  ranker_val[col] = ranker_val[col].astype(int)\n",
        "  ranker_test[col] = ranker_test[col].astype(int)"
      ]
    },
    {
      "cell_type": "markdown",
      "metadata": {
        "id": "iOJsXR38xXTQ"
      },
      "source": [
        "### LGBMRanker"
      ]
    },
    {
      "cell_type": "code",
      "execution_count": 43,
      "metadata": {
        "id": "LkvRvkWMGmc8"
      },
      "outputs": [],
      "source": [
        "# https://lightgbm.readthedocs.io/en/v3.3.2/pythonapi/lightgbm.LGBMRanker.html?highlight=ranker\n",
        "\n",
        "def get_lgbm_group(df: pd.DataFrame) -> np.ndarray:\n",
        "    return np.array(\n",
        "        df[['user_id', 'item_id']].groupby(by=['user_id']).count()['item_id']\n",
        "    )"
      ]
    },
    {
      "cell_type": "markdown",
      "metadata": {
        "id": "O3nUGBAB6kHW"
      },
      "source": [
        "#### Optimize hyperparams"
      ]
    },
    {
      "cell_type": "code",
      "execution_count": null,
      "metadata": {
        "id": "PeYpe2V6yyxa"
      },
      "outputs": [],
      "source": [
        "def objective_LGBM_Ranker(trial):\n",
        "    n_estimators = trial.suggest_int(\"n_estimators\", low=2000, high=10000, step=200)\n",
        "    max_depth = trial.suggest_int(\"max_depth\", low=3, high=5, step=1)\n",
        "    num_leaves = trial.suggest_int(\"num_leaves\", low=(2**max_depth) - 2*max_depth, high=(2**max_depth) - max_depth, step=1)\n",
        "    learning_rate = trial.suggest_float(\"learning_rate\", low=0.1, high=0.3, step=0.1)\n",
        "    colsample_bytree = trial.suggest_float(\"colsample_bytree\", low=0.7, high=0.9, step=0.1)\n",
        "    min_child_samples = trial.suggest_int(\"min_child_samples\", low=50, high=100, step=10)\n",
        "\n",
        "    early_stopping_rounds = 32\n",
        "\n",
        "    params = {\n",
        "        'objective': 'lambdarank', \n",
        "        'n_estimators': n_estimators,  \n",
        "        'max_depth': max_depth,\n",
        "        'num_leaves': num_leaves,\n",
        "        'min_child_samples': min_child_samples, \n",
        "        'learning_rate': learning_rate, \n",
        "        'reg_lambda': 1, \n",
        "        'colsample_bytree': colsample_bytree,\n",
        "        'random_state': 42,\n",
        "    }\n",
        "\n",
        "    fit_params = {\n",
        "        'X': ranker_train[cols],\n",
        "        'y': ranker_train['target_ranker'],\n",
        "        'group': get_lgbm_group(ranker_train),\n",
        "        'eval_set': [(ranker_val[cols], ranker_val['target_ranker'])],\n",
        "        'eval_group': [get_lgbm_group(ranker_val)],\n",
        "        'eval_metric': 'ndcg',\n",
        "        'eval_at': (3, 5, 10),\n",
        "        'early_stopping_rounds': early_stopping_rounds,\n",
        "        'categorical_feature': cat_cols,\n",
        "        'feature_name': cols,\n",
        "        'verbose': early_stopping_rounds / 4,\n",
        "    }\n",
        "    listwise_model = LGBMRanker(**params)\n",
        "    listwise_model.fit(**fit_params)\n",
        "\n",
        "    y_pred = listwise_model.predict(ranker_test[cols])\n",
        "    metric_values = calc_metrics_(add_score_and_rank(ranker_test, y_pred, 'listwise'), 'listwise_hybrid_rank')\n",
        "    return metric_values['map@10'], metric_values['recall@10']"
      ]
    },
    {
      "cell_type": "code",
      "execution_count": null,
      "metadata": {
        "colab": {
          "base_uri": "https://localhost:8080/"
        },
        "id": "3lCzD9x1pJqU",
        "outputId": "451917c8-3453-46dd-ab50-af18cdcd90be"
      },
      "outputs": [
        {
          "metadata": {
            "tags": null
          },
          "name": "stderr",
          "output_type": "stream",
          "text": [
            "\u001b[32m[I 2022-12-11 11:11:12,148]\u001b[0m A new study created in memory with name: no-name-0911b0b0-b152-411b-ac1d-b63bb8981e09\u001b[0m\n"
          ]
        },
        {
          "metadata": {
            "tags": null
          },
          "name": "stdout",
          "output_type": "stream",
          "text": [
            "Training until validation scores don't improve for 32 rounds.\n",
            "Early stopping, best iteration is:\n",
            "[282]\tvalid_0's ndcg@3: 0.787179\tvalid_0's ndcg@5: 0.808766\tvalid_0's ndcg@10: 0.828304\tvalid_0's ndcg@3: 0.787179\tvalid_0's ndcg@5: 0.808766\tvalid_0's ndcg@10: 0.828304\n"
          ]
        },
        {
          "metadata": {
            "tags": null
          },
          "name": "stderr",
          "output_type": "stream",
          "text": [
            "\u001b[32m[I 2022-12-11 11:15:34,064]\u001b[0m Trial 0 finished with values: [0.04896425583715544, 0.0869878841774328] and parameters: {'n_estimators': 9000, 'max_depth': 5, 'num_leaves': 25, 'learning_rate': 0.1, 'colsample_bytree': 0.8999999999999999, 'min_child_samples': 70}. \u001b[0m\n"
          ]
        },
        {
          "metadata": {
            "tags": null
          },
          "name": "stdout",
          "output_type": "stream",
          "text": [
            "Training until validation scores don't improve for 32 rounds.\n",
            "Early stopping, best iteration is:\n",
            "[650]\tvalid_0's ndcg@3: 0.780923\tvalid_0's ndcg@5: 0.801863\tvalid_0's ndcg@10: 0.818918\tvalid_0's ndcg@3: 0.780923\tvalid_0's ndcg@5: 0.801863\tvalid_0's ndcg@10: 0.818918\n"
          ]
        },
        {
          "metadata": {
            "tags": null
          },
          "name": "stderr",
          "output_type": "stream",
          "text": [
            "\u001b[32m[I 2022-12-11 11:21:27,802]\u001b[0m Trial 1 finished with values: [0.0467446053857142, 0.08472301594350921] and parameters: {'n_estimators': 6200, 'max_depth': 3, 'num_leaves': 2, 'learning_rate': 0.1, 'colsample_bytree': 0.8999999999999999, 'min_child_samples': 60}. \u001b[0m\n"
          ]
        },
        {
          "metadata": {
            "tags": null
          },
          "name": "stdout",
          "output_type": "stream",
          "text": [
            "Training until validation scores don't improve for 32 rounds.\n",
            "Early stopping, best iteration is:\n",
            "[186]\tvalid_0's ndcg@3: 0.787281\tvalid_0's ndcg@5: 0.808481\tvalid_0's ndcg@10: 0.828117\tvalid_0's ndcg@3: 0.787281\tvalid_0's ndcg@5: 0.808481\tvalid_0's ndcg@10: 0.828117\n"
          ]
        },
        {
          "metadata": {
            "tags": null
          },
          "name": "stderr",
          "output_type": "stream",
          "text": [
            "\u001b[32m[I 2022-12-11 11:23:56,219]\u001b[0m Trial 2 finished with values: [0.048769831667075755, 0.08687444912906307] and parameters: {'n_estimators': 3200, 'max_depth': 4, 'num_leaves': 10, 'learning_rate': 0.3, 'colsample_bytree': 0.8999999999999999, 'min_child_samples': 70}. \u001b[0m\n"
          ]
        },
        {
          "output_type": "stream",
          "name": "stdout",
          "text": [
            "Training until validation scores don't improve for 32 rounds.\n",
            "Early stopping, best iteration is:\n",
            "[605]\tvalid_0's ndcg@3: 0.784887\tvalid_0's ndcg@5: 0.806611\tvalid_0's ndcg@10: 0.825488\tvalid_0's ndcg@3: 0.784887\tvalid_0's ndcg@5: 0.806611\tvalid_0's ndcg@10: 0.825488\n"
          ]
        },
        {
          "output_type": "stream",
          "name": "stderr",
          "text": [
            "\u001b[32m[I 2022-12-11 11:29:48,961]\u001b[0m Trial 3 finished with values: [0.04791942143604169, 0.0858470831433127] and parameters: {'n_estimators': 5800, 'max_depth': 3, 'num_leaves': 4, 'learning_rate': 0.1, 'colsample_bytree': 0.7, 'min_child_samples': 70}. \u001b[0m\n"
          ]
        },
        {
          "output_type": "stream",
          "name": "stdout",
          "text": [
            "Training until validation scores don't improve for 32 rounds.\n",
            "Early stopping, best iteration is:\n",
            "[127]\tvalid_0's ndcg@3: 0.78169\tvalid_0's ndcg@5: 0.802715\tvalid_0's ndcg@10: 0.820707\tvalid_0's ndcg@3: 0.78169\tvalid_0's ndcg@5: 0.802715\tvalid_0's ndcg@10: 0.820707\n"
          ]
        },
        {
          "output_type": "stream",
          "name": "stderr",
          "text": [
            "\u001b[32m[I 2022-12-11 11:31:19,013]\u001b[0m Trial 4 finished with values: [0.04698661988580662, 0.08481136181639244] and parameters: {'n_estimators': 7000, 'max_depth': 3, 'num_leaves': 3, 'learning_rate': 0.2, 'colsample_bytree': 0.7, 'min_child_samples': 100}. \u001b[0m\n"
          ]
        },
        {
          "output_type": "stream",
          "name": "stdout",
          "text": [
            "Training until validation scores don't improve for 32 rounds.\n",
            "Early stopping, best iteration is:\n",
            "[507]\tvalid_0's ndcg@3: 0.785371\tvalid_0's ndcg@5: 0.807044\tvalid_0's ndcg@10: 0.825902\tvalid_0's ndcg@3: 0.785371\tvalid_0's ndcg@5: 0.807044\tvalid_0's ndcg@10: 0.825902\n"
          ]
        },
        {
          "output_type": "stream",
          "name": "stderr",
          "text": [
            "\u001b[32m[I 2022-12-11 11:36:58,052]\u001b[0m Trial 5 finished with values: [0.04808563974636456, 0.08590401230568764] and parameters: {'n_estimators': 6400, 'max_depth': 3, 'num_leaves': 5, 'learning_rate': 0.1, 'colsample_bytree': 0.8999999999999999, 'min_child_samples': 50}. \u001b[0m\n"
          ]
        },
        {
          "output_type": "stream",
          "name": "stdout",
          "text": [
            "Training until validation scores don't improve for 32 rounds.\n",
            "Early stopping, best iteration is:\n",
            "[246]\tvalid_0's ndcg@3: 0.787144\tvalid_0's ndcg@5: 0.80834\tvalid_0's ndcg@10: 0.828106\tvalid_0's ndcg@3: 0.787144\tvalid_0's ndcg@5: 0.80834\tvalid_0's ndcg@10: 0.828106\n"
          ]
        },
        {
          "output_type": "stream",
          "name": "stderr",
          "text": [
            "\u001b[32m[I 2022-12-11 11:40:51,109]\u001b[0m Trial 6 finished with values: [0.0488547220937088, 0.08682481814833386] and parameters: {'n_estimators': 4200, 'max_depth': 5, 'num_leaves': 27, 'learning_rate': 0.1, 'colsample_bytree': 0.8999999999999999, 'min_child_samples': 60}. \u001b[0m\n"
          ]
        },
        {
          "output_type": "stream",
          "name": "stdout",
          "text": [
            "Training until validation scores don't improve for 32 rounds.\n",
            "Early stopping, best iteration is:\n",
            "[420]\tvalid_0's ndcg@3: 0.786547\tvalid_0's ndcg@5: 0.807789\tvalid_0's ndcg@10: 0.827494\tvalid_0's ndcg@3: 0.786547\tvalid_0's ndcg@5: 0.807789\tvalid_0's ndcg@10: 0.827494\n"
          ]
        },
        {
          "output_type": "stream",
          "name": "stderr",
          "text": [
            "\u001b[32m[I 2022-12-11 11:45:57,461]\u001b[0m Trial 7 finished with values: [0.04844295703856582, 0.08648674059307211] and parameters: {'n_estimators': 7200, 'max_depth': 4, 'num_leaves': 9, 'learning_rate': 0.1, 'colsample_bytree': 0.8999999999999999, 'min_child_samples': 60}. \u001b[0m\n"
          ]
        },
        {
          "output_type": "stream",
          "name": "stdout",
          "text": [
            "Training until validation scores don't improve for 32 rounds.\n",
            "Early stopping, best iteration is:\n",
            "[129]\tvalid_0's ndcg@3: 0.786461\tvalid_0's ndcg@5: 0.808177\tvalid_0's ndcg@10: 0.82751\tvalid_0's ndcg@3: 0.786461\tvalid_0's ndcg@5: 0.808177\tvalid_0's ndcg@10: 0.82751\n"
          ]
        },
        {
          "output_type": "stream",
          "name": "stderr",
          "text": [
            "\u001b[32m[I 2022-12-11 11:47:50,763]\u001b[0m Trial 8 finished with values: [0.048560789424927774, 0.08657634785710615] and parameters: {'n_estimators': 4400, 'max_depth': 4, 'num_leaves': 10, 'learning_rate': 0.3, 'colsample_bytree': 0.8999999999999999, 'min_child_samples': 80}. \u001b[0m\n"
          ]
        },
        {
          "output_type": "stream",
          "name": "stdout",
          "text": [
            "Training until validation scores don't improve for 32 rounds.\n",
            "Early stopping, best iteration is:\n",
            "[145]\tvalid_0's ndcg@3: 0.787555\tvalid_0's ndcg@5: 0.808873\tvalid_0's ndcg@10: 0.828242\tvalid_0's ndcg@3: 0.787555\tvalid_0's ndcg@5: 0.808873\tvalid_0's ndcg@10: 0.828242\n"
          ]
        },
        {
          "output_type": "stream",
          "name": "stderr",
          "text": [
            "\u001b[32m[I 2022-12-11 11:49:57,886]\u001b[0m Trial 9 finished with values: [0.048881665274169026, 0.08714472826067146] and parameters: {'n_estimators': 8400, 'max_depth': 5, 'num_leaves': 22, 'learning_rate': 0.2, 'colsample_bytree': 0.7, 'min_child_samples': 60}. \u001b[0m\n"
          ]
        },
        {
          "output_type": "stream",
          "name": "stdout",
          "text": [
            "CPU times: user 38min 37s, sys: 8.34 s, total: 38min 45s\n",
            "Wall time: 38min 45s\n"
          ]
        }
      ],
      "source": [
        "%%time\n",
        "\n",
        "study = optuna.create_study(directions=[\"maximize\", \"maximize\"])\n",
        "study.optimize(objective_LGBM_Ranker, n_trials=10)"
      ]
    },
    {
      "cell_type": "code",
      "source": [
        "print_study_info(study)"
      ],
      "metadata": {
        "colab": {
          "base_uri": "https://localhost:8080/"
        },
        "id": "y2vWX4Dj8EOb",
        "outputId": "4f093146-9e70-459d-ee8a-b7683f2a9d06"
      },
      "execution_count": null,
      "outputs": [
        {
          "output_type": "stream",
          "name": "stdout",
          "text": [
            "Number of finished trials:  10\n",
            "Best trial:\n",
            "  Params: \n",
            "    n_estimators: 9000\n",
            "    max_depth: 5\n",
            "    num_leaves: 25\n",
            "    learning_rate: 0.1\n",
            "    colsample_bytree: 0.8999999999999999\n",
            "    min_child_samples: 70\n",
            "  Params: \n",
            "    n_estimators: 8400\n",
            "    max_depth: 5\n",
            "    num_leaves: 22\n",
            "    learning_rate: 0.2\n",
            "    colsample_bytree: 0.7\n",
            "    min_child_samples: 60\n"
          ]
        }
      ]
    },
    {
      "cell_type": "code",
      "source": [
        "del study\n",
        "gc.collect()"
      ],
      "metadata": {
        "colab": {
          "base_uri": "https://localhost:8080/"
        },
        "id": "py2iq3y5ELTj",
        "outputId": "f6e2fe61-33a3-43b2-ac7f-245df7584a47"
      },
      "execution_count": null,
      "outputs": [
        {
          "output_type": "execute_result",
          "data": {
            "text/plain": [
              "21925"
            ]
          },
          "metadata": {},
          "execution_count": 56
        }
      ]
    },
    {
      "cell_type": "markdown",
      "metadata": {
        "id": "w_a0bgUL3p0b"
      },
      "source": [
        "#### Refit best model"
      ]
    },
    {
      "cell_type": "code",
      "execution_count": 47,
      "metadata": {
        "colab": {
          "base_uri": "https://localhost:8080/"
        },
        "id": "98u9KmqMx7Y5",
        "outputId": "f665b5bd-c44e-4469-877f-8f3a562809be"
      },
      "outputs": [
        {
          "output_type": "stream",
          "name": "stdout",
          "text": [
            "Training until validation scores don't improve for 32 rounds.\n",
            "Early stopping, best iteration is:\n",
            "[332]\tvalid_0's ndcg@3: 0.777508\tvalid_0's ndcg@5: 0.79973\tvalid_0's ndcg@10: 0.821631\tvalid_0's ndcg@3: 0.777508\tvalid_0's ndcg@5: 0.79973\tvalid_0's ndcg@10: 0.821631\n"
          ]
        },
        {
          "output_type": "execute_result",
          "data": {
            "text/plain": [
              "LGBMRanker(colsample_bytree=0.9, max_depth=5, min_child_samples=70,\n",
              "           n_estimators=9000, num_leaves=25, objective='lambdarank',\n",
              "           random_state=42, reg_lambda=1)"
            ]
          },
          "metadata": {},
          "execution_count": 47
        }
      ],
      "source": [
        "params = {\n",
        "    'objective': 'lambdarank', \n",
        "    'n_estimators': 9000, \n",
        "    'max_depth': 5, \n",
        "    'num_leaves': 25, \n",
        "    'min_child_samples': 70,\n",
        "    'learning_rate': 0.1, \n",
        "    'reg_lambda': 1, \n",
        "    'colsample_bytree': 0.9, \n",
        "    'random_state': 42,\n",
        "}\n",
        "early_stopping_rounds = 32\n",
        "fit_params = {\n",
        "    'X': ranker_train[cols],\n",
        "    'y': ranker_train['target_ranker'],\n",
        "    'group': get_lgbm_group(ranker_train),\n",
        "    'eval_set': [(ranker_val[cols], ranker_val['target_ranker'])],\n",
        "    'eval_group': [get_lgbm_group(ranker_val)],\n",
        "    'eval_metric': 'ndcg',\n",
        "    'eval_at': (3, 5, 10),\n",
        "    'early_stopping_rounds': early_stopping_rounds,\n",
        "    'categorical_feature': cat_cols,\n",
        "    'feature_name': cols,\n",
        "    'verbose': early_stopping_rounds / 8,\n",
        "}\n",
        "listwise_model = LGBMRanker(**params)\n",
        "listwise_model.fit(**fit_params)"
      ]
    },
    {
      "cell_type": "code",
      "source": [
        "listwise_model.best_score_['valid_0']"
      ],
      "metadata": {
        "colab": {
          "base_uri": "https://localhost:8080/"
        },
        "id": "sbSoytotHjjc",
        "outputId": "ff1e36d7-8c56-490a-f1e3-b06ef3ff71bf"
      },
      "execution_count": 48,
      "outputs": [
        {
          "output_type": "execute_result",
          "data": {
            "text/plain": [
              "{'ndcg@3': 0.7775084009393846,\n",
              " 'ndcg@5': 0.7997303021678652,\n",
              " 'ndcg@10': 0.8216309640477606}"
            ]
          },
          "metadata": {},
          "execution_count": 48
        }
      ]
    },
    {
      "cell_type": "code",
      "execution_count": 49,
      "metadata": {
        "id": "g_GKMburx7df"
      },
      "outputs": [],
      "source": [
        "with open(f'lgbm_ranker_model_0.dill', 'wb') as f:\n",
        "    dill.dump(listwise_model, f)"
      ]
    },
    {
      "cell_type": "code",
      "execution_count": null,
      "metadata": {
        "id": "ZrJsqRLDELgC"
      },
      "outputs": [],
      "source": [
        "with open(f'lgbm_ranker_model_0.dill', 'rb') as f:\n",
        "    listwise_model = dill.load(f)"
      ]
    },
    {
      "cell_type": "code",
      "execution_count": 50,
      "metadata": {
        "colab": {
          "base_uri": "https://localhost:8080/",
          "height": 306
        },
        "id": "AHk0Qu_ozDyn",
        "outputId": "ac286f02-0f1b-4c24-9221-8702c076ebff"
      },
      "outputs": [
        {
          "output_type": "execute_result",
          "data": {
            "text/plain": [
              "    user_id  item_id   datetime  total_dur  weight  Unnamed: 0  als_score  \\\n",
              "17       21     9728 2021-07-01        0.0     0.0   5650877.0   0.977513   \n",
              "4        21     1785 2021-07-01        0.0     0.0   5650862.0   1.228063   \n",
              "28       21    15297 2021-07-01        0.0     0.0         NaN  -0.010000   \n",
              "\n",
              "    als_rank  lfm_score  lfm_rank  ...  user_income_mode  kids_pop  male_pop  \\\n",
              "17      18.0   2.978701       2.0  ...               2.0  0.354635  0.569101   \n",
              "4        3.0   2.314779       8.0  ...               2.0  0.326272  0.570013   \n",
              "28      31.0   2.444666       5.0  ...               2.0  0.344070  0.317637   \n",
              "\n",
              "    female_pop  target  target_ranker  listwise_score  listwise_rank  \\\n",
              "17    0.430899       0              0        0.748917              1   \n",
              "4     0.429987       0              0        0.190635              2   \n",
              "28    0.682363       0              0        0.183503              3   \n",
              "\n",
              "    listwise_hybrid_score  listwise_hybrid_rank  \n",
              "17               0.748917                     1  \n",
              "4                0.190635                     2  \n",
              "28               0.183503                     3  \n",
              "\n",
              "[3 rows x 37 columns]"
            ],
            "text/html": [
              "\n",
              "  <div id=\"df-9d3a5bce-ed01-48cb-bc4c-c8bae578112d\">\n",
              "    <div class=\"colab-df-container\">\n",
              "      <div>\n",
              "<style scoped>\n",
              "    .dataframe tbody tr th:only-of-type {\n",
              "        vertical-align: middle;\n",
              "    }\n",
              "\n",
              "    .dataframe tbody tr th {\n",
              "        vertical-align: top;\n",
              "    }\n",
              "\n",
              "    .dataframe thead th {\n",
              "        text-align: right;\n",
              "    }\n",
              "</style>\n",
              "<table border=\"1\" class=\"dataframe\">\n",
              "  <thead>\n",
              "    <tr style=\"text-align: right;\">\n",
              "      <th></th>\n",
              "      <th>user_id</th>\n",
              "      <th>item_id</th>\n",
              "      <th>datetime</th>\n",
              "      <th>total_dur</th>\n",
              "      <th>weight</th>\n",
              "      <th>Unnamed: 0</th>\n",
              "      <th>als_score</th>\n",
              "      <th>als_rank</th>\n",
              "      <th>lfm_score</th>\n",
              "      <th>lfm_rank</th>\n",
              "      <th>...</th>\n",
              "      <th>user_income_mode</th>\n",
              "      <th>kids_pop</th>\n",
              "      <th>male_pop</th>\n",
              "      <th>female_pop</th>\n",
              "      <th>target</th>\n",
              "      <th>target_ranker</th>\n",
              "      <th>listwise_score</th>\n",
              "      <th>listwise_rank</th>\n",
              "      <th>listwise_hybrid_score</th>\n",
              "      <th>listwise_hybrid_rank</th>\n",
              "    </tr>\n",
              "  </thead>\n",
              "  <tbody>\n",
              "    <tr>\n",
              "      <th>17</th>\n",
              "      <td>21</td>\n",
              "      <td>9728</td>\n",
              "      <td>2021-07-01</td>\n",
              "      <td>0.0</td>\n",
              "      <td>0.0</td>\n",
              "      <td>5650877.0</td>\n",
              "      <td>0.977513</td>\n",
              "      <td>18.0</td>\n",
              "      <td>2.978701</td>\n",
              "      <td>2.0</td>\n",
              "      <td>...</td>\n",
              "      <td>2.0</td>\n",
              "      <td>0.354635</td>\n",
              "      <td>0.569101</td>\n",
              "      <td>0.430899</td>\n",
              "      <td>0</td>\n",
              "      <td>0</td>\n",
              "      <td>0.748917</td>\n",
              "      <td>1</td>\n",
              "      <td>0.748917</td>\n",
              "      <td>1</td>\n",
              "    </tr>\n",
              "    <tr>\n",
              "      <th>4</th>\n",
              "      <td>21</td>\n",
              "      <td>1785</td>\n",
              "      <td>2021-07-01</td>\n",
              "      <td>0.0</td>\n",
              "      <td>0.0</td>\n",
              "      <td>5650862.0</td>\n",
              "      <td>1.228063</td>\n",
              "      <td>3.0</td>\n",
              "      <td>2.314779</td>\n",
              "      <td>8.0</td>\n",
              "      <td>...</td>\n",
              "      <td>2.0</td>\n",
              "      <td>0.326272</td>\n",
              "      <td>0.570013</td>\n",
              "      <td>0.429987</td>\n",
              "      <td>0</td>\n",
              "      <td>0</td>\n",
              "      <td>0.190635</td>\n",
              "      <td>2</td>\n",
              "      <td>0.190635</td>\n",
              "      <td>2</td>\n",
              "    </tr>\n",
              "    <tr>\n",
              "      <th>28</th>\n",
              "      <td>21</td>\n",
              "      <td>15297</td>\n",
              "      <td>2021-07-01</td>\n",
              "      <td>0.0</td>\n",
              "      <td>0.0</td>\n",
              "      <td>NaN</td>\n",
              "      <td>-0.010000</td>\n",
              "      <td>31.0</td>\n",
              "      <td>2.444666</td>\n",
              "      <td>5.0</td>\n",
              "      <td>...</td>\n",
              "      <td>2.0</td>\n",
              "      <td>0.344070</td>\n",
              "      <td>0.317637</td>\n",
              "      <td>0.682363</td>\n",
              "      <td>0</td>\n",
              "      <td>0</td>\n",
              "      <td>0.183503</td>\n",
              "      <td>3</td>\n",
              "      <td>0.183503</td>\n",
              "      <td>3</td>\n",
              "    </tr>\n",
              "  </tbody>\n",
              "</table>\n",
              "<p>3 rows × 37 columns</p>\n",
              "</div>\n",
              "      <button class=\"colab-df-convert\" onclick=\"convertToInteractive('df-9d3a5bce-ed01-48cb-bc4c-c8bae578112d')\"\n",
              "              title=\"Convert this dataframe to an interactive table.\"\n",
              "              style=\"display:none;\">\n",
              "        \n",
              "  <svg xmlns=\"http://www.w3.org/2000/svg\" height=\"24px\"viewBox=\"0 0 24 24\"\n",
              "       width=\"24px\">\n",
              "    <path d=\"M0 0h24v24H0V0z\" fill=\"none\"/>\n",
              "    <path d=\"M18.56 5.44l.94 2.06.94-2.06 2.06-.94-2.06-.94-.94-2.06-.94 2.06-2.06.94zm-11 1L8.5 8.5l.94-2.06 2.06-.94-2.06-.94L8.5 2.5l-.94 2.06-2.06.94zm10 10l.94 2.06.94-2.06 2.06-.94-2.06-.94-.94-2.06-.94 2.06-2.06.94z\"/><path d=\"M17.41 7.96l-1.37-1.37c-.4-.4-.92-.59-1.43-.59-.52 0-1.04.2-1.43.59L10.3 9.45l-7.72 7.72c-.78.78-.78 2.05 0 2.83L4 21.41c.39.39.9.59 1.41.59.51 0 1.02-.2 1.41-.59l7.78-7.78 2.81-2.81c.8-.78.8-2.07 0-2.86zM5.41 20L4 18.59l7.72-7.72 1.47 1.35L5.41 20z\"/>\n",
              "  </svg>\n",
              "      </button>\n",
              "      \n",
              "  <style>\n",
              "    .colab-df-container {\n",
              "      display:flex;\n",
              "      flex-wrap:wrap;\n",
              "      gap: 12px;\n",
              "    }\n",
              "\n",
              "    .colab-df-convert {\n",
              "      background-color: #E8F0FE;\n",
              "      border: none;\n",
              "      border-radius: 50%;\n",
              "      cursor: pointer;\n",
              "      display: none;\n",
              "      fill: #1967D2;\n",
              "      height: 32px;\n",
              "      padding: 0 0 0 0;\n",
              "      width: 32px;\n",
              "    }\n",
              "\n",
              "    .colab-df-convert:hover {\n",
              "      background-color: #E2EBFA;\n",
              "      box-shadow: 0px 1px 2px rgba(60, 64, 67, 0.3), 0px 1px 3px 1px rgba(60, 64, 67, 0.15);\n",
              "      fill: #174EA6;\n",
              "    }\n",
              "\n",
              "    [theme=dark] .colab-df-convert {\n",
              "      background-color: #3B4455;\n",
              "      fill: #D2E3FC;\n",
              "    }\n",
              "\n",
              "    [theme=dark] .colab-df-convert:hover {\n",
              "      background-color: #434B5C;\n",
              "      box-shadow: 0px 1px 3px 1px rgba(0, 0, 0, 0.15);\n",
              "      filter: drop-shadow(0px 1px 2px rgba(0, 0, 0, 0.3));\n",
              "      fill: #FFFFFF;\n",
              "    }\n",
              "  </style>\n",
              "\n",
              "      <script>\n",
              "        const buttonEl =\n",
              "          document.querySelector('#df-9d3a5bce-ed01-48cb-bc4c-c8bae578112d button.colab-df-convert');\n",
              "        buttonEl.style.display =\n",
              "          google.colab.kernel.accessAllowed ? 'block' : 'none';\n",
              "\n",
              "        async function convertToInteractive(key) {\n",
              "          const element = document.querySelector('#df-9d3a5bce-ed01-48cb-bc4c-c8bae578112d');\n",
              "          const dataTable =\n",
              "            await google.colab.kernel.invokeFunction('convertToInteractive',\n",
              "                                                     [key], {});\n",
              "          if (!dataTable) return;\n",
              "\n",
              "          const docLinkHtml = 'Like what you see? Visit the ' +\n",
              "            '<a target=\"_blank\" href=https://colab.research.google.com/notebooks/data_table.ipynb>data table notebook</a>'\n",
              "            + ' to learn more about interactive tables.';\n",
              "          element.innerHTML = '';\n",
              "          dataTable['output_type'] = 'display_data';\n",
              "          await google.colab.output.renderOutput(dataTable, element);\n",
              "          const docLink = document.createElement('div');\n",
              "          docLink.innerHTML = docLinkHtml;\n",
              "          element.appendChild(docLink);\n",
              "        }\n",
              "      </script>\n",
              "    </div>\n",
              "  </div>\n",
              "  "
            ]
          },
          "metadata": {},
          "execution_count": 50
        }
      ],
      "source": [
        "y_pred: np.ndarray = listwise_model.predict(ranker_test[cols])\n",
        "ranker_test = add_score_and_rank(ranker_test, y_pred, 'listwise')\n",
        "ranker_test.head(3)"
      ]
    },
    {
      "cell_type": "code",
      "source": [
        "models_metrics = {}\n",
        "models_metrics['listwise_hybrid'] = calc_metrics_(ranker_test, 'listwise_hybrid_rank')\n",
        "pd.DataFrame(models_metrics)[['listwise_hybrid']]"
      ],
      "metadata": {
        "colab": {
          "base_uri": "https://localhost:8080/",
          "height": 112
        },
        "id": "7DxAVXd9H77o",
        "outputId": "9ddb924a-312a-447f-de73-249d0e76ae11"
      },
      "execution_count": 51,
      "outputs": [
        {
          "output_type": "execute_result",
          "data": {
            "text/plain": [
              "           listwise_hybrid\n",
              "map@10            0.047981\n",
              "recall@10         0.086055"
            ],
            "text/html": [
              "\n",
              "  <div id=\"df-78e0e63e-b835-44c5-949b-4f63996b7c71\">\n",
              "    <div class=\"colab-df-container\">\n",
              "      <div>\n",
              "<style scoped>\n",
              "    .dataframe tbody tr th:only-of-type {\n",
              "        vertical-align: middle;\n",
              "    }\n",
              "\n",
              "    .dataframe tbody tr th {\n",
              "        vertical-align: top;\n",
              "    }\n",
              "\n",
              "    .dataframe thead th {\n",
              "        text-align: right;\n",
              "    }\n",
              "</style>\n",
              "<table border=\"1\" class=\"dataframe\">\n",
              "  <thead>\n",
              "    <tr style=\"text-align: right;\">\n",
              "      <th></th>\n",
              "      <th>listwise_hybrid</th>\n",
              "    </tr>\n",
              "  </thead>\n",
              "  <tbody>\n",
              "    <tr>\n",
              "      <th>map@10</th>\n",
              "      <td>0.047981</td>\n",
              "    </tr>\n",
              "    <tr>\n",
              "      <th>recall@10</th>\n",
              "      <td>0.086055</td>\n",
              "    </tr>\n",
              "  </tbody>\n",
              "</table>\n",
              "</div>\n",
              "      <button class=\"colab-df-convert\" onclick=\"convertToInteractive('df-78e0e63e-b835-44c5-949b-4f63996b7c71')\"\n",
              "              title=\"Convert this dataframe to an interactive table.\"\n",
              "              style=\"display:none;\">\n",
              "        \n",
              "  <svg xmlns=\"http://www.w3.org/2000/svg\" height=\"24px\"viewBox=\"0 0 24 24\"\n",
              "       width=\"24px\">\n",
              "    <path d=\"M0 0h24v24H0V0z\" fill=\"none\"/>\n",
              "    <path d=\"M18.56 5.44l.94 2.06.94-2.06 2.06-.94-2.06-.94-.94-2.06-.94 2.06-2.06.94zm-11 1L8.5 8.5l.94-2.06 2.06-.94-2.06-.94L8.5 2.5l-.94 2.06-2.06.94zm10 10l.94 2.06.94-2.06 2.06-.94-2.06-.94-.94-2.06-.94 2.06-2.06.94z\"/><path d=\"M17.41 7.96l-1.37-1.37c-.4-.4-.92-.59-1.43-.59-.52 0-1.04.2-1.43.59L10.3 9.45l-7.72 7.72c-.78.78-.78 2.05 0 2.83L4 21.41c.39.39.9.59 1.41.59.51 0 1.02-.2 1.41-.59l7.78-7.78 2.81-2.81c.8-.78.8-2.07 0-2.86zM5.41 20L4 18.59l7.72-7.72 1.47 1.35L5.41 20z\"/>\n",
              "  </svg>\n",
              "      </button>\n",
              "      \n",
              "  <style>\n",
              "    .colab-df-container {\n",
              "      display:flex;\n",
              "      flex-wrap:wrap;\n",
              "      gap: 12px;\n",
              "    }\n",
              "\n",
              "    .colab-df-convert {\n",
              "      background-color: #E8F0FE;\n",
              "      border: none;\n",
              "      border-radius: 50%;\n",
              "      cursor: pointer;\n",
              "      display: none;\n",
              "      fill: #1967D2;\n",
              "      height: 32px;\n",
              "      padding: 0 0 0 0;\n",
              "      width: 32px;\n",
              "    }\n",
              "\n",
              "    .colab-df-convert:hover {\n",
              "      background-color: #E2EBFA;\n",
              "      box-shadow: 0px 1px 2px rgba(60, 64, 67, 0.3), 0px 1px 3px 1px rgba(60, 64, 67, 0.15);\n",
              "      fill: #174EA6;\n",
              "    }\n",
              "\n",
              "    [theme=dark] .colab-df-convert {\n",
              "      background-color: #3B4455;\n",
              "      fill: #D2E3FC;\n",
              "    }\n",
              "\n",
              "    [theme=dark] .colab-df-convert:hover {\n",
              "      background-color: #434B5C;\n",
              "      box-shadow: 0px 1px 3px 1px rgba(0, 0, 0, 0.15);\n",
              "      filter: drop-shadow(0px 1px 2px rgba(0, 0, 0, 0.3));\n",
              "      fill: #FFFFFF;\n",
              "    }\n",
              "  </style>\n",
              "\n",
              "      <script>\n",
              "        const buttonEl =\n",
              "          document.querySelector('#df-78e0e63e-b835-44c5-949b-4f63996b7c71 button.colab-df-convert');\n",
              "        buttonEl.style.display =\n",
              "          google.colab.kernel.accessAllowed ? 'block' : 'none';\n",
              "\n",
              "        async function convertToInteractive(key) {\n",
              "          const element = document.querySelector('#df-78e0e63e-b835-44c5-949b-4f63996b7c71');\n",
              "          const dataTable =\n",
              "            await google.colab.kernel.invokeFunction('convertToInteractive',\n",
              "                                                     [key], {});\n",
              "          if (!dataTable) return;\n",
              "\n",
              "          const docLinkHtml = 'Like what you see? Visit the ' +\n",
              "            '<a target=\"_blank\" href=https://colab.research.google.com/notebooks/data_table.ipynb>data table notebook</a>'\n",
              "            + ' to learn more about interactive tables.';\n",
              "          element.innerHTML = '';\n",
              "          dataTable['output_type'] = 'display_data';\n",
              "          await google.colab.output.renderOutput(dataTable, element);\n",
              "          const docLink = document.createElement('div');\n",
              "          docLink.innerHTML = docLinkHtml;\n",
              "          element.appendChild(docLink);\n",
              "        }\n",
              "      </script>\n",
              "    </div>\n",
              "  </div>\n",
              "  "
            ]
          },
          "metadata": {},
          "execution_count": 51
        }
      ]
    },
    {
      "cell_type": "markdown",
      "metadata": {
        "id": "FJLaXKRcklHP"
      },
      "source": [
        "#### Submit"
      ]
    },
    {
      "cell_type": "code",
      "source": [
        "with open(f'lgbm_ranker_model_0.dill', 'rb') as f:\n",
        "    listwise_model = dill.load(f)"
      ],
      "metadata": {
        "id": "5K6mUzDtEHHw"
      },
      "execution_count": 51,
      "outputs": []
    },
    {
      "cell_type": "code",
      "source": [
        "del ranker_val, ranker_train, ranker_test\n",
        "gc.collect()"
      ],
      "metadata": {
        "colab": {
          "base_uri": "https://localhost:8080/"
        },
        "id": "xiW15OTHFra-",
        "outputId": "033bc518-d3d0-46e8-cc27-f7328e0a999a"
      },
      "execution_count": 52,
      "outputs": [
        {
          "output_type": "execute_result",
          "data": {
            "text/plain": [
              "0"
            ]
          },
          "metadata": {},
          "execution_count": 52
        }
      ]
    },
    {
      "cell_type": "code",
      "source": [
        "for col in ['kids_flg', 'sex', 'content_type', 'for_kids', 'studios']:\n",
        "  submission_usrs[col] = submission_usrs[col].astype(int)"
      ],
      "metadata": {
        "id": "a2tj36x4FaoQ"
      },
      "execution_count": 53,
      "outputs": []
    },
    {
      "cell_type": "code",
      "execution_count": 54,
      "metadata": {
        "id": "ifPJk-BiE0jy"
      },
      "outputs": [],
      "source": [
        "submission_usrs = submission_usrs.fillna(-1)"
      ]
    },
    {
      "cell_type": "code",
      "execution_count": 55,
      "metadata": {
        "colab": {
          "base_uri": "https://localhost:8080/",
          "height": 306
        },
        "id": "EtThAhM3zED2",
        "outputId": "aad6afb2-1dd4-4270-dc8d-c80dbad1af93"
      },
      "outputs": [
        {
          "output_type": "execute_result",
          "data": {
            "text/plain": [
              "    user_id  item_id   datetime  total_dur  weight  Unnamed: 0  als_score  \\\n",
              "49        3    15297 2021-07-01        0.0     0.0  16480251.0   0.143573   \n",
              "36        3    10440 2021-07-23    44827.0    90.0  16480230.0   0.470821   \n",
              "33        3     9728 2021-07-23    10448.0   100.0  16480234.0   0.277926   \n",
              "\n",
              "    als_rank  lfm_score  lfm_rank  ...  item_avg_hist  user_age_mode  \\\n",
              "49      22.0   3.965128       2.0  ...       7.364295           -1.0   \n",
              "36       1.0   4.024039       1.0  ...       8.068716           -1.0   \n",
              "33       5.0   3.770151       4.0  ...      11.165736            1.0   \n",
              "\n",
              "    user_income_mode  kids_pop  male_pop  female_pop  listwise_score  \\\n",
              "49               2.0  0.344070  0.317637    0.682363        1.017704   \n",
              "36               2.0  0.353560  0.449697    0.550303        0.825647   \n",
              "33               2.0  0.354635  0.569101    0.430899        0.754756   \n",
              "\n",
              "    listwise_rank  listwise_hybrid_score  listwise_hybrid_rank  \n",
              "49              1               1.017704                     1  \n",
              "36              2               0.825647                     2  \n",
              "33              3               0.754756                     3  \n",
              "\n",
              "[3 rows x 35 columns]"
            ],
            "text/html": [
              "\n",
              "  <div id=\"df-b248c55f-149a-4615-81b3-923f6f9902f5\">\n",
              "    <div class=\"colab-df-container\">\n",
              "      <div>\n",
              "<style scoped>\n",
              "    .dataframe tbody tr th:only-of-type {\n",
              "        vertical-align: middle;\n",
              "    }\n",
              "\n",
              "    .dataframe tbody tr th {\n",
              "        vertical-align: top;\n",
              "    }\n",
              "\n",
              "    .dataframe thead th {\n",
              "        text-align: right;\n",
              "    }\n",
              "</style>\n",
              "<table border=\"1\" class=\"dataframe\">\n",
              "  <thead>\n",
              "    <tr style=\"text-align: right;\">\n",
              "      <th></th>\n",
              "      <th>user_id</th>\n",
              "      <th>item_id</th>\n",
              "      <th>datetime</th>\n",
              "      <th>total_dur</th>\n",
              "      <th>weight</th>\n",
              "      <th>Unnamed: 0</th>\n",
              "      <th>als_score</th>\n",
              "      <th>als_rank</th>\n",
              "      <th>lfm_score</th>\n",
              "      <th>lfm_rank</th>\n",
              "      <th>...</th>\n",
              "      <th>item_avg_hist</th>\n",
              "      <th>user_age_mode</th>\n",
              "      <th>user_income_mode</th>\n",
              "      <th>kids_pop</th>\n",
              "      <th>male_pop</th>\n",
              "      <th>female_pop</th>\n",
              "      <th>listwise_score</th>\n",
              "      <th>listwise_rank</th>\n",
              "      <th>listwise_hybrid_score</th>\n",
              "      <th>listwise_hybrid_rank</th>\n",
              "    </tr>\n",
              "  </thead>\n",
              "  <tbody>\n",
              "    <tr>\n",
              "      <th>49</th>\n",
              "      <td>3</td>\n",
              "      <td>15297</td>\n",
              "      <td>2021-07-01</td>\n",
              "      <td>0.0</td>\n",
              "      <td>0.0</td>\n",
              "      <td>16480251.0</td>\n",
              "      <td>0.143573</td>\n",
              "      <td>22.0</td>\n",
              "      <td>3.965128</td>\n",
              "      <td>2.0</td>\n",
              "      <td>...</td>\n",
              "      <td>7.364295</td>\n",
              "      <td>-1.0</td>\n",
              "      <td>2.0</td>\n",
              "      <td>0.344070</td>\n",
              "      <td>0.317637</td>\n",
              "      <td>0.682363</td>\n",
              "      <td>1.017704</td>\n",
              "      <td>1</td>\n",
              "      <td>1.017704</td>\n",
              "      <td>1</td>\n",
              "    </tr>\n",
              "    <tr>\n",
              "      <th>36</th>\n",
              "      <td>3</td>\n",
              "      <td>10440</td>\n",
              "      <td>2021-07-23</td>\n",
              "      <td>44827.0</td>\n",
              "      <td>90.0</td>\n",
              "      <td>16480230.0</td>\n",
              "      <td>0.470821</td>\n",
              "      <td>1.0</td>\n",
              "      <td>4.024039</td>\n",
              "      <td>1.0</td>\n",
              "      <td>...</td>\n",
              "      <td>8.068716</td>\n",
              "      <td>-1.0</td>\n",
              "      <td>2.0</td>\n",
              "      <td>0.353560</td>\n",
              "      <td>0.449697</td>\n",
              "      <td>0.550303</td>\n",
              "      <td>0.825647</td>\n",
              "      <td>2</td>\n",
              "      <td>0.825647</td>\n",
              "      <td>2</td>\n",
              "    </tr>\n",
              "    <tr>\n",
              "      <th>33</th>\n",
              "      <td>3</td>\n",
              "      <td>9728</td>\n",
              "      <td>2021-07-23</td>\n",
              "      <td>10448.0</td>\n",
              "      <td>100.0</td>\n",
              "      <td>16480234.0</td>\n",
              "      <td>0.277926</td>\n",
              "      <td>5.0</td>\n",
              "      <td>3.770151</td>\n",
              "      <td>4.0</td>\n",
              "      <td>...</td>\n",
              "      <td>11.165736</td>\n",
              "      <td>1.0</td>\n",
              "      <td>2.0</td>\n",
              "      <td>0.354635</td>\n",
              "      <td>0.569101</td>\n",
              "      <td>0.430899</td>\n",
              "      <td>0.754756</td>\n",
              "      <td>3</td>\n",
              "      <td>0.754756</td>\n",
              "      <td>3</td>\n",
              "    </tr>\n",
              "  </tbody>\n",
              "</table>\n",
              "<p>3 rows × 35 columns</p>\n",
              "</div>\n",
              "      <button class=\"colab-df-convert\" onclick=\"convertToInteractive('df-b248c55f-149a-4615-81b3-923f6f9902f5')\"\n",
              "              title=\"Convert this dataframe to an interactive table.\"\n",
              "              style=\"display:none;\">\n",
              "        \n",
              "  <svg xmlns=\"http://www.w3.org/2000/svg\" height=\"24px\"viewBox=\"0 0 24 24\"\n",
              "       width=\"24px\">\n",
              "    <path d=\"M0 0h24v24H0V0z\" fill=\"none\"/>\n",
              "    <path d=\"M18.56 5.44l.94 2.06.94-2.06 2.06-.94-2.06-.94-.94-2.06-.94 2.06-2.06.94zm-11 1L8.5 8.5l.94-2.06 2.06-.94-2.06-.94L8.5 2.5l-.94 2.06-2.06.94zm10 10l.94 2.06.94-2.06 2.06-.94-2.06-.94-.94-2.06-.94 2.06-2.06.94z\"/><path d=\"M17.41 7.96l-1.37-1.37c-.4-.4-.92-.59-1.43-.59-.52 0-1.04.2-1.43.59L10.3 9.45l-7.72 7.72c-.78.78-.78 2.05 0 2.83L4 21.41c.39.39.9.59 1.41.59.51 0 1.02-.2 1.41-.59l7.78-7.78 2.81-2.81c.8-.78.8-2.07 0-2.86zM5.41 20L4 18.59l7.72-7.72 1.47 1.35L5.41 20z\"/>\n",
              "  </svg>\n",
              "      </button>\n",
              "      \n",
              "  <style>\n",
              "    .colab-df-container {\n",
              "      display:flex;\n",
              "      flex-wrap:wrap;\n",
              "      gap: 12px;\n",
              "    }\n",
              "\n",
              "    .colab-df-convert {\n",
              "      background-color: #E8F0FE;\n",
              "      border: none;\n",
              "      border-radius: 50%;\n",
              "      cursor: pointer;\n",
              "      display: none;\n",
              "      fill: #1967D2;\n",
              "      height: 32px;\n",
              "      padding: 0 0 0 0;\n",
              "      width: 32px;\n",
              "    }\n",
              "\n",
              "    .colab-df-convert:hover {\n",
              "      background-color: #E2EBFA;\n",
              "      box-shadow: 0px 1px 2px rgba(60, 64, 67, 0.3), 0px 1px 3px 1px rgba(60, 64, 67, 0.15);\n",
              "      fill: #174EA6;\n",
              "    }\n",
              "\n",
              "    [theme=dark] .colab-df-convert {\n",
              "      background-color: #3B4455;\n",
              "      fill: #D2E3FC;\n",
              "    }\n",
              "\n",
              "    [theme=dark] .colab-df-convert:hover {\n",
              "      background-color: #434B5C;\n",
              "      box-shadow: 0px 1px 3px 1px rgba(0, 0, 0, 0.15);\n",
              "      filter: drop-shadow(0px 1px 2px rgba(0, 0, 0, 0.3));\n",
              "      fill: #FFFFFF;\n",
              "    }\n",
              "  </style>\n",
              "\n",
              "      <script>\n",
              "        const buttonEl =\n",
              "          document.querySelector('#df-b248c55f-149a-4615-81b3-923f6f9902f5 button.colab-df-convert');\n",
              "        buttonEl.style.display =\n",
              "          google.colab.kernel.accessAllowed ? 'block' : 'none';\n",
              "\n",
              "        async function convertToInteractive(key) {\n",
              "          const element = document.querySelector('#df-b248c55f-149a-4615-81b3-923f6f9902f5');\n",
              "          const dataTable =\n",
              "            await google.colab.kernel.invokeFunction('convertToInteractive',\n",
              "                                                     [key], {});\n",
              "          if (!dataTable) return;\n",
              "\n",
              "          const docLinkHtml = 'Like what you see? Visit the ' +\n",
              "            '<a target=\"_blank\" href=https://colab.research.google.com/notebooks/data_table.ipynb>data table notebook</a>'\n",
              "            + ' to learn more about interactive tables.';\n",
              "          element.innerHTML = '';\n",
              "          dataTable['output_type'] = 'display_data';\n",
              "          await google.colab.output.renderOutput(dataTable, element);\n",
              "          const docLink = document.createElement('div');\n",
              "          docLink.innerHTML = docLinkHtml;\n",
              "          element.appendChild(docLink);\n",
              "        }\n",
              "      </script>\n",
              "    </div>\n",
              "  </div>\n",
              "  "
            ]
          },
          "metadata": {},
          "execution_count": 55
        }
      ],
      "source": [
        "y_pred: np.ndarray = listwise_model.predict(submission_usrs[cols])\n",
        "submission_usrs = add_score_and_rank(submission_usrs, y_pred, 'listwise')\n",
        "submission_usrs.head(3)"
      ]
    },
    {
      "cell_type": "code",
      "execution_count": 56,
      "metadata": {
        "colab": {
          "base_uri": "https://localhost:8080/"
        },
        "id": "XBIM7Fpy4fXj",
        "outputId": "07a274d0-3045-48c0-c405-d446bf41cd03"
      },
      "outputs": [
        {
          "output_type": "execute_result",
          "data": {
            "text/plain": [
              "(1931130, 3)"
            ]
          },
          "metadata": {},
          "execution_count": 56
        }
      ],
      "source": [
        "submission_usrs_res = submission_usrs[(submission_usrs['listwise_hybrid_rank'] < 11)][['user_id',\t'item_id', 'listwise_hybrid_rank']]\n",
        "submission_usrs_res.shape"
      ]
    },
    {
      "cell_type": "code",
      "execution_count": 57,
      "metadata": {
        "colab": {
          "base_uri": "https://localhost:8080/"
        },
        "id": "75n0MlkAq8cX",
        "outputId": "c97e6d61-2d60-4045-b66b-e521b7392be7"
      },
      "outputs": [
        {
          "output_type": "execute_result",
          "data": {
            "text/plain": [
              "(1931130, 3)"
            ]
          },
          "metadata": {},
          "execution_count": 57
        }
      ],
      "source": [
        "submission_usrs_res.drop_duplicates(['user_id', 'item_id']).shape"
      ]
    },
    {
      "cell_type": "code",
      "execution_count": 58,
      "metadata": {
        "colab": {
          "base_uri": "https://localhost:8080/",
          "height": 206
        },
        "id": "9YSAa7m5-hFA",
        "outputId": "3e497dcb-44bd-451d-888f-79e5b14b0210"
      },
      "outputs": [
        {
          "output_type": "execute_result",
          "data": {
            "text/plain": [
              "    user_id  item_id  listwise_hybrid_rank\n",
              "49        3    15297                     1\n",
              "36        3    10440                     2\n",
              "33        3     9728                     3\n",
              "45        3    13865                     4\n",
              "15        3     4151                     5"
            ],
            "text/html": [
              "\n",
              "  <div id=\"df-7d76d82e-5d45-4250-9f6e-32543d24950f\">\n",
              "    <div class=\"colab-df-container\">\n",
              "      <div>\n",
              "<style scoped>\n",
              "    .dataframe tbody tr th:only-of-type {\n",
              "        vertical-align: middle;\n",
              "    }\n",
              "\n",
              "    .dataframe tbody tr th {\n",
              "        vertical-align: top;\n",
              "    }\n",
              "\n",
              "    .dataframe thead th {\n",
              "        text-align: right;\n",
              "    }\n",
              "</style>\n",
              "<table border=\"1\" class=\"dataframe\">\n",
              "  <thead>\n",
              "    <tr style=\"text-align: right;\">\n",
              "      <th></th>\n",
              "      <th>user_id</th>\n",
              "      <th>item_id</th>\n",
              "      <th>listwise_hybrid_rank</th>\n",
              "    </tr>\n",
              "  </thead>\n",
              "  <tbody>\n",
              "    <tr>\n",
              "      <th>49</th>\n",
              "      <td>3</td>\n",
              "      <td>15297</td>\n",
              "      <td>1</td>\n",
              "    </tr>\n",
              "    <tr>\n",
              "      <th>36</th>\n",
              "      <td>3</td>\n",
              "      <td>10440</td>\n",
              "      <td>2</td>\n",
              "    </tr>\n",
              "    <tr>\n",
              "      <th>33</th>\n",
              "      <td>3</td>\n",
              "      <td>9728</td>\n",
              "      <td>3</td>\n",
              "    </tr>\n",
              "    <tr>\n",
              "      <th>45</th>\n",
              "      <td>3</td>\n",
              "      <td>13865</td>\n",
              "      <td>4</td>\n",
              "    </tr>\n",
              "    <tr>\n",
              "      <th>15</th>\n",
              "      <td>3</td>\n",
              "      <td>4151</td>\n",
              "      <td>5</td>\n",
              "    </tr>\n",
              "  </tbody>\n",
              "</table>\n",
              "</div>\n",
              "      <button class=\"colab-df-convert\" onclick=\"convertToInteractive('df-7d76d82e-5d45-4250-9f6e-32543d24950f')\"\n",
              "              title=\"Convert this dataframe to an interactive table.\"\n",
              "              style=\"display:none;\">\n",
              "        \n",
              "  <svg xmlns=\"http://www.w3.org/2000/svg\" height=\"24px\"viewBox=\"0 0 24 24\"\n",
              "       width=\"24px\">\n",
              "    <path d=\"M0 0h24v24H0V0z\" fill=\"none\"/>\n",
              "    <path d=\"M18.56 5.44l.94 2.06.94-2.06 2.06-.94-2.06-.94-.94-2.06-.94 2.06-2.06.94zm-11 1L8.5 8.5l.94-2.06 2.06-.94-2.06-.94L8.5 2.5l-.94 2.06-2.06.94zm10 10l.94 2.06.94-2.06 2.06-.94-2.06-.94-.94-2.06-.94 2.06-2.06.94z\"/><path d=\"M17.41 7.96l-1.37-1.37c-.4-.4-.92-.59-1.43-.59-.52 0-1.04.2-1.43.59L10.3 9.45l-7.72 7.72c-.78.78-.78 2.05 0 2.83L4 21.41c.39.39.9.59 1.41.59.51 0 1.02-.2 1.41-.59l7.78-7.78 2.81-2.81c.8-.78.8-2.07 0-2.86zM5.41 20L4 18.59l7.72-7.72 1.47 1.35L5.41 20z\"/>\n",
              "  </svg>\n",
              "      </button>\n",
              "      \n",
              "  <style>\n",
              "    .colab-df-container {\n",
              "      display:flex;\n",
              "      flex-wrap:wrap;\n",
              "      gap: 12px;\n",
              "    }\n",
              "\n",
              "    .colab-df-convert {\n",
              "      background-color: #E8F0FE;\n",
              "      border: none;\n",
              "      border-radius: 50%;\n",
              "      cursor: pointer;\n",
              "      display: none;\n",
              "      fill: #1967D2;\n",
              "      height: 32px;\n",
              "      padding: 0 0 0 0;\n",
              "      width: 32px;\n",
              "    }\n",
              "\n",
              "    .colab-df-convert:hover {\n",
              "      background-color: #E2EBFA;\n",
              "      box-shadow: 0px 1px 2px rgba(60, 64, 67, 0.3), 0px 1px 3px 1px rgba(60, 64, 67, 0.15);\n",
              "      fill: #174EA6;\n",
              "    }\n",
              "\n",
              "    [theme=dark] .colab-df-convert {\n",
              "      background-color: #3B4455;\n",
              "      fill: #D2E3FC;\n",
              "    }\n",
              "\n",
              "    [theme=dark] .colab-df-convert:hover {\n",
              "      background-color: #434B5C;\n",
              "      box-shadow: 0px 1px 3px 1px rgba(0, 0, 0, 0.15);\n",
              "      filter: drop-shadow(0px 1px 2px rgba(0, 0, 0, 0.3));\n",
              "      fill: #FFFFFF;\n",
              "    }\n",
              "  </style>\n",
              "\n",
              "      <script>\n",
              "        const buttonEl =\n",
              "          document.querySelector('#df-7d76d82e-5d45-4250-9f6e-32543d24950f button.colab-df-convert');\n",
              "        buttonEl.style.display =\n",
              "          google.colab.kernel.accessAllowed ? 'block' : 'none';\n",
              "\n",
              "        async function convertToInteractive(key) {\n",
              "          const element = document.querySelector('#df-7d76d82e-5d45-4250-9f6e-32543d24950f');\n",
              "          const dataTable =\n",
              "            await google.colab.kernel.invokeFunction('convertToInteractive',\n",
              "                                                     [key], {});\n",
              "          if (!dataTable) return;\n",
              "\n",
              "          const docLinkHtml = 'Like what you see? Visit the ' +\n",
              "            '<a target=\"_blank\" href=https://colab.research.google.com/notebooks/data_table.ipynb>data table notebook</a>'\n",
              "            + ' to learn more about interactive tables.';\n",
              "          element.innerHTML = '';\n",
              "          dataTable['output_type'] = 'display_data';\n",
              "          await google.colab.output.renderOutput(dataTable, element);\n",
              "          const docLink = document.createElement('div');\n",
              "          docLink.innerHTML = docLinkHtml;\n",
              "          element.appendChild(docLink);\n",
              "        }\n",
              "      </script>\n",
              "    </div>\n",
              "  </div>\n",
              "  "
            ]
          },
          "metadata": {},
          "execution_count": 58
        }
      ],
      "source": [
        "submission_usrs_res.head()"
      ]
    },
    {
      "cell_type": "code",
      "execution_count": 59,
      "metadata": {
        "id": "toEwT9Vb-OY8"
      },
      "outputs": [],
      "source": [
        "recs = submission_usrs_res.drop(['listwise_hybrid_rank'], axis=1).groupby('user_id').agg({'item_id': list}).reset_index()\n",
        "recs.to_csv('two_level_lgbm.csv', index=False)"
      ]
    },
    {
      "cell_type": "markdown",
      "source": [
        "#### Result"
      ],
      "metadata": {
        "id": "m_kgdrBVMymX"
      }
    },
    {
      "cell_type": "markdown",
      "source": [
        "![image.png](data:image/png;base64,iVBORw0KGgoAAAANSUhEUgAAA+UAAAA2CAYAAAChgTiWAAAAAXNSR0IArs4c6QAAAARnQU1BAACxjwv8YQUAAAAJcEhZcwAADsMAAA7DAcdvqGQAACRpSURBVHhe7d0PXFRV3j/wD/8HhJgEHVhdxPBRcBNJt8A2A60ENx+B7VHU/hC6K+huoj4l6lMPP56tgNoUc1Ps2WSxTKingNYS3NTBPzG0iw5iga7koBiOYg2CMPz/nXPnDswMf2ZAcyy/716TM/fPufce5t5zvvece8amtbW1G4QQQgghhBBCCLnlbMV/CSGEEEIIIYQQcotRUE4IIYQQQgghhFgJBeWEEEIIIYQQQoiVUFBOCCGEEEIIIYRYyZAHemtqahLfEUIIIYQQQggh5EbQ6OuEEEIIIYQQQoiVUPd1QgghhBBCCCHESigoJ4QQQgghhBBCrISCckIIIYQQQgghxEooKCeEEEIIIYQQQqyEgnJCCCGEEEIIIcRKKCgnhBBCCCGEEEKshIJyQgghhBBCCCHESigoJ4QQQgghhBBCrISCckIIIYQQQgghxEooKCeEEEIIIYQQQqyEgnJCCCGEEEIIIcRKKCgnhBBCCCGEEEKshIJyQgghhBBCCCHESigoJ4SQH5OK3ahb8iquXhE//+AqcWXJMqiL6sXPg6nH1f9ehrqdleJnS+jSv1IhfiSEEEIIucNQUE4IIRZq+boIV/ZWokX8TAghhBBCyI2ye+mll/6f+H7YWtRncPZ8CySj7oKTOI2QW6K+CvJ/1MLZywuu9uI0gRaq0qNQ1gBSHykk4lRjWlQV/B9OuU2A711GKw+J5lgO8r8fi3u9+t/KzaA5LYfiKxVUNf29NOLxq5GzxAN/7FiOBfe6imsOnTo3Bh7Tq/HYSw9hrDiN6LQd/wAtCikcZ42HozjtlrtcgaajDbCbOxMuI8RpP6h6NH/0BbqDHoPrBBdx2kCa0XLoc3RKH4TbfaPEaebo0sfMSIyQiZMIIXemDg2q/lGIv31QCOVlwNlzLDzNXXYI+THSqKAoLsTe/adQ3+UKz7ED1VVFHWooj3yOfR+XoKbNBnePZfU+fdOqUBc+1U/9UPfSuvqK55EW6rKj+Oe/TJfRQurr2bt9lp7i73/D/x08DY3jKIz1csWAteQmNapO/BO1Nl7wMq1LD+UYB0vHcH8GSseSbQ3luKzgxlvKW07hwL6jKFFUoE6cRMgtU52P8DmpOHRV/CxgwfY78Xh4QRbOeXpBKk7tqwr5z8Ui6aMq8bN5mtIsZGQroBE/sxAW8ndiEfuO4bSbT3UgFanpfV/JK8LZ8W9GSYO44A9ChcJNGSisFj/eoRqOn0TrBZbRjefRyt43qNvRcuEkNF/Xo01chmuuYdNqDP8g7bj+NVv+QrP4memsR0PxXlzJ3o36opNobBSn34DmioOoZ+ldKTiChp6u7bptG+8P01wnHI/hdvtf/+ZouVCKqzzt3INC2n3zSKd3H0pN8qQBjXx/2UnWs4yYFteTfvZefM/yuVM3eUCdjXXQFOWJ+V+JZpMVjOcb5JOW/d3E/TDU+m0lNEoqAQm5EdryDETeI8OcFduR8/k+5LwVjzljfBD5ppKV6oT8hJzOQmTgJMS+VYK6KyXYHjcJgb/JYrXSAdTLkTTbB/PX5LFlqpC3Zj58ZidBrn+qrEbebx0x9aV4VkdMQuFFcTlcwmcv8Xqj6Su/Z9uqjxIwaUwkkj5lUy6wdBf7YOLSHFYTNNGkROYzU+Hj4cPO2VTsUZqU6ZYeo5l0dPszB/G8rq5PZ04aFE3iApwF27L4uKzIprW1tVt8PwwtqNz3Ab5kX4rO9tF4aOlcTBTnEHJLlKbB6eETyP4mF4vG6CapcmPx8DMqrDxchPXBg953ZLUAVtRLzCxjgLci+xRE4/z7i9DTqNehhdZeMvgdzh9CkwLJs0MhjypG0cYQtn3eUu6DvMjzyI0ZfpOjcIzP3Ifi1vUIEaYokOYUChxuZfkpTLgj8aCvU6VA57fesHtwHOzuj4Zb43u4usURzu8+C6kdX6oOV9e8iDbHhXBLD4fQX0F7HJeXvgUkZmJ0sAM61Syo3LAbXSMDYT/FE93/OoLOC95w2PgCPCdZ0CTEnylPrYHjlo3w4I3RLMD/7s1X0VrhDrvQCbBRn0SHsh32G17GqCkuaNr7IhoPhMB18zy46VLA9aJXce3jCXDZthDuGHx93TPff0JXbDpk4Z66BAbEnylPQpvv8/BeGiBMuX7wT7j2l7PApGmw9wW6vqhGt0M9uqfpl9Gl3znSHd1Sf9j/myO6jivQpfGB42vsGIWvsn4Zll+j/MR0jqNLGwCH8OtoLx0B+2liXn7jAvsX0zFqsgNfsQ8h/9ex/P95sG5bFWxb2imQJP8ed/P8vHIE6qS/outnBvOv6PeF/X2TXkR7yMvwivbWJag/5okb4f2UnziNEDI0SmQ8EIw9jxejOJmXZzpaVsaHP7wNYfvPICX0lpeyhPwANMhfLsMqjyKcSQ3TfdebWNA9ORwNW9XIjOzblKTcFIxgeQJOfxIHVvwxKmTNn4TMsFKUrg0SpvRHlR2JScfioH47SmygMlOf0xQiUbYckk9OIj1c3I8mNs0jEvhYjS2P6/eNna8PB2OTZwp2bV+PsD5VTkuP0Uw69flIGLMK7kb7o0un6o+nURDLc8OCbVl8XNZ1Qy3lLVVyFpCPxgOBo8UpZlyrReXXlSavWvQ0iAjzq3HZsNmJza1ly1UbTexEi1plkk4laq+Js01ZnC7QdvkMSuT7sf/z/ThaXofGLnGGXttlnFEUC/P3HyuD6ru+bTJm0xC3bfH+E4vxAjz2mUOYtSvbKCDXXlRCXqaGRq1AzrYMZJXypi4NqkoVUF40uAfPuwcVZCFjUwYysvOhVIvTtWx6sRwlVWw9TSVK2HvdelqoyxVQnNY3nfGuQeI8cVsZm7JQWG3StMZoL+rns/0pUrG9GQot5K8sRJokBVvW9lZgepjZNu/mU5jN52cip3jgbfNu8/JipXAnUaXk76uMllWX5yOL59W2HMgNt8O7UrH11CbNG5qvWBrl+kxl2HK6/chAZq4C6g5x+m3II/ZJjAhhgZgsBCPYe4/JLnCcPJVdRMvQcU5c6NuTaP+OBYMXytCqb22uPcuuWCwAF4LEBjTsZAHhuCdxV3oiRrF0Rr+8CS6hDWjfuhfXzDXx9qP5i91oVfpD8udkjGbpjVqXDtcFLuh47wj4jWTXaTNZoH0EbRd0y/N9aD1eDYROh7ud+fVviPY4rmdXwiZ6IzyTl7PjXQ7Z5mch3L8wNe13GPkyX+ZZyDYlw9GrGm0fHzfqhYBHVmN0TzpxsG1n+V0eCNdN+rxMh9OUBnQozoormKqDZhPL/wcTe7eV/jIcRx6H9m+VQgv7tb9/gC73aLj2zBf3pZAPXucNp5ne6D5c1ltusetBx1kXOIRQQE7IsF2sQkk5EB1hXJ5JghdhRaQaaceUwmehTGJluVHRIpQ3xmUTL+PkuZmDli095ddwy0mjbcihMl1goPoEubNpFDiUDcTNEwNIzjUM0cuArAP99bpk9dccJaJiZokBOeeLWTFRUOaw+qY4pQ+tHFkvncD6JyN6e4yqL6ESQQO3RV0FxqemIDrYIEh1vQ8zngDyvuptU1bnpiJJux4f7OovIGcsPEZz6WjLS5CFOETrA2nONQgzIoDCi5d0ny3ZloXHZW3DD8rbqnHkn3XwCApDwEB/XBNtNUqUKErwpbIMZfxVVmLc7b2ugn0+jmqj4LQOFWyd49/oq0AtOFO0B3v2FevSEF5fCulWDNR70KJ0gcuKD/HeZyWoFWqibag7sQ8fflyCy/qg+nIJPnx/L46e163TVncKB/P3YP/Z3mqj2TS4thoo2bZLyizcf2IRHpBHLtgG352HkR3Te+niGo6mInzFQkTeH4vte/ehqr6VTa1C/pxwpB4Vu8polcj49f2Y/1Ypvmcf6w4kY75PKNJKWfGvPYcTZUqcqGGnd71K976WVwsacOiNcIT3dIHXfU7iXYbmbscJtkjdP9l+TY5EWllvNYK35k+cEY99QqBUh8I1kxA4hG40mk+T8Mym8UjZvBpBJuefpmjdoNsWuggGPozNpfwozyFvxcDb1pxVQllWKZyjdV/x9/qKiQr5yyfBZ3EWlPx0uJCH+MmBvd0MXS/h0NPB2HSsd7v8Dm3m3HDkqHQjT/C/V+iYSGwv4/vxPZTvLITPbJMuSbc7tylwCGpGh3jyXq8oQ3fockgerEbHcV2/skY2DUEhcObN1N+Vob3CAfa/mY0RPZGpC9wfD4ftdyxw1gf3FmtAy8GTLMCeibsMGtndpgT23hj42XQ4TKhHO7teCzQskK3whONMHkRasP6N+IYFuu0+cHiYvcRJcAmA4zTxvQG7+wN6xySx84bzY2z/FMaD6tlN8O4N6F38YD+BFWKhIXDrmegOO16wq+pwXTfB2BUWQF9gAfQjgQbb8oTb75+Hc8goISi3vcud/Z1Oou1Cu64bPNsXj/R34B2ra/l3DZ4NW4ObHM3lpeiShcOJ7QshZJg8vODPzt28QrlJUOKLRR+0onWjrt9W1UesvH3jELtyGRAeY+vtfouaHMQGTkJ8Ab+gfo/K3bGsbEk06MKrheLVUPj8+3aU8vLrihxJs1j5ta23m7zZcvJiPhIeNNxGPCYFxiKnRjd70PoEubM1aHAJUQgwrqZivH8Uq19qwGunxrT4vhy4b4LxCr4T7gPKtcY3qAxoinKQ5rUW0YY9THjPTnZOuUtUQkNTn8YTvwisXhuHEMOG46ZKnDgKRP9Cv301DhXkIyx+MYIalCwNlk5pFTSGN74sOkbz6UgeSUdra4rYa1NPg+9rgYgxXrqPlmzLouOyvmEG5W2oPswCzxFT8dAUZ3GaeY3XefXKGzOWPIWn+OsBffe/ITjHgll2YfWbJaYhvGawVG/Q9VMo+6YV3vcvxIJ5czDn0XlYMNsPjtfO4JR4ka0+WYlGRz/M+Y95bP4czPuPuQgY0YbaavEybUEagmuNQkXT+4GbuP93OlUO4hckQ/7E29jx5AAnWLkXnj1yGsWfFSH98b635DQHspBUvBi7PslEytrVSN9Vil1rzyF5RyHU0hDEsWkrw1naE+ZiJXsfZ3jHzUQl5mLH8Wyk83TeL0JmuALbDohVhiY5srIvYeW7pchOXc0uFOnIzduCgN2bkc8uvGbVFyJ5RSbGv74F66f3vSM26LahROZzSUDyYRRtS9Ft+8siLP58HbKK+17afR/n+7cYM9j7GU/y9xHCnVpNQRpiCkOQva8AW5LZ9NRclB9eCc0LicjkxyAJwaxYGTI+V/QWGOUK5KkTEBXK860Ke946hICdRSh4k+9HCjI/fhsJpcnYU2xcJbu9ucBpqh+6T1SyILAe2mPnYTdlCiRTA9F1vBLN7L/2f9XDli0jXCkv1qELPrAVy5IeMjaNLds95GHdv0XXN+yfz/+Ey0uWoU7/+u8i3WyBJ5wfCUC34qTQ8i0EkT+fDaef83mWrD98nW3t7P8TYN/fnXQzXGTjgPZ2dJvrPdBvs/sALvH894YNi7sNOcoCIJ3sKQze5zr3BTg/1o62pARcXroW6j/lGT+nPmo6HKbUo72c3+RogPaLStg8Mr3n0QBCyDBIwrDhwxRI3wlH4LRYJPGWZcNebBZTIeu5WFQtK0b5++lC2bLlkyJkj83E8myFsIS2OBULU7yQfYSVj0L5lY3SPXG4tCYV+ULgbr6cVH6UiizfTBQZbCMzKAfrcsUW/cHqE8IS5I51SYV88a1FLqr6PodtlhJ/fSULcf/1LIw6t9fybecjIfBhxL6SisSng+EzMbzvzSKxd6icBfbJzzyD/IhcrOnp4n0Oqo/YKftpEiY+lig8u54cNxUywxtfFh2jBen0Q3tgO5JPJWDF42Jdfyj5OehxWd/wgvJzR1FS64R7Z04fZBCtH0hnB6sc2cHReSg1MQuMuBdzWYA89xes6tzVhpamRjSOlLLj60Sr2BDu9+hSLF0SirH6XGtvRhurqTm7itUxC9IgP4QSrFscC4UrO0E/2oN8wxsghp6Ixq9ZPX8gElcpZFBAIXRtF6YgLPU8WndG9T4/bqEZ4cbdjAJCAHXtJV0LgGsYUj4rwnrh7qUWGo0GGpkvQthFlD/iPjg18tctZ4V/JrJX9f8c0aDbLivEptIoLI7oXYJ3BZoV1ds90Dw15AVZkCWswCKD/NR1M1SwoJqnw/Ju3krINu2DQjwm5YE9UK6NRphw0fBH3C5WiRFvoGh5HnT4IiiSXV+b+t4nvp2NmBwIm7Nn0abm3ZinsYDNAc5BIbCtOA7tlSp0KD1hzwI+gdQdNmCBqukjLdoWDG9wDylsRwI2CzZCumOryWs13Ng8zmVqMGwvHEHrt83QllbCdvZ03fPuFq4/XHZ2vH38OrqGUbdua+Zt3Q6wuZmXeme+P/3kvyE7d0ifSob3u5lwT34W9tKT0CatRf3n+hF13CF5MADdR06iqbEK7RV+cAim26qE3ChJ8HoUnTyNt38rRdWWVQi+xx2T5ich5/QQLiAXFSgsCsLiKMNu8L6Iep0FxeHjhZvEymNpUMfHIcKw/PrVGmTvX4Eg3oXGgnJS6u4FnJJDUa3fN1/EfdKK8+t05fLNrE8QMlTa4jxsurQeiwy7fXN+UcjdlYty9XmU7y9C+Tenkf1oJZIXpEJueJo1nMAePlDcG6nI+nQ8Ih7xR09bwkUVTrB/TkgX4/DJYhSx+mzxyXJskWZieaZ8wJb7PoaTTk0O4uP2IHp7CiLMDXHTn8GO6zYw9KC8S4WDx1Rw+sVsPDDEDOns6mA1WB6kDqYRZwrfw3vv618lvd3buXsmwtexBZWff4ziMv3z2HUW/G6wmXSZlvMl2LtnJ3b+9T3syStAwSdKXBbn9bqKkg/YMjvZ692DULlMxZwZvRUyi9JgFcIOOEN6t/iZ3CA1nCNyWWFexC4uhxD79PC6QEtCN2D/rhAceloGJ5+pCF+ehpzSm3hP26BbkvZ0DpLmT4KTkzuC58cgZkkqcsR5g1HlrsOq3TOQvVU/2IeFxG2rVZU8rEfsPU5s2/qXDJE7dItZ5hyqdrPg32+8+FnPF76sPqJsEi+lwRFYO3UPDgl3YPkzUXVYb/i8YL0CGXzETbYPE2fzPEhEhq4h48fl5wGwdzuOtuxSdD34S4zgByh0az+J9tx/otNtOhyEVmlm1M9g63AeHVXGo4u2VbDl4Ne3Bd0sT9j6Ad1V36LbzQXOBi9HF/bSB7TSEDg+WIf2v+ehXRnAgkj9xdvC9YfLwxM2qECnyY2ybt6AbqK72Xhiy78qAJn7DTxj1Y+xE2AHlv/VBiPhM9f/kSf+/nw9NB/uxlU++qudA1zGBcLjt8lwDm1H17GT0K/lEjwbdheOoOVjBbqmzISzpb/+RggZnNQXESu3oOD4eTScKcZ6PwViA8ORYUkvMk5oCfSFl0n9VDImCGHTZaz8UUN1ik3wMq2LSuEfGgZ/tp4l5aRvbDaKV2uRPNkdTpNDEbMq0+i59B+8PkF+vOxZ0Sa+tciQBxJWYc8baRj/fDTCTFf09EdUTBT89V9+e18s+q8UhKmzoPhKnMbJIpDOguSi/eU4f2YFNC/w0c+Nv78r4xfBV/97Yvb+iI5dBPVrClbb458tP8ZB0zFUk4+EueuA5P1IN2zdHkp+WnBc1jTk+o6m7B9QtQHNp/f1Brhf8vC2DiX8vXyg301qw+XvWOg8ws1MUO6I0QHTMT1I//I1Xt7WF7Nj5sDPRoPqii/FZ7ItGSTLTLptp3DgIKuUjZ2NBc8uxdKnB+pW7oHpjy/Agqg5eGj6RLg1luNgmfh7XBam0aa+yip/bnAbPCOIxaKQkhzFTmp2cXlzF1arkpH4hkG3aYtJ4B+TjqLzDVAfycaKIBWyFvgg9LWb/HMsWjlSH1uHS5EFULe24vRhdoH4LB1x4uwB1eQg+QU+iF26UQv1ULhLedS3GgUX1VCrTV6rjJ/aGZgXZI+wfzpMb4Vpoe0dooFhlaBF3sjiXdjL5dhzaSXm9jzbxPJ2aSjyxqXjH9dbcf44z4Nd2PCQOPt2VnMWbew423v6M/vBYaYDupSVsJ3qL/5+uQskwQHo+qJUGFDtLmEaI5kG5yhvdO18C1fPNvA2W3Y9KIWGBfQ2j0bDdcjBnQPuigiHTcVuNOZV637aq7MBDUVv4craD9DQE+c6YERwMLqLDrIgMhiSnmuPpesP089C4BjUjvatb+P7b9m/ne1o+uJtaIvF+QY6331byJM2tsz147vR8lk7bB8PucFu4c3sWFiQXSHeBGH5L5nnji5WVn2v1j0z3nx2L5r+XIQuySg485sU7WVo+0tuz/w24Rl89sZvXO9z6JIpcJxZj46ik7B9MJD9tQkhN0SrgUZjXNJKxoUgbvMObHlEgU1Ffaro/ZNIdN11Bxw01AlSHrAPcm2zrJyUImRtLk5fb8D5vBREex1C4uRAxPZU8G9RfYL8+Hj5YgaLWlpMvgh16gFGFZJ5gY9o8r2+wUOkqTdtWhSV5yOzKA5rluh6bZglcWbfZva9HeicGbcIK5apkVN8QhdrjZAKrcstJsvLxurGXRFYcoyWpKPXpEDa0zGofOoD7Fjmb3yTYqj5qWd6XLeBIQflLuOmYUbIDDwwzSDAHcdreFL48vcTBhiJveUMVPVsqZ+NEyutA2EXzHEBCJisf3nrnsU0VHsGF1oc4RsaO4Rnss2ke+4CLne5YWyAL9z0udLWJlTKdBpx5th+7FfWwXEEC6hHjsXEqQ/hXna4jefO8IH9LEiDa8GZmsvA3d4YN3hGkOHgXcM/TIHk1YWIzzVzQhrRouqjDGTw3y9kp7t0XBCiVmZiR2oUFH8uHMbzPIMoZxcX9QzMjfDvvTGk1QqDwQxMhZwNsTj06GtIMRnEbigkvv4IgxxVF6WQSk1euv7MFvDC+Oky5BcrjS9kWgUO7QaiDFrQgyITEJB9iOXrHlbHiegdrEPoYgjMnRcBmf4OKTs3Wm6XK+MARkybCVu7Umjjl+G7nu7M7Gs3lR9ZIByCesMzocs4C3rtpxiPyu02fyNc5rFLwx/Xon7JMlxdk4Uu/+VwizUY6GwI7CYshPuL4UDh62h4ehnqnl6L5s9YuJ04D+49o6sBjlN+yRt/YfvQdKMg0tL1h8cdI//wAhykx6F9PgH1Tyeg8bNRsL9fnG3ANnQCOl5PwlW2zLU/HQF+vRJ3zRpid6w+6tCWexBtX9T0jOJ+V0wynEPqoF2TIDxH3/DHI7BZshHSR3XbuitmI5z8z/fMv7pyGzr/7UmM+I2fwePrDnD5JR+tjv3Np5k8oE4IGTLNgWTIZKuR33tZFbHymJVN6g5djdtLFiYED0a3hA1vEE8KYmVcPkqqjGvo6uJMZGTzkZil8J/K0ihVGpfrWiVyNmWgsNqSclIN+Q7xV1zsJZBNCsOijbnI3sgq+J+WsLm3sD5BfnzG+OI+mRylpwwrPBqoTikhC/Lvp9V3PHyfAOTlxt8c1WkF8KQ/m2tIg/y3klC3blE/3bu1kG9wglOKSZdEbQtbKwwytrz2QBKcnJKMu7LzBhf+eYTYYi/1RxCvMrBzyJDq1CFgqriMJcdoSTpcUxWyVi3EvtAiFAg//2vCgm1ZdFy3gSEH5Y6j/QwCW/El4+GtM7z5+7F92zU6W66i8rASl228MZHVTxv5s9b8pRWaZdDS1IK2wZ7xM9RVh6MKFTrHPICHTHvP3giv0exS3YjaUypc5fumPoPiv31p0PXcDS7tl1GrPIqSi7rqXee1SlTz0Yl5kM4nmEujvQVXv5ZDedkO3jwj9PnAjl/ICW0jWujZ8xvGn0vL3jkDOc8kImugjht9SOAlOYdNK1KRVS6e2OxCoDhQArDg2SgMPnoCJ/giA96JN8PPH3Gs0pC3Vwk1f5a6RoHMVfHIEGf3R/VOImI/isDGxAhI+TqmL+P6x8D8orEmvg5JzyWjUBxER3tRjrTfTEJCgeEFra8SJSsQhGOWIOzZFERkr0LiOyww59O0ahS+kow03xSsMRxEz28WFgWlITkFWPyIwV3bMf6YMRXIyy+Eiu+/ugr5KfFIPiDOv12NmgnZ/2bi7h2ZGGnwm912U56E9/uJGGl4+ZOyZd/PxKgp4mc9Oxe4L9gI7508na0Y+W4mvP4Q3DMae8NOgwHXTF7qIlZjFbYl/ka5yHlyNGRsnzz+shXSne/Ae8vv4XGPSfutZBpGZ78D2cy+7bqDrx+AUe+z9fjxXjkIdT/7pXvtRgM84fE/bH3xN8oFLn7wfDkTnjvFtF+eDRujX8IQ018Q3rMPd2ezPHkqEL1Dh+iWMc5L3bZMfzvdfSnbxv/Mxgjhkx9G8W3GB/beDDZ4Zpznv8fOdIwO9+m9IWLniZF/eLlnvvD3SZxtNDo953j/8r5/c0LIsEgfiUNKcBZWLU+DvEYDLS9XmtRQ5m7G9oIgpIjlh9eEEMgKtiNHGBBUy8rPQiRvSBPmCSRhWPx6CDJfSe0p4zTlWVj39Ks44TpeuBHuG7kGCadeRapR+cXK2HwtvMawz2bLSRmkrXlIeGFz7/x6OeSs/Aq615fNHUJ9gtyBQhDxfAiy3tB/f7SsbN+MzdkhWBsu1pPUhUj6dRIKhY4XMkQ8mYC6jM093yf+nd6cUYeEJ1gwLUwRVechKzsCKc8a/DxYDwlColIQ9GoSkovEnxWsVyKL1d3k4Yswi4UlkuC5WC3LQPIrheKo7HzfUpG8SWbw+KEvFieuRt2GRCEdju9PcoocUf+5WBxYzoJjtCgdFXJWzUGCZiO2JLIpJnVf3dlnfluWHZf12bS2tg5vfCFDp/dh5zHgoaVzMVGcZOhM0U4cHWQkPR7wBsxfgBlXeTpNuvc99awz2LfzKJomR2JBiIfwk2N7q5zxQMw83NvT1K1bBr9airmTxEmGhP0bPF3u8vEC7D95VXeDwNYRHlP84FhRiat+c/HUTG+g6zLK9h1Aubr3rqyjZwDCHpuBseK+DJrGaCXbjwG6m4jcDPaHWKA0DU4Pn0D2N7lYxAvTHuxEXvowYs+uRPFn6zH+0xj4FETj/PuLDC5gCqQ5heLErvPIjRHupUG5LR6xaTmoEnug+T6Rjuw3VyNE/73hP4PyWIwQ7EcJ6wE5S3wQe2+x+JMtauFzXqQ+TR3Fq04IPZXds33Vp0mIX5EBOd+OLAyrt8ZB8lwsFMmnUbTMtMjWpRn7kfixH4b7Ym7b6FAh/6VEJG1iAbGwhC+iUrOxY22IUGFRs4R8nrkPxa3rxZZtli+bIjF/g5ztSUrPdE1ZJhJ/9ypyvtJllm/4amzZmm40eA6nyo7EpLdmofTL1UajgGrLMxG7OBH5wo0Ttg+b0zHraAwSxxWhIbW/AsW6eOBJLOfNgmih+3j2/6L9/t/h7skuQktzi5IF768dge2arRh9v8NPKl91x0wIGRYWuOa8koTU3YU9ZbDsF4uwdusWrP6Vvl+ZCoUvxGP5m7w8YvyisOW3Xkjc4G1QZmmg2MTK8g35ujKOl7Gvb0FKTG+3Vz6uS/Jz65BRLJZfpmW9mXJS2A8WTCT2zJchbNVr2JK8CP5Ca7oF9QlyBzP5HvPv6PYdSNePKH4xBzH35CG6p27Lv0+xiFkjfqeFOlMuslcGGdSVeEv4RIRffRPqt6PE72lfqoIkdr7oeoVwvk9sQe62BATpV6jJR9JzScgo0m1J+Dmx1C1IjzSum/J04p8T67Hi/uxg+9O7XTPHKBo0HSEfYtH/6OpRBnV/C7Zl4XFZ080Jys0QgvKGAEQunIE+4Wa/AbMV8VHTmzth5+IMx4H6EZhbZqD5gx5r35sExHr4aOBaiRTSfiNDPmI6IO1/5hDwdLSQSKXWCUA72PabhrD9Jg009n3zRMgrPt3i7u/G+PpwZfvQ042d/JQ0l/4V13YcQbcDH/StAd2NgG30C5Au8BtWd31CyE+f2XKFP4OulZgphy0oY3m5xqr/A27HbDkpbmOQMmzw+gS5ownfr37qk6Vp8FnQgl1nUkwGa7PgO20hs99Lfm503IRzbKBjNHKTjsuSbVl0XNZBQfmtREE5IeRO1NkOrfo8tM0ucBrrDefbrywkhBBCbgMaFK4MxPbph1HQp+ck+Sm7JUF5Y20larUe8Jswuu8gb9dqUVnbCo8Jfhj9Ux/4bNBjbUTt17Vo9fSD308+IwghhBBCCCF98LEOqPfgHeeWBOWEEEIIIYQQQgjpa8ijrxNCCCGEEEIIIeTmoKCcEEIIIYQQQgixEgrKCSGEEEIIIYQQK6GgnBBCCCGEEEIIsRIKygkhhBBCCCGEECuhoJwQQgghhBBCCLESCsoJIYQQQgghhBAroaCcEEIIIYQQQgixEgrKCSGEEEIIIYQQK6GgnBBCCCGEEEIIsRIKygkhhBBCCCGEECuhoJwQQgghhBBCCLESCsoJIYQQQgghhBAroaCcEEIIIYQQQgixEpvW1tZu8b1FmpqaxHeEEEIIIYQQQgi5EUMOygkhhBBCCCGEEHIzAP8f2nLXq+a+hj0AAAAASUVORK5CYII=)"
      ],
      "metadata": {
        "id": "SgrEkavWHSa_"
      }
    },
    {
      "cell_type": "markdown",
      "metadata": {
        "id": "4ZFRSAjS6Xkd"
      },
      "source": [
        "#### Interpretation"
      ]
    },
    {
      "cell_type": "code",
      "execution_count": null,
      "metadata": {
        "colab": {
          "base_uri": "https://localhost:8080/",
          "height": 851
        },
        "id": "aL12xLt1zv0V",
        "outputId": "7c5adee3-b051-4e38-9bda-975156f8642b"
      },
      "outputs": [
        {
          "output_type": "display_data",
          "data": {
            "text/plain": [
              "<Figure size 576x1008 with 3 Axes>"
            ],
            "image/png": "[encoded data removed]"
          },
          "metadata": {}
        }
      ],
      "source": [
        "explainer = shap.Explainer(listwise_model)\n",
        "shap_values = explainer(ranker_test[cols].iloc[:10_000])\n",
        "\n",
        "shap.plots.waterfall(shap_values[0], max_display=len(cols))"
      ]
    },
    {
      "cell_type": "code",
      "execution_count": null,
      "metadata": {
        "colab": {
          "base_uri": "https://localhost:8080/",
          "height": 694
        },
        "id": "CutKM7z40If2",
        "outputId": "ad158d88-2052-4e71-ef10-a8aea1cb380a"
      },
      "outputs": [
        {
          "output_type": "display_data",
          "data": {
            "text/plain": [
              "<Figure size 576x828 with 2 Axes>"
            ],
            "image/png": "[encoded data removed]"
          },
          "metadata": {
            "needs_background": "light"
          }
        }
      ],
      "source": [
        "shap.plots.beeswarm(shap_values, max_display=len(cols))"
      ]
    },
    {
      "cell_type": "code",
      "execution_count": null,
      "metadata": {
        "colab": {
          "base_uri": "https://localhost:8080/"
        },
        "id": "lUkFX_w6DBBZ",
        "outputId": "897ea4b8-90de-4ba3-dee0-f89739799fc9"
      },
      "outputs": [
        {
          "output_type": "execute_result",
          "data": {
            "text/plain": [
              "(0.8287792220205714, 0.8287792220205714)"
            ]
          },
          "metadata": {},
          "execution_count": 58
        }
      ],
      "source": [
        "(\n",
        "    avg_user_metric(\n",
        "        y_true=np.array(ranker_test['target']),  # target_ranker\n",
        "        y_pred=np.array(ranker_test['listwise_score']),\n",
        "        user_ids=np.array(ranker_test['user_id']),\n",
        "        metric_function=roc_auc_score,\n",
        "    ),\n",
        "    avg_user_metric(\n",
        "        y_true=np.array(ranker_test['target']),\n",
        "        y_pred=np.array(ranker_test['listwise_hybrid_score']),\n",
        "        user_ids=np.array(ranker_test['user_id']),\n",
        "        metric_function=roc_auc_score,\n",
        "    ),\n",
        ")"
      ]
    }
  ],
  "metadata": {
    "colab": {
      "collapsed_sections": [
        "O3nUGBAB6kHW",
        "w_a0bgUL3p0b"
      ],
      "provenance": [],
      "toc_visible": true
    },
    "gpuClass": "standard",
    "kernelspec": {
      "display_name": "Python 3",
      "name": "python3"
    },
    "language_info": {
      "name": "python"
    }
  },
  "nbformat": 4,
  "nbformat_minor": 0
}